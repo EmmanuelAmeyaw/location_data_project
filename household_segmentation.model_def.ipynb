{
 "cells": [
  {
   "cell_type": "markdown",
   "metadata": {},
   "source": [
    "<h1 id=\"weather_station_clustering\" align=\"center\"> Clustering Ghanaian households based on their expenditure patterns</h1>\n",
    "<hr>\n",
    "\n",
    "#### 1.4 Model Definition\n",
    "\n",
    "In this notebook, we will present both deep learning and non-deep learning algorithms for clustering our dataset. We will start from a basic model and then compare the results to later complex models. We will also use both the original data set and a normalized dataset in the clustering analysis and compare the results. Lastly, we will use the SILHOUETTE COEFFICIENT as a performance indicator. \n",
    "\n",
    "DBSCAN will be used in this project to cluster households and find households which share same pattern of household expenditure. The DBSCAN clustering algorithm is chosen because it is robust to outliers compared to the other clustering algorithms. In the data exploration stage, we saw that our data contains a lot of outliers. "
   ]
  },
  {
   "cell_type": "markdown",
   "metadata": {},
   "source": [
    "About Dataset"
   ]
  },
  {
   "cell_type": "markdown",
   "metadata": {},
   "source": [
    "<table width=\"100%\" cellpadding=\"4\" cellspacing=\"0\">\n",
    "    <colgroup>\n",
    "        <col width=\"128*\"/>\n",
    "        <col width=\"128*\"/>\n",
    "    </colgroup>\n",
    "    <tbody>\n",
    "        <tr valign=\"top\">\n",
    "            <td width=\"50%\">\n",
    "                <p>\n",
    "                    Column name\n",
    "                </p>\n",
    "            </td>\n",
    "            <td width=\"50%\">\n",
    "                <p>\n",
    "                    Meaning\n",
    "                </p>\n",
    "            </td>\n",
    "        </tr>\n",
    "        <tr valign=\"top\">\n",
    "            <td width=\"50%\">\n",
    "                <p>\n",
    "                    TOTFOOD\n",
    "                </p>\n",
    "            </td>\n",
    "            <td width=\"50%\">\n",
    "                <p>\n",
    "                    Expenditure on food\n",
    "                </p>\n",
    "            </td>\n",
    "        </tr>\n",
    "        <tr valign=\"top\">\n",
    "            <td width=\"50%\">\n",
    "                <p>\n",
    "                    TOTALCH\n",
    "                </p>\n",
    "            </td>\n",
    "            <td width=\"50%\">\n",
    "                <p>\n",
    "                    Expenditure on alcohol and narcotics\n",
    "                </p>\n",
    "            </td>\n",
    "        </tr>\n",
    "        <tr valign=\"top\">\n",
    "            <td width=\"50%\">\n",
    "                <p>\n",
    "                    TOTCLTH\n",
    "                </p>\n",
    "            </td>\n",
    "            <td width=\"50%\">\n",
    "                <p>\n",
    "                    Expenditure on cloths, shoes\n",
    "                </p>\n",
    "            </td>\n",
    "        </tr>\n",
    "        <tr valign=\"top\">\n",
    "            <td width=\"50%\">\n",
    "                <p>\n",
    "                    TOTHOUS\n",
    "                </p>\n",
    "            </td>\n",
    "            <td width=\"50%\">\n",
    "                <p>\n",
    "                    Expenditure on housing\n",
    "                </p>\n",
    "            </td>\n",
    "        </tr>\n",
    "        <tr valign=\"top\">\n",
    "            <td width=\"50%\">\n",
    "                <p>\n",
    "                    TOTFURN\n",
    "                </p>\n",
    "            </td>\n",
    "            <td width=\"50%\">\n",
    "                <p>\n",
    "                    Expenditure on furniture\n",
    "                </p>\n",
    "            </td>\n",
    "        </tr>\n",
    "        <tr valign=\"top\">\n",
    "            <td width=\"50%\">\n",
    "                <p>\n",
    "                    TOTHLTH\n",
    "                </p>\n",
    "            </td>\n",
    "            <td width=\"50%\">\n",
    "                <p>\n",
    "                    Expenditure on health\n",
    "                </p>\n",
    "            </td>\n",
    "        </tr>\n",
    "        <tr valign=\"top\">\n",
    "            <td width=\"50%\">\n",
    "                <p>\n",
    "                    TOTRSP\n",
    "                </p>\n",
    "            </td>\n",
    "            <td width=\"50%\">\n",
    "                <p>\n",
    "                    Expenditure on transport\n",
    "                </p>\n",
    "            </td>\n",
    "        </tr>\n",
    "        <tr valign=\"top\">\n",
    "            <td width=\"50%\">\n",
    "                <p>\n",
    "                    TOTCMNQ\n",
    "                </p>\n",
    "            </td>\n",
    "            <td width=\"50%\">\n",
    "                <p>\n",
    "                    Expenditure on communication\n",
    "                </p>\n",
    "            </td>\n",
    "        </tr>\n",
    "        <tr valign=\"top\">\n",
    "            <td width=\"50%\">\n",
    "                <p>\n",
    "                    TOTRCRE\n",
    "                </p>\n",
    "            </td>\n",
    "            <td width=\"50%\">\n",
    "                <p>\n",
    "                    Expenditure on recreation\n",
    "                </p>\n",
    "            </td>\n",
    "        </tr>\n",
    "        <tr valign=\"top\">\n",
    "            <td width=\"50%\">\n",
    "                <p>\n",
    "                    TOTEDUC\n",
    "                </p>\n",
    "            </td>\n",
    "            <td width=\"50%\">\n",
    "                <p>\n",
    "                    Expenditure on education\n",
    "                </p>\n",
    "            </td>\n",
    "        </tr>\n",
    "        <tr valign=\"top\">\n",
    "            <td width=\"50%\">\n",
    "                <p>\n",
    "                    TOTMISC\n",
    "                </p>\n",
    "            </td>\n",
    "            <td width=\"50%\">\n",
    "                <p>\n",
    "                    Expenditure on miscellaneous\n",
    "                </p>\n",
    "            </td>\n",
    "        </tr>\n",
    "    </tbody>\n",
    "</table>"
   ]
  },
  {
   "cell_type": "markdown",
   "metadata": {},
   "source": [
    "#### FIRST PART  - NON DEEP LEARNING ALGORITHMS"
   ]
  },
  {
   "cell_type": "markdown",
   "metadata": {},
   "source": [
    "Import Original data"
   ]
  },
  {
   "cell_type": "code",
   "execution_count": 10,
   "metadata": {},
   "outputs": [
    {
     "data": {
      "text/html": [
       "<div>\n",
       "<style scoped>\n",
       "    .dataframe tbody tr th:only-of-type {\n",
       "        vertical-align: middle;\n",
       "    }\n",
       "\n",
       "    .dataframe tbody tr th {\n",
       "        vertical-align: top;\n",
       "    }\n",
       "\n",
       "    .dataframe thead th {\n",
       "        text-align: right;\n",
       "    }\n",
       "</style>\n",
       "<table border=\"1\" class=\"dataframe\">\n",
       "  <thead>\n",
       "    <tr style=\"text-align: right;\">\n",
       "      <th></th>\n",
       "      <th>TOTFOOD</th>\n",
       "      <th>TOTALCH</th>\n",
       "      <th>TOTCLTH</th>\n",
       "      <th>TOTHOUS</th>\n",
       "      <th>TOTFURN</th>\n",
       "      <th>TOTHLTH</th>\n",
       "      <th>TOTTRSP</th>\n",
       "      <th>TOTCMNQ</th>\n",
       "      <th>TOTRCRE</th>\n",
       "      <th>TOTEDUC</th>\n",
       "      <th>TOTMISC</th>\n",
       "    </tr>\n",
       "  </thead>\n",
       "  <tbody>\n",
       "    <tr>\n",
       "      <th>0</th>\n",
       "      <td>9437.439453</td>\n",
       "      <td>0.0</td>\n",
       "      <td>1978.0</td>\n",
       "      <td>2569.800049</td>\n",
       "      <td>1128.790039</td>\n",
       "      <td>182.5</td>\n",
       "      <td>2248.399902</td>\n",
       "      <td>138.899994</td>\n",
       "      <td>55.25</td>\n",
       "      <td>1481.5</td>\n",
       "      <td>1081.459961</td>\n",
       "    </tr>\n",
       "    <tr>\n",
       "      <th>1</th>\n",
       "      <td>6990.479980</td>\n",
       "      <td>0.0</td>\n",
       "      <td>906.0</td>\n",
       "      <td>10808.799805</td>\n",
       "      <td>1693.709961</td>\n",
       "      <td>21.9</td>\n",
       "      <td>192.500000</td>\n",
       "      <td>370.399994</td>\n",
       "      <td>50.00</td>\n",
       "      <td>5079.0</td>\n",
       "      <td>260.200012</td>\n",
       "    </tr>\n",
       "  </tbody>\n",
       "</table>\n",
       "</div>"
      ],
      "text/plain": [
       "       TOTFOOD  TOTALCH  TOTCLTH       TOTHOUS      TOTFURN  TOTHLTH  \\\n",
       "0  9437.439453      0.0   1978.0   2569.800049  1128.790039    182.5   \n",
       "1  6990.479980      0.0    906.0  10808.799805  1693.709961     21.9   \n",
       "\n",
       "       TOTTRSP     TOTCMNQ  TOTRCRE  TOTEDUC      TOTMISC  \n",
       "0  2248.399902  138.899994    55.25   1481.5  1081.459961  \n",
       "1   192.500000  370.399994    50.00   5079.0   260.200012  "
      ]
     },
     "execution_count": 10,
     "metadata": {},
     "output_type": "execute_result"
    }
   ],
   "source": [
    "import pandas as pd\n",
    "df = pd.read_csv('final_capstone_project_data.csv')\n",
    "df.drop(['Unnamed: 0','hid','region','rururb','TOTAL_EXP'], axis = 1, inplace = True)\n",
    "df.head(2)"
   ]
  },
  {
   "cell_type": "markdown",
   "metadata": {},
   "source": [
    "Normalized data"
   ]
  },
  {
   "cell_type": "code",
   "execution_count": 11,
   "metadata": {},
   "outputs": [
    {
     "data": {
      "text/html": [
       "<div>\n",
       "<style scoped>\n",
       "    .dataframe tbody tr th:only-of-type {\n",
       "        vertical-align: middle;\n",
       "    }\n",
       "\n",
       "    .dataframe tbody tr th {\n",
       "        vertical-align: top;\n",
       "    }\n",
       "\n",
       "    .dataframe thead th {\n",
       "        text-align: right;\n",
       "    }\n",
       "</style>\n",
       "<table border=\"1\" class=\"dataframe\">\n",
       "  <thead>\n",
       "    <tr style=\"text-align: right;\">\n",
       "      <th></th>\n",
       "      <th>totfood</th>\n",
       "      <th>totalch</th>\n",
       "      <th>totclth</th>\n",
       "      <th>tothous</th>\n",
       "      <th>totfurn</th>\n",
       "      <th>tothlth</th>\n",
       "      <th>tottrsp</th>\n",
       "      <th>totcmnq</th>\n",
       "      <th>totrcre</th>\n",
       "      <th>toteduc</th>\n",
       "      <th>totmisc</th>\n",
       "    </tr>\n",
       "  </thead>\n",
       "  <tbody>\n",
       "    <tr>\n",
       "      <th>0</th>\n",
       "      <td>0.869768</td>\n",
       "      <td>-0.282063</td>\n",
       "      <td>0.813326</td>\n",
       "      <td>0.597423</td>\n",
       "      <td>0.930850</td>\n",
       "      <td>0.270093</td>\n",
       "      <td>0.381865</td>\n",
       "      <td>-0.274590</td>\n",
       "      <td>-0.216681</td>\n",
       "      <td>-0.115215</td>\n",
       "      <td>0.970906</td>\n",
       "    </tr>\n",
       "    <tr>\n",
       "      <th>1</th>\n",
       "      <td>0.333146</td>\n",
       "      <td>-0.282063</td>\n",
       "      <td>-0.095515</td>\n",
       "      <td>3.937930</td>\n",
       "      <td>1.783318</td>\n",
       "      <td>-0.204459</td>\n",
       "      <td>-0.270768</td>\n",
       "      <td>0.137049</td>\n",
       "      <td>-0.224311</td>\n",
       "      <td>0.806321</td>\n",
       "      <td>-0.077166</td>\n",
       "    </tr>\n",
       "  </tbody>\n",
       "</table>\n",
       "</div>"
      ],
      "text/plain": [
       "    totfood   totalch   totclth   tothous   totfurn   tothlth   tottrsp  \\\n",
       "0  0.869768 -0.282063  0.813326  0.597423  0.930850  0.270093  0.381865   \n",
       "1  0.333146 -0.282063 -0.095515  3.937930  1.783318 -0.204459 -0.270768   \n",
       "\n",
       "    totcmnq   totrcre   toteduc   totmisc  \n",
       "0 -0.274590 -0.216681 -0.115215  0.970906  \n",
       "1  0.137049 -0.224311  0.806321 -0.077166  "
      ]
     },
     "execution_count": 11,
     "metadata": {},
     "output_type": "execute_result"
    }
   ],
   "source": [
    "df_norm = pd.read_csv('df_norm_dataframe')\n",
    "df_norm.drop(['Unnamed: 0'], axis = 1, inplace = True)\n",
    "df_norm.head(2)"
   ]
  },
  {
   "cell_type": "markdown",
   "metadata": {},
   "source": [
    "### NON-DEEP learning algorithm - USING ORIGINAL DATA"
   ]
  },
  {
   "cell_type": "markdown",
   "metadata": {},
   "source": [
    "Here, we use the original data for the clustering which will later to compared to results from the normalized data. NB: Data points with cluster label of -1 are noisy data. "
   ]
  },
  {
   "cell_type": "code",
   "execution_count": 12,
   "metadata": {},
   "outputs": [],
   "source": [
    "X = df.values # Define input variable"
   ]
  },
  {
   "cell_type": "code",
   "execution_count": 13,
   "metadata": {},
   "outputs": [],
   "source": [
    "import numpy as np\n",
    "from sklearn.cluster import DBSCAN\n",
    "from sklearn import metrics\n",
    "\n",
    "# Compute DBSCAN - best model\n",
    "db = DBSCAN(eps=0.08, min_samples=10, metric='cosine').fit(X) # we set minimum sample in each cluster to be 100\n",
    "core_samples_mask = np.zeros_like(db.labels_, dtype=bool)\n",
    "core_samples_mask[db.core_sample_indices_] = True\n",
    "labels = db.labels_"
   ]
  },
  {
   "cell_type": "code",
   "execution_count": 14,
   "metadata": {},
   "outputs": [],
   "source": [
    "# Number of clusters in labels, ignoring noise if present.\n",
    "n_clusters_ = len(set(labels)) - (1 if -1 in labels else 0)\n",
    "n_noise_ = list(labels).count(-1)"
   ]
  },
  {
   "cell_type": "code",
   "execution_count": 15,
   "metadata": {},
   "outputs": [
    {
     "name": "stdout",
     "output_type": "stream",
     "text": [
      "Estimated number of clusters: 1\n",
      "Estimated number of noise points: 23\n"
     ]
    }
   ],
   "source": [
    "print('Estimated number of clusters: %d' % n_clusters_)\n",
    "print('Estimated number of noise points: %d' % n_noise_)"
   ]
  },
  {
   "cell_type": "code",
   "execution_count": 16,
   "metadata": {},
   "outputs": [
    {
     "data": {
      "text/plain": [
       "array([0, 0, 0, ..., 0, 0, 0])"
      ]
     },
     "execution_count": 16,
     "metadata": {},
     "output_type": "execute_result"
    }
   ],
   "source": [
    "labels # there is one cluster"
   ]
  },
  {
   "cell_type": "markdown",
   "metadata": {},
   "source": [
    "And, we can add a new field to our dataframe to show the cluster label of each row:\n"
   ]
  },
  {
   "cell_type": "code",
   "execution_count": 17,
   "metadata": {},
   "outputs": [
    {
     "data": {
      "text/html": [
       "<div>\n",
       "<style scoped>\n",
       "    .dataframe tbody tr th:only-of-type {\n",
       "        vertical-align: middle;\n",
       "    }\n",
       "\n",
       "    .dataframe tbody tr th {\n",
       "        vertical-align: top;\n",
       "    }\n",
       "\n",
       "    .dataframe thead th {\n",
       "        text-align: right;\n",
       "    }\n",
       "</style>\n",
       "<table border=\"1\" class=\"dataframe\">\n",
       "  <thead>\n",
       "    <tr style=\"text-align: right;\">\n",
       "      <th></th>\n",
       "      <th>totfood</th>\n",
       "      <th>totalch</th>\n",
       "      <th>totclth</th>\n",
       "      <th>tothous</th>\n",
       "      <th>totfurn</th>\n",
       "      <th>tothlth</th>\n",
       "      <th>tottrsp</th>\n",
       "      <th>totcmnq</th>\n",
       "      <th>totrcre</th>\n",
       "      <th>toteduc</th>\n",
       "      <th>totmisc</th>\n",
       "      <th>label</th>\n",
       "    </tr>\n",
       "  </thead>\n",
       "  <tbody>\n",
       "    <tr>\n",
       "      <th>0</th>\n",
       "      <td>9437.439453</td>\n",
       "      <td>0.0</td>\n",
       "      <td>1978.0</td>\n",
       "      <td>2569.800049</td>\n",
       "      <td>1128.790039</td>\n",
       "      <td>182.5</td>\n",
       "      <td>2248.399902</td>\n",
       "      <td>138.899994</td>\n",
       "      <td>55.25</td>\n",
       "      <td>1481.5</td>\n",
       "      <td>1081.459961</td>\n",
       "      <td>0</td>\n",
       "    </tr>\n",
       "    <tr>\n",
       "      <th>1</th>\n",
       "      <td>6990.479980</td>\n",
       "      <td>0.0</td>\n",
       "      <td>906.0</td>\n",
       "      <td>10808.799805</td>\n",
       "      <td>1693.709961</td>\n",
       "      <td>21.9</td>\n",
       "      <td>192.500000</td>\n",
       "      <td>370.399994</td>\n",
       "      <td>50.00</td>\n",
       "      <td>5079.0</td>\n",
       "      <td>260.200012</td>\n",
       "      <td>0</td>\n",
       "    </tr>\n",
       "  </tbody>\n",
       "</table>\n",
       "</div>"
      ],
      "text/plain": [
       "       totfood  totalch  totclth       tothous      totfurn  tothlth  \\\n",
       "0  9437.439453      0.0   1978.0   2569.800049  1128.790039    182.5   \n",
       "1  6990.479980      0.0    906.0  10808.799805  1693.709961     21.9   \n",
       "\n",
       "       tottrsp     totcmnq  totrcre  toteduc      totmisc  label  \n",
       "0  2248.399902  138.899994    55.25   1481.5  1081.459961      0  \n",
       "1   192.500000  370.399994    50.00   5079.0   260.200012      0  "
      ]
     },
     "execution_count": 17,
     "metadata": {},
     "output_type": "execute_result"
    }
   ],
   "source": [
    "df_dbscan = pd.DataFrame({'totfood':X[:,0],'totalch':X[:,1], 'totclth':X[:,2],'tothous':X[:,3],'totfurn':X[:,4], 'tothlth':X[:,5],\n",
    "                       'tottrsp':X[:,6],'totcmnq':X[:,7], 'totrcre':X[:,8],'toteduc':X[:,9],'totmisc':X[:,10], 'label':labels})\n",
    "df_dbscan.head(2)"
   ]
  },
  {
   "cell_type": "markdown",
   "metadata": {},
   "source": [
    "PCA Projection to 2D"
   ]
  },
  {
   "cell_type": "markdown",
   "metadata": {},
   "source": [
    "Now, let's try to visualize the cluster, although we have only one cluster. First, lets use PCA to reduce the dimension of the data to two dimensions"
   ]
  },
  {
   "cell_type": "code",
   "execution_count": 18,
   "metadata": {},
   "outputs": [],
   "source": [
    "from sklearn.decomposition import PCA\n",
    "\n",
    "pca = PCA(n_components=2)\n",
    "\n",
    "principalComponents = pca.fit_transform(X)\n",
    "\n",
    "principalDf_dbscan = pd.DataFrame(data = principalComponents\n",
    "             , columns = ['C1', 'C2'])"
   ]
  },
  {
   "cell_type": "code",
   "execution_count": 19,
   "metadata": {},
   "outputs": [],
   "source": [
    "principalDf_dbscan['label'] = df_dbscan.label"
   ]
  },
  {
   "cell_type": "code",
   "execution_count": 20,
   "metadata": {},
   "outputs": [
    {
     "data": {
      "text/html": [
       "<div>\n",
       "<style scoped>\n",
       "    .dataframe tbody tr th:only-of-type {\n",
       "        vertical-align: middle;\n",
       "    }\n",
       "\n",
       "    .dataframe tbody tr th {\n",
       "        vertical-align: top;\n",
       "    }\n",
       "\n",
       "    .dataframe thead th {\n",
       "        text-align: right;\n",
       "    }\n",
       "</style>\n",
       "<table border=\"1\" class=\"dataframe\">\n",
       "  <thead>\n",
       "    <tr style=\"text-align: right;\">\n",
       "      <th></th>\n",
       "      <th>C1</th>\n",
       "      <th>C2</th>\n",
       "      <th>label</th>\n",
       "    </tr>\n",
       "  </thead>\n",
       "  <tbody>\n",
       "    <tr>\n",
       "      <th>0</th>\n",
       "      <td>3663.216636</td>\n",
       "      <td>-2321.491001</td>\n",
       "      <td>0</td>\n",
       "    </tr>\n",
       "    <tr>\n",
       "      <th>1</th>\n",
       "      <td>4134.458827</td>\n",
       "      <td>1591.991001</td>\n",
       "      <td>0</td>\n",
       "    </tr>\n",
       "  </tbody>\n",
       "</table>\n",
       "</div>"
      ],
      "text/plain": [
       "            C1           C2  label\n",
       "0  3663.216636 -2321.491001      0\n",
       "1  4134.458827  1591.991001      0"
      ]
     },
     "execution_count": 20,
     "metadata": {},
     "output_type": "execute_result"
    }
   ],
   "source": [
    "principalDf_dbscan.head(2)"
   ]
  },
  {
   "cell_type": "code",
   "execution_count": 22,
   "metadata": {},
   "outputs": [
    {
     "name": "stderr",
     "output_type": "stream",
     "text": [
      "'c' argument looks like a single numeric RGB or RGBA sequence, which should be avoided as value-mapping will have precedence in case its length matches with 'x' & 'y'.  Please use a 2-D array with a single row if you really want to specify the same RGB or RGBA value for all points.\n"
     ]
    },
    {
     "data": {
      "text/plain": [
       "Text(0, 0.5, 'C2')"
      ]
     },
     "execution_count": 22,
     "metadata": {},
     "output_type": "execute_result"
    },
    {
     "data": {
      "image/png": "[encoded data removed]",
      "text/plain": [
       "<Figure size 720x720 with 1 Axes>"
      ]
     },
     "metadata": {
      "needs_background": "light"
     },
     "output_type": "display_data"
    }
   ],
   "source": [
    "import matplotlib.cm as cm\n",
    "from matplotlib import pyplot as plt \n",
    "n_clusters = n_clusters_\n",
    "colors = cm.rainbow(np.linspace(0, 1, n_clusters))\n",
    "cluster_labels = list(range(0, n_clusters))\n",
    "\n",
    "# Create a figure of size 6 inches by 4 inches.\n",
    "plt.figure(figsize=(10,10))\n",
    "pdf = principalDf_dbscan.copy()\n",
    "# plt.scatter(subset.C1, subset.C2)\n",
    "for color, label in zip(colors, cluster_labels):\n",
    "    subset = pdf[pdf.label == label] #subset is a dataframe including all the columns\n",
    "    plt.scatter(subset.C1, subset.C2, c=color, label='cluster'+str(label),alpha=0.5) # plt.scatter(subset.horsepow, subset.mpg)\n",
    "plt.legend()\n",
    "plt.title('Clusters')\n",
    "plt.xlabel('C1')\n",
    "plt.ylabel('C2')"
   ]
  },
  {
   "cell_type": "code",
   "execution_count": 23,
   "metadata": {},
   "outputs": [
    {
     "name": "stdout",
     "output_type": "stream",
     "text": [
      "Silhouette Coefficient: -0.012\n"
     ]
    }
   ],
   "source": [
    "from sklearn.metrics import silhouette_samples, silhouette_score\n",
    "print(\"Silhouette Coefficient: %0.3f\"\n",
    "      % metrics.silhouette_score(X, labels))"
   ]
  },
  {
   "cell_type": "markdown",
   "metadata": {},
   "source": [
    "Not surprisingly, the silhouette coefficient is less than zero, indicating a very poor clustering"
   ]
  },
  {
   "cell_type": "markdown",
   "metadata": {},
   "source": [
    "### NON-DEEP learning algorithm - USING NORMALIZED DATA¶"
   ]
  },
  {
   "cell_type": "code",
   "execution_count": 24,
   "metadata": {},
   "outputs": [],
   "source": [
    "XX = df_norm.values # Define input variable"
   ]
  },
  {
   "cell_type": "code",
   "execution_count": 25,
   "metadata": {},
   "outputs": [],
   "source": [
    "# Compute DBSCAN - best model\n",
    "db = DBSCAN(eps=0.08, min_samples=10, metric='cosine').fit(XX) # we set minimum sample in each cluster to be 100\n",
    "core_samples_mask = np.zeros_like(db.labels_, dtype=bool)\n",
    "core_samples_mask[db.core_sample_indices_] = True\n",
    "labels = db.labels_"
   ]
  },
  {
   "cell_type": "code",
   "execution_count": 26,
   "metadata": {},
   "outputs": [],
   "source": [
    "# Number of clusters in labels, ignoring noise if present.\n",
    "n_clusters_ = len(set(labels)) - (1 if -1 in labels else 0)\n",
    "n_noise_ = list(labels).count(-1)"
   ]
  },
  {
   "cell_type": "code",
   "execution_count": 27,
   "metadata": {},
   "outputs": [
    {
     "name": "stdout",
     "output_type": "stream",
     "text": [
      "Estimated number of clusters: 5\n",
      "Estimated number of noise points: 2951\n"
     ]
    }
   ],
   "source": [
    "print('Estimated number of clusters: %d' % n_clusters_)\n",
    "print('Estimated number of noise points: %d' % n_noise_)"
   ]
  },
  {
   "cell_type": "code",
   "execution_count": 28,
   "metadata": {},
   "outputs": [
    {
     "data": {
      "text/plain": [
       "array([-1, -1,  0, ...,  0,  0,  0])"
      ]
     },
     "execution_count": 28,
     "metadata": {},
     "output_type": "execute_result"
    }
   ],
   "source": [
    "labels"
   ]
  },
  {
   "cell_type": "markdown",
   "metadata": {},
   "source": [
    "And, we can add a new field to our dataframe to show the cluster label of each row:"
   ]
  },
  {
   "cell_type": "code",
   "execution_count": 29,
   "metadata": {},
   "outputs": [
    {
     "data": {
      "text/html": [
       "<div>\n",
       "<style scoped>\n",
       "    .dataframe tbody tr th:only-of-type {\n",
       "        vertical-align: middle;\n",
       "    }\n",
       "\n",
       "    .dataframe tbody tr th {\n",
       "        vertical-align: top;\n",
       "    }\n",
       "\n",
       "    .dataframe thead th {\n",
       "        text-align: right;\n",
       "    }\n",
       "</style>\n",
       "<table border=\"1\" class=\"dataframe\">\n",
       "  <thead>\n",
       "    <tr style=\"text-align: right;\">\n",
       "      <th></th>\n",
       "      <th>totfood</th>\n",
       "      <th>totalch</th>\n",
       "      <th>totclth</th>\n",
       "      <th>tothous</th>\n",
       "      <th>totfurn</th>\n",
       "      <th>tothlth</th>\n",
       "      <th>tottrsp</th>\n",
       "      <th>totcmnq</th>\n",
       "      <th>totrcre</th>\n",
       "      <th>toteduc</th>\n",
       "      <th>totmisc</th>\n",
       "      <th>label</th>\n",
       "    </tr>\n",
       "  </thead>\n",
       "  <tbody>\n",
       "    <tr>\n",
       "      <th>0</th>\n",
       "      <td>9437.439453</td>\n",
       "      <td>0.0</td>\n",
       "      <td>1978.0</td>\n",
       "      <td>2569.800049</td>\n",
       "      <td>1128.790039</td>\n",
       "      <td>182.5</td>\n",
       "      <td>2248.399902</td>\n",
       "      <td>138.899994</td>\n",
       "      <td>55.25</td>\n",
       "      <td>1481.5</td>\n",
       "      <td>1081.459961</td>\n",
       "      <td>-1</td>\n",
       "    </tr>\n",
       "    <tr>\n",
       "      <th>1</th>\n",
       "      <td>6990.479980</td>\n",
       "      <td>0.0</td>\n",
       "      <td>906.0</td>\n",
       "      <td>10808.799805</td>\n",
       "      <td>1693.709961</td>\n",
       "      <td>21.9</td>\n",
       "      <td>192.500000</td>\n",
       "      <td>370.399994</td>\n",
       "      <td>50.00</td>\n",
       "      <td>5079.0</td>\n",
       "      <td>260.200012</td>\n",
       "      <td>-1</td>\n",
       "    </tr>\n",
       "  </tbody>\n",
       "</table>\n",
       "</div>"
      ],
      "text/plain": [
       "       totfood  totalch  totclth       tothous      totfurn  tothlth  \\\n",
       "0  9437.439453      0.0   1978.0   2569.800049  1128.790039    182.5   \n",
       "1  6990.479980      0.0    906.0  10808.799805  1693.709961     21.9   \n",
       "\n",
       "       tottrsp     totcmnq  totrcre  toteduc      totmisc  label  \n",
       "0  2248.399902  138.899994    55.25   1481.5  1081.459961     -1  \n",
       "1   192.500000  370.399994    50.00   5079.0   260.200012     -1  "
      ]
     },
     "execution_count": 29,
     "metadata": {},
     "output_type": "execute_result"
    }
   ],
   "source": [
    "df_dbscan_norm = pd.DataFrame({'totfood':X[:,0],'totalch':X[:,1], 'totclth':X[:,2],'tothous':X[:,3],'totfurn':X[:,4], 'tothlth':X[:,5],\n",
    "\n",
    "                       'tottrsp':X[:,6],'totcmnq':X[:,7], 'totrcre':X[:,8],'toteduc':X[:,9],'totmisc':X[:,10], 'label':labels})\n",
    "\n",
    "df_dbscan_norm.head(2)"
   ]
  },
  {
   "cell_type": "markdown",
   "metadata": {},
   "source": [
    "PCA Projection normalised data to 2D\n",
    "\n",
    "Now, let's try to visualize the cluster, although we have only one cluster. First, lets use PCA to reduce the dimension of the data to two dimensions\n"
   ]
  },
  {
   "cell_type": "code",
   "execution_count": 30,
   "metadata": {},
   "outputs": [],
   "source": [
    "pca = PCA(n_components=2)\n",
    "\n",
    "principalComponents = pca.fit_transform(XX)\n",
    "\n",
    "principalDf_dbscan_norm = pd.DataFrame(data = principalComponents\n",
    "             , columns = ['C1', 'C2'])"
   ]
  },
  {
   "cell_type": "markdown",
   "metadata": {},
   "source": [
    "Add a label to the reduced data"
   ]
  },
  {
   "cell_type": "code",
   "execution_count": 31,
   "metadata": {},
   "outputs": [
    {
     "data": {
      "text/html": [
       "<div>\n",
       "<style scoped>\n",
       "    .dataframe tbody tr th:only-of-type {\n",
       "        vertical-align: middle;\n",
       "    }\n",
       "\n",
       "    .dataframe tbody tr th {\n",
       "        vertical-align: top;\n",
       "    }\n",
       "\n",
       "    .dataframe thead th {\n",
       "        text-align: right;\n",
       "    }\n",
       "</style>\n",
       "<table border=\"1\" class=\"dataframe\">\n",
       "  <thead>\n",
       "    <tr style=\"text-align: right;\">\n",
       "      <th></th>\n",
       "      <th>C1</th>\n",
       "      <th>C2</th>\n",
       "      <th>label</th>\n",
       "    </tr>\n",
       "  </thead>\n",
       "  <tbody>\n",
       "    <tr>\n",
       "      <th>0</th>\n",
       "      <td>1.406423</td>\n",
       "      <td>-0.243711</td>\n",
       "      <td>-1</td>\n",
       "    </tr>\n",
       "    <tr>\n",
       "      <th>1</th>\n",
       "      <td>1.802620</td>\n",
       "      <td>-1.670092</td>\n",
       "      <td>-1</td>\n",
       "    </tr>\n",
       "    <tr>\n",
       "      <th>2</th>\n",
       "      <td>-0.577850</td>\n",
       "      <td>-0.264246</td>\n",
       "      <td>0</td>\n",
       "    </tr>\n",
       "    <tr>\n",
       "      <th>3</th>\n",
       "      <td>0.999892</td>\n",
       "      <td>-0.393403</td>\n",
       "      <td>-1</td>\n",
       "    </tr>\n",
       "    <tr>\n",
       "      <th>4</th>\n",
       "      <td>2.798334</td>\n",
       "      <td>2.728244</td>\n",
       "      <td>0</td>\n",
       "    </tr>\n",
       "  </tbody>\n",
       "</table>\n",
       "</div>"
      ],
      "text/plain": [
       "         C1        C2  label\n",
       "0  1.406423 -0.243711     -1\n",
       "1  1.802620 -1.670092     -1\n",
       "2 -0.577850 -0.264246      0\n",
       "3  0.999892 -0.393403     -1\n",
       "4  2.798334  2.728244      0"
      ]
     },
     "execution_count": 31,
     "metadata": {},
     "output_type": "execute_result"
    }
   ],
   "source": [
    "principalDf_dbscan_norm['label'] = df_dbscan_norm.label\n",
    "\n",
    "principalDf_dbscan_norm.head()"
   ]
  },
  {
   "cell_type": "markdown",
   "metadata": {},
   "source": [
    "Now we will drop noisy data. Rows with labels of -1"
   ]
  },
  {
   "cell_type": "code",
   "execution_count": 32,
   "metadata": {},
   "outputs": [],
   "source": [
    "condition = principalDf_dbscan_norm.label != -1"
   ]
  },
  {
   "cell_type": "code",
   "execution_count": 33,
   "metadata": {},
   "outputs": [],
   "source": [
    "principalDf_dbscan_norm = principalDf_dbscan_norm[condition]"
   ]
  },
  {
   "cell_type": "markdown",
   "metadata": {},
   "source": [
    "Counting the number of clusters in each label"
   ]
  },
  {
   "cell_type": "code",
   "execution_count": 34,
   "metadata": {},
   "outputs": [
    {
     "data": {
      "text/plain": [
       "0    5874\n",
       "1      75\n",
       "3      10\n",
       "2       7\n",
       "4       5\n",
       "Name: label, dtype: int64"
      ]
     },
     "execution_count": 34,
     "metadata": {},
     "output_type": "execute_result"
    }
   ],
   "source": [
    "principalDf_dbscan_norm.label.value_counts()"
   ]
  },
  {
   "cell_type": "code",
   "execution_count": 35,
   "metadata": {},
   "outputs": [
    {
     "data": {
      "text/html": [
       "<div>\n",
       "<style scoped>\n",
       "    .dataframe tbody tr th:only-of-type {\n",
       "        vertical-align: middle;\n",
       "    }\n",
       "\n",
       "    .dataframe tbody tr th {\n",
       "        vertical-align: top;\n",
       "    }\n",
       "\n",
       "    .dataframe thead th {\n",
       "        text-align: right;\n",
       "    }\n",
       "</style>\n",
       "<table border=\"1\" class=\"dataframe\">\n",
       "  <thead>\n",
       "    <tr style=\"text-align: right;\">\n",
       "      <th></th>\n",
       "      <th>C1</th>\n",
       "      <th>C2</th>\n",
       "      <th>label</th>\n",
       "    </tr>\n",
       "  </thead>\n",
       "  <tbody>\n",
       "    <tr>\n",
       "      <th>2</th>\n",
       "      <td>-0.577850</td>\n",
       "      <td>-0.264246</td>\n",
       "      <td>0</td>\n",
       "    </tr>\n",
       "    <tr>\n",
       "      <th>4</th>\n",
       "      <td>2.798334</td>\n",
       "      <td>2.728244</td>\n",
       "      <td>0</td>\n",
       "    </tr>\n",
       "  </tbody>\n",
       "</table>\n",
       "</div>"
      ],
      "text/plain": [
       "         C1        C2  label\n",
       "2 -0.577850 -0.264246      0\n",
       "4  2.798334  2.728244      0"
      ]
     },
     "execution_count": 35,
     "metadata": {},
     "output_type": "execute_result"
    }
   ],
   "source": [
    "principalDf_dbscan_norm.head(2)"
   ]
  },
  {
   "cell_type": "markdown",
   "metadata": {},
   "source": [
    "Now, let's visualize the five clusters"
   ]
  },
  {
   "cell_type": "code",
   "execution_count": 36,
   "metadata": {},
   "outputs": [
    {
     "name": "stderr",
     "output_type": "stream",
     "text": [
      "'c' argument looks like a single numeric RGB or RGBA sequence, which should be avoided as value-mapping will have precedence in case its length matches with 'x' & 'y'.  Please use a 2-D array with a single row if you really want to specify the same RGB or RGBA value for all points.\n",
      "'c' argument looks like a single numeric RGB or RGBA sequence, which should be avoided as value-mapping will have precedence in case its length matches with 'x' & 'y'.  Please use a 2-D array with a single row if you really want to specify the same RGB or RGBA value for all points.\n",
      "'c' argument looks like a single numeric RGB or RGBA sequence, which should be avoided as value-mapping will have precedence in case its length matches with 'x' & 'y'.  Please use a 2-D array with a single row if you really want to specify the same RGB or RGBA value for all points.\n",
      "'c' argument looks like a single numeric RGB or RGBA sequence, which should be avoided as value-mapping will have precedence in case its length matches with 'x' & 'y'.  Please use a 2-D array with a single row if you really want to specify the same RGB or RGBA value for all points.\n",
      "'c' argument looks like a single numeric RGB or RGBA sequence, which should be avoided as value-mapping will have precedence in case its length matches with 'x' & 'y'.  Please use a 2-D array with a single row if you really want to specify the same RGB or RGBA value for all points.\n"
     ]
    },
    {
     "data": {
      "text/plain": [
       "Text(0, 0.5, 'C2')"
      ]
     },
     "execution_count": 36,
     "metadata": {},
     "output_type": "execute_result"
    },
    {
     "data": {
      "image/png": "[encoded data removed]",
      "text/plain": [
       "<Figure size 720x720 with 1 Axes>"
      ]
     },
     "metadata": {
      "needs_background": "light"
     },
     "output_type": "display_data"
    }
   ],
   "source": [
    "n_clusters = n_clusters_\n",
    "colors = cm.rainbow(np.linspace(0, 1, n_clusters))\n",
    "cluster_labels = list(range(0, n_clusters))\n",
    "\n",
    "# Create a figure of size 6 inches by 4 inches.\n",
    "plt.figure(figsize=(10,10))\n",
    "pdf = principalDf_dbscan_norm.copy()\n",
    "# plt.scatter(subset.C1, subset.C2)\n",
    "for color, label in zip(colors, cluster_labels):\n",
    "    subset = pdf[pdf.label == label] #subset is a dataframe including all the columns\n",
    "    plt.scatter(subset.C1, subset.C2, c=color, label='cluster'+str(label),alpha=0.5) # plt.scatter(subset.horsepow, subset.mpg)\n",
    "plt.legend()\n",
    "plt.title('Clusters')\n",
    "plt.xlabel('C1')\n",
    "plt.ylabel('C2')"
   ]
  },
  {
   "cell_type": "markdown",
   "metadata": {},
   "source": [
    "This clustering isn't great...Let's check the silhouette plot"
   ]
  },
  {
   "cell_type": "code",
   "execution_count": 37,
   "metadata": {},
   "outputs": [
    {
     "name": "stdout",
     "output_type": "stream",
     "text": [
      "Silhouette Coefficient: 0.026\n"
     ]
    }
   ],
   "source": [
    "from sklearn.metrics import silhouette_samples, silhouette_score\n",
    "print(\"Silhouette Coefficient: %0.3f\"\n",
    "      % metrics.silhouette_score(XX, labels))"
   ]
  },
  {
   "cell_type": "markdown",
   "metadata": {},
   "source": [
    "This silhouettee coefficient is more than 0, indicating the clustering is better than the previous case."
   ]
  },
  {
   "cell_type": "markdown",
   "metadata": {},
   "source": [
    "### HDBSCAN"
   ]
  },
  {
   "cell_type": "markdown",
   "metadata": {},
   "source": [
    "We will use HDBSCAN to perform the clustering and compare the results to the results above"
   ]
  },
  {
   "cell_type": "code",
   "execution_count": 1,
   "metadata": {},
   "outputs": [],
   "source": [
    "import hdbscan"
   ]
  },
  {
   "cell_type": "code",
   "execution_count": 2,
   "metadata": {},
   "outputs": [],
   "source": [
    "#!pip install --upgrade --user numpy"
   ]
  },
  {
   "cell_type": "code",
   "execution_count": 3,
   "metadata": {},
   "outputs": [],
   "source": [
    "#!pip install hdbscan"
   ]
  },
  {
   "cell_type": "code",
   "execution_count": 39,
   "metadata": {},
   "outputs": [],
   "source": [
    "xx = XX.copy()"
   ]
  },
  {
   "cell_type": "code",
   "execution_count": 40,
   "metadata": {},
   "outputs": [],
   "source": [
    "# Compute HDBSCAN - best model\n",
    "hdb = hdbscan.HDBSCAN().fit(xx) # we do not manually specify eps or min_sample or a metric"
   ]
  },
  {
   "cell_type": "code",
   "execution_count": 41,
   "metadata": {},
   "outputs": [
    {
     "data": {
      "text/plain": [
       "array([ 2, -1,  2, ...,  2,  2,  2])"
      ]
     },
     "execution_count": 41,
     "metadata": {},
     "output_type": "execute_result"
    }
   ],
   "source": [
    "hdb.labels_"
   ]
  },
  {
   "cell_type": "code",
   "execution_count": 42,
   "metadata": {},
   "outputs": [],
   "source": [
    "n_clusters_ = hdb.labels_.max() + 1\n"
   ]
  },
  {
   "cell_type": "code",
   "execution_count": 43,
   "metadata": {},
   "outputs": [
    {
     "name": "stdout",
     "output_type": "stream",
     "text": [
      "number of clusters is  3\n"
     ]
    }
   ],
   "source": [
    "print('number of clusters is ', n_clusters_)"
   ]
  },
  {
   "cell_type": "markdown",
   "metadata": {},
   "source": [
    "Add a label column to the data"
   ]
  },
  {
   "cell_type": "code",
   "execution_count": 44,
   "metadata": {},
   "outputs": [
    {
     "data": {
      "text/html": [
       "<div>\n",
       "<style scoped>\n",
       "    .dataframe tbody tr th:only-of-type {\n",
       "        vertical-align: middle;\n",
       "    }\n",
       "\n",
       "    .dataframe tbody tr th {\n",
       "        vertical-align: top;\n",
       "    }\n",
       "\n",
       "    .dataframe thead th {\n",
       "        text-align: right;\n",
       "    }\n",
       "</style>\n",
       "<table border=\"1\" class=\"dataframe\">\n",
       "  <thead>\n",
       "    <tr style=\"text-align: right;\">\n",
       "      <th></th>\n",
       "      <th>totfood</th>\n",
       "      <th>totalch</th>\n",
       "      <th>totclth</th>\n",
       "      <th>tothous</th>\n",
       "      <th>totfurn</th>\n",
       "      <th>tothlth</th>\n",
       "      <th>tottrsp</th>\n",
       "      <th>totcmnq</th>\n",
       "      <th>totrcre</th>\n",
       "      <th>toteduc</th>\n",
       "      <th>totmisc</th>\n",
       "      <th>label</th>\n",
       "    </tr>\n",
       "  </thead>\n",
       "  <tbody>\n",
       "    <tr>\n",
       "      <th>0</th>\n",
       "      <td>0.869768</td>\n",
       "      <td>-0.282063</td>\n",
       "      <td>0.813326</td>\n",
       "      <td>0.597423</td>\n",
       "      <td>0.930850</td>\n",
       "      <td>0.270093</td>\n",
       "      <td>0.381865</td>\n",
       "      <td>-0.274590</td>\n",
       "      <td>-0.216681</td>\n",
       "      <td>-0.115215</td>\n",
       "      <td>0.970906</td>\n",
       "      <td>2</td>\n",
       "    </tr>\n",
       "    <tr>\n",
       "      <th>1</th>\n",
       "      <td>0.333146</td>\n",
       "      <td>-0.282063</td>\n",
       "      <td>-0.095515</td>\n",
       "      <td>3.937930</td>\n",
       "      <td>1.783318</td>\n",
       "      <td>-0.204459</td>\n",
       "      <td>-0.270768</td>\n",
       "      <td>0.137049</td>\n",
       "      <td>-0.224311</td>\n",
       "      <td>0.806321</td>\n",
       "      <td>-0.077166</td>\n",
       "      <td>-1</td>\n",
       "    </tr>\n",
       "  </tbody>\n",
       "</table>\n",
       "</div>"
      ],
      "text/plain": [
       "    totfood   totalch   totclth   tothous   totfurn   tothlth   tottrsp  \\\n",
       "0  0.869768 -0.282063  0.813326  0.597423  0.930850  0.270093  0.381865   \n",
       "1  0.333146 -0.282063 -0.095515  3.937930  1.783318 -0.204459 -0.270768   \n",
       "\n",
       "    totcmnq   totrcre   toteduc   totmisc  label  \n",
       "0 -0.274590 -0.216681 -0.115215  0.970906      2  \n",
       "1  0.137049 -0.224311  0.806321 -0.077166     -1  "
      ]
     },
     "execution_count": 44,
     "metadata": {},
     "output_type": "execute_result"
    }
   ],
   "source": [
    "df_hdbscan_norm = pd.DataFrame({'totfood':xx[:,0],'totalch':xx[:,1], 'totclth':xx[:,2],'tothous':xx[:,3],'totfurn':xx[:,4], 'tothlth':xx[:,5],\n",
    "\n",
    "                       'tottrsp':xx[:,6],'totcmnq':xx[:,7], 'totrcre':xx[:,8],'toteduc':xx[:,9],'totmisc':xx[:,10], 'label':hdb.labels_})\n",
    "\n",
    "df_hdbscan_norm.head(2)"
   ]
  },
  {
   "cell_type": "markdown",
   "metadata": {},
   "source": [
    "PCA Projection normalised data to 2D\n",
    "\n",
    "Now, let's try to visualize the cluster, although we have only one cluster. First, lets use PCA to reduce the dimension of the data to two dimensions\n"
   ]
  },
  {
   "cell_type": "code",
   "execution_count": 45,
   "metadata": {},
   "outputs": [],
   "source": [
    "pca = PCA(n_components=2)\n",
    "\n",
    "principalComponents = pca.fit_transform(xx)\n",
    "\n",
    "principalDf_hdbscan_norm = pd.DataFrame(data = principalComponents\n",
    "             , columns = ['C1', 'C2'])"
   ]
  },
  {
   "cell_type": "markdown",
   "metadata": {},
   "source": [
    "Add a label to the reduced data"
   ]
  },
  {
   "cell_type": "code",
   "execution_count": 46,
   "metadata": {},
   "outputs": [
    {
     "data": {
      "text/html": [
       "<div>\n",
       "<style scoped>\n",
       "    .dataframe tbody tr th:only-of-type {\n",
       "        vertical-align: middle;\n",
       "    }\n",
       "\n",
       "    .dataframe tbody tr th {\n",
       "        vertical-align: top;\n",
       "    }\n",
       "\n",
       "    .dataframe thead th {\n",
       "        text-align: right;\n",
       "    }\n",
       "</style>\n",
       "<table border=\"1\" class=\"dataframe\">\n",
       "  <thead>\n",
       "    <tr style=\"text-align: right;\">\n",
       "      <th></th>\n",
       "      <th>C1</th>\n",
       "      <th>C2</th>\n",
       "      <th>label</th>\n",
       "    </tr>\n",
       "  </thead>\n",
       "  <tbody>\n",
       "    <tr>\n",
       "      <th>0</th>\n",
       "      <td>1.406423</td>\n",
       "      <td>-0.243711</td>\n",
       "      <td>2</td>\n",
       "    </tr>\n",
       "    <tr>\n",
       "      <th>1</th>\n",
       "      <td>1.802620</td>\n",
       "      <td>-1.670092</td>\n",
       "      <td>-1</td>\n",
       "    </tr>\n",
       "    <tr>\n",
       "      <th>2</th>\n",
       "      <td>-0.577850</td>\n",
       "      <td>-0.264246</td>\n",
       "      <td>2</td>\n",
       "    </tr>\n",
       "    <tr>\n",
       "      <th>3</th>\n",
       "      <td>0.999892</td>\n",
       "      <td>-0.393403</td>\n",
       "      <td>2</td>\n",
       "    </tr>\n",
       "    <tr>\n",
       "      <th>4</th>\n",
       "      <td>2.798334</td>\n",
       "      <td>2.728244</td>\n",
       "      <td>-1</td>\n",
       "    </tr>\n",
       "  </tbody>\n",
       "</table>\n",
       "</div>"
      ],
      "text/plain": [
       "         C1        C2  label\n",
       "0  1.406423 -0.243711      2\n",
       "1  1.802620 -1.670092     -1\n",
       "2 -0.577850 -0.264246      2\n",
       "3  0.999892 -0.393403      2\n",
       "4  2.798334  2.728244     -1"
      ]
     },
     "execution_count": 46,
     "metadata": {},
     "output_type": "execute_result"
    }
   ],
   "source": [
    "principalDf_hdbscan_norm['label'] = df_hdbscan_norm.label\n",
    "\n",
    "principalDf_hdbscan_norm.head()"
   ]
  },
  {
   "cell_type": "markdown",
   "metadata": {},
   "source": [
    "Now we will drop noisy data. Rows with labels of -1"
   ]
  },
  {
   "cell_type": "code",
   "execution_count": 47,
   "metadata": {},
   "outputs": [],
   "source": [
    "condition = principalDf_hdbscan_norm.label != -1\n",
    "\n",
    "principalDf_hdbscan_norm = principalDf_hdbscan_norm[condition]"
   ]
  },
  {
   "cell_type": "markdown",
   "metadata": {},
   "source": [
    "Counting the number of clusters in each label"
   ]
  },
  {
   "cell_type": "code",
   "execution_count": 48,
   "metadata": {},
   "outputs": [
    {
     "data": {
      "text/plain": [
       "2    7480\n",
       "1      23\n",
       "0       6\n",
       "Name: label, dtype: int64"
      ]
     },
     "execution_count": 48,
     "metadata": {},
     "output_type": "execute_result"
    }
   ],
   "source": [
    "principalDf_hdbscan_norm.label.value_counts()"
   ]
  },
  {
   "cell_type": "markdown",
   "metadata": {},
   "source": [
    "Now, let's visualize the three clusters"
   ]
  },
  {
   "cell_type": "code",
   "execution_count": 49,
   "metadata": {},
   "outputs": [
    {
     "name": "stderr",
     "output_type": "stream",
     "text": [
      "'c' argument looks like a single numeric RGB or RGBA sequence, which should be avoided as value-mapping will have precedence in case its length matches with 'x' & 'y'.  Please use a 2-D array with a single row if you really want to specify the same RGB or RGBA value for all points.\n",
      "'c' argument looks like a single numeric RGB or RGBA sequence, which should be avoided as value-mapping will have precedence in case its length matches with 'x' & 'y'.  Please use a 2-D array with a single row if you really want to specify the same RGB or RGBA value for all points.\n",
      "'c' argument looks like a single numeric RGB or RGBA sequence, which should be avoided as value-mapping will have precedence in case its length matches with 'x' & 'y'.  Please use a 2-D array with a single row if you really want to specify the same RGB or RGBA value for all points.\n"
     ]
    },
    {
     "data": {
      "text/plain": [
       "Text(0, 0.5, 'C2')"
      ]
     },
     "execution_count": 49,
     "metadata": {},
     "output_type": "execute_result"
    },
    {
     "data": {
      "image/png": "[encoded data removed]",
      "text/plain": [
       "<Figure size 720x720 with 1 Axes>"
      ]
     },
     "metadata": {
      "needs_background": "light"
     },
     "output_type": "display_data"
    }
   ],
   "source": [
    "n_clusters = n_clusters_\n",
    "colors = cm.rainbow(np.linspace(0, 1, n_clusters))\n",
    "cluster_labels = list(range(0, n_clusters))\n",
    "\n",
    "# Create a figure of size 6 inches by 4 inches.\n",
    "plt.figure(figsize=(10,10))\n",
    "pdf = principalDf_hdbscan_norm.copy()\n",
    "# plt.scatter(subset.C1, subset.C2)\n",
    "for color, label in zip(colors, cluster_labels):\n",
    "    subset = pdf[pdf.label == label] #subset is a dataframe including all the columns\n",
    "    plt.scatter(subset.C1, subset.C2, c=color, label='cluster'+str(label),alpha=0.5) # plt.scatter(subset.horsepow, subset.mpg)\n",
    "plt.legend()\n",
    "plt.title('Clusters')\n",
    "plt.xlabel('C1')\n",
    "plt.ylabel('C2')"
   ]
  },
  {
   "cell_type": "markdown",
   "metadata": {},
   "source": [
    "This is a much better cluster"
   ]
  },
  {
   "cell_type": "code",
   "execution_count": 52,
   "metadata": {},
   "outputs": [
    {
     "name": "stdout",
     "output_type": "stream",
     "text": [
      "Silhouette Coefficient: 0.469\n"
     ]
    }
   ],
   "source": [
    "from sklearn.metrics import silhouette_samples, silhouette_score\n",
    "print(\"Silhouette Coefficient: %0.3f\"\n",
    "      % metrics.silhouette_score(xx, hdb.labels_))"
   ]
  },
  {
   "cell_type": "markdown",
   "metadata": {},
   "source": [
    "We have a better Silhouette score closer to 0.5. Since HDBSCAN gives better results compared to DBSCAN, we choose HDBSCAN AS THE final model for this project "
   ]
  },
  {
   "cell_type": "markdown",
   "metadata": {},
   "source": [
    "#### PARALLEL PLOT for HDBSCAN"
   ]
  },
  {
   "cell_type": "code",
   "execution_count": 53,
   "metadata": {},
   "outputs": [
    {
     "data": {
      "text/html": [
       "<div>\n",
       "<style scoped>\n",
       "    .dataframe tbody tr th:only-of-type {\n",
       "        vertical-align: middle;\n",
       "    }\n",
       "\n",
       "    .dataframe tbody tr th {\n",
       "        vertical-align: top;\n",
       "    }\n",
       "\n",
       "    .dataframe thead th {\n",
       "        text-align: right;\n",
       "    }\n",
       "</style>\n",
       "<table border=\"1\" class=\"dataframe\">\n",
       "  <thead>\n",
       "    <tr style=\"text-align: right;\">\n",
       "      <th></th>\n",
       "      <th>totfood</th>\n",
       "      <th>totalch</th>\n",
       "      <th>totclth</th>\n",
       "      <th>tothous</th>\n",
       "      <th>totfurn</th>\n",
       "      <th>tothlth</th>\n",
       "      <th>tottrsp</th>\n",
       "      <th>totcmnq</th>\n",
       "      <th>totrcre</th>\n",
       "      <th>toteduc</th>\n",
       "      <th>totmisc</th>\n",
       "      <th>label</th>\n",
       "    </tr>\n",
       "  </thead>\n",
       "  <tbody>\n",
       "    <tr>\n",
       "      <th>0</th>\n",
       "      <td>0.869768</td>\n",
       "      <td>-0.282063</td>\n",
       "      <td>0.813326</td>\n",
       "      <td>0.597423</td>\n",
       "      <td>0.930850</td>\n",
       "      <td>0.270093</td>\n",
       "      <td>0.381865</td>\n",
       "      <td>-0.274590</td>\n",
       "      <td>-0.216681</td>\n",
       "      <td>-0.115215</td>\n",
       "      <td>0.970906</td>\n",
       "      <td>2</td>\n",
       "    </tr>\n",
       "    <tr>\n",
       "      <th>1</th>\n",
       "      <td>0.333146</td>\n",
       "      <td>-0.282063</td>\n",
       "      <td>-0.095515</td>\n",
       "      <td>3.937930</td>\n",
       "      <td>1.783318</td>\n",
       "      <td>-0.204459</td>\n",
       "      <td>-0.270768</td>\n",
       "      <td>0.137049</td>\n",
       "      <td>-0.224311</td>\n",
       "      <td>0.806321</td>\n",
       "      <td>-0.077166</td>\n",
       "      <td>-1</td>\n",
       "    </tr>\n",
       "  </tbody>\n",
       "</table>\n",
       "</div>"
      ],
      "text/plain": [
       "    totfood   totalch   totclth   tothous   totfurn   tothlth   tottrsp  \\\n",
       "0  0.869768 -0.282063  0.813326  0.597423  0.930850  0.270093  0.381865   \n",
       "1  0.333146 -0.282063 -0.095515  3.937930  1.783318 -0.204459 -0.270768   \n",
       "\n",
       "    totcmnq   totrcre   toteduc   totmisc  label  \n",
       "0 -0.274590 -0.216681 -0.115215  0.970906      2  \n",
       "1  0.137049 -0.224311  0.806321 -0.077166     -1  "
      ]
     },
     "execution_count": 53,
     "metadata": {},
     "output_type": "execute_result"
    }
   ],
   "source": [
    "df_hdbscan_norm.head(2)"
   ]
  },
  {
   "cell_type": "markdown",
   "metadata": {},
   "source": [
    "Remove rows with labels of -1"
   ]
  },
  {
   "cell_type": "code",
   "execution_count": 113,
   "metadata": {},
   "outputs": [],
   "source": [
    "condition = df_hdbscan_norm.label != -1"
   ]
  },
  {
   "cell_type": "code",
   "execution_count": 114,
   "metadata": {},
   "outputs": [],
   "source": [
    "df_hdbscan_norm = df_hdbscan_norm[condition]"
   ]
  },
  {
   "cell_type": "code",
   "execution_count": 121,
   "metadata": {},
   "outputs": [
    {
     "data": {
      "text/html": [
       "<div>\n",
       "<style scoped>\n",
       "    .dataframe tbody tr th:only-of-type {\n",
       "        vertical-align: middle;\n",
       "    }\n",
       "\n",
       "    .dataframe tbody tr th {\n",
       "        vertical-align: top;\n",
       "    }\n",
       "\n",
       "    .dataframe thead th {\n",
       "        text-align: right;\n",
       "    }\n",
       "</style>\n",
       "<table border=\"1\" class=\"dataframe\">\n",
       "  <thead>\n",
       "    <tr style=\"text-align: right;\">\n",
       "      <th></th>\n",
       "      <th>totfood</th>\n",
       "      <th>totalch</th>\n",
       "      <th>totclth</th>\n",
       "      <th>tothous</th>\n",
       "      <th>totfurn</th>\n",
       "      <th>tothlth</th>\n",
       "      <th>tottrsp</th>\n",
       "      <th>totcmnq</th>\n",
       "      <th>totrcre</th>\n",
       "      <th>toteduc</th>\n",
       "      <th>totmisc</th>\n",
       "      <th>label</th>\n",
       "    </tr>\n",
       "  </thead>\n",
       "  <tbody>\n",
       "    <tr>\n",
       "      <th>0</th>\n",
       "      <td>0.869768</td>\n",
       "      <td>-0.282063</td>\n",
       "      <td>0.813326</td>\n",
       "      <td>0.597423</td>\n",
       "      <td>0.930850</td>\n",
       "      <td>0.270093</td>\n",
       "      <td>0.381865</td>\n",
       "      <td>-0.274590</td>\n",
       "      <td>-0.216681</td>\n",
       "      <td>-0.115215</td>\n",
       "      <td>0.970906</td>\n",
       "      <td>2</td>\n",
       "    </tr>\n",
       "    <tr>\n",
       "      <th>2</th>\n",
       "      <td>-0.524523</td>\n",
       "      <td>-0.282063</td>\n",
       "      <td>-0.488894</td>\n",
       "      <td>0.058295</td>\n",
       "      <td>-0.199684</td>\n",
       "      <td>-0.182889</td>\n",
       "      <td>-0.331876</td>\n",
       "      <td>-0.261965</td>\n",
       "      <td>-0.265152</td>\n",
       "      <td>-0.282872</td>\n",
       "      <td>0.781011</td>\n",
       "      <td>2</td>\n",
       "    </tr>\n",
       "    <tr>\n",
       "      <th>3</th>\n",
       "      <td>0.234851</td>\n",
       "      <td>-0.282063</td>\n",
       "      <td>1.200771</td>\n",
       "      <td>0.042361</td>\n",
       "      <td>0.104170</td>\n",
       "      <td>-0.182889</td>\n",
       "      <td>0.486971</td>\n",
       "      <td>0.487875</td>\n",
       "      <td>-0.278814</td>\n",
       "      <td>-0.187837</td>\n",
       "      <td>0.737953</td>\n",
       "      <td>2</td>\n",
       "    </tr>\n",
       "    <tr>\n",
       "      <th>5</th>\n",
       "      <td>-0.627714</td>\n",
       "      <td>-0.282063</td>\n",
       "      <td>-0.404962</td>\n",
       "      <td>-0.381051</td>\n",
       "      <td>0.258828</td>\n",
       "      <td>-0.269171</td>\n",
       "      <td>-0.183566</td>\n",
       "      <td>0.088861</td>\n",
       "      <td>-0.256373</td>\n",
       "      <td>-0.181177</td>\n",
       "      <td>-0.224692</td>\n",
       "      <td>2</td>\n",
       "    </tr>\n",
       "  </tbody>\n",
       "</table>\n",
       "</div>"
      ],
      "text/plain": [
       "    totfood   totalch   totclth   tothous   totfurn   tothlth   tottrsp  \\\n",
       "0  0.869768 -0.282063  0.813326  0.597423  0.930850  0.270093  0.381865   \n",
       "2 -0.524523 -0.282063 -0.488894  0.058295 -0.199684 -0.182889 -0.331876   \n",
       "3  0.234851 -0.282063  1.200771  0.042361  0.104170 -0.182889  0.486971   \n",
       "5 -0.627714 -0.282063 -0.404962 -0.381051  0.258828 -0.269171 -0.183566   \n",
       "\n",
       "    totcmnq   totrcre   toteduc   totmisc  label  \n",
       "0 -0.274590 -0.216681 -0.115215  0.970906      2  \n",
       "2 -0.261965 -0.265152 -0.282872  0.781011      2  \n",
       "3  0.487875 -0.278814 -0.187837  0.737953      2  \n",
       "5  0.088861 -0.256373 -0.181177 -0.224692      2  "
      ]
     },
     "execution_count": 121,
     "metadata": {},
     "output_type": "execute_result"
    }
   ],
   "source": [
    "df_hdbscan_norm.head(4)"
   ]
  },
  {
   "cell_type": "code",
   "execution_count": 117,
   "metadata": {},
   "outputs": [],
   "source": [
    "ddd = df_hdbscan_norm.label"
   ]
  },
  {
   "cell_type": "code",
   "execution_count": 123,
   "metadata": {},
   "outputs": [
    {
     "data": {
      "text/html": [
       "<div>\n",
       "<style scoped>\n",
       "    .dataframe tbody tr th:only-of-type {\n",
       "        vertical-align: middle;\n",
       "    }\n",
       "\n",
       "    .dataframe tbody tr th {\n",
       "        vertical-align: top;\n",
       "    }\n",
       "\n",
       "    .dataframe thead th {\n",
       "        text-align: right;\n",
       "    }\n",
       "</style>\n",
       "<table border=\"1\" class=\"dataframe\">\n",
       "  <thead>\n",
       "    <tr style=\"text-align: right;\">\n",
       "      <th></th>\n",
       "      <th>TOTFOOD</th>\n",
       "      <th>TOTALCH</th>\n",
       "      <th>TOTCLTH</th>\n",
       "      <th>TOTHOUS</th>\n",
       "      <th>TOTFURN</th>\n",
       "      <th>TOTHLTH</th>\n",
       "      <th>TOTTRSP</th>\n",
       "      <th>TOTCMNQ</th>\n",
       "      <th>TOTRCRE</th>\n",
       "      <th>TOTEDUC</th>\n",
       "      <th>TOTMISC</th>\n",
       "    </tr>\n",
       "  </thead>\n",
       "  <tbody>\n",
       "    <tr>\n",
       "      <th>0</th>\n",
       "      <td>9437.439453</td>\n",
       "      <td>0.0</td>\n",
       "      <td>1978.0</td>\n",
       "      <td>2569.800049</td>\n",
       "      <td>1128.790039</td>\n",
       "      <td>182.5</td>\n",
       "      <td>2248.399902</td>\n",
       "      <td>138.899994</td>\n",
       "      <td>55.25</td>\n",
       "      <td>1481.5</td>\n",
       "      <td>1081.459961</td>\n",
       "    </tr>\n",
       "    <tr>\n",
       "      <th>1</th>\n",
       "      <td>6990.479980</td>\n",
       "      <td>0.0</td>\n",
       "      <td>906.0</td>\n",
       "      <td>10808.799805</td>\n",
       "      <td>1693.709961</td>\n",
       "      <td>21.9</td>\n",
       "      <td>192.500000</td>\n",
       "      <td>370.399994</td>\n",
       "      <td>50.00</td>\n",
       "      <td>5079.0</td>\n",
       "      <td>260.200012</td>\n",
       "    </tr>\n",
       "  </tbody>\n",
       "</table>\n",
       "</div>"
      ],
      "text/plain": [
       "       TOTFOOD  TOTALCH  TOTCLTH       TOTHOUS      TOTFURN  TOTHLTH  \\\n",
       "0  9437.439453      0.0   1978.0   2569.800049  1128.790039    182.5   \n",
       "1  6990.479980      0.0    906.0  10808.799805  1693.709961     21.9   \n",
       "\n",
       "       TOTTRSP     TOTCMNQ  TOTRCRE  TOTEDUC      TOTMISC  \n",
       "0  2248.399902  138.899994    55.25   1481.5  1081.459961  \n",
       "1   192.500000  370.399994    50.00   5079.0   260.200012  "
      ]
     },
     "execution_count": 123,
     "metadata": {},
     "output_type": "execute_result"
    }
   ],
   "source": [
    "df = pd.read_csv('final_capstone_project_data.csv') # original data\n",
    "df.drop(['Unnamed: 0','hid','region','rururb','TOTAL_EXP'], axis = 1, inplace = True)\n",
    "df.head(2)"
   ]
  },
  {
   "cell_type": "code",
   "execution_count": 124,
   "metadata": {},
   "outputs": [],
   "source": [
    "b1 = pd.merge(ddd, df, how='inner', left_index = True, right_index=True) # we are merging on the household id.\n"
   ]
  },
  {
   "cell_type": "code",
   "execution_count": 126,
   "metadata": {},
   "outputs": [
    {
     "data": {
      "text/html": [
       "<div>\n",
       "<style scoped>\n",
       "    .dataframe tbody tr th:only-of-type {\n",
       "        vertical-align: middle;\n",
       "    }\n",
       "\n",
       "    .dataframe tbody tr th {\n",
       "        vertical-align: top;\n",
       "    }\n",
       "\n",
       "    .dataframe thead th {\n",
       "        text-align: right;\n",
       "    }\n",
       "</style>\n",
       "<table border=\"1\" class=\"dataframe\">\n",
       "  <thead>\n",
       "    <tr style=\"text-align: right;\">\n",
       "      <th></th>\n",
       "      <th>label</th>\n",
       "      <th>TOTFOOD</th>\n",
       "      <th>TOTALCH</th>\n",
       "      <th>TOTCLTH</th>\n",
       "      <th>TOTHOUS</th>\n",
       "      <th>TOTFURN</th>\n",
       "      <th>TOTHLTH</th>\n",
       "      <th>TOTTRSP</th>\n",
       "      <th>TOTCMNQ</th>\n",
       "      <th>TOTRCRE</th>\n",
       "      <th>TOTEDUC</th>\n",
       "      <th>TOTMISC</th>\n",
       "    </tr>\n",
       "  </thead>\n",
       "  <tbody>\n",
       "    <tr>\n",
       "      <th>0</th>\n",
       "      <td>2</td>\n",
       "      <td>9437.439453</td>\n",
       "      <td>0.0</td>\n",
       "      <td>1978.0</td>\n",
       "      <td>2569.800049</td>\n",
       "      <td>1128.790039</td>\n",
       "      <td>182.500000</td>\n",
       "      <td>2248.399902</td>\n",
       "      <td>138.899994</td>\n",
       "      <td>55.250000</td>\n",
       "      <td>1481.5</td>\n",
       "      <td>1081.459961</td>\n",
       "    </tr>\n",
       "    <tr>\n",
       "      <th>2</th>\n",
       "      <td>2</td>\n",
       "      <td>3079.566895</td>\n",
       "      <td>0.0</td>\n",
       "      <td>442.0</td>\n",
       "      <td>1240.099976</td>\n",
       "      <td>379.599976</td>\n",
       "      <td>29.200001</td>\n",
       "      <td>0.000000</td>\n",
       "      <td>146.000000</td>\n",
       "      <td>21.900002</td>\n",
       "      <td>827.0</td>\n",
       "      <td>932.660034</td>\n",
       "    </tr>\n",
       "    <tr>\n",
       "      <th>3</th>\n",
       "      <td>2</td>\n",
       "      <td>6542.259766</td>\n",
       "      <td>0.0</td>\n",
       "      <td>2435.0</td>\n",
       "      <td>1200.800049</td>\n",
       "      <td>580.959961</td>\n",
       "      <td>29.200001</td>\n",
       "      <td>2579.500000</td>\n",
       "      <td>567.700012</td>\n",
       "      <td>12.500000</td>\n",
       "      <td>1198.0</td>\n",
       "      <td>898.919983</td>\n",
       "    </tr>\n",
       "    <tr>\n",
       "      <th>5</th>\n",
       "      <td>2</td>\n",
       "      <td>2609.020020</td>\n",
       "      <td>0.0</td>\n",
       "      <td>541.0</td>\n",
       "      <td>156.500000</td>\n",
       "      <td>683.450012</td>\n",
       "      <td>0.000000</td>\n",
       "      <td>467.199982</td>\n",
       "      <td>343.299988</td>\n",
       "      <td>27.940001</td>\n",
       "      <td>1224.0</td>\n",
       "      <td>144.599991</td>\n",
       "    </tr>\n",
       "  </tbody>\n",
       "</table>\n",
       "</div>"
      ],
      "text/plain": [
       "   label      TOTFOOD  TOTALCH  TOTCLTH      TOTHOUS      TOTFURN     TOTHLTH  \\\n",
       "0      2  9437.439453      0.0   1978.0  2569.800049  1128.790039  182.500000   \n",
       "2      2  3079.566895      0.0    442.0  1240.099976   379.599976   29.200001   \n",
       "3      2  6542.259766      0.0   2435.0  1200.800049   580.959961   29.200001   \n",
       "5      2  2609.020020      0.0    541.0   156.500000   683.450012    0.000000   \n",
       "\n",
       "       TOTTRSP     TOTCMNQ    TOTRCRE  TOTEDUC      TOTMISC  \n",
       "0  2248.399902  138.899994  55.250000   1481.5  1081.459961  \n",
       "2     0.000000  146.000000  21.900002    827.0   932.660034  \n",
       "3  2579.500000  567.700012  12.500000   1198.0   898.919983  \n",
       "5   467.199982  343.299988  27.940001   1224.0   144.599991  "
      ]
     },
     "execution_count": 126,
     "metadata": {},
     "output_type": "execute_result"
    }
   ],
   "source": [
    "b1.head(4)"
   ]
  },
  {
   "cell_type": "code",
   "execution_count": 129,
   "metadata": {},
   "outputs": [
    {
     "data": {
      "text/html": [
       "<div>\n",
       "<style scoped>\n",
       "    .dataframe tbody tr th:only-of-type {\n",
       "        vertical-align: middle;\n",
       "    }\n",
       "\n",
       "    .dataframe tbody tr th {\n",
       "        vertical-align: top;\n",
       "    }\n",
       "\n",
       "    .dataframe thead th {\n",
       "        text-align: right;\n",
       "    }\n",
       "</style>\n",
       "<table border=\"1\" class=\"dataframe\">\n",
       "  <thead>\n",
       "    <tr style=\"text-align: right;\">\n",
       "      <th></th>\n",
       "      <th>TOTFOOD</th>\n",
       "      <th>TOTALCH</th>\n",
       "      <th>TOTCLTH</th>\n",
       "      <th>TOTHOUS</th>\n",
       "      <th>TOTFURN</th>\n",
       "      <th>TOTHLTH</th>\n",
       "      <th>TOTTRSP</th>\n",
       "      <th>TOTCMNQ</th>\n",
       "      <th>TOTRCRE</th>\n",
       "      <th>TOTEDUC</th>\n",
       "      <th>TOTMISC</th>\n",
       "    </tr>\n",
       "    <tr>\n",
       "      <th>label</th>\n",
       "      <th></th>\n",
       "      <th></th>\n",
       "      <th></th>\n",
       "      <th></th>\n",
       "      <th></th>\n",
       "      <th></th>\n",
       "      <th></th>\n",
       "      <th></th>\n",
       "      <th></th>\n",
       "      <th></th>\n",
       "      <th></th>\n",
       "    </tr>\n",
       "  </thead>\n",
       "  <tbody>\n",
       "    <tr>\n",
       "      <th>0</th>\n",
       "      <td>3427.086405</td>\n",
       "      <td>2725.333333</td>\n",
       "      <td>731.250000</td>\n",
       "      <td>528.314280</td>\n",
       "      <td>374.326665</td>\n",
       "      <td>20.816666</td>\n",
       "      <td>782.630000</td>\n",
       "      <td>84.449999</td>\n",
       "      <td>83.724998</td>\n",
       "      <td>1153.750000</td>\n",
       "      <td>125.169998</td>\n",
       "    </tr>\n",
       "    <tr>\n",
       "      <th>1</th>\n",
       "      <td>3732.191067</td>\n",
       "      <td>10.791304</td>\n",
       "      <td>438.172138</td>\n",
       "      <td>416.858383</td>\n",
       "      <td>223.074782</td>\n",
       "      <td>18.726087</td>\n",
       "      <td>850.597828</td>\n",
       "      <td>70.169566</td>\n",
       "      <td>3225.342391</td>\n",
       "      <td>894.795652</td>\n",
       "      <td>86.203478</td>\n",
       "    </tr>\n",
       "    <tr>\n",
       "      <th>2</th>\n",
       "      <td>4518.285544</td>\n",
       "      <td>52.415799</td>\n",
       "      <td>777.028054</td>\n",
       "      <td>792.762761</td>\n",
       "      <td>376.389811</td>\n",
       "      <td>51.342539</td>\n",
       "      <td>510.773905</td>\n",
       "      <td>191.648568</td>\n",
       "      <td>86.658899</td>\n",
       "      <td>1340.493915</td>\n",
       "      <td>192.156838</td>\n",
       "    </tr>\n",
       "  </tbody>\n",
       "</table>\n",
       "</div>"
      ],
      "text/plain": [
       "           TOTFOOD      TOTALCH     TOTCLTH     TOTHOUS     TOTFURN  \\\n",
       "label                                                                 \n",
       "0      3427.086405  2725.333333  731.250000  528.314280  374.326665   \n",
       "1      3732.191067    10.791304  438.172138  416.858383  223.074782   \n",
       "2      4518.285544    52.415799  777.028054  792.762761  376.389811   \n",
       "\n",
       "         TOTHLTH     TOTTRSP     TOTCMNQ      TOTRCRE      TOTEDUC     TOTMISC  \n",
       "label                                                                           \n",
       "0      20.816666  782.630000   84.449999    83.724998  1153.750000  125.169998  \n",
       "1      18.726087  850.597828   70.169566  3225.342391   894.795652   86.203478  \n",
       "2      51.342539  510.773905  191.648568    86.658899  1340.493915  192.156838  "
      ]
     },
     "execution_count": 129,
     "metadata": {},
     "output_type": "execute_result"
    }
   ],
   "source": [
    "b1.groupby('label').mean()"
   ]
  },
  {
   "cell_type": "code",
   "execution_count": 131,
   "metadata": {},
   "outputs": [
    {
     "data": {
      "text/plain": [
       "<matplotlib.axes._subplots.AxesSubplot at 0x7f9212e73550>"
      ]
     },
     "execution_count": 131,
     "metadata": {},
     "output_type": "execute_result"
    },
    {
     "data": {
      "image/png": "[encoded data removed]",
      "text/plain": [
       "<Figure size 720x720 with 1 Axes>"
      ]
     },
     "metadata": {
      "needs_background": "light"
     },
     "output_type": "display_data"
    }
   ],
   "source": [
    "b1.groupby('label').mean().plot(kind='bar', figsize=(10,10))"
   ]
  },
  {
   "cell_type": "code",
   "execution_count": 127,
   "metadata": {},
   "outputs": [
    {
     "name": "stderr",
     "output_type": "stream",
     "text": [
      "No handles with labels found to put in legend.\n"
     ]
    },
    {
     "data": {
      "image/png": "[encoded data removed]",
      "text/plain": [
       "<Figure size 720x720 with 1 Axes>"
      ]
     },
     "metadata": {
      "needs_background": "light"
     },
     "output_type": "display_data"
    }
   ],
   "source": [
    "#parallelchord plot\n",
    "import pandas\n",
    "import matplotlib.pyplot as plt\n",
    "from pandas.plotting import parallel_coordinates\n",
    "plt.figure(figsize=(10,10))\n",
    "plt.xticks(rotation='vertical')\n",
    "plt.legend(loc='lower left')\n",
    "parallel_coordinates(b1, 'label')\n",
    "plt.show()"
   ]
  },
  {
   "cell_type": "code",
   "execution_count": 115,
   "metadata": {},
   "outputs": [
    {
     "name": "stderr",
     "output_type": "stream",
     "text": [
      "No handles with labels found to put in legend.\n"
     ]
    },
    {
     "data": {
      "image/png": "[encoded data removed]",
      "text/plain": [
       "<Figure size 720x720 with 1 Axes>"
      ]
     },
     "metadata": {
      "needs_background": "light"
     },
     "output_type": "display_data"
    }
   ],
   "source": [
    "#parallelchord plot\n",
    "import pandas\n",
    "import matplotlib.pyplot as plt\n",
    "from pandas.plotting import parallel_coordinates\n",
    "plt.figure(figsize=(10,10))\n",
    "plt.xticks(rotation='vertical')\n",
    "plt.legend(loc='lower left')\n",
    "parallel_coordinates(df_hdbscan_norm, 'label')\n",
    "plt.show()"
   ]
  },
  {
   "cell_type": "code",
   "execution_count": 135,
   "metadata": {},
   "outputs": [],
   "source": [
    "col_list= list(df)\n",
    "b1['TOTAL_EXP'] = df[col_list].sum(axis=1)"
   ]
  },
  {
   "cell_type": "code",
   "execution_count": 137,
   "metadata": {},
   "outputs": [
    {
     "data": {
      "text/html": [
       "<div>\n",
       "<style scoped>\n",
       "    .dataframe tbody tr th:only-of-type {\n",
       "        vertical-align: middle;\n",
       "    }\n",
       "\n",
       "    .dataframe tbody tr th {\n",
       "        vertical-align: top;\n",
       "    }\n",
       "\n",
       "    .dataframe thead th {\n",
       "        text-align: right;\n",
       "    }\n",
       "</style>\n",
       "<table border=\"1\" class=\"dataframe\">\n",
       "  <thead>\n",
       "    <tr style=\"text-align: right;\">\n",
       "      <th></th>\n",
       "      <th>label</th>\n",
       "      <th>TOTFOOD</th>\n",
       "      <th>TOTALCH</th>\n",
       "      <th>TOTCLTH</th>\n",
       "      <th>TOTHOUS</th>\n",
       "      <th>TOTFURN</th>\n",
       "      <th>TOTHLTH</th>\n",
       "      <th>TOTTRSP</th>\n",
       "      <th>TOTCMNQ</th>\n",
       "      <th>TOTRCRE</th>\n",
       "      <th>TOTEDUC</th>\n",
       "      <th>TOTMISC</th>\n",
       "      <th>TOTAL_EXP</th>\n",
       "    </tr>\n",
       "  </thead>\n",
       "  <tbody>\n",
       "    <tr>\n",
       "      <th>0</th>\n",
       "      <td>2</td>\n",
       "      <td>9437.439453</td>\n",
       "      <td>0.0</td>\n",
       "      <td>1978.0</td>\n",
       "      <td>2569.800049</td>\n",
       "      <td>1128.790039</td>\n",
       "      <td>182.500000</td>\n",
       "      <td>2248.399902</td>\n",
       "      <td>138.899994</td>\n",
       "      <td>55.250000</td>\n",
       "      <td>1481.5</td>\n",
       "      <td>1081.459961</td>\n",
       "      <td>40604.078796</td>\n",
       "    </tr>\n",
       "    <tr>\n",
       "      <th>2</th>\n",
       "      <td>2</td>\n",
       "      <td>3079.566895</td>\n",
       "      <td>0.0</td>\n",
       "      <td>442.0</td>\n",
       "      <td>1240.099976</td>\n",
       "      <td>379.599976</td>\n",
       "      <td>29.200001</td>\n",
       "      <td>0.000000</td>\n",
       "      <td>146.000000</td>\n",
       "      <td>21.900002</td>\n",
       "      <td>827.0</td>\n",
       "      <td>932.660034</td>\n",
       "      <td>14196.053764</td>\n",
       "    </tr>\n",
       "    <tr>\n",
       "      <th>3</th>\n",
       "      <td>2</td>\n",
       "      <td>6542.259766</td>\n",
       "      <td>0.0</td>\n",
       "      <td>2435.0</td>\n",
       "      <td>1200.800049</td>\n",
       "      <td>580.959961</td>\n",
       "      <td>29.200001</td>\n",
       "      <td>2579.500000</td>\n",
       "      <td>567.700012</td>\n",
       "      <td>12.500000</td>\n",
       "      <td>1198.0</td>\n",
       "      <td>898.919983</td>\n",
       "      <td>32089.679543</td>\n",
       "    </tr>\n",
       "    <tr>\n",
       "      <th>5</th>\n",
       "      <td>2</td>\n",
       "      <td>2609.020020</td>\n",
       "      <td>0.0</td>\n",
       "      <td>541.0</td>\n",
       "      <td>156.500000</td>\n",
       "      <td>683.450012</td>\n",
       "      <td>0.000000</td>\n",
       "      <td>467.199982</td>\n",
       "      <td>343.299988</td>\n",
       "      <td>27.940001</td>\n",
       "      <td>1224.0</td>\n",
       "      <td>144.599991</td>\n",
       "      <td>12394.019985</td>\n",
       "    </tr>\n",
       "    <tr>\n",
       "      <th>6</th>\n",
       "      <td>2</td>\n",
       "      <td>2154.959961</td>\n",
       "      <td>0.0</td>\n",
       "      <td>172.0</td>\n",
       "      <td>942.799988</td>\n",
       "      <td>142.600006</td>\n",
       "      <td>0.000000</td>\n",
       "      <td>0.000000</td>\n",
       "      <td>12.500000</td>\n",
       "      <td>47.520000</td>\n",
       "      <td>552.0</td>\n",
       "      <td>1145.000000</td>\n",
       "      <td>10338.759911</td>\n",
       "    </tr>\n",
       "  </tbody>\n",
       "</table>\n",
       "</div>"
      ],
      "text/plain": [
       "   label      TOTFOOD  TOTALCH  TOTCLTH      TOTHOUS      TOTFURN     TOTHLTH  \\\n",
       "0      2  9437.439453      0.0   1978.0  2569.800049  1128.790039  182.500000   \n",
       "2      2  3079.566895      0.0    442.0  1240.099976   379.599976   29.200001   \n",
       "3      2  6542.259766      0.0   2435.0  1200.800049   580.959961   29.200001   \n",
       "5      2  2609.020020      0.0    541.0   156.500000   683.450012    0.000000   \n",
       "6      2  2154.959961      0.0    172.0   942.799988   142.600006    0.000000   \n",
       "\n",
       "       TOTTRSP     TOTCMNQ    TOTRCRE  TOTEDUC      TOTMISC     TOTAL_EXP  \n",
       "0  2248.399902  138.899994  55.250000   1481.5  1081.459961  40604.078796  \n",
       "2     0.000000  146.000000  21.900002    827.0   932.660034  14196.053764  \n",
       "3  2579.500000  567.700012  12.500000   1198.0   898.919983  32089.679543  \n",
       "5   467.199982  343.299988  27.940001   1224.0   144.599991  12394.019985  \n",
       "6     0.000000   12.500000  47.520000    552.0  1145.000000  10338.759911  "
      ]
     },
     "execution_count": 137,
     "metadata": {},
     "output_type": "execute_result"
    }
   ],
   "source": [
    "b1.head()"
   ]
  },
  {
   "cell_type": "code",
   "execution_count": 139,
   "metadata": {},
   "outputs": [],
   "source": [
    "b2 = b1[['label','TOTAL_EXP']]"
   ]
  },
  {
   "cell_type": "code",
   "execution_count": 140,
   "metadata": {},
   "outputs": [
    {
     "data": {
      "text/plain": [
       "<matplotlib.axes._subplots.AxesSubplot at 0x7f9213ca5438>"
      ]
     },
     "execution_count": 140,
     "metadata": {},
     "output_type": "execute_result"
    },
    {
     "data": {
      "image/png": "[encoded data removed]",
      "text/plain": [
       "<Figure size 720x720 with 1 Axes>"
      ]
     },
     "metadata": {
      "needs_background": "light"
     },
     "output_type": "display_data"
    }
   ],
   "source": [
    "b2.groupby('label').mean().plot(kind='bar', figsize=(10,10))"
   ]
  },
  {
   "cell_type": "markdown",
   "metadata": {},
   "source": [
    "Mean total expenditure is the same in each cluster, just the pattern is different"
   ]
  },
  {
   "cell_type": "code",
   "execution_count": 141,
   "metadata": {},
   "outputs": [],
   "source": [
    "b1.to_csv('b1.csv')"
   ]
  },
  {
   "cell_type": "markdown",
   "metadata": {},
   "source": [
    "#### SECOND PART  - DEEP LEARNING ALGORITHMS"
   ]
  },
  {
   "cell_type": "code",
   "execution_count": null,
   "metadata": {},
   "outputs": [],
   "source": []
  },
  {
   "cell_type": "markdown",
   "metadata": {},
   "source": [
    "CONCLUSION"
   ]
  },
  {
   "cell_type": "code",
   "execution_count": null,
   "metadata": {},
   "outputs": [],
   "source": []
  }
 ],
 "metadata": {
  "kernelspec": {
   "display_name": "Python 3",
   "language": "python",
   "name": "python3"
  },
  "language_info": {
   "codemirror_mode": {
    "name": "ipython",
    "version": 3
   },
   "file_extension": ".py",
   "mimetype": "text/x-python",
   "name": "python",
   "nbconvert_exporter": "python",
   "pygments_lexer": "ipython3",
   "version": "3.6.8"
  }
 },
 "nbformat": 4,
 "nbformat_minor": 2
}
