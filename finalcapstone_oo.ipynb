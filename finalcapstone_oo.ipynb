{
 "cells": [
  {
   "cell_type": "markdown",
   "metadata": {},
   "source": [
    "# Finding similar neighborhoods across the top two cities (Accra and Kumasi) in Ghana "
   ]
  },
  {
   "cell_type": "markdown",
   "metadata": {},
   "source": [
    "### The Problem"
   ]
  },
  {
   "cell_type": "markdown",
   "metadata": {},
   "source": [
    "#### The choice of a particular neighborhood stems from several factors depending on the entity making the choice. For home buyers, selecting a particular neighborhood is essential as it forms an integral part of one's life. For example, the quality of housing, school and health care in part depends on one’s neighborhood. For business entities, location matters for business success and hence companies spend a lot of time making sure that they choose the best neighborhood for their business to thrive. \n",
    "\n",
    "#### Since neighborhoods form an integral part of people’s lives, most people would like to live in a neighborhood (similar to their former neighborhood) when they move from one city to the other. Similarly, businesses that want to expand their business to other cities would like to find neighborhoods similar to their current business location. This project seeks to help businesses and people in finding appropriate neighborhoods in the top 2 cities in Ghana.\n"
   ]
  },
  {
   "cell_type": "markdown",
   "metadata": {},
   "source": [
    "### Importance of project\n",
    "\n",
    "#### In this project, we seek to cluster neighborhoods in the top 2 cities in Ghana – Kumasi and Accra using Foursquare location data. Such an analysis will help businesses choose an appropriate neighborhood for their business as they expand their operations from one city to the other. Likewise, it will help people to choose which neighborhood to stay as they move from one of these two cities to the other, especially for long stays. \n"
   ]
  },
  {
   "cell_type": "markdown",
   "metadata": {},
   "source": [
    "### Data\n",
    "\n",
    "#### In this project, we use Foursquare location data and we cluster the neighborhoods based on the top venues in each neighborhood. The selected neighborhood names used in this project is extracted from wikipedia (https://en.wikipedia.org/wiki/Category:Populated_places_in_Kumasi_Metropolitan_Assembly, https://en.wikipedia.org/wiki/Neighborhoods_of_Accra)\n"
   ]
  }
 ],
 "metadata": {
  "kernelspec": {
   "display_name": "Python 3",
   "language": "python",
   "name": "python3"
  },
  "language_info": {
   "codemirror_mode": {
    "name": "ipython",
    "version": 3
   },
   "file_extension": ".py",
   "mimetype": "text/x-python",
   "name": "python",
   "nbconvert_exporter": "python",
   "pygments_lexer": "ipython3",
   "version": "3.6.8"
  }
 },
 "nbformat": 4,
 "nbformat_minor": 2
}
