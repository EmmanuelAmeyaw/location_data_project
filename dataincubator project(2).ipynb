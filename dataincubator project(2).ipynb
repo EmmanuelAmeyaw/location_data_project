{
 "cells": [
  {
   "cell_type": "markdown",
   "metadata": {},
   "source": [
    "Data Incubator Project"
   ]
  },
  {
   "cell_type": "markdown",
   "metadata": {},
   "source": [
    "Download Data"
   ]
  },
  {
   "cell_type": "code",
   "execution_count": 130,
   "metadata": {},
   "outputs": [
    {
     "name": "stdout",
     "output_type": "stream",
     "text": [
      "Collecting wget\n",
      "  Downloading https://files.pythonhosted.org/packages/47/6a/62e288da7bcda82b935ff0c6cfe542970f04e29c756b0e147251b2fb251f/wget-3.2.zip\n",
      "Building wheels for collected packages: wget\n",
      "  Building wheel for wget (setup.py) ... \u001b[?25ldone\n",
      "\u001b[?25h  Stored in directory: /home/jupyterlab/.cache/pip/wheels/40/15/30/7d8f7cea2902b4db79e3fea550d7d7b85ecb27ef992b618f3f\n",
      "Successfully built wget\n",
      "Installing collected packages: wget\n",
      "Successfully installed wget-3.2\n"
     ]
    }
   ],
   "source": [
    "!pip install wget"
   ]
  },
  {
   "cell_type": "code",
   "execution_count": 2,
   "metadata": {},
   "outputs": [],
   "source": [
    "import wget\n",
    "filename = wget.download('https://data.baltimorecity.gov/api/views/n4ma-fj3m/rows.csv')"
   ]
  },
  {
   "cell_type": "code",
   "execution_count": 4,
   "metadata": {},
   "outputs": [
    {
     "name": "stderr",
     "output_type": "stream",
     "text": [
      "/home/jupyterlab/conda/envs/python/lib/python3.6/site-packages/IPython/core/interactiveshell.py:3057: DtypeWarning: Columns (2) have mixed types. Specify dtype option on import or set low_memory=False.\n",
      "  interactivity=interactivity, compiler=compiler, result=result)\n"
     ]
    }
   ],
   "source": [
    "import pandas as pd\n",
    "df = pd.read_csv('Parking_Citations.csv')"
   ]
  },
  {
   "cell_type": "code",
   "execution_count": 5,
   "metadata": {},
   "outputs": [
    {
     "data": {
      "text/plain": [
       "3374648"
      ]
     },
     "execution_count": 5,
     "metadata": {},
     "output_type": "execute_result"
    }
   ],
   "source": [
    "len(df)"
   ]
  },
  {
   "cell_type": "code",
   "execution_count": 6,
   "metadata": {},
   "outputs": [
    {
     "data": {
      "text/plain": [
       "Index(['Citation', 'Tag', 'ExpMM', 'ExpYY', 'State', 'Make', 'Address',\n",
       "       'ViolCode', 'Description', 'ViolFine', 'ViolDate', 'Balance',\n",
       "       'PenaltyDate', 'OpenFine', 'OpenPenalty', 'NoticeDate', 'ImportDate',\n",
       "       'Neighborhood', 'PoliceDistrict', 'CouncilDistrict', 'Location'],\n",
       "      dtype='object')"
      ]
     },
     "execution_count": 6,
     "metadata": {},
     "output_type": "execute_result"
    }
   ],
   "source": [
    "df.columns"
   ]
  },
  {
   "cell_type": "code",
   "execution_count": 7,
   "metadata": {},
   "outputs": [
    {
     "data": {
      "text/plain": [
       "Citation             int64\n",
       "Tag                 object\n",
       "ExpMM               object\n",
       "ExpYY              float64\n",
       "State               object\n",
       "Make                object\n",
       "Address             object\n",
       "ViolCode             int64\n",
       "Description         object\n",
       "ViolFine           float64\n",
       "ViolDate            object\n",
       "Balance            float64\n",
       "PenaltyDate        float64\n",
       "OpenFine           float64\n",
       "OpenPenalty        float64\n",
       "NoticeDate          object\n",
       "ImportDate          object\n",
       "Neighborhood        object\n",
       "PoliceDistrict      object\n",
       "CouncilDistrict    float64\n",
       "Location            object\n",
       "dtype: object"
      ]
     },
     "execution_count": 7,
     "metadata": {},
     "output_type": "execute_result"
    }
   ],
   "source": [
    "df.dtypes"
   ]
  },
  {
   "cell_type": "markdown",
   "metadata": {},
   "source": [
    "Unless stated otherwise, you should only consider citations written before January 1, 2019. "
   ]
  },
  {
   "cell_type": "code",
   "execution_count": 56,
   "metadata": {},
   "outputs": [],
   "source": [
    "df['DateTime'] = pd.to_datetime(df['ViolDate'])"
   ]
  },
  {
   "cell_type": "code",
   "execution_count": 59,
   "metadata": {},
   "outputs": [],
   "source": [
    "df2.to_csv('parking_citations3.csv')"
   ]
  },
  {
   "cell_type": "code",
   "execution_count": 57,
   "metadata": {},
   "outputs": [
    {
     "name": "stderr",
     "output_type": "stream",
     "text": [
      "/home/jupyterlab/conda/envs/python/lib/python3.6/site-packages/ipykernel_launcher.py:2: FutureWarning: Comparing Series of datetimes with 'datetime.date'.  Currently, the\n",
      "'datetime.date' is coerced to a datetime. In the future pandas will\n",
      "not coerce, and a TypeError will be raised. To retain the current\n",
      "behavior, convert the 'datetime.date' to a datetime with\n",
      "'pd.Timestamp'.\n",
      "  \n"
     ]
    }
   ],
   "source": [
    "import datetime\n",
    "df2=df[(df['DateTime']<datetime.date(2019,1,1))]"
   ]
  },
  {
   "cell_type": "code",
   "execution_count": 2,
   "metadata": {},
   "outputs": [
    {
     "data": {
      "text/plain": [
       "2840515"
      ]
     },
     "execution_count": 2,
     "metadata": {},
     "output_type": "execute_result"
    }
   ],
   "source": [
    "len(df2)"
   ]
  },
  {
   "cell_type": "code",
   "execution_count": 1,
   "metadata": {},
   "outputs": [
    {
     "name": "stderr",
     "output_type": "stream",
     "text": [
      "/home/jupyterlab/conda/envs/python/lib/python3.6/site-packages/IPython/core/interactiveshell.py:3057: DtypeWarning: Columns (4) have mixed types. Specify dtype option on import or set low_memory=False.\n",
      "  interactivity=interactivity, compiler=compiler, result=result)\n"
     ]
    }
   ],
   "source": [
    "import pandas as pd\n",
    "df2 = pd.read_csv('parking_citations3.csv')"
   ]
  },
  {
   "cell_type": "markdown",
   "metadata": {},
   "source": [
    "For all citations, what is the mean violation fine? "
   ]
  },
  {
   "cell_type": "code",
   "execution_count": 3,
   "metadata": {},
   "outputs": [
    {
     "data": {
      "text/plain": [
       "49.16334749156403"
      ]
     },
     "execution_count": 3,
     "metadata": {},
     "output_type": "execute_result"
    }
   ],
   "source": [
    "df2.ViolFine.mean()"
   ]
  },
  {
   "cell_type": "code",
   "execution_count": 4,
   "metadata": {},
   "outputs": [
    {
     "data": {
      "text/plain": [
       "Southeastern    57963\n",
       "Central         53621\n",
       "Southern        50461\n",
       "Northern        39428\n",
       "Notheastern     22539\n",
       "Eastern         19619\n",
       "Western         16705\n",
       "Southwestern    14360\n",
       "Northwestern    11757\n",
       "SOUTHEASTERN     8600\n",
       "SOUTHERN         7083\n",
       "CENTRAL          6437\n",
       "NORTHERN         5419\n",
       "NORTHEASTERN     1865\n",
       "EASTERN          1489\n",
       "SOUTHWESTERN     1150\n",
       "WESTERN          1137\n",
       "NORTHWESTERN      728\n",
       "Name: PoliceDistrict, dtype: int64"
      ]
     },
     "execution_count": 4,
     "metadata": {},
     "output_type": "execute_result"
    }
   ],
   "source": [
    "df2.PoliceDistrict.value_counts()"
   ]
  },
  {
   "cell_type": "code",
   "execution_count": 5,
   "metadata": {},
   "outputs": [],
   "source": [
    "df2['PoliceDistrict'].replace(['Central'], 'CENTRAL', inplace = True)\n",
    "df2['PoliceDistrict'].replace(['Eastern'], 'EASTERN', inplace = True)\n",
    "df2['PoliceDistrict'].replace(['Northern'], 'NORTHERN', inplace = True)\n",
    "df2['PoliceDistrict'].replace(['Northwestern'], 'NORTHWESTERN', inplace = True)\n",
    "df2['PoliceDistrict'].replace(['Northeastern'], 'NORTHEASTERN', inplace = True)\n",
    "df2['PoliceDistrict'].replace(['Notheastern'], 'NORTHEASTERN', inplace = True)\n",
    "df2['PoliceDistrict'].replace(['Southeastern'], 'SOUTHEASTERN', inplace = True)\n",
    "df2['PoliceDistrict'].replace(['Southern'], 'SOUTHERN', inplace = True)\n",
    "df2['PoliceDistrict'].replace(['Southwestern'], 'SOUTHWESTERN', inplace = True)\n",
    "df2['PoliceDistrict'].replace(['Western'], 'WESTERN', inplace = True)"
   ]
  },
  {
   "cell_type": "code",
   "execution_count": 6,
   "metadata": {},
   "outputs": [
    {
     "data": {
      "text/plain": [
       "SOUTHEASTERN    66563\n",
       "CENTRAL         60058\n",
       "SOUTHERN        57544\n",
       "NORTHERN        44847\n",
       "NORTHEASTERN    24404\n",
       "EASTERN         21108\n",
       "WESTERN         17842\n",
       "SOUTHWESTERN    15510\n",
       "NORTHWESTERN    12485\n",
       "Name: PoliceDistrict, dtype: int64"
      ]
     },
     "execution_count": 6,
     "metadata": {},
     "output_type": "execute_result"
    }
   ],
   "source": [
    "df2.PoliceDistrict.value_counts()"
   ]
  },
  {
   "cell_type": "code",
   "execution_count": 7,
   "metadata": {},
   "outputs": [
    {
     "data": {
      "text/plain": [
       "60.9117357810195"
      ]
     },
     "execution_count": 7,
     "metadata": {},
     "output_type": "execute_result"
    }
   ],
   "source": [
    "df2.groupby('PoliceDistrict')['ViolFine'].mean().max()"
   ]
  },
  {
   "cell_type": "code",
   "execution_count": 8,
   "metadata": {},
   "outputs": [],
   "source": [
    "%matplotlib inline"
   ]
  },
  {
   "cell_type": "code",
   "execution_count": 9,
   "metadata": {},
   "outputs": [
    {
     "data": {
      "text/plain": [
       "<matplotlib.axes._subplots.AxesSubplot at 0x7fa26bc62630>"
      ]
     },
     "execution_count": 9,
     "metadata": {},
     "output_type": "execute_result"
    },
    {
     "data": {
      "image/png": "[encoded data removed]",
      "text/plain": [
       "<Figure size 432x288 with 1 Axes>"
      ]
     },
     "metadata": {
      "needs_background": "light"
     },
     "output_type": "display_data"
    }
   ],
   "source": [
    "df2.groupby('PoliceDistrict')['ViolFine'].mean().plot.bar()"
   ]
  },
  {
   "cell_type": "code",
   "execution_count": 10,
   "metadata": {},
   "outputs": [
    {
     "data": {
      "text/plain": [
       "PoliceDistrict\n",
       "CENTRAL         44.607646\n",
       "EASTERN         50.597735\n",
       "NORTHEASTERN    60.911736\n",
       "NORTHERN        47.774968\n",
       "NORTHWESTERN    59.569724\n",
       "SOUTHEASTERN    48.011072\n",
       "SOUTHERN        53.766353\n",
       "SOUTHWESTERN    58.415216\n",
       "WESTERN         53.328439\n",
       "Name: ViolFine, dtype: float64"
      ]
     },
     "execution_count": 10,
     "metadata": {},
     "output_type": "execute_result"
    }
   ],
   "source": [
    "df2.groupby('PoliceDistrict')['ViolFine'].mean()"
   ]
  },
  {
   "cell_type": "code",
   "execution_count": 11,
   "metadata": {},
   "outputs": [],
   "source": [
    "cond = df2.OpenPenalty != 0"
   ]
  },
  {
   "cell_type": "code",
   "execution_count": 12,
   "metadata": {},
   "outputs": [],
   "source": [
    "vop = df2[cond]"
   ]
  },
  {
   "cell_type": "code",
   "execution_count": 13,
   "metadata": {},
   "outputs": [
    {
     "data": {
      "text/plain": [
       "count    209371.000000\n",
       "mean        285.050083\n",
       "std         182.946846\n",
       "min           1.000000\n",
       "25%         144.000000\n",
       "50%         300.000000\n",
       "81%         480.000000\n",
       "max        3120.000000\n",
       "Name: OpenPenalty, dtype: float64"
      ]
     },
     "execution_count": 13,
     "metadata": {},
     "output_type": "execute_result"
    }
   ],
   "source": [
    "vop.OpenPenalty.describe(percentiles = [0.25, 0.50, 0.81])"
   ]
  },
  {
   "cell_type": "code",
   "execution_count": 14,
   "metadata": {},
   "outputs": [
    {
     "data": {
      "text/plain": [
       "480.0"
      ]
     },
     "execution_count": 14,
     "metadata": {},
     "output_type": "execute_result"
    }
   ],
   "source": [
    "vop.OpenPenalty.quantile(0.81) # 81st percentile"
   ]
  },
  {
   "cell_type": "markdown",
   "metadata": {},
   "source": [
    "Find the ten vehicle makes that received the most citations during 2017. For those top ten, find all Japanese-made vehicles. What proportion of all citations were written for those vehicles? Note that the naming in Make is not consistent over the whole dataset, so you will need to clean the data before calculating your answer. Your answer should be expressed as a decimal number (i.e. 0.42, not 42). "
   ]
  },
  {
   "cell_type": "code",
   "execution_count": 15,
   "metadata": {},
   "outputs": [],
   "source": [
    "tvm = df2.Make.value_counts().sort_values( ascending=False)"
   ]
  },
  {
   "cell_type": "code",
   "execution_count": 16,
   "metadata": {},
   "outputs": [
    {
     "data": {
      "text/plain": [
       "1556"
      ]
     },
     "execution_count": 16,
     "metadata": {},
     "output_type": "execute_result"
    }
   ],
   "source": [
    "len(tvm)"
   ]
  },
  {
   "cell_type": "code",
   "execution_count": 17,
   "metadata": {},
   "outputs": [
    {
     "data": {
      "text/plain": [
       "pandas.core.series.Series"
      ]
     },
     "execution_count": 17,
     "metadata": {},
     "output_type": "execute_result"
    }
   ],
   "source": [
    "type(tvm)"
   ]
  },
  {
   "cell_type": "code",
   "execution_count": 18,
   "metadata": {},
   "outputs": [
    {
     "data": {
      "text/plain": [
       "FORD     312261\n",
       "HONDA    182650\n",
       "TOYOT    174334\n",
       "HOND     148290\n",
       "TOYT     144236\n",
       "          ...  \n",
       "LOADE         1\n",
       "LUF           1\n",
       "VELOS         1\n",
       "C/S 4         1\n",
       "SUPRE         1\n",
       "Name: Make, Length: 1556, dtype: int64"
      ]
     },
     "execution_count": 18,
     "metadata": {},
     "output_type": "execute_result"
    }
   ],
   "source": [
    "tvm"
   ]
  },
  {
   "cell_type": "code",
   "execution_count": 19,
   "metadata": {},
   "outputs": [],
   "source": [
    "df_tvm = pd.DataFrame({'make':tvm.index, 'count':tvm.values})"
   ]
  },
  {
   "cell_type": "code",
   "execution_count": 20,
   "metadata": {},
   "outputs": [
    {
     "data": {
      "text/html": [
       "<div>\n",
       "<style scoped>\n",
       "    .dataframe tbody tr th:only-of-type {\n",
       "        vertical-align: middle;\n",
       "    }\n",
       "\n",
       "    .dataframe tbody tr th {\n",
       "        vertical-align: top;\n",
       "    }\n",
       "\n",
       "    .dataframe thead th {\n",
       "        text-align: right;\n",
       "    }\n",
       "</style>\n",
       "<table border=\"1\" class=\"dataframe\">\n",
       "  <thead>\n",
       "    <tr style=\"text-align: right;\">\n",
       "      <th></th>\n",
       "      <th>make</th>\n",
       "      <th>count</th>\n",
       "    </tr>\n",
       "  </thead>\n",
       "  <tbody>\n",
       "    <tr>\n",
       "      <th>0</th>\n",
       "      <td>FORD</td>\n",
       "      <td>312261</td>\n",
       "    </tr>\n",
       "    <tr>\n",
       "      <th>1</th>\n",
       "      <td>HONDA</td>\n",
       "      <td>182650</td>\n",
       "    </tr>\n",
       "    <tr>\n",
       "      <th>2</th>\n",
       "      <td>TOYOT</td>\n",
       "      <td>174334</td>\n",
       "    </tr>\n",
       "    <tr>\n",
       "      <th>3</th>\n",
       "      <td>HOND</td>\n",
       "      <td>148290</td>\n",
       "    </tr>\n",
       "    <tr>\n",
       "      <th>4</th>\n",
       "      <td>TOYT</td>\n",
       "      <td>144236</td>\n",
       "    </tr>\n",
       "    <tr>\n",
       "      <th>5</th>\n",
       "      <td>CHEV</td>\n",
       "      <td>136644</td>\n",
       "    </tr>\n",
       "    <tr>\n",
       "      <th>6</th>\n",
       "      <td>CHEVR</td>\n",
       "      <td>124635</td>\n",
       "    </tr>\n",
       "    <tr>\n",
       "      <th>7</th>\n",
       "      <td>NISSA</td>\n",
       "      <td>120178</td>\n",
       "    </tr>\n",
       "    <tr>\n",
       "      <th>8</th>\n",
       "      <td>NISS</td>\n",
       "      <td>117307</td>\n",
       "    </tr>\n",
       "    <tr>\n",
       "      <th>9</th>\n",
       "      <td>JEEP</td>\n",
       "      <td>84618</td>\n",
       "    </tr>\n",
       "    <tr>\n",
       "      <th>10</th>\n",
       "      <td>HYUND</td>\n",
       "      <td>67332</td>\n",
       "    </tr>\n",
       "    <tr>\n",
       "      <th>11</th>\n",
       "      <td>DODG</td>\n",
       "      <td>64663</td>\n",
       "    </tr>\n",
       "    <tr>\n",
       "      <th>12</th>\n",
       "      <td>BMW</td>\n",
       "      <td>59920</td>\n",
       "    </tr>\n",
       "    <tr>\n",
       "      <th>13</th>\n",
       "      <td>HYUN</td>\n",
       "      <td>59808</td>\n",
       "    </tr>\n",
       "    <tr>\n",
       "      <th>14</th>\n",
       "      <td>DODGE</td>\n",
       "      <td>57397</td>\n",
       "    </tr>\n",
       "    <tr>\n",
       "      <th>15</th>\n",
       "      <td>ACURA</td>\n",
       "      <td>47947</td>\n",
       "    </tr>\n",
       "    <tr>\n",
       "      <th>16</th>\n",
       "      <td>KIA</td>\n",
       "      <td>46104</td>\n",
       "    </tr>\n",
       "    <tr>\n",
       "      <th>17</th>\n",
       "      <td>VOLKS</td>\n",
       "      <td>45057</td>\n",
       "    </tr>\n",
       "    <tr>\n",
       "      <th>18</th>\n",
       "      <td>ACUR</td>\n",
       "      <td>40536</td>\n",
       "    </tr>\n",
       "    <tr>\n",
       "      <th>19</th>\n",
       "      <td>CHRY</td>\n",
       "      <td>39835</td>\n",
       "    </tr>\n",
       "  </tbody>\n",
       "</table>\n",
       "</div>"
      ],
      "text/plain": [
       "     make   count\n",
       "0    FORD  312261\n",
       "1   HONDA  182650\n",
       "2   TOYOT  174334\n",
       "3    HOND  148290\n",
       "4    TOYT  144236\n",
       "5    CHEV  136644\n",
       "6   CHEVR  124635\n",
       "7   NISSA  120178\n",
       "8    NISS  117307\n",
       "9    JEEP   84618\n",
       "10  HYUND   67332\n",
       "11   DODG   64663\n",
       "12    BMW   59920\n",
       "13   HYUN   59808\n",
       "14  DODGE   57397\n",
       "15  ACURA   47947\n",
       "16    KIA   46104\n",
       "17  VOLKS   45057\n",
       "18   ACUR   40536\n",
       "19   CHRY   39835"
      ]
     },
     "execution_count": 20,
     "metadata": {},
     "output_type": "execute_result"
    }
   ],
   "source": [
    "df_tvm.head(20)"
   ]
  },
  {
   "cell_type": "code",
   "execution_count": 21,
   "metadata": {},
   "outputs": [],
   "source": [
    "c = df_tvm['count'] >= 10\n",
    "df_tvm_one = df_tvm[c]"
   ]
  },
  {
   "cell_type": "code",
   "execution_count": null,
   "metadata": {},
   "outputs": [],
   "source": []
  },
  {
   "cell_type": "code",
   "execution_count": 22,
   "metadata": {},
   "outputs": [
    {
     "data": {
      "text/plain": [
       "array(['#1 &', '//', '0', '00000', '02', '02.', '08', '0BSTR', '0LDS',\n",
       "       '0THER', '1', '10 MI', '10-3', '10/15', '11', '11-2', '11:28',\n",
       "       '12/15', '1522', '19744', '1HR P', '2 HR', '2004', '2008', '2016',\n",
       "       '2017', '2018', '20706', '2HR P', '3-6 N', '3-630', '3-6:3',\n",
       "       '300ZX', '311 C', '311 S', '38306', '38458', '3:00-', '3HR P',\n",
       "       '3PM-6', '4', '4-5:3', '4-6 N', '4-6 P', '4-630', '4-6:3', '4-6PM',\n",
       "       '4-7PM', '4/13', '40908', '415PM', '430PM', '4:00-', '4:15-',\n",
       "       '4:15P', '4:530', '4FORD', '4HYUN', '4PM-6', '4TH W', '5-MO',\n",
       "       '5/15', '5/16', '5/17', '7-10', '7-9 A', '7-9 N', '7-9 P', '7-9 S',\n",
       "       '7-9:3', '7-9AM', '730-1', '730A', '730A-', '766 4', '7:30-',\n",
       "       '7:30A', '7A-9A', '7AM-1', '7AM-9', '8-11C', '8-12', '8/15',\n",
       "       '8/16', '8/17', '800', '80061', '88902', '8A 9A', '8A-11', '9-4 N',\n",
       "       '9/14', '9/18', 'A', 'A2', 'AAU', 'AB', 'ABART', 'ABF', 'ABF-T',\n",
       "       'ABFTR', 'AC', 'ACADE', 'ACCO', 'ACON', 'ACR', 'ACU', 'ACUA',\n",
       "       'ACUR', 'ACURA', 'ACURD', 'ACUT', 'ADJ C', 'ADMIR', 'ADV', 'ADVA',\n",
       "       'AENZ', 'AERO', 'AGUS', 'AHERN', 'AJAX', 'ALERO', 'ALF', 'ALFA',\n",
       "       'ALINE', 'ALLEG', 'ALLIE', 'ALRO', 'ALTE', 'ALTEZ', 'ALTI',\n",
       "       'ALTIM', 'ALTOM', 'ALUMA', 'AMBUL', 'AMC', 'AMC H', 'AMER',\n",
       "       'AMERI', 'AMGN', 'AMIGO', 'ANVIL', 'ANY', 'APPAL', 'APRI', 'APRIL',\n",
       "       'ARAMA', 'AREA', 'ARNOL', 'ARO', 'AROU', 'AROUR', 'ASANT', 'ASHTO',\n",
       "       'ASK C', 'ASM', 'ASTO', 'ASTON', 'AU', 'AUC', 'AUD', 'AUDI',\n",
       "       'AUDIO', 'AUID', 'AUOR', 'AUR', 'AURO', 'AUROR', 'AUTC', 'AUTO',\n",
       "       'AUUR', 'AV', 'AVALO', 'AVAN', 'AVANT', 'AZTEK', 'B0AT', 'B2300',\n",
       "       'B4', 'B6486', 'BACK-', 'BAR B', 'BARB', 'BARTH', 'BAYLI', 'BB',\n",
       "       'BECK', 'BEN', 'BENT', 'BENTL', 'BENZ', 'BIG T', 'BIKE', 'BLBI',\n",
       "       'BLBRD', 'BLKIN', 'BLOC', 'BLOCK', 'BLU', 'BLUB', 'BLUBR', 'BLUE',\n",
       "       'BLUEB', 'BLUET', 'BM', 'BMN', 'BMV', 'BMW', 'BMW (', 'BMW 7',\n",
       "       'BMW.', 'BMX', 'BOAT', 'BOATT', 'BOMBA', 'BOOT', 'BOULE', 'BOUND',\n",
       "       'BOX', 'BOXST', 'BOXTR', 'BOYD', 'BRAM', 'BREN', 'BRI M', 'BRMR',\n",
       "       'BROD', 'BRODY', 'BROKE', 'BRONC', 'BRP', 'BUCI', 'BUCK', 'BUDD',\n",
       "       'BUEL', 'BUELL', 'BUGGY', 'BUI', 'BUIC', 'BUICK', 'BUIK', 'BUIX',\n",
       "       'BUIZ7', 'BULL', 'BULLE', 'BUP', 'BURGM', 'BUS', 'BUS L', 'BUS S',\n",
       "       'BUT', 'BWI', 'BWW', 'C AN', 'C AND', 'C/S 1', 'C/S 2', 'C/S 4',\n",
       "       'C/S 7', 'C/S 8', 'C/S 9', 'C4', 'C4HEV', 'CA4', 'CAB', 'CAD',\n",
       "       'CADI', 'CADIL', 'CADL', 'CADO', 'CAI', 'CAM', 'CAMAR', 'CAMP',\n",
       "       'CAMPE', 'CAMR', 'CAN', 'CAN A', 'CAN C', 'CANA', 'CAPIT', 'CAPRI',\n",
       "       'CAR', 'CAR M', 'CARGO', 'CARM', 'CARMA', 'CARR', 'CARRI', 'CARRY',\n",
       "       'CAY', 'CAYEN', 'CAYM', 'CELIC', 'CENTR', 'CENTU', 'CHAE', 'CHALK',\n",
       "       'CHALL', 'CHAMP', 'CHARG', 'CHE', 'CHE2V', 'CHEET', 'CHER', 'CHEV',\n",
       "       'CHEVR', 'CHEVS', 'CHEVV', 'CHEVY', 'CHLK', 'CHR', 'CHRT', 'CHRY',\n",
       "       'CHRYS', 'CHUA', 'CHVY', 'CHY', 'CHYR', 'CHYRS', 'CIDI', 'CIM',\n",
       "       'CIMC', 'CINTA', 'CITAT', 'CIVI', 'CLAS', 'COACH', 'COBR', 'COCA',\n",
       "       'COLEM', 'COLT', 'COM', 'COM.', 'COM.V', 'COMM', 'COMME', 'COMMV',\n",
       "       'COMPL', 'COMTR', 'CON', 'CONC', 'CONCO', 'CONT', 'CONTL', 'CONTR',\n",
       "       'COOP', 'COOPE', 'COPPE', 'CORBI', 'CORN', 'CORO', 'CORV', 'CORVE',\n",
       "       'COTT', 'COUPE', 'COVET', 'CREIG', 'CROSS', 'CROWN', 'CRYS',\n",
       "       'CTMPL', 'CURR', 'CURRA', 'CUTL', 'CUTLA', 'CYCLE', 'D-TCH',\n",
       "       'DACO', 'DAE', 'DAEW', 'DAEW0', 'DAEWO', 'DAG', 'DAIH', 'DAMON',\n",
       "       'DANE', 'DANZ', 'DART', 'DATS', 'DATSU', 'DAWOO', 'DAYTO', 'DBL P',\n",
       "       'DE', 'DE TR', 'DEACH', 'DEALE', 'DELIV', 'DET T', 'DETAA',\n",
       "       'DETAC', 'DETAI', 'DETAT', 'DETC', 'DETCH', 'DETEA', 'DETRL',\n",
       "       'DEVIL', 'DHL', 'DIAM', 'DIAMO', 'DIPLO', 'DISCO', 'DISP', 'DISPL',\n",
       "       'DIXIE', 'DMW', 'DO', 'DOD', 'DODG', 'DODGE', 'DOGD', 'DOGE',\n",
       "       'DOJ', 'DOON', 'DORO', 'DORSE', 'DOUBL', 'DOWN', 'DRIVE', 'DROVE',\n",
       "       'DSP E', 'DTRL', 'DUCA', 'DUCAT', 'DUMP', 'DUMPE', 'DURA', 'DURAP',\n",
       "       'DUTCH', 'DV113', 'DYNAS', 'EAG', 'EAGE', 'EAGEL', 'EAGL', 'EAGLE',\n",
       "       'EAGR', 'EAS', 'EAST', 'EASTE', 'ECLIP', 'ECONO', 'EES05', 'EGIL',\n",
       "       'ELAN', 'ENTEG', 'ENTER', 'ENVO', 'EQUA', 'EQUUS', 'ERC', 'ESCA',\n",
       "       'ESMC', 'EVERG', 'EXC 2', 'EXCEE', 'EXP', 'EXP 4', 'EXP E',\n",
       "       'EXP M', 'EXP T', 'EXPED', 'EXPIR', 'EXPR', 'EZ', 'EZ DU', 'EZ PA',\n",
       "       'EZDUM', 'EZPAS', 'F', 'F0RD', 'FABRQ', 'FACE', 'FAIT', 'FALCO',\n",
       "       'FARB', 'FBI12', 'FED E', 'FEDE', 'FEDEX', 'FEDX', 'FERR', 'FERRA',\n",
       "       'FEX', 'FF', 'FIA', 'FIAT', 'FIES', 'FISK', 'FIT C', 'FJJ', 'FJR',\n",
       "       'FLAGS', 'FLAT', 'FLATB', 'FLBED', 'FLEE', 'FLEET', 'FLIN', 'FLOR',\n",
       "       'FLTWD', 'FO', 'FOCU', 'FOLD', 'FON', 'FONT', 'FONTA', 'FOODC',\n",
       "       'FOR', 'FOR3', 'FORD', 'FORD1', 'FORD3', 'FOREI', 'FORES', 'FORV',\n",
       "       'FOSTE', 'FOURW', 'FOWI', 'FRD', 'FRE', 'FREE', 'FREI', 'FREIG',\n",
       "       'FREIT', 'FREVO', 'FRGHT', 'FRGLN', 'FRGT', 'FRH', 'FRHT', 'FRIDA',\n",
       "       'FRIE', 'FRIEG', 'FRIEN', 'FRIGH', 'FRL', 'FRONT', 'FRT', 'FRTL',\n",
       "       'FRUE', 'FRUEH', 'FTL', 'FTR', 'FUSI', 'FUSO', 'G D', 'GABB',\n",
       "       'GALAC', 'GALAN', 'GALAX', 'GALBR', 'GAUMM', 'GD', 'GDAN', 'GDT',\n",
       "       'GEM', 'GENE', 'GENER', 'GENES', 'GENIS', 'GENSI', 'GENU', 'GEO',\n",
       "       'GEORG', 'GG', 'GILL', 'GIND', 'GIVI', 'GLADI', 'GM', 'GMAC',\n",
       "       'GMC', 'GMC (', 'GMC S', 'GMC U', 'GMC.', 'GMCL', 'GMT', 'GMV',\n",
       "       'GNC', 'GNESI', 'GO', 'GOCAR', 'GOLD', 'GOLDW', 'GONDA', 'GOSH',\n",
       "       'GRAN', 'GRAND', 'GRAT', 'GRAY', 'GRDA', 'GRDN', 'GREA', 'GREAT',\n",
       "       'GREEN', 'GRIEC', 'GRN', 'GRTD', 'GRTDA', 'GRTDN', 'GRUMA',\n",
       "       'GRUMM', 'GT', 'GTD', 'H.B.', 'H0NDA', 'H3', 'HALE', 'HANA', 'HAR',\n",
       "       'HARD', 'HARI', 'HARL', 'HARLE', 'HARLY', 'HAUI', 'HAULM', 'HD',\n",
       "       'HD.', 'HEAD-', 'HEI', 'HEIL', 'HEN', 'HERC', 'HH', 'HHOND', 'HIN',\n",
       "       'HIND', 'HINO', 'HITC', 'HITCH', 'HMDE', 'HN', 'HND', 'HO',\n",
       "       'HOLID', 'HOLLA', 'HOLRA', 'HOMD', 'HOMDA', 'HOME', 'HOMES', 'HON',\n",
       "       'HONA', 'HOND', 'HONDA', 'HONS', 'HORT', 'HPAMO', 'HR', 'HT',\n",
       "       'HUD', 'HUDSO', 'HUM', 'HUMM', 'HUMM2', 'HUMME', 'HUMMR', 'HUSQ',\n",
       "       'HUSQV', 'HY', 'HYBIR', 'HYD', 'HYN', 'HYND', 'HYTR', 'HYU',\n",
       "       'HYUN', 'HYUN4', 'HYUND', 'Hyund', 'IAME', 'IC', 'IC CO', 'ICBU',\n",
       "       'ICC', 'ICON', 'ICRP', 'IEUZ', 'IMPAL', 'IMPE', 'IMPED', 'IMPER',\n",
       "       'IMPRE', 'IMPRO', 'IN', 'IN3', 'INC', 'INF', 'INFI', 'INFIN',\n",
       "       'INFN', 'INIF', 'INT', 'INTA', 'INTE', 'INTEG', 'INTEL', 'INTEN',\n",
       "       'INTER', 'INTL', 'INTR', 'INTRI', 'INTRN', 'ION', 'ISU', 'ISUS',\n",
       "       'ISUZ', 'ISUZU', 'ISZ', 'ISZU', 'ITAS', 'ITILI', 'IZUZ', 'IZUZU',\n",
       "       'J4', 'J4500', 'JAG', 'JAGR', 'JAGU', 'JAGUA', 'JAMBO', 'JAQ',\n",
       "       'JAQU', 'JAQUA', 'JAQUR', 'JAYCO', 'JE', 'JEDA', 'JEE', 'JEEP',\n",
       "       'JEEPS', 'JENS', 'JEP', 'JEPP', 'JERRD', 'JETT', 'JETTA', 'JH',\n",
       "       'JIFF', 'JIFFY', 'JINDO', 'JLG', 'JMH', 'JMST', 'JOHN', 'JP',\n",
       "       'K T M', 'KABMA', 'KAIT', 'KARI', 'KAUFM', 'KAW', 'KAWA', 'KAWAS',\n",
       "       'KAWI', 'KAWK', 'KEN', 'KENA', 'KENS', 'KENT', 'KENTU', 'KENW',\n",
       "       'KENWO', 'KENWR', 'KFAU', 'KI', 'KIA', 'KIA M', 'KIA.', 'KIA02',\n",
       "       'KIAD', 'KING', 'KOMFO', 'KORD', 'KSAKI', 'KTM', 'KUN', 'KURB',\n",
       "       'KURBM', 'KW', 'KWSKI', 'KYMC', 'KYMCA', 'KYMCO', 'L R', 'L4',\n",
       "       'L4677', 'LA TR', 'LACAR', 'LAMBO', 'LAN', 'LANC', 'LANCE', 'LAND',\n",
       "       'LANDO', 'LANDR', 'LANDS', 'LANR', 'LANRO', 'LARK', 'LARO', 'LARV',\n",
       "       'LATR', 'LAVDI', 'LCON', 'LDRO', 'LDRV', 'LDV', 'LDXU', 'LE',\n",
       "       'LE E', 'LE4', 'LEE', 'LEG', 'LEGAC', 'LEGE', 'LEIK', 'LEONA',\n",
       "       'LESS', 'LEUX', 'LEX', 'LEXI', 'LEXS', 'LEXSU', 'LEXU', 'LEXUS',\n",
       "       'LEXY', 'LEZU', 'LIC', 'LIMO', 'LIN', 'LINC', 'LINC0', 'LINC3',\n",
       "       'LINCE', 'LINCL', 'LINCN', 'LINCO', 'LINK', 'LINVO', 'LLBEL',\n",
       "       'LLLLL', 'LNC', 'LND', 'LNDR', 'LNRV', 'LOADE', 'LOADR', 'LOKI',\n",
       "       'LONE', 'LONG', 'LORI', 'LOTU', 'LOTUS', 'LOWE', 'LR', 'LR.',\n",
       "       'LROVE', 'LTD', 'LUF', 'LULL', 'LXU', 'M B', 'MAC', 'MAC T',\n",
       "       'MACK', 'MADZ', 'MAERS', 'MAGU', 'MAIL', 'MAILC', 'MAILT', 'MAJE',\n",
       "       'MALI', 'MALIB', 'MANAC', 'MARK', 'MARYL', 'MAS', 'MASAR', 'MASE',\n",
       "       'MASER', 'MASRA', 'MASTE', 'MAULM', 'MAX', 'MAXD', 'MAXDA', 'MAXI',\n",
       "       'MAXIN', 'MAXON', 'MAXUM', 'MAYB', 'MAZ', 'MAZA', 'MAZAD', 'MAZD',\n",
       "       'MAZD0', 'MAZD7', 'MAZDA', 'MAZEA', 'MAZY', 'MB', 'MB.', 'MBW',\n",
       "       'MBZ', 'MC', 'MCDNL', 'MCI', 'MCIN', 'MCK', 'MCT', 'MCYCL', 'MD',\n",
       "       'ME', 'ME4', 'MEB', 'MEBZ', 'MEC', 'MECUR', 'MEHAR', 'MER', 'MERB',\n",
       "       'MERC', 'MERCE', 'MERCU', 'MERCY', 'MERG', 'MERK', 'MERKU', 'MERZ',\n",
       "       'MERZ4', 'MERZB', 'METER', 'METR', 'METRO', 'MEZ', 'MEZC', 'MEZR',\n",
       "       'MG', 'MGS', 'MICK', 'MICKE', 'MICOO', 'MID', 'MIDGE', 'MIFU',\n",
       "       'MIN', 'MIN C', 'MINC', 'MINCO', 'MINI', 'MINI(', 'MINI-', 'MINIC',\n",
       "       'MINIV', 'MISSI', 'MIST', 'MIT', 'MITI', 'MITO', 'MITS', 'MITSU',\n",
       "       'MITZ', 'MNI', 'MNIB', 'MNNI', 'MOBIL', 'MON 1', 'MON 7', 'MON 8',\n",
       "       'MON A', 'MON.8', 'MONDA', 'MONN', 'MON\\\\T', 'MOPAD', 'MOPED',\n",
       "       'MORG', 'MOTO', 'MOTOC', 'MOTOR', 'MP', 'MREC', 'MSC', 'MSCU',\n",
       "       'MTS', 'MURRA', 'MUST', 'MUSTA', 'Marke', 'N', 'N PK', 'NABI',\n",
       "       'NABOR', 'NATIO', 'NDMC', 'NECON', 'NEFL', 'NEON', 'NEOP', 'NEW',\n",
       "       'NEW F', 'NEWF', 'NEWH', 'NEWHA', 'NFLY', 'NFUS', 'NI', 'NINO',\n",
       "       'NIS', 'NISA', 'NISN', 'NISS', 'NISS4', 'NISSA', 'NISSN', 'NITS',\n",
       "       'NO #3', 'NO AC', 'NO CA', 'NO EM', 'NO EZ', 'NO P', 'NO PA',\n",
       "       'NO PE', 'NO PK', 'NO PR', 'NO S', 'NO ST', 'NO TA', 'NONE',\n",
       "       'NORTH', 'NOSEC', 'NOT', 'NOT A', 'NOT V', 'NOTHI', 'NSCSA', 'NV',\n",
       "       'NWFL', 'O4', 'OADRI', 'OBSER', 'OBSTR', 'OLD', 'OLDS', 'OLDSM',\n",
       "       'OO', 'OOOOO', 'OPEL', 'ORIO', 'ORV', 'OSHK', 'OSHKO', 'OTH',\n",
       "       'OTH00', 'OTH01', 'OTH02', 'OTH90', 'OTHE', 'OTHEH', 'OTHER',\n",
       "       'OTHR', 'OTHW', 'OTJ', 'OUTBA', 'OUTL', 'OYH', 'OYT', 'PACE',\n",
       "       'PAES', 'PALOM', 'PARK', 'PARKE', 'PARKI', 'PASAT', 'PASS',\n",
       "       'PATRI', 'PB', 'PEACE', 'PENSK', 'PEPSI', 'PERKI', 'PERL', 'PERO',\n",
       "       'PET', 'PETE', 'PETER', 'PEUG', 'PHILB', 'PIAG', 'PICK', 'PICKU',\n",
       "       'PIER', 'PINE', 'PINES', 'PIRC', 'PK BL', 'PK IN', 'PK OF',\n",
       "       'PK RE', 'PKED', 'PLUT', 'PLY', 'PLYM', 'PLYMO', 'POL', 'POLA',\n",
       "       'POLAR', 'PON', 'PONI', 'PONT', 'PONTI', 'POR', 'PORC', 'PORCH',\n",
       "       'PORG', 'PORS', 'PORSC', 'PORSH', 'PORT', 'POSTA', 'POSTE',\n",
       "       'PRELU', 'PREO', 'PREV', 'PREVO', 'PRIUS', 'PRK I', 'PROVI',\n",
       "       'PROW', 'PST B', 'PST C', 'PST N', 'PST P', 'PST T', 'PST W',\n",
       "       'PSTD', 'PTB', 'PTBR', 'PTRB', 'PTRBL', 'PTS', 'QIPA', 'QQ',\n",
       "       'QUEST', 'R ROV', 'RAAIL', 'RAM', 'RAMB', 'RAMS', 'RAN', 'RAND',\n",
       "       'RANDG', 'RANDR', 'RANG', 'RANGE', 'RANGR', 'RANGW', 'RANRO',\n",
       "       'RAV4', 'RED', 'REG', 'REGA', 'REGAL', 'REIT', 'REITN', 'RENA',\n",
       "       'RESER', 'RIV', 'RIVE', 'RIVEA', 'RIVER', 'RIVIE', 'RIVRA',\n",
       "       'RNAGE', 'ROAD', 'RODEO', 'ROL', 'ROLL', 'ROLLS', 'ROMEO', 'RORO',\n",
       "       'ROTAR', 'ROUTE', 'ROV', 'ROVE', 'ROVER', 'ROVR', 'RPS', 'RR',\n",
       "       'RROV', 'RROVE', 'RTRK', 'RV', 'RYDER', 'S/C 1', 'SA', 'SAA',\n",
       "       'SAAB', 'SAB', 'SABB', 'SAT', 'SAT4U', 'SATN', 'SATR', 'SATU',\n",
       "       'SATUN', 'SATUR', 'SC', 'SCAMP', 'SCHA', 'SCHBU', 'SCHOO', 'SCI',\n",
       "       'SCIO', 'SCIOM', 'SCION', 'SCOIN', 'SE', 'SEA R', 'SEACU', 'SEBLI',\n",
       "       'SEBR', 'SECTI', 'SEDA', 'SEDAN', 'SEFO', 'SEMI', 'SENT', 'SERRA',\n",
       "       'SETR', 'SEVIL', 'SHADO', 'SHELB', 'SHORE', 'SIEN', 'SIENN',\n",
       "       'SIGNA', 'SIL', 'SILV', 'SILVE', 'SINGA', 'SION', 'SKT', 'SLIN',\n",
       "       'SLING', 'SMALL', 'SMAR', 'SMART', 'SMRT', 'SOME', 'SONAT',\n",
       "       'SPART', 'SPCO', 'SPHA', 'SPIDE', 'SPINT', 'SPNR', 'SPRI', 'SPRIN',\n",
       "       'SPYDE', 'STALL', 'STAO', 'STAR', 'STARC', 'STEM', 'STEP', 'STER',\n",
       "       'STERL', 'STL', 'STLG', 'STNTE', 'STO', 'STOA', 'STORM', 'STOU',\n",
       "       'STOUG', 'STOV', 'STR', 'STRA', 'STREE', 'STRG', 'STRI', 'STRIC',\n",
       "       'STRN', 'STROU', 'STUD', 'STUDE', 'SU', 'SUB', 'SUBA', 'SUBAR',\n",
       "       'SUBU', 'SUBUR', 'SUK', 'SUKI', 'SUPER', 'SUPR', 'SUPRE', 'SURE-',\n",
       "       'SUSK', 'SUV', 'SUZ', 'SUZI', 'SUZK', 'SUZKI', 'SUZU', 'SUZUI',\n",
       "       'SUZUK', 'SUZX', 'SYSCO', 'T4', 'TACO', 'TAGA', 'TAGS', 'TAHOE',\n",
       "       'TAIZ', 'TALON', 'TAOTA', 'TAXI', 'TE5LR', 'TELSA', 'TEMS', 'TERC',\n",
       "       'TERRA', 'TES', 'TESL', 'TESLA', 'TESLE', 'TESLR', 'TEX', 'TEXAS',\n",
       "       'THIEL', 'THMS', 'THOM', 'THOMA', 'THOR', 'THOS', 'THUND', 'THURS',\n",
       "       'TIBUR', 'TITA', 'TK LO', 'TM', 'TMO', 'TO', 'TODCO', 'TOKIC',\n",
       "       'TOMOS', 'TOP', 'TOP B', 'TOP K', 'TOPHA', 'TORFL', 'TORON',\n",
       "       'TOTY', 'TOUR', 'TOURB', 'TOW', 'TOW T', 'TOWMA', 'TOWN', 'TOY',\n",
       "       'TOYA', 'TOYO', 'TOYOT', 'TOYP', 'TOYT', 'TOYT0', 'TOYTA', 'TOYTD',\n",
       "       'TR', 'TRA', 'TRAC', 'TRACK', 'TRACT', 'TRAI', 'TRAIL', 'TRAIN',\n",
       "       'TRAIT', 'TRAL', 'TRAN', 'TRANS', 'TRASE', 'TRASH', 'TRGB', 'TRIA',\n",
       "       'TRIAL', 'TRIL', 'TRIN', 'TRIP', 'TRIU', 'TRIUM', 'TRK', 'TRL',\n",
       "       'TRL D', 'TRL-', 'TRLM', 'TRLR', 'TRU', 'TRUC', 'TRUCK', 'TRUM',\n",
       "       'TRUNK', 'TSMR', 'TSMR\\\\', 'TUES', 'TUON', 'TURT', 'TUSCA', 'TY',\n",
       "       'TYMC', 'TYPH0', 'TYSON', 'TYT', 'U HAU', 'U/T', 'UBFU', 'UD',\n",
       "       'UD.', 'UD2', 'UDT', 'UDTK', 'UHAUL', 'UMNK', 'UN', 'UNFIN', 'UNI',\n",
       "       'UNIT', 'UNITE', 'UNIVE', 'UNK', 'UNKN', 'UNKN7', 'UNKNO', 'UNKNW',\n",
       "       'UNKWN', 'UNN', 'UPS', 'US', 'US PO', 'USCAR', 'USPS', 'UTI',\n",
       "       'UTIL', 'UTILI', 'UTILM', 'UTILT', 'UTIMA', 'UTIUM', 'UTL', 'UTLI',\n",
       "       'UTLIL', 'V W', 'V0LVO', 'VAHD', 'VAHHO', 'VAHO', 'VAN', 'VAN P',\n",
       "       'VANDU', 'VANG', 'VANGU', 'VANH', 'VANHO', 'VANPO', 'VANTT',\n",
       "       'VCTY', 'VEH I', 'VEHI', 'VEHTR', 'VELOS', 'VENIC', 'VENTU',\n",
       "       'VERA', 'VERUC', 'VESPA', 'VH BL', 'VICTO', 'VILLA', 'VIPER',\n",
       "       'VISIB', 'VLK', 'VLV', 'VLW', 'VNHL', 'VNTC', 'VO', 'VOL', 'VOLC',\n",
       "       'VOLK', 'VOLKS', 'VOLKW', 'VOLO', 'VOLV', 'VOLV4', 'VOLVO', 'VOLW',\n",
       "       'VOV', 'VOVL', 'VOYAG', 'VPG', 'VULCA', 'VV', 'VW', 'VW.', 'WA',\n",
       "       'WAB', 'WABA', 'WABAS', 'WAGON', 'WALK', 'WALKE', 'WANC', 'WANDE',\n",
       "       'WARD', 'WASH', 'WBS', 'WED 1', 'WED 8', 'WEST', 'WESTE', 'WHITE',\n",
       "       'WHITI', 'WHTGM', 'WINDC', 'WINDS', 'WINN', 'WINNE', 'WORK',\n",
       "       'WORKH', 'WORKS', 'WORKT', 'WRANG', 'WRKH', 'WS', 'WSTR', 'XL',\n",
       "       'XTERR', 'XX', 'XXX', 'XXXXX', 'YACH', 'YAM', 'YAMA', 'YAMAH',\n",
       "       'YUKON', 'ZHEJ', 'ZQQ'], dtype=object)"
      ]
     },
     "execution_count": 22,
     "metadata": {},
     "output_type": "execute_result"
    }
   ],
   "source": [
    "import sys\n",
    "import numpy\n",
    "numpy.set_printoptions(threshold=5000)\n",
    "df_tvm.make.sort_values( ascending=True).unique()"
   ]
  },
  {
   "cell_type": "code",
   "execution_count": 23,
   "metadata": {},
   "outputs": [
    {
     "data": {
      "text/plain": [
       "1556"
      ]
     },
     "execution_count": 23,
     "metadata": {},
     "output_type": "execute_result"
    }
   ],
   "source": [
    "len(df_tvm)"
   ]
  },
  {
   "cell_type": "code",
   "execution_count": 24,
   "metadata": {},
   "outputs": [
    {
     "data": {
      "text/plain": [
       "301"
      ]
     },
     "execution_count": 24,
     "metadata": {},
     "output_type": "execute_result"
    }
   ],
   "source": [
    "len(df_tvm_one)"
   ]
  },
  {
   "cell_type": "code",
   "execution_count": 25,
   "metadata": {},
   "outputs": [
    {
     "data": {
      "text/plain": [
       "array(['1HR P', '2HR P', '3-6 N', '3-6:3', '3HR P', '4-6 N', '7-10',\n",
       "       '7-9 N', 'ABART', 'ACU', 'ACUR', 'ACURA', 'ALFA', 'AUD', 'AUDI',\n",
       "       'AUROR', 'AUTC', 'BENT', 'BENTL', 'BENZ', 'BLOCK', 'BLUE', 'BMW',\n",
       "       'BOAT', 'BUI', 'BUIC', 'BUICK', 'BUS', 'CAD', 'CADI', 'CADIL',\n",
       "       'CAR', 'CHALK', 'CHE', 'CHEV', 'CHEVR', 'CHEVY', 'CHR', 'CHRY',\n",
       "       'CHRYS', 'CHYR', 'CIMC', 'COMM', 'COMME', 'COMMV', 'COMPL', 'COOP',\n",
       "       'COOPE', 'DAEW', 'DAEWO', 'DEALE', 'DETAC', 'DETAT', 'DETCH',\n",
       "       'DISP', 'DISPL', 'DOD', 'DODG', 'DODGE', 'DOUBL', 'DUCA', 'DUCAT',\n",
       "       'EAGL', 'EAGLE', 'EGIL', 'EXPIR', 'FAIT', 'FEDEX', 'FERRA', 'FIAT',\n",
       "       'FLAT', 'FLEET', 'FOR', 'FORD', 'FREI', 'FREIG', 'FREIT', 'FRHT',\n",
       "       'FRUEH', 'GENES', 'GEO', 'GMC', 'GOSH', 'GREAT', 'GRUMM', 'HARL',\n",
       "       'HARLE', 'HARLY', 'HAULM', 'HD', 'HEIL', 'HINO', 'HON', 'HOND',\n",
       "       'HONDA', 'HUMM', 'HUMME', 'HYD', 'HYU', 'HYUN', 'HYUND', 'IC',\n",
       "       'INF', 'INFI', 'INFIN', 'INT', 'INTE', 'INTER', 'INTL', 'ISU',\n",
       "       'ISUZ', 'ISUZU', 'ISZU', 'JAG', 'JAGU', 'JAGUA', 'JAQU', 'JEE',\n",
       "       'JEEP', 'JEP', 'JETTA', 'KAWA', 'KAWAS', 'KAWK', 'KENW', 'KENWO',\n",
       "       'KIA', 'KIA M', 'KW', 'L R', 'LAND', 'LANDR', 'LANR', 'LEX',\n",
       "       'LEXS', 'LEXU', 'LEXUS', 'LIN', 'LINC', 'LINCO', 'LND', 'LNDR',\n",
       "       'M B', 'MACK', 'MAIL', 'MASE', 'MASER', 'MAZ', 'MAZA', 'MAZD',\n",
       "       'MAZDA', 'MB', 'MB.', 'MCI', 'MEB', 'MER', 'MERC', 'MERCE',\n",
       "       'MERCU', 'MERZ', 'MEZ', 'MG', 'MIN', 'MINC', 'MINI', 'MINI-',\n",
       "       'MIT', 'MITS', 'MITSU', 'MNNI', 'MOTOR', 'NABI', 'NEFL', 'NEON',\n",
       "       'NEOP', 'NEWF', 'NFLY', 'NFUS', 'NIS', 'NISN', 'NISS', 'NISSA',\n",
       "       'NO EZ', 'NO PA', 'NO PK', 'NO S', 'NO ST', 'NWFL', 'OLD', 'OLDS',\n",
       "       'OLDSM', 'OTH', 'OTHE', 'OTHER', 'OTHR', 'PARK', 'PARKE', 'PASS',\n",
       "       'PETE', 'PETER', 'PLY', 'PLYM', 'PLYMO', 'POLAR', 'PON', 'PONI',\n",
       "       'PONT', 'PONTI', 'POR', 'PORS', 'PORSC', 'POSTE', 'PREVO', 'PTRB',\n",
       "       'R ROV', 'RAM', 'RANG', 'RANGE', 'RANGR', 'RESER', 'RIVER', 'ROV',\n",
       "       'ROVER', 'ROVR', 'RROV', 'RROVE', 'SAA', 'SAAB', 'SAT', 'SATR',\n",
       "       'SATU', 'SATUR', 'SCHOO', 'SCIO', 'SCION', 'SMAR', 'SMART', 'SMRT',\n",
       "       'SPRIN', 'STEP', 'STER', 'STERL', 'STOU', 'STR', 'STRN', 'SUB',\n",
       "       'SUBA', 'SUBAR', 'SUBU', 'SUV', 'SUZ', 'SUZI', 'SUZU', 'SUZUK',\n",
       "       'TAGS', 'TESL', 'TESLA', 'THOM', 'THOMA', 'TO', 'TOY', 'TOYA',\n",
       "       'TOYO', 'TOYOT', 'TOYT', 'TRAC', 'TRACT', 'TRAI', 'TRAIL', 'TRIU',\n",
       "       'TRIUM', 'TRUC', 'TRUCK', 'TSMR', 'UD', 'UHAUL', 'UNK', 'UNKN',\n",
       "       'UNKNO', 'UPS', 'UTILI', 'V W', 'VAN', 'VANHO', 'VLK', 'VLV',\n",
       "       'VOL', 'VOLK', 'VOLKS', 'VOLV', 'VOLVO', 'VPG', 'VW', 'VW.',\n",
       "       'WABA', 'WABAS', 'WEST', 'WESTE', 'WORK', 'YAMA', 'YAMAH'],\n",
       "      dtype=object)"
      ]
     },
     "execution_count": 25,
     "metadata": {},
     "output_type": "execute_result"
    }
   ],
   "source": [
    "df_tvm_one.make.sort_values( ascending=True).unique()"
   ]
  },
  {
   "cell_type": "markdown",
   "metadata": {},
   "source": []
  },
  {
   "cell_type": "code",
   "execution_count": 26,
   "metadata": {},
   "outputs": [],
   "source": [
    "df_tvm['make'].replace(['FORD1','FORD3','4FORD'], 'FORD', inplace = True)\n",
    "df_tvm['make'].replace(['HHOND','HOMD', 'HOMDA', 'HOME', 'HOMES', 'HON', 'HONA', 'HOND', 'HONDA','HONS'], 'HONDA', inplace = True)\n",
    "df_tvm['make'].replace(['TOY','TOYA', 'TOYO', 'TOYOT', 'TOYP', 'TOYT', 'TOYT0', 'TOYTA', 'TOYTD', 'TOTY'], 'TOYOTA', inplace = True)\n",
    "df_tvm['make'].replace(['CHE', 'CHE2V', 'CHEET', 'CHER', 'CHEV','CHEVR', 'CHEVS', 'CHEVV', 'CHEVY'], 'CHEVR', inplace = True)\n",
    "df_tvm['make'].replace(['NIS', 'NISA', 'NISN', 'NISS', 'NISS4', 'NISSA', 'NISSN'], 'NISSAN', inplace = True)\n",
    "df_tvm['make'].replace(['JEE', 'JEEP','JEEPS', 'JENS', 'JEP', 'JEPP'], 'JEEP', inplace = True)\n",
    "df_tvm['make'].replace(['4HYUN','HY', 'HYBIR', 'HYD', 'HYN', 'HYND', 'HYTR', 'HYU','HYUN', 'HYUN4', 'HYUND', 'Hyund'], 'HYUNDAI', inplace = True)\n",
    "df_tvm['make'].replace(['DO', 'DOD', 'DODG', 'DODGE', 'DOGD', 'DOGE','DOJ'], 'DODGE', inplace = True)\n",
    "df_tvm['make'].replace(['DMW','BM', 'BMN', 'BMV', 'BMW', 'BMW (', 'BMW 7','BMW.', 'BMX'], 'BMW', inplace = True)\n",
    "df_tvm['make'].replace(['ACU', 'ACUA','ACUR', 'ACURA', 'ACURD', 'ACUT'], 'ACURA', inplace = True)\n",
    "df_tvm['make'].replace(['KI', 'KIA', 'KIA M', 'KIA.', 'KIA02','KIAD'], 'KIA', inplace = True)\n",
    "df_tvm['make'].replace(['VO', 'VOL', 'VOLC','VOLK', 'VOLKS', 'VOLKW', 'VOLO', 'VOLV', 'VOLV4', 'VOLVO', 'VOLW','VOV', 'VOVL'], 'VOLK', inplace = True)\n",
    "df_tvm['make'].replace(['CHR', 'CHRT', 'CHRY', 'CHRYS','CHYR', 'CHYRS'], 'CHRYS', inplace = True)"
   ]
  },
  {
   "cell_type": "code",
   "execution_count": 27,
   "metadata": {},
   "outputs": [
    {
     "data": {
      "text/html": [
       "<div>\n",
       "<style scoped>\n",
       "    .dataframe tbody tr th:only-of-type {\n",
       "        vertical-align: middle;\n",
       "    }\n",
       "\n",
       "    .dataframe tbody tr th {\n",
       "        vertical-align: top;\n",
       "    }\n",
       "\n",
       "    .dataframe thead th {\n",
       "        text-align: right;\n",
       "    }\n",
       "</style>\n",
       "<table border=\"1\" class=\"dataframe\">\n",
       "  <thead>\n",
       "    <tr style=\"text-align: right;\">\n",
       "      <th></th>\n",
       "      <th>count</th>\n",
       "    </tr>\n",
       "    <tr>\n",
       "      <th>make</th>\n",
       "      <th></th>\n",
       "    </tr>\n",
       "  </thead>\n",
       "  <tbody>\n",
       "    <tr>\n",
       "      <th>#1 &amp;</th>\n",
       "      <td>1</td>\n",
       "    </tr>\n",
       "    <tr>\n",
       "      <th>//</th>\n",
       "      <td>1</td>\n",
       "    </tr>\n",
       "    <tr>\n",
       "      <th>0</th>\n",
       "      <td>1</td>\n",
       "    </tr>\n",
       "  </tbody>\n",
       "</table>\n",
       "</div>"
      ],
      "text/plain": [
       "      count\n",
       "make       \n",
       "#1 &      1\n",
       "//        1\n",
       "0         1"
      ]
     },
     "execution_count": 27,
     "metadata": {},
     "output_type": "execute_result"
    }
   ],
   "source": [
    "df_tvm2 = df_tvm.groupby('make').sum()\n",
    "df_tvm2.head(3)"
   ]
  },
  {
   "cell_type": "code",
   "execution_count": 28,
   "metadata": {},
   "outputs": [],
   "source": [
    "df_tvm2.reset_index(inplace=True)"
   ]
  },
  {
   "cell_type": "code",
   "execution_count": 29,
   "metadata": {},
   "outputs": [
    {
     "data": {
      "text/html": [
       "<div>\n",
       "<style scoped>\n",
       "    .dataframe tbody tr th:only-of-type {\n",
       "        vertical-align: middle;\n",
       "    }\n",
       "\n",
       "    .dataframe tbody tr th {\n",
       "        vertical-align: top;\n",
       "    }\n",
       "\n",
       "    .dataframe thead th {\n",
       "        text-align: right;\n",
       "    }\n",
       "</style>\n",
       "<table border=\"1\" class=\"dataframe\">\n",
       "  <thead>\n",
       "    <tr style=\"text-align: right;\">\n",
       "      <th></th>\n",
       "      <th>make</th>\n",
       "      <th>count</th>\n",
       "    </tr>\n",
       "  </thead>\n",
       "  <tbody>\n",
       "    <tr>\n",
       "      <th>0</th>\n",
       "      <td>#1 &amp;</td>\n",
       "      <td>1</td>\n",
       "    </tr>\n",
       "    <tr>\n",
       "      <th>1</th>\n",
       "      <td>//</td>\n",
       "      <td>1</td>\n",
       "    </tr>\n",
       "    <tr>\n",
       "      <th>2</th>\n",
       "      <td>0</td>\n",
       "      <td>1</td>\n",
       "    </tr>\n",
       "    <tr>\n",
       "      <th>3</th>\n",
       "      <td>00000</td>\n",
       "      <td>2</td>\n",
       "    </tr>\n",
       "    <tr>\n",
       "      <th>4</th>\n",
       "      <td>02</td>\n",
       "      <td>2</td>\n",
       "    </tr>\n",
       "    <tr>\n",
       "      <th>5</th>\n",
       "      <td>02.</td>\n",
       "      <td>1</td>\n",
       "    </tr>\n",
       "    <tr>\n",
       "      <th>6</th>\n",
       "      <td>08</td>\n",
       "      <td>5</td>\n",
       "    </tr>\n",
       "    <tr>\n",
       "      <th>7</th>\n",
       "      <td>0BSTR</td>\n",
       "      <td>1</td>\n",
       "    </tr>\n",
       "    <tr>\n",
       "      <th>8</th>\n",
       "      <td>0LDS</td>\n",
       "      <td>2</td>\n",
       "    </tr>\n",
       "    <tr>\n",
       "      <th>9</th>\n",
       "      <td>0THER</td>\n",
       "      <td>8</td>\n",
       "    </tr>\n",
       "  </tbody>\n",
       "</table>\n",
       "</div>"
      ],
      "text/plain": [
       "    make  count\n",
       "0   #1 &      1\n",
       "1     //      1\n",
       "2      0      1\n",
       "3  00000      2\n",
       "4     02      2\n",
       "5    02.      1\n",
       "6     08      5\n",
       "7  0BSTR      1\n",
       "8   0LDS      2\n",
       "9  0THER      8"
      ]
     },
     "execution_count": 29,
     "metadata": {},
     "output_type": "execute_result"
    }
   ],
   "source": [
    "df_tvm2.head(10)"
   ]
  },
  {
   "cell_type": "code",
   "execution_count": 30,
   "metadata": {},
   "outputs": [],
   "source": [
    "df_tvm2.sort_values(by = ['count'], ascending=False, inplace = True)"
   ]
  },
  {
   "cell_type": "markdown",
   "metadata": {},
   "source": [
    "Top 10 cars are the following after accounting for errors"
   ]
  },
  {
   "cell_type": "code",
   "execution_count": 34,
   "metadata": {},
   "outputs": [
    {
     "data": {
      "text/html": [
       "<div>\n",
       "<style scoped>\n",
       "    .dataframe tbody tr th:only-of-type {\n",
       "        vertical-align: middle;\n",
       "    }\n",
       "\n",
       "    .dataframe tbody tr th {\n",
       "        vertical-align: top;\n",
       "    }\n",
       "\n",
       "    .dataframe thead th {\n",
       "        text-align: right;\n",
       "    }\n",
       "</style>\n",
       "<table border=\"1\" class=\"dataframe\">\n",
       "  <thead>\n",
       "    <tr style=\"text-align: right;\">\n",
       "      <th></th>\n",
       "      <th>make</th>\n",
       "      <th>count</th>\n",
       "    </tr>\n",
       "  </thead>\n",
       "  <tbody>\n",
       "    <tr>\n",
       "      <th>605</th>\n",
       "      <td>HONDA</td>\n",
       "      <td>332141</td>\n",
       "    </tr>\n",
       "    <tr>\n",
       "      <th>1297</th>\n",
       "      <td>TOYOTA</td>\n",
       "      <td>320453</td>\n",
       "    </tr>\n",
       "    <tr>\n",
       "      <th>478</th>\n",
       "      <td>FORD</td>\n",
       "      <td>312264</td>\n",
       "    </tr>\n",
       "    <tr>\n",
       "      <th>287</th>\n",
       "      <td>CHEVR</td>\n",
       "      <td>262002</td>\n",
       "    </tr>\n",
       "    <tr>\n",
       "      <th>950</th>\n",
       "      <td>NISSAN</td>\n",
       "      <td>238276</td>\n",
       "    </tr>\n",
       "    <tr>\n",
       "      <th>619</th>\n",
       "      <td>HYUNDAI</td>\n",
       "      <td>127577</td>\n",
       "    </tr>\n",
       "    <tr>\n",
       "      <th>380</th>\n",
       "      <td>DODGE</td>\n",
       "      <td>122334</td>\n",
       "    </tr>\n",
       "    <tr>\n",
       "      <th>1414</th>\n",
       "      <td>VOLK</td>\n",
       "      <td>105036</td>\n",
       "    </tr>\n",
       "    <tr>\n",
       "      <th>104</th>\n",
       "      <td>ACURA</td>\n",
       "      <td>88742</td>\n",
       "    </tr>\n",
       "    <tr>\n",
       "      <th>678</th>\n",
       "      <td>JEEP</td>\n",
       "      <td>84949</td>\n",
       "    </tr>\n",
       "  </tbody>\n",
       "</table>\n",
       "</div>"
      ],
      "text/plain": [
       "         make   count\n",
       "605     HONDA  332141\n",
       "1297   TOYOTA  320453\n",
       "478      FORD  312264\n",
       "287     CHEVR  262002\n",
       "950    NISSAN  238276\n",
       "619   HYUNDAI  127577\n",
       "380     DODGE  122334\n",
       "1414     VOLK  105036\n",
       "104     ACURA   88742\n",
       "678      JEEP   84949"
      ]
     },
     "execution_count": 34,
     "metadata": {},
     "output_type": "execute_result"
    }
   ],
   "source": [
    "df_tvm2.head(10)"
   ]
  },
  {
   "cell_type": "markdown",
   "metadata": {},
   "source": [
    "Find the ten vehicle makes that received the most citations during 2017. For those top ten, find all Japanese-made vehicles. What proportion of all citations were written for those vehicles? Note that the naming in Make is not consistent over the whole dataset, so you will need to clean the data before calculating your answer. Your answer should be expressed as a decimal number (i.e. 0.42, not 42). "
   ]
  },
  {
   "cell_type": "markdown",
   "metadata": {},
   "source": [
    "Japanese brands among the top 10 cars are HONDA, TOYOTA, NISSAN, ACURA. Thus if we consider ACURA as another car maker instead classifying it as HONDA"
   ]
  },
  {
   "cell_type": "code",
   "execution_count": 35,
   "metadata": {},
   "outputs": [
    {
     "data": {
      "text/html": [
       "<div>\n",
       "<style scoped>\n",
       "    .dataframe tbody tr th:only-of-type {\n",
       "        vertical-align: middle;\n",
       "    }\n",
       "\n",
       "    .dataframe tbody tr th {\n",
       "        vertical-align: top;\n",
       "    }\n",
       "\n",
       "    .dataframe thead th {\n",
       "        text-align: right;\n",
       "    }\n",
       "</style>\n",
       "<table border=\"1\" class=\"dataframe\">\n",
       "  <thead>\n",
       "    <tr style=\"text-align: right;\">\n",
       "      <th></th>\n",
       "      <th>make</th>\n",
       "      <th>count</th>\n",
       "    </tr>\n",
       "  </thead>\n",
       "  <tbody>\n",
       "    <tr>\n",
       "      <th>605</th>\n",
       "      <td>HONDA</td>\n",
       "      <td>332141</td>\n",
       "    </tr>\n",
       "    <tr>\n",
       "      <th>1297</th>\n",
       "      <td>TOYOTA</td>\n",
       "      <td>320453</td>\n",
       "    </tr>\n",
       "    <tr>\n",
       "      <th>950</th>\n",
       "      <td>NISSAN</td>\n",
       "      <td>238276</td>\n",
       "    </tr>\n",
       "    <tr>\n",
       "      <th>104</th>\n",
       "      <td>ACURA</td>\n",
       "      <td>88742</td>\n",
       "    </tr>\n",
       "  </tbody>\n",
       "</table>\n",
       "</div>"
      ],
      "text/plain": [
       "        make   count\n",
       "605    HONDA  332141\n",
       "1297  TOYOTA  320453\n",
       "950   NISSAN  238276\n",
       "104    ACURA   88742"
      ]
     },
     "execution_count": 35,
     "metadata": {},
     "output_type": "execute_result"
    }
   ],
   "source": [
    "array = ['HONDA', 'TOYOTA', 'NISSAN','ACURA']\n",
    "df_tvm4 = df_tvm2.loc[df_tvm2['make'].isin(array)]\n",
    "df_tvm4"
   ]
  },
  {
   "cell_type": "markdown",
   "metadata": {},
   "source": [
    "proportion of citations"
   ]
  },
  {
   "cell_type": "code",
   "execution_count": 37,
   "metadata": {},
   "outputs": [
    {
     "data": {
      "text/plain": [
       "0.34487126454181727"
      ]
     },
     "execution_count": 37,
     "metadata": {},
     "output_type": "execute_result"
    }
   ],
   "source": [
    "df_tvm4['count'].sum() / df2.Citation.count()"
   ]
  },
  {
   "cell_type": "markdown",
   "metadata": {},
   "source": [
    "To answer this last question, you will need to download another dataset: The Baltimore Police Department Victim Based Crime Dataset. (CSV file is available here.) First, determine how many instances of auto theft ocurred in each police district during 2015. Next, determine the number of parking citations that were issued in each police district during the same year. Finally, determine the ratio of auto thefts to parking citations for each district. Out of the nine police districts, what was the highest ratio?"
   ]
  },
  {
   "cell_type": "markdown",
   "metadata": {},
   "source": [
    "Get the data"
   ]
  },
  {
   "cell_type": "code",
   "execution_count": 131,
   "metadata": {},
   "outputs": [],
   "source": [
    "import wget\n",
    "filename2 = wget.download('https://data.baltimorecity.gov/api/views/wsfq-mvij/rows.csv')"
   ]
  },
  {
   "cell_type": "code",
   "execution_count": null,
   "metadata": {},
   "outputs": [],
   "source": [
    "https://data.baltimorecity.gov/api/views/wsfq-mvij/rows.csv"
   ]
  },
  {
   "cell_type": "code",
   "execution_count": 134,
   "metadata": {},
   "outputs": [],
   "source": [
    "bc = pd.read_csv('BPD_Part_1_Victim_Based_Crime_Data.csv')"
   ]
  },
  {
   "cell_type": "code",
   "execution_count": 135,
   "metadata": {},
   "outputs": [
    {
     "data": {
      "text/html": [
       "<div>\n",
       "<style scoped>\n",
       "    .dataframe tbody tr th:only-of-type {\n",
       "        vertical-align: middle;\n",
       "    }\n",
       "\n",
       "    .dataframe tbody tr th {\n",
       "        vertical-align: top;\n",
       "    }\n",
       "\n",
       "    .dataframe thead th {\n",
       "        text-align: right;\n",
       "    }\n",
       "</style>\n",
       "<table border=\"1\" class=\"dataframe\">\n",
       "  <thead>\n",
       "    <tr style=\"text-align: right;\">\n",
       "      <th></th>\n",
       "      <th>CrimeDate</th>\n",
       "      <th>CrimeTime</th>\n",
       "      <th>CrimeCode</th>\n",
       "      <th>Location</th>\n",
       "      <th>Description</th>\n",
       "      <th>Inside/Outside</th>\n",
       "      <th>Weapon</th>\n",
       "      <th>Post</th>\n",
       "      <th>District</th>\n",
       "      <th>Neighborhood</th>\n",
       "      <th>Longitude</th>\n",
       "      <th>Latitude</th>\n",
       "      <th>Location 1</th>\n",
       "      <th>Premise</th>\n",
       "      <th>vri_name1</th>\n",
       "      <th>Total Incidents</th>\n",
       "    </tr>\n",
       "  </thead>\n",
       "  <tbody>\n",
       "    <tr>\n",
       "      <th>0</th>\n",
       "      <td>07/20/2019</td>\n",
       "      <td>00:12:00</td>\n",
       "      <td>4A</td>\n",
       "      <td>1800 ORLEANS ST</td>\n",
       "      <td>AGG. ASSAULT</td>\n",
       "      <td>O</td>\n",
       "      <td>FIREARM</td>\n",
       "      <td>321.0</td>\n",
       "      <td>EASTERN</td>\n",
       "      <td>DUNBAR</td>\n",
       "      <td>-76.591305</td>\n",
       "      <td>39.295327</td>\n",
       "      <td>NaN</td>\n",
       "      <td>STREET</td>\n",
       "      <td>NaN</td>\n",
       "      <td>1</td>\n",
       "    </tr>\n",
       "    <tr>\n",
       "      <th>1</th>\n",
       "      <td>07/20/2019</td>\n",
       "      <td>02:00:00</td>\n",
       "      <td>3AF</td>\n",
       "      <td>700 N LINWOOD AVE</td>\n",
       "      <td>ROBBERY - STREET</td>\n",
       "      <td>O</td>\n",
       "      <td>FIREARM</td>\n",
       "      <td>323.0</td>\n",
       "      <td>EASTERN</td>\n",
       "      <td>MADISON EASTEND</td>\n",
       "      <td>-76.576691</td>\n",
       "      <td>39.299120</td>\n",
       "      <td>NaN</td>\n",
       "      <td>STREET</td>\n",
       "      <td>NaN</td>\n",
       "      <td>1</td>\n",
       "    </tr>\n",
       "    <tr>\n",
       "      <th>2</th>\n",
       "      <td>07/20/2019</td>\n",
       "      <td>23:33:00</td>\n",
       "      <td>5A</td>\n",
       "      <td>3100 BARCLAY ST</td>\n",
       "      <td>BURGLARY</td>\n",
       "      <td>I</td>\n",
       "      <td>NaN</td>\n",
       "      <td>513.0</td>\n",
       "      <td>NORTHERN</td>\n",
       "      <td>ABELL</td>\n",
       "      <td>-76.611089</td>\n",
       "      <td>39.326153</td>\n",
       "      <td>NaN</td>\n",
       "      <td>ROW/TOWNHOUSE-OCC</td>\n",
       "      <td>NaN</td>\n",
       "      <td>1</td>\n",
       "    </tr>\n",
       "  </tbody>\n",
       "</table>\n",
       "</div>"
      ],
      "text/plain": [
       "    CrimeDate CrimeTime CrimeCode           Location       Description  \\\n",
       "0  07/20/2019  00:12:00        4A    1800 ORLEANS ST      AGG. ASSAULT   \n",
       "1  07/20/2019  02:00:00       3AF  700 N LINWOOD AVE  ROBBERY - STREET   \n",
       "2  07/20/2019  23:33:00        5A    3100 BARCLAY ST          BURGLARY   \n",
       "\n",
       "  Inside/Outside   Weapon   Post  District     Neighborhood  Longitude  \\\n",
       "0              O  FIREARM  321.0   EASTERN           DUNBAR -76.591305   \n",
       "1              O  FIREARM  323.0   EASTERN  MADISON EASTEND -76.576691   \n",
       "2              I      NaN  513.0  NORTHERN            ABELL -76.611089   \n",
       "\n",
       "    Latitude  Location 1            Premise vri_name1  Total Incidents  \n",
       "0  39.295327         NaN             STREET       NaN                1  \n",
       "1  39.299120         NaN             STREET       NaN                1  \n",
       "2  39.326153         NaN  ROW/TOWNHOUSE-OCC       NaN                1  "
      ]
     },
     "execution_count": 135,
     "metadata": {},
     "output_type": "execute_result"
    }
   ],
   "source": [
    "bc.head(3)"
   ]
  },
  {
   "cell_type": "code",
   "execution_count": 136,
   "metadata": {},
   "outputs": [
    {
     "data": {
      "text/plain": [
       "Index(['CrimeDate', 'CrimeTime', 'CrimeCode', 'Location', 'Description',\n",
       "       'Inside/Outside', 'Weapon', 'Post', 'District', 'Neighborhood',\n",
       "       'Longitude', 'Latitude', 'Location 1', 'Premise', 'vri_name1',\n",
       "       'Total Incidents'],\n",
       "      dtype='object')"
      ]
     },
     "execution_count": 136,
     "metadata": {},
     "output_type": "execute_result"
    }
   ],
   "source": [
    "bc.columns"
   ]
  },
  {
   "cell_type": "markdown",
   "metadata": {},
   "source": [
    "First, determine how many instances of auto theft ocurred in each police district during 2015. "
   ]
  },
  {
   "cell_type": "markdown",
   "metadata": {},
   "source": [
    "Filter examples for 2015"
   ]
  },
  {
   "cell_type": "code",
   "execution_count": 138,
   "metadata": {},
   "outputs": [],
   "source": [
    "bc['Date'] = pd.to_datetime(bc['CrimeDate'])"
   ]
  },
  {
   "cell_type": "code",
   "execution_count": 144,
   "metadata": {},
   "outputs": [],
   "source": [
    "bc2 = bc[(bc['Date'] > '2014-12-31') & (bc['Date'] < '2016-01-01')]"
   ]
  },
  {
   "cell_type": "code",
   "execution_count": 146,
   "metadata": {},
   "outputs": [
    {
     "data": {
      "text/plain": [
       "48193"
      ]
     },
     "execution_count": 146,
     "metadata": {},
     "output_type": "execute_result"
    }
   ],
   "source": [
    "len(bc2)"
   ]
  },
  {
   "cell_type": "code",
   "execution_count": 148,
   "metadata": {},
   "outputs": [
    {
     "data": {
      "text/html": [
       "<div>\n",
       "<style scoped>\n",
       "    .dataframe tbody tr th:only-of-type {\n",
       "        vertical-align: middle;\n",
       "    }\n",
       "\n",
       "    .dataframe tbody tr th {\n",
       "        vertical-align: top;\n",
       "    }\n",
       "\n",
       "    .dataframe thead th {\n",
       "        text-align: right;\n",
       "    }\n",
       "</style>\n",
       "<table border=\"1\" class=\"dataframe\">\n",
       "  <thead>\n",
       "    <tr style=\"text-align: right;\">\n",
       "      <th></th>\n",
       "      <th>CrimeDate</th>\n",
       "      <th>CrimeTime</th>\n",
       "      <th>CrimeCode</th>\n",
       "      <th>Location</th>\n",
       "      <th>Description</th>\n",
       "      <th>Inside/Outside</th>\n",
       "      <th>Weapon</th>\n",
       "      <th>Post</th>\n",
       "      <th>District</th>\n",
       "      <th>Neighborhood</th>\n",
       "      <th>Longitude</th>\n",
       "      <th>Latitude</th>\n",
       "      <th>Location 1</th>\n",
       "      <th>Premise</th>\n",
       "      <th>vri_name1</th>\n",
       "      <th>Total Incidents</th>\n",
       "      <th>Date</th>\n",
       "    </tr>\n",
       "  </thead>\n",
       "  <tbody>\n",
       "    <tr>\n",
       "      <th>221746</th>\n",
       "      <td>01/01/2015</td>\n",
       "      <td>00:01:00</td>\n",
       "      <td>6J</td>\n",
       "      <td>1100 GORSUCH AVE</td>\n",
       "      <td>LARCENY</td>\n",
       "      <td>I</td>\n",
       "      <td>NaN</td>\n",
       "      <td>513.0</td>\n",
       "      <td>NORTHERN</td>\n",
       "      <td>EDNOR GARDENS-LAKESI</td>\n",
       "      <td>-76.601624</td>\n",
       "      <td>39.325289</td>\n",
       "      <td>NaN</td>\n",
       "      <td>RELIGIOUS  INSTITUTI</td>\n",
       "      <td>NaN</td>\n",
       "      <td>1</td>\n",
       "      <td>2015-01-01</td>\n",
       "    </tr>\n",
       "    <tr>\n",
       "      <th>221747</th>\n",
       "      <td>01/01/2015</td>\n",
       "      <td>00:01:00</td>\n",
       "      <td>6E</td>\n",
       "      <td>2000 BELAIR RD</td>\n",
       "      <td>LARCENY</td>\n",
       "      <td>O</td>\n",
       "      <td>NaN</td>\n",
       "      <td>431.0</td>\n",
       "      <td>NORTHEAST</td>\n",
       "      <td>CLIFTON PARK</td>\n",
       "      <td>-76.581983</td>\n",
       "      <td>39.314425</td>\n",
       "      <td>NaN</td>\n",
       "      <td>STREET</td>\n",
       "      <td>NaN</td>\n",
       "      <td>1</td>\n",
       "      <td>2015-01-01</td>\n",
       "    </tr>\n",
       "    <tr>\n",
       "      <th>221748</th>\n",
       "      <td>01/01/2015</td>\n",
       "      <td>16:00:00</td>\n",
       "      <td>6G</td>\n",
       "      <td>1700 N PULASKI ST</td>\n",
       "      <td>LARCENY</td>\n",
       "      <td>I</td>\n",
       "      <td>NaN</td>\n",
       "      <td>741.0</td>\n",
       "      <td>WESTERN</td>\n",
       "      <td>EASTERWOOD</td>\n",
       "      <td>-76.651177</td>\n",
       "      <td>39.308116</td>\n",
       "      <td>NaN</td>\n",
       "      <td>ROW/TOWNHOUSE-OCC</td>\n",
       "      <td>Western</td>\n",
       "      <td>1</td>\n",
       "      <td>2015-01-01</td>\n",
       "    </tr>\n",
       "    <tr>\n",
       "      <th>221749</th>\n",
       "      <td>01/01/2015</td>\n",
       "      <td>10:54:00</td>\n",
       "      <td>3K</td>\n",
       "      <td>400 WATTY CT</td>\n",
       "      <td>ROBBERY - RESIDENCE</td>\n",
       "      <td>I</td>\n",
       "      <td>NaN</td>\n",
       "      <td>123.0</td>\n",
       "      <td>CENTRAL</td>\n",
       "      <td>UPTON</td>\n",
       "      <td>-76.625738</td>\n",
       "      <td>39.301355</td>\n",
       "      <td>NaN</td>\n",
       "      <td>ROW/TOWNHOUSE-OCC</td>\n",
       "      <td>NaN</td>\n",
       "      <td>1</td>\n",
       "      <td>2015-01-01</td>\n",
       "    </tr>\n",
       "    <tr>\n",
       "      <th>221750</th>\n",
       "      <td>01/01/2015</td>\n",
       "      <td>01:01:00</td>\n",
       "      <td>5A</td>\n",
       "      <td>4400 FREDERICK AVE</td>\n",
       "      <td>BURGLARY</td>\n",
       "      <td>I</td>\n",
       "      <td>NaN</td>\n",
       "      <td>822.0</td>\n",
       "      <td>SOUTHWEST</td>\n",
       "      <td>IRVINGTON</td>\n",
       "      <td>-76.689021</td>\n",
       "      <td>39.281611</td>\n",
       "      <td>NaN</td>\n",
       "      <td>ROW/TOWNHOUSE-OCC</td>\n",
       "      <td>NaN</td>\n",
       "      <td>1</td>\n",
       "      <td>2015-01-01</td>\n",
       "    </tr>\n",
       "    <tr>\n",
       "      <th>221751</th>\n",
       "      <td>01/01/2015</td>\n",
       "      <td>03:20:00</td>\n",
       "      <td>4A</td>\n",
       "      <td>1500 E COLD SPRING LA</td>\n",
       "      <td>AGG. ASSAULT</td>\n",
       "      <td>I</td>\n",
       "      <td>FIREARM</td>\n",
       "      <td>412.0</td>\n",
       "      <td>NORTHEAST</td>\n",
       "      <td>STONEWOOD-PENTWOOD-W</td>\n",
       "      <td>-76.589977</td>\n",
       "      <td>39.345720</td>\n",
       "      <td>NaN</td>\n",
       "      <td>OTHER - INSIDE</td>\n",
       "      <td>NaN</td>\n",
       "      <td>1</td>\n",
       "      <td>2015-01-01</td>\n",
       "    </tr>\n",
       "    <tr>\n",
       "      <th>221752</th>\n",
       "      <td>01/01/2015</td>\n",
       "      <td>00:00:00</td>\n",
       "      <td>4E</td>\n",
       "      <td>5700 HAZELWOOD CR</td>\n",
       "      <td>COMMON ASSAULT</td>\n",
       "      <td>I</td>\n",
       "      <td>NaN</td>\n",
       "      <td>444.0</td>\n",
       "      <td>NORTHEAST</td>\n",
       "      <td>FRANKFORD</td>\n",
       "      <td>-76.530992</td>\n",
       "      <td>39.340516</td>\n",
       "      <td>NaN</td>\n",
       "      <td>ROW/TOWNHOUSE-OCC</td>\n",
       "      <td>NaN</td>\n",
       "      <td>1</td>\n",
       "      <td>2015-01-01</td>\n",
       "    </tr>\n",
       "    <tr>\n",
       "      <th>221753</th>\n",
       "      <td>01/01/2015</td>\n",
       "      <td>01:01:00</td>\n",
       "      <td>5A</td>\n",
       "      <td>3100 ELLERSLIE AVE</td>\n",
       "      <td>BURGLARY</td>\n",
       "      <td>I</td>\n",
       "      <td>NaN</td>\n",
       "      <td>513.0</td>\n",
       "      <td>NORTHERN</td>\n",
       "      <td>BETTER WAVERLY</td>\n",
       "      <td>-76.604907</td>\n",
       "      <td>39.325466</td>\n",
       "      <td>NaN</td>\n",
       "      <td>ROW/TOWNHOUSE-OCC</td>\n",
       "      <td>NaN</td>\n",
       "      <td>1</td>\n",
       "      <td>2015-01-01</td>\n",
       "    </tr>\n",
       "    <tr>\n",
       "      <th>221754</th>\n",
       "      <td>01/01/2015</td>\n",
       "      <td>11:30:00</td>\n",
       "      <td>5E</td>\n",
       "      <td>1400 E FAYETTE ST</td>\n",
       "      <td>BURGLARY</td>\n",
       "      <td>I</td>\n",
       "      <td>NaN</td>\n",
       "      <td>212.0</td>\n",
       "      <td>SOUTHEAST</td>\n",
       "      <td>WASHINGTON HILL</td>\n",
       "      <td>-76.598746</td>\n",
       "      <td>39.292710</td>\n",
       "      <td>NaN</td>\n",
       "      <td>OTHER - INSIDE</td>\n",
       "      <td>NaN</td>\n",
       "      <td>1</td>\n",
       "      <td>2015-01-01</td>\n",
       "    </tr>\n",
       "    <tr>\n",
       "      <th>221755</th>\n",
       "      <td>01/01/2015</td>\n",
       "      <td>00:01:00</td>\n",
       "      <td>6E</td>\n",
       "      <td>1300 E CHASE ST</td>\n",
       "      <td>LARCENY</td>\n",
       "      <td>O</td>\n",
       "      <td>NaN</td>\n",
       "      <td>313.0</td>\n",
       "      <td>EASTERN</td>\n",
       "      <td>JOHNSTON SQUARE</td>\n",
       "      <td>-76.600315</td>\n",
       "      <td>39.303029</td>\n",
       "      <td>NaN</td>\n",
       "      <td>STREET</td>\n",
       "      <td>NaN</td>\n",
       "      <td>1</td>\n",
       "      <td>2015-01-01</td>\n",
       "    </tr>\n",
       "    <tr>\n",
       "      <th>221756</th>\n",
       "      <td>01/01/2015</td>\n",
       "      <td>23:00:00</td>\n",
       "      <td>6J</td>\n",
       "      <td>1000 PARKSLEY AV</td>\n",
       "      <td>LARCENY</td>\n",
       "      <td>O</td>\n",
       "      <td>NaN</td>\n",
       "      <td>832.0</td>\n",
       "      <td>SOUTHWEST</td>\n",
       "      <td>MORRELL PARK</td>\n",
       "      <td>-76.663360</td>\n",
       "      <td>39.273563</td>\n",
       "      <td>NaN</td>\n",
       "      <td>STREET</td>\n",
       "      <td>NaN</td>\n",
       "      <td>1</td>\n",
       "      <td>2015-01-01</td>\n",
       "    </tr>\n",
       "    <tr>\n",
       "      <th>221757</th>\n",
       "      <td>01/01/2015</td>\n",
       "      <td>02:15:00</td>\n",
       "      <td>4C</td>\n",
       "      <td>1600 CYPRESS ST</td>\n",
       "      <td>AGG. ASSAULT</td>\n",
       "      <td>O</td>\n",
       "      <td>OTHER</td>\n",
       "      <td>911.0</td>\n",
       "      <td>SOUTHERN</td>\n",
       "      <td>CURTIS BAY</td>\n",
       "      <td>-76.588293</td>\n",
       "      <td>39.223770</td>\n",
       "      <td>NaN</td>\n",
       "      <td>STREET</td>\n",
       "      <td>NaN</td>\n",
       "      <td>1</td>\n",
       "      <td>2015-01-01</td>\n",
       "    </tr>\n",
       "    <tr>\n",
       "      <th>221758</th>\n",
       "      <td>01/01/2015</td>\n",
       "      <td>01:01:00</td>\n",
       "      <td>3B</td>\n",
       "      <td>600 MELVILLE AVE</td>\n",
       "      <td>ROBBERY - STREET</td>\n",
       "      <td>O</td>\n",
       "      <td>NaN</td>\n",
       "      <td>543.0</td>\n",
       "      <td>NORTHERN</td>\n",
       "      <td>WAVERLY</td>\n",
       "      <td>-76.607338</td>\n",
       "      <td>39.331658</td>\n",
       "      <td>NaN</td>\n",
       "      <td>STREET</td>\n",
       "      <td>NaN</td>\n",
       "      <td>1</td>\n",
       "      <td>2015-01-01</td>\n",
       "    </tr>\n",
       "    <tr>\n",
       "      <th>221759</th>\n",
       "      <td>01/01/2015</td>\n",
       "      <td>03:15:00</td>\n",
       "      <td>6J</td>\n",
       "      <td>1900 N CHARLES ST</td>\n",
       "      <td>LARCENY</td>\n",
       "      <td>NaN</td>\n",
       "      <td>NaN</td>\n",
       "      <td>141.0</td>\n",
       "      <td>CENTRAL</td>\n",
       "      <td>CHARLES NORTH</td>\n",
       "      <td>-76.616613</td>\n",
       "      <td>39.311414</td>\n",
       "      <td>NaN</td>\n",
       "      <td>NaN</td>\n",
       "      <td>NaN</td>\n",
       "      <td>1</td>\n",
       "      <td>2015-01-01</td>\n",
       "    </tr>\n",
       "    <tr>\n",
       "      <th>221760</th>\n",
       "      <td>01/01/2015</td>\n",
       "      <td>20:15:00</td>\n",
       "      <td>5B</td>\n",
       "      <td>0 N EAST AV</td>\n",
       "      <td>BURGLARY</td>\n",
       "      <td>I</td>\n",
       "      <td>NaN</td>\n",
       "      <td>222.0</td>\n",
       "      <td>SOUTHEAST</td>\n",
       "      <td>BALTIMORE-LINWOOD</td>\n",
       "      <td>-76.572450</td>\n",
       "      <td>39.293114</td>\n",
       "      <td>NaN</td>\n",
       "      <td>ROW/TOWNHOUSE-OCC</td>\n",
       "      <td>NaN</td>\n",
       "      <td>1</td>\n",
       "      <td>2015-01-01</td>\n",
       "    </tr>\n",
       "    <tr>\n",
       "      <th>221761</th>\n",
       "      <td>01/01/2015</td>\n",
       "      <td>18:00:00</td>\n",
       "      <td>7A</td>\n",
       "      <td>2500 W FAYETTE ST</td>\n",
       "      <td>AUTO THEFT</td>\n",
       "      <td>I</td>\n",
       "      <td>NaN</td>\n",
       "      <td>842.0</td>\n",
       "      <td>SOUTHWEST</td>\n",
       "      <td>SHIPLEY HILL</td>\n",
       "      <td>-76.657912</td>\n",
       "      <td>39.288846</td>\n",
       "      <td>NaN</td>\n",
       "      <td>ROW/TOWNHOUSE-OCC</td>\n",
       "      <td>NaN</td>\n",
       "      <td>1</td>\n",
       "      <td>2015-01-01</td>\n",
       "    </tr>\n",
       "    <tr>\n",
       "      <th>221762</th>\n",
       "      <td>01/01/2015</td>\n",
       "      <td>01:30:00</td>\n",
       "      <td>5E</td>\n",
       "      <td>6500 FRANKFORD AV</td>\n",
       "      <td>BURGLARY</td>\n",
       "      <td>I</td>\n",
       "      <td>NaN</td>\n",
       "      <td>441.0</td>\n",
       "      <td>NORTHEAST</td>\n",
       "      <td>PULASKI INDUSTRIAL AREA</td>\n",
       "      <td>-76.540652</td>\n",
       "      <td>39.313857</td>\n",
       "      <td>NaN</td>\n",
       "      <td>HOTEL/MOTEL</td>\n",
       "      <td>NaN</td>\n",
       "      <td>1</td>\n",
       "      <td>2015-01-01</td>\n",
       "    </tr>\n",
       "    <tr>\n",
       "      <th>221763</th>\n",
       "      <td>01/01/2015</td>\n",
       "      <td>23:18:00</td>\n",
       "      <td>4E</td>\n",
       "      <td>1700 N BROADWAY</td>\n",
       "      <td>COMMON ASSAULT</td>\n",
       "      <td>I</td>\n",
       "      <td>NaN</td>\n",
       "      <td>331.0</td>\n",
       "      <td>EASTERN</td>\n",
       "      <td>BROADWAY EAST</td>\n",
       "      <td>-76.594821</td>\n",
       "      <td>39.309842</td>\n",
       "      <td>NaN</td>\n",
       "      <td>ROW/TOWNHOUSE-OCC</td>\n",
       "      <td>Eastern 1</td>\n",
       "      <td>1</td>\n",
       "      <td>2015-01-01</td>\n",
       "    </tr>\n",
       "    <tr>\n",
       "      <th>221764</th>\n",
       "      <td>01/01/2015</td>\n",
       "      <td>21:00:00</td>\n",
       "      <td>7C</td>\n",
       "      <td>300 S CONKLING ST</td>\n",
       "      <td>AUTO THEFT</td>\n",
       "      <td>O</td>\n",
       "      <td>NaN</td>\n",
       "      <td>231.0</td>\n",
       "      <td>SOUTHEAST</td>\n",
       "      <td>HUDSON-HIGHLANDTOWN</td>\n",
       "      <td>-76.567315</td>\n",
       "      <td>39.288539</td>\n",
       "      <td>NaN</td>\n",
       "      <td>STREET</td>\n",
       "      <td>NaN</td>\n",
       "      <td>1</td>\n",
       "      <td>2015-01-01</td>\n",
       "    </tr>\n",
       "    <tr>\n",
       "      <th>221765</th>\n",
       "      <td>01/01/2015</td>\n",
       "      <td>10:00:00</td>\n",
       "      <td>6G</td>\n",
       "      <td>2700 KINSEY AVE</td>\n",
       "      <td>LARCENY</td>\n",
       "      <td>I</td>\n",
       "      <td>NaN</td>\n",
       "      <td>842.0</td>\n",
       "      <td>SOUTHWEST</td>\n",
       "      <td>SHIPLEY HILL</td>\n",
       "      <td>-76.659854</td>\n",
       "      <td>39.287775</td>\n",
       "      <td>NaN</td>\n",
       "      <td>ROW/TOWNHOUSE-OCC</td>\n",
       "      <td>NaN</td>\n",
       "      <td>1</td>\n",
       "      <td>2015-01-01</td>\n",
       "    </tr>\n",
       "  </tbody>\n",
       "</table>\n",
       "</div>"
      ],
      "text/plain": [
       "         CrimeDate CrimeTime CrimeCode               Location  \\\n",
       "221746  01/01/2015  00:01:00        6J       1100 GORSUCH AVE   \n",
       "221747  01/01/2015  00:01:00        6E         2000 BELAIR RD   \n",
       "221748  01/01/2015  16:00:00        6G      1700 N PULASKI ST   \n",
       "221749  01/01/2015  10:54:00        3K           400 WATTY CT   \n",
       "221750  01/01/2015  01:01:00        5A     4400 FREDERICK AVE   \n",
       "221751  01/01/2015  03:20:00        4A  1500 E COLD SPRING LA   \n",
       "221752  01/01/2015  00:00:00        4E      5700 HAZELWOOD CR   \n",
       "221753  01/01/2015  01:01:00        5A     3100 ELLERSLIE AVE   \n",
       "221754  01/01/2015  11:30:00        5E      1400 E FAYETTE ST   \n",
       "221755  01/01/2015  00:01:00        6E        1300 E CHASE ST   \n",
       "221756  01/01/2015  23:00:00        6J       1000 PARKSLEY AV   \n",
       "221757  01/01/2015  02:15:00        4C        1600 CYPRESS ST   \n",
       "221758  01/01/2015  01:01:00        3B       600 MELVILLE AVE   \n",
       "221759  01/01/2015  03:15:00        6J      1900 N CHARLES ST   \n",
       "221760  01/01/2015  20:15:00        5B            0 N EAST AV   \n",
       "221761  01/01/2015  18:00:00        7A      2500 W FAYETTE ST   \n",
       "221762  01/01/2015  01:30:00        5E      6500 FRANKFORD AV   \n",
       "221763  01/01/2015  23:18:00        4E        1700 N BROADWAY   \n",
       "221764  01/01/2015  21:00:00        7C      300 S CONKLING ST   \n",
       "221765  01/01/2015  10:00:00        6G        2700 KINSEY AVE   \n",
       "\n",
       "                Description Inside/Outside   Weapon   Post   District  \\\n",
       "221746              LARCENY              I      NaN  513.0   NORTHERN   \n",
       "221747              LARCENY              O      NaN  431.0  NORTHEAST   \n",
       "221748              LARCENY              I      NaN  741.0    WESTERN   \n",
       "221749  ROBBERY - RESIDENCE              I      NaN  123.0    CENTRAL   \n",
       "221750             BURGLARY              I      NaN  822.0  SOUTHWEST   \n",
       "221751         AGG. ASSAULT              I  FIREARM  412.0  NORTHEAST   \n",
       "221752       COMMON ASSAULT              I      NaN  444.0  NORTHEAST   \n",
       "221753             BURGLARY              I      NaN  513.0   NORTHERN   \n",
       "221754             BURGLARY              I      NaN  212.0  SOUTHEAST   \n",
       "221755              LARCENY              O      NaN  313.0    EASTERN   \n",
       "221756              LARCENY              O      NaN  832.0  SOUTHWEST   \n",
       "221757         AGG. ASSAULT              O    OTHER  911.0   SOUTHERN   \n",
       "221758     ROBBERY - STREET              O      NaN  543.0   NORTHERN   \n",
       "221759              LARCENY            NaN      NaN  141.0    CENTRAL   \n",
       "221760             BURGLARY              I      NaN  222.0  SOUTHEAST   \n",
       "221761           AUTO THEFT              I      NaN  842.0  SOUTHWEST   \n",
       "221762             BURGLARY              I      NaN  441.0  NORTHEAST   \n",
       "221763       COMMON ASSAULT              I      NaN  331.0    EASTERN   \n",
       "221764           AUTO THEFT              O      NaN  231.0  SOUTHEAST   \n",
       "221765              LARCENY              I      NaN  842.0  SOUTHWEST   \n",
       "\n",
       "                   Neighborhood  Longitude   Latitude  Location 1  \\\n",
       "221746     EDNOR GARDENS-LAKESI -76.601624  39.325289         NaN   \n",
       "221747             CLIFTON PARK -76.581983  39.314425         NaN   \n",
       "221748               EASTERWOOD -76.651177  39.308116         NaN   \n",
       "221749                    UPTON -76.625738  39.301355         NaN   \n",
       "221750                IRVINGTON -76.689021  39.281611         NaN   \n",
       "221751     STONEWOOD-PENTWOOD-W -76.589977  39.345720         NaN   \n",
       "221752                FRANKFORD -76.530992  39.340516         NaN   \n",
       "221753           BETTER WAVERLY -76.604907  39.325466         NaN   \n",
       "221754          WASHINGTON HILL -76.598746  39.292710         NaN   \n",
       "221755          JOHNSTON SQUARE -76.600315  39.303029         NaN   \n",
       "221756             MORRELL PARK -76.663360  39.273563         NaN   \n",
       "221757               CURTIS BAY -76.588293  39.223770         NaN   \n",
       "221758                  WAVERLY -76.607338  39.331658         NaN   \n",
       "221759            CHARLES NORTH -76.616613  39.311414         NaN   \n",
       "221760        BALTIMORE-LINWOOD -76.572450  39.293114         NaN   \n",
       "221761             SHIPLEY HILL -76.657912  39.288846         NaN   \n",
       "221762  PULASKI INDUSTRIAL AREA -76.540652  39.313857         NaN   \n",
       "221763            BROADWAY EAST -76.594821  39.309842         NaN   \n",
       "221764      HUDSON-HIGHLANDTOWN -76.567315  39.288539         NaN   \n",
       "221765             SHIPLEY HILL -76.659854  39.287775         NaN   \n",
       "\n",
       "                     Premise  vri_name1  Total Incidents       Date  \n",
       "221746  RELIGIOUS  INSTITUTI        NaN                1 2015-01-01  \n",
       "221747                STREET        NaN                1 2015-01-01  \n",
       "221748     ROW/TOWNHOUSE-OCC    Western                1 2015-01-01  \n",
       "221749     ROW/TOWNHOUSE-OCC        NaN                1 2015-01-01  \n",
       "221750     ROW/TOWNHOUSE-OCC        NaN                1 2015-01-01  \n",
       "221751        OTHER - INSIDE        NaN                1 2015-01-01  \n",
       "221752     ROW/TOWNHOUSE-OCC        NaN                1 2015-01-01  \n",
       "221753     ROW/TOWNHOUSE-OCC        NaN                1 2015-01-01  \n",
       "221754        OTHER - INSIDE        NaN                1 2015-01-01  \n",
       "221755                STREET        NaN                1 2015-01-01  \n",
       "221756                STREET        NaN                1 2015-01-01  \n",
       "221757                STREET        NaN                1 2015-01-01  \n",
       "221758                STREET        NaN                1 2015-01-01  \n",
       "221759                   NaN        NaN                1 2015-01-01  \n",
       "221760     ROW/TOWNHOUSE-OCC        NaN                1 2015-01-01  \n",
       "221761     ROW/TOWNHOUSE-OCC        NaN                1 2015-01-01  \n",
       "221762           HOTEL/MOTEL        NaN                1 2015-01-01  \n",
       "221763     ROW/TOWNHOUSE-OCC  Eastern 1                1 2015-01-01  \n",
       "221764                STREET        NaN                1 2015-01-01  \n",
       "221765     ROW/TOWNHOUSE-OCC        NaN                1 2015-01-01  "
      ]
     },
     "execution_count": 148,
     "metadata": {},
     "output_type": "execute_result"
    }
   ],
   "source": [
    "bc2.tail(20)"
   ]
  },
  {
   "cell_type": "code",
   "execution_count": 149,
   "metadata": {},
   "outputs": [],
   "source": [
    "bc2.to_csv('bc2_2015.csv')"
   ]
  },
  {
   "cell_type": "code",
   "execution_count": 39,
   "metadata": {},
   "outputs": [
    {
     "data": {
      "text/plain": [
       "LARCENY                 10670\n",
       "BURGLARY                 7856\n",
       "LARCENY FROM AUTO        7057\n",
       "COMMON ASSAULT           6991\n",
       "AGG. ASSAULT             4764\n",
       "AUTO THEFT               4565\n",
       "ROBBERY - STREET         3133\n",
       "ROBBERY - COMMERCIAL      883\n",
       "SHOOTING                  633\n",
       "ROBBERY - RESIDENCE       439\n",
       "HOMICIDE                  342\n",
       "ARSON                     289\n",
       "ROBBERY - CARJACKING      287\n",
       "RAPE                      284\n",
       "Name: Description, dtype: int64"
      ]
     },
     "execution_count": 39,
     "metadata": {},
     "output_type": "execute_result"
    }
   ],
   "source": [
    "bc2.Description.value_counts()"
   ]
  },
  {
   "cell_type": "code",
   "execution_count": 40,
   "metadata": {},
   "outputs": [],
   "source": [
    "##bc2 = pd.read_csv('bc2_2015.csv')"
   ]
  },
  {
   "cell_type": "code",
   "execution_count": 41,
   "metadata": {},
   "outputs": [],
   "source": [
    "cc = bc2.Description == 'AUTO THEFT'\n",
    "bc2_auto_theft  = bc2[cc]"
   ]
  },
  {
   "cell_type": "code",
   "execution_count": 42,
   "metadata": {},
   "outputs": [
    {
     "data": {
      "text/plain": [
       "Index(['Unnamed: 0', 'CrimeDate', 'CrimeTime', 'CrimeCode', 'Location',\n",
       "       'Description', 'Inside/Outside', 'Weapon', 'Post', 'District',\n",
       "       'Neighborhood', 'Longitude', 'Latitude', 'Location 1', 'Premise',\n",
       "       'vri_name1', 'Total Incidents', 'Date'],\n",
       "      dtype='object')"
      ]
     },
     "execution_count": 42,
     "metadata": {},
     "output_type": "execute_result"
    }
   ],
   "source": [
    "bc2.columns"
   ]
  },
  {
   "cell_type": "code",
   "execution_count": 43,
   "metadata": {},
   "outputs": [],
   "source": [
    "ff = bc2_auto_theft.groupby('District')['District'].count()"
   ]
  },
  {
   "cell_type": "code",
   "execution_count": 44,
   "metadata": {},
   "outputs": [
    {
     "data": {
      "text/plain": [
       "District\n",
       "CENTRAL      294\n",
       "EASTERN      336\n",
       "NORTHEAST    821\n",
       "NORTHERN     498\n",
       "NORTHWEST    567\n",
       "SOUTHEAST    494\n",
       "SOUTHERN     453\n",
       "SOUTHWEST    557\n",
       "UNKNOWN        3\n",
       "WESTERN      542\n",
       "Name: District, dtype: int64"
      ]
     },
     "execution_count": 44,
     "metadata": {},
     "output_type": "execute_result"
    }
   ],
   "source": [
    "ff"
   ]
  },
  {
   "cell_type": "code",
   "execution_count": 45,
   "metadata": {},
   "outputs": [
    {
     "data": {
      "text/plain": [
       "<matplotlib.axes._subplots.AxesSubplot at 0x7fa26ad247f0>"
      ]
     },
     "execution_count": 45,
     "metadata": {},
     "output_type": "execute_result"
    },
    {
     "data": {
      "image/png": "[encoded data removed]",
      "text/plain": [
       "<Figure size 432x288 with 1 Axes>"
      ]
     },
     "metadata": {
      "needs_background": "light"
     },
     "output_type": "display_data"
    }
   ],
   "source": [
    "bc2_auto_theft.groupby('District')['District'].count().plot.bar()"
   ]
  },
  {
   "cell_type": "code",
   "execution_count": 50,
   "metadata": {},
   "outputs": [
    {
     "data": {
      "text/html": [
       "<div>\n",
       "<style scoped>\n",
       "    .dataframe tbody tr th:only-of-type {\n",
       "        vertical-align: middle;\n",
       "    }\n",
       "\n",
       "    .dataframe tbody tr th {\n",
       "        vertical-align: top;\n",
       "    }\n",
       "\n",
       "    .dataframe thead th {\n",
       "        text-align: right;\n",
       "    }\n",
       "</style>\n",
       "<table border=\"1\" class=\"dataframe\">\n",
       "  <thead>\n",
       "    <tr style=\"text-align: right;\">\n",
       "      <th></th>\n",
       "      <th>District</th>\n",
       "      <th>autotheft</th>\n",
       "    </tr>\n",
       "  </thead>\n",
       "  <tbody>\n",
       "    <tr>\n",
       "      <th>0</th>\n",
       "      <td>CENTRAL</td>\n",
       "      <td>294</td>\n",
       "    </tr>\n",
       "    <tr>\n",
       "      <th>1</th>\n",
       "      <td>EASTERN</td>\n",
       "      <td>336</td>\n",
       "    </tr>\n",
       "    <tr>\n",
       "      <th>2</th>\n",
       "      <td>NORTHEAST</td>\n",
       "      <td>821</td>\n",
       "    </tr>\n",
       "    <tr>\n",
       "      <th>3</th>\n",
       "      <td>NORTHERN</td>\n",
       "      <td>498</td>\n",
       "    </tr>\n",
       "    <tr>\n",
       "      <th>4</th>\n",
       "      <td>NORTHWEST</td>\n",
       "      <td>567</td>\n",
       "    </tr>\n",
       "    <tr>\n",
       "      <th>5</th>\n",
       "      <td>SOUTHEAST</td>\n",
       "      <td>494</td>\n",
       "    </tr>\n",
       "    <tr>\n",
       "      <th>6</th>\n",
       "      <td>SOUTHERN</td>\n",
       "      <td>453</td>\n",
       "    </tr>\n",
       "    <tr>\n",
       "      <th>7</th>\n",
       "      <td>SOUTHWEST</td>\n",
       "      <td>557</td>\n",
       "    </tr>\n",
       "    <tr>\n",
       "      <th>9</th>\n",
       "      <td>WESTERN</td>\n",
       "      <td>542</td>\n",
       "    </tr>\n",
       "  </tbody>\n",
       "</table>\n",
       "</div>"
      ],
      "text/plain": [
       "    District  autotheft\n",
       "0    CENTRAL        294\n",
       "1    EASTERN        336\n",
       "2  NORTHEAST        821\n",
       "3   NORTHERN        498\n",
       "4  NORTHWEST        567\n",
       "5  SOUTHEAST        494\n",
       "6   SOUTHERN        453\n",
       "7  SOUTHWEST        557\n",
       "9    WESTERN        542"
      ]
     },
     "execution_count": 50,
     "metadata": {},
     "output_type": "execute_result"
    }
   ],
   "source": [
    "autotheft_by_dist = ddd[ddd.District != 'UNKNOWN']\n",
    "autotheft_by_dist.head(9)"
   ]
  },
  {
   "cell_type": "markdown",
   "metadata": {},
   "source": [
    "filter only 2015 in df table"
   ]
  },
  {
   "cell_type": "code",
   "execution_count": 61,
   "metadata": {},
   "outputs": [],
   "source": [
    "df2['DateTime'] = pd.to_datetime(df2['ViolDate'])"
   ]
  },
  {
   "cell_type": "code",
   "execution_count": 62,
   "metadata": {},
   "outputs": [],
   "source": [
    "df2['just_date'] = df2['DateTime'].dt.date"
   ]
  },
  {
   "cell_type": "code",
   "execution_count": 67,
   "metadata": {},
   "outputs": [
    {
     "data": {
      "text/plain": [
       "dtype('<M8[ns]')"
      ]
     },
     "execution_count": 67,
     "metadata": {},
     "output_type": "execute_result"
    }
   ],
   "source": [
    "df2['just_date2'] = pd.to_datetime(df2['just_date'])\n",
    "df2.just_date2.dtype"
   ]
  },
  {
   "cell_type": "code",
   "execution_count": 68,
   "metadata": {},
   "outputs": [],
   "source": [
    "df2_2015 = df2[(df2['just_date2'] > '2014-12-31') & (df2['just_date2'] < '2016-01-01')]"
   ]
  },
  {
   "cell_type": "markdown",
   "metadata": {},
   "source": [
    "Now get citations for each police district in 2015"
   ]
  },
  {
   "cell_type": "code",
   "execution_count": 71,
   "metadata": {},
   "outputs": [
    {
     "data": {
      "text/plain": [
       "PoliceDistrict\n",
       "CENTRAL         11852\n",
       "EASTERN          3125\n",
       "NORTHEASTERN     4111\n",
       "NORTHERN         9586\n",
       "NORTHWESTERN     1731\n",
       "SOUTHEASTERN    14981\n",
       "SOUTHERN        12422\n",
       "SOUTHWESTERN     2610\n",
       "WESTERN          2481\n",
       "Name: Citation, dtype: int64"
      ]
     },
     "execution_count": 71,
     "metadata": {},
     "output_type": "execute_result"
    }
   ],
   "source": [
    "g = df2_2015.groupby('PoliceDistrict')['Citation'].count()\n",
    "g"
   ]
  },
  {
   "cell_type": "code",
   "execution_count": 75,
   "metadata": {},
   "outputs": [],
   "source": [
    "citation_by_district_2015 = pd.DataFrame({'District': g.index, 'Citation':g.values})"
   ]
  },
  {
   "cell_type": "code",
   "execution_count": 76,
   "metadata": {},
   "outputs": [
    {
     "data": {
      "text/html": [
       "<div>\n",
       "<style scoped>\n",
       "    .dataframe tbody tr th:only-of-type {\n",
       "        vertical-align: middle;\n",
       "    }\n",
       "\n",
       "    .dataframe tbody tr th {\n",
       "        vertical-align: top;\n",
       "    }\n",
       "\n",
       "    .dataframe thead th {\n",
       "        text-align: right;\n",
       "    }\n",
       "</style>\n",
       "<table border=\"1\" class=\"dataframe\">\n",
       "  <thead>\n",
       "    <tr style=\"text-align: right;\">\n",
       "      <th></th>\n",
       "      <th>District</th>\n",
       "      <th>Citation</th>\n",
       "    </tr>\n",
       "  </thead>\n",
       "  <tbody>\n",
       "    <tr>\n",
       "      <th>0</th>\n",
       "      <td>CENTRAL</td>\n",
       "      <td>11852</td>\n",
       "    </tr>\n",
       "    <tr>\n",
       "      <th>1</th>\n",
       "      <td>EASTERN</td>\n",
       "      <td>3125</td>\n",
       "    </tr>\n",
       "    <tr>\n",
       "      <th>2</th>\n",
       "      <td>NORTHEASTERN</td>\n",
       "      <td>4111</td>\n",
       "    </tr>\n",
       "    <tr>\n",
       "      <th>3</th>\n",
       "      <td>NORTHERN</td>\n",
       "      <td>9586</td>\n",
       "    </tr>\n",
       "    <tr>\n",
       "      <th>4</th>\n",
       "      <td>NORTHWESTERN</td>\n",
       "      <td>1731</td>\n",
       "    </tr>\n",
       "    <tr>\n",
       "      <th>5</th>\n",
       "      <td>SOUTHEASTERN</td>\n",
       "      <td>14981</td>\n",
       "    </tr>\n",
       "    <tr>\n",
       "      <th>6</th>\n",
       "      <td>SOUTHERN</td>\n",
       "      <td>12422</td>\n",
       "    </tr>\n",
       "    <tr>\n",
       "      <th>7</th>\n",
       "      <td>SOUTHWESTERN</td>\n",
       "      <td>2610</td>\n",
       "    </tr>\n",
       "    <tr>\n",
       "      <th>8</th>\n",
       "      <td>WESTERN</td>\n",
       "      <td>2481</td>\n",
       "    </tr>\n",
       "  </tbody>\n",
       "</table>\n",
       "</div>"
      ],
      "text/plain": [
       "       District  Citation\n",
       "0       CENTRAL     11852\n",
       "1       EASTERN      3125\n",
       "2  NORTHEASTERN      4111\n",
       "3      NORTHERN      9586\n",
       "4  NORTHWESTERN      1731\n",
       "5  SOUTHEASTERN     14981\n",
       "6      SOUTHERN     12422\n",
       "7  SOUTHWESTERN      2610\n",
       "8       WESTERN      2481"
      ]
     },
     "execution_count": 76,
     "metadata": {},
     "output_type": "execute_result"
    }
   ],
   "source": [
    "citation_by_district_2015"
   ]
  },
  {
   "cell_type": "code",
   "execution_count": 81,
   "metadata": {},
   "outputs": [],
   "source": [
    "citation_by_district_2015.replace(['NORTHWESTERN'], 'NORTHWEST', inplace = True)\n",
    "citation_by_district_2015.replace(['NORTHEASTERN'], 'NORTHEAST', inplace = True)\n",
    "citation_by_district_2015.replace(['SOUTHWESTERN'], 'SOUTHWEST', inplace = True)\n",
    "citation_by_district_2015.replace(['SOUTHEASTERN'], 'SOUTHEAST', inplace = True)"
   ]
  },
  {
   "cell_type": "code",
   "execution_count": 82,
   "metadata": {},
   "outputs": [],
   "source": [
    "autotheft_citations_2015 = autotheft_by_dist.merge(citation_by_district_2015, left_on = 'District', right_on = 'District', how = 'inner')"
   ]
  },
  {
   "cell_type": "code",
   "execution_count": 83,
   "metadata": {},
   "outputs": [
    {
     "data": {
      "text/html": [
       "<div>\n",
       "<style scoped>\n",
       "    .dataframe tbody tr th:only-of-type {\n",
       "        vertical-align: middle;\n",
       "    }\n",
       "\n",
       "    .dataframe tbody tr th {\n",
       "        vertical-align: top;\n",
       "    }\n",
       "\n",
       "    .dataframe thead th {\n",
       "        text-align: right;\n",
       "    }\n",
       "</style>\n",
       "<table border=\"1\" class=\"dataframe\">\n",
       "  <thead>\n",
       "    <tr style=\"text-align: right;\">\n",
       "      <th></th>\n",
       "      <th>District</th>\n",
       "      <th>autotheft</th>\n",
       "      <th>Citation</th>\n",
       "    </tr>\n",
       "  </thead>\n",
       "  <tbody>\n",
       "    <tr>\n",
       "      <th>0</th>\n",
       "      <td>CENTRAL</td>\n",
       "      <td>294</td>\n",
       "      <td>11852</td>\n",
       "    </tr>\n",
       "    <tr>\n",
       "      <th>1</th>\n",
       "      <td>EASTERN</td>\n",
       "      <td>336</td>\n",
       "      <td>3125</td>\n",
       "    </tr>\n",
       "    <tr>\n",
       "      <th>2</th>\n",
       "      <td>NORTHEAST</td>\n",
       "      <td>821</td>\n",
       "      <td>4111</td>\n",
       "    </tr>\n",
       "    <tr>\n",
       "      <th>3</th>\n",
       "      <td>NORTHERN</td>\n",
       "      <td>498</td>\n",
       "      <td>9586</td>\n",
       "    </tr>\n",
       "    <tr>\n",
       "      <th>4</th>\n",
       "      <td>NORTHWEST</td>\n",
       "      <td>567</td>\n",
       "      <td>1731</td>\n",
       "    </tr>\n",
       "    <tr>\n",
       "      <th>5</th>\n",
       "      <td>SOUTHEAST</td>\n",
       "      <td>494</td>\n",
       "      <td>14981</td>\n",
       "    </tr>\n",
       "    <tr>\n",
       "      <th>6</th>\n",
       "      <td>SOUTHERN</td>\n",
       "      <td>453</td>\n",
       "      <td>12422</td>\n",
       "    </tr>\n",
       "    <tr>\n",
       "      <th>7</th>\n",
       "      <td>SOUTHWEST</td>\n",
       "      <td>557</td>\n",
       "      <td>2610</td>\n",
       "    </tr>\n",
       "    <tr>\n",
       "      <th>8</th>\n",
       "      <td>WESTERN</td>\n",
       "      <td>542</td>\n",
       "      <td>2481</td>\n",
       "    </tr>\n",
       "  </tbody>\n",
       "</table>\n",
       "</div>"
      ],
      "text/plain": [
       "    District  autotheft  Citation\n",
       "0    CENTRAL        294     11852\n",
       "1    EASTERN        336      3125\n",
       "2  NORTHEAST        821      4111\n",
       "3   NORTHERN        498      9586\n",
       "4  NORTHWEST        567      1731\n",
       "5  SOUTHEAST        494     14981\n",
       "6   SOUTHERN        453     12422\n",
       "7  SOUTHWEST        557      2610\n",
       "8    WESTERN        542      2481"
      ]
     },
     "execution_count": 83,
     "metadata": {},
     "output_type": "execute_result"
    }
   ],
   "source": [
    "autotheft_citations_2015"
   ]
  },
  {
   "cell_type": "markdown",
   "metadata": {},
   "source": [
    "Finally, determine the ratio of auto thefts to parking citations for each district."
   ]
  },
  {
   "cell_type": "code",
   "execution_count": 84,
   "metadata": {},
   "outputs": [],
   "source": [
    "autotheft_citations_2015['ratio of autotheft to citations'] = autotheft_citations_2015.autotheft / autotheft_citations_2015.Citation"
   ]
  },
  {
   "cell_type": "code",
   "execution_count": 87,
   "metadata": {},
   "outputs": [
    {
     "data": {
      "text/html": [
       "<div>\n",
       "<style scoped>\n",
       "    .dataframe tbody tr th:only-of-type {\n",
       "        vertical-align: middle;\n",
       "    }\n",
       "\n",
       "    .dataframe tbody tr th {\n",
       "        vertical-align: top;\n",
       "    }\n",
       "\n",
       "    .dataframe thead th {\n",
       "        text-align: right;\n",
       "    }\n",
       "</style>\n",
       "<table border=\"1\" class=\"dataframe\">\n",
       "  <thead>\n",
       "    <tr style=\"text-align: right;\">\n",
       "      <th></th>\n",
       "      <th>District</th>\n",
       "      <th>autotheft</th>\n",
       "      <th>Citation</th>\n",
       "      <th>ratio of autotheft to citations</th>\n",
       "    </tr>\n",
       "  </thead>\n",
       "  <tbody>\n",
       "    <tr>\n",
       "      <th>0</th>\n",
       "      <td>CENTRAL</td>\n",
       "      <td>294</td>\n",
       "      <td>11852</td>\n",
       "      <td>0.024806</td>\n",
       "    </tr>\n",
       "    <tr>\n",
       "      <th>1</th>\n",
       "      <td>EASTERN</td>\n",
       "      <td>336</td>\n",
       "      <td>3125</td>\n",
       "      <td>0.107520</td>\n",
       "    </tr>\n",
       "    <tr>\n",
       "      <th>2</th>\n",
       "      <td>NORTHEAST</td>\n",
       "      <td>821</td>\n",
       "      <td>4111</td>\n",
       "      <td>0.199708</td>\n",
       "    </tr>\n",
       "    <tr>\n",
       "      <th>3</th>\n",
       "      <td>NORTHERN</td>\n",
       "      <td>498</td>\n",
       "      <td>9586</td>\n",
       "      <td>0.051951</td>\n",
       "    </tr>\n",
       "    <tr>\n",
       "      <th>4</th>\n",
       "      <td>NORTHWEST</td>\n",
       "      <td>567</td>\n",
       "      <td>1731</td>\n",
       "      <td>0.327556</td>\n",
       "    </tr>\n",
       "    <tr>\n",
       "      <th>5</th>\n",
       "      <td>SOUTHEAST</td>\n",
       "      <td>494</td>\n",
       "      <td>14981</td>\n",
       "      <td>0.032975</td>\n",
       "    </tr>\n",
       "    <tr>\n",
       "      <th>6</th>\n",
       "      <td>SOUTHERN</td>\n",
       "      <td>453</td>\n",
       "      <td>12422</td>\n",
       "      <td>0.036468</td>\n",
       "    </tr>\n",
       "    <tr>\n",
       "      <th>7</th>\n",
       "      <td>SOUTHWEST</td>\n",
       "      <td>557</td>\n",
       "      <td>2610</td>\n",
       "      <td>0.213410</td>\n",
       "    </tr>\n",
       "    <tr>\n",
       "      <th>8</th>\n",
       "      <td>WESTERN</td>\n",
       "      <td>542</td>\n",
       "      <td>2481</td>\n",
       "      <td>0.218460</td>\n",
       "    </tr>\n",
       "  </tbody>\n",
       "</table>\n",
       "</div>"
      ],
      "text/plain": [
       "    District  autotheft  Citation  ratio of autotheft to citations\n",
       "0    CENTRAL        294     11852                         0.024806\n",
       "1    EASTERN        336      3125                         0.107520\n",
       "2  NORTHEAST        821      4111                         0.199708\n",
       "3   NORTHERN        498      9586                         0.051951\n",
       "4  NORTHWEST        567      1731                         0.327556\n",
       "5  SOUTHEAST        494     14981                         0.032975\n",
       "6   SOUTHERN        453     12422                         0.036468\n",
       "7  SOUTHWEST        557      2610                         0.213410\n",
       "8    WESTERN        542      2481                         0.218460"
      ]
     },
     "execution_count": 87,
     "metadata": {},
     "output_type": "execute_result"
    }
   ],
   "source": [
    "autotheft_citations_2015"
   ]
  },
  {
   "cell_type": "code",
   "execution_count": 89,
   "metadata": {},
   "outputs": [
    {
     "data": {
      "text/plain": [
       "0.3275563258232236"
      ]
     },
     "execution_count": 89,
     "metadata": {},
     "output_type": "execute_result"
    }
   ],
   "source": [
    "autotheft_citations_2015['ratio of autotheft to citations'].max()"
   ]
  },
  {
   "cell_type": "markdown",
   "metadata": {},
   "source": [
    "First, find the total number of citations given in each year between 2004 and 2014 (inclusive). Next, using linear regression, create a function that plots the total number of citations as a function of the year. If you were to plot a line using this function, what would be the slope of that line? "
   ]
  },
  {
   "cell_type": "code",
   "execution_count": 90,
   "metadata": {},
   "outputs": [
    {
     "name": "stderr",
     "output_type": "stream",
     "text": [
      "/home/jupyterlab/conda/envs/python/lib/python3.6/site-packages/IPython/core/interactiveshell.py:3057: DtypeWarning: Columns (2) have mixed types. Specify dtype option on import or set low_memory=False.\n",
      "  interactivity=interactivity, compiler=compiler, result=result)\n"
     ]
    }
   ],
   "source": [
    "import pandas as pd\n",
    "df = pd.read_csv('Parking_Citations.csv')"
   ]
  },
  {
   "cell_type": "code",
   "execution_count": 92,
   "metadata": {},
   "outputs": [
    {
     "data": {
      "text/html": [
       "<div>\n",
       "<style scoped>\n",
       "    .dataframe tbody tr th:only-of-type {\n",
       "        vertical-align: middle;\n",
       "    }\n",
       "\n",
       "    .dataframe tbody tr th {\n",
       "        vertical-align: top;\n",
       "    }\n",
       "\n",
       "    .dataframe thead th {\n",
       "        text-align: right;\n",
       "    }\n",
       "</style>\n",
       "<table border=\"1\" class=\"dataframe\">\n",
       "  <thead>\n",
       "    <tr style=\"text-align: right;\">\n",
       "      <th></th>\n",
       "      <th>Citation</th>\n",
       "      <th>Tag</th>\n",
       "      <th>ExpMM</th>\n",
       "      <th>ExpYY</th>\n",
       "      <th>State</th>\n",
       "      <th>Make</th>\n",
       "      <th>Address</th>\n",
       "      <th>ViolCode</th>\n",
       "      <th>Description</th>\n",
       "      <th>ViolFine</th>\n",
       "      <th>...</th>\n",
       "      <th>Balance</th>\n",
       "      <th>PenaltyDate</th>\n",
       "      <th>OpenFine</th>\n",
       "      <th>OpenPenalty</th>\n",
       "      <th>NoticeDate</th>\n",
       "      <th>ImportDate</th>\n",
       "      <th>Neighborhood</th>\n",
       "      <th>PoliceDistrict</th>\n",
       "      <th>CouncilDistrict</th>\n",
       "      <th>Location</th>\n",
       "    </tr>\n",
       "  </thead>\n",
       "  <tbody>\n",
       "    <tr>\n",
       "      <th>0</th>\n",
       "      <td>82691651</td>\n",
       "      <td>69943CF</td>\n",
       "      <td>04</td>\n",
       "      <td>19.0</td>\n",
       "      <td>MD</td>\n",
       "      <td>MAZD</td>\n",
       "      <td>1300 BLK EAST NORTHERN PKWY WB</td>\n",
       "      <td>32</td>\n",
       "      <td>Fixed Speed Camera</td>\n",
       "      <td>40.0</td>\n",
       "      <td>...</td>\n",
       "      <td>0.0</td>\n",
       "      <td>NaN</td>\n",
       "      <td>0.0</td>\n",
       "      <td>0.0</td>\n",
       "      <td>NaN</td>\n",
       "      <td>04/26/2018 04:02:00 AM</td>\n",
       "      <td>NaN</td>\n",
       "      <td>NaN</td>\n",
       "      <td>NaN</td>\n",
       "      <td>1300 BLK EAST NORTHERN PKWY\\nWB Baltimore, MD\\...</td>\n",
       "    </tr>\n",
       "    <tr>\n",
       "      <th>1</th>\n",
       "      <td>85937226</td>\n",
       "      <td>T720887</td>\n",
       "      <td>12</td>\n",
       "      <td>18.0</td>\n",
       "      <td>MD</td>\n",
       "      <td>ACUR</td>\n",
       "      <td>300 BLK NORTH BEND RD SB</td>\n",
       "      <td>32</td>\n",
       "      <td>Fixed Speed Camera</td>\n",
       "      <td>40.0</td>\n",
       "      <td>...</td>\n",
       "      <td>40.0</td>\n",
       "      <td>NaN</td>\n",
       "      <td>0.0</td>\n",
       "      <td>0.0</td>\n",
       "      <td>NaN</td>\n",
       "      <td>01/03/2019 04:33:00 AM</td>\n",
       "      <td>NaN</td>\n",
       "      <td>NaN</td>\n",
       "      <td>NaN</td>\n",
       "      <td>NaN</td>\n",
       "    </tr>\n",
       "  </tbody>\n",
       "</table>\n",
       "<p>2 rows × 21 columns</p>\n",
       "</div>"
      ],
      "text/plain": [
       "   Citation      Tag ExpMM  ExpYY State  Make                         Address  \\\n",
       "0  82691651  69943CF    04   19.0    MD  MAZD  1300 BLK EAST NORTHERN PKWY WB   \n",
       "1  85937226  T720887    12   18.0    MD  ACUR        300 BLK NORTH BEND RD SB   \n",
       "\n",
       "   ViolCode         Description  ViolFine  ... Balance  PenaltyDate  OpenFine  \\\n",
       "0        32  Fixed Speed Camera      40.0  ...     0.0          NaN       0.0   \n",
       "1        32  Fixed Speed Camera      40.0  ...    40.0          NaN       0.0   \n",
       "\n",
       "   OpenPenalty  NoticeDate              ImportDate Neighborhood  \\\n",
       "0          0.0         NaN  04/26/2018 04:02:00 AM          NaN   \n",
       "1          0.0         NaN  01/03/2019 04:33:00 AM          NaN   \n",
       "\n",
       "  PoliceDistrict CouncilDistrict  \\\n",
       "0            NaN             NaN   \n",
       "1            NaN             NaN   \n",
       "\n",
       "                                            Location  \n",
       "0  1300 BLK EAST NORTHERN PKWY\\nWB Baltimore, MD\\...  \n",
       "1                                                NaN  \n",
       "\n",
       "[2 rows x 21 columns]"
      ]
     },
     "execution_count": 92,
     "metadata": {},
     "output_type": "execute_result"
    }
   ],
   "source": [
    "df.head(2)"
   ]
  },
  {
   "cell_type": "markdown",
   "metadata": {},
   "source": [
    "filter by year"
   ]
  },
  {
   "cell_type": "code",
   "execution_count": 93,
   "metadata": {},
   "outputs": [],
   "source": [
    "df['DateTime'] = pd.to_datetime(df['ViolDate'])"
   ]
  },
  {
   "cell_type": "code",
   "execution_count": 94,
   "metadata": {},
   "outputs": [],
   "source": [
    "df['Year'] = pd.DatetimeIndex(df['DateTime']).year  "
   ]
  },
  {
   "cell_type": "code",
   "execution_count": 95,
   "metadata": {},
   "outputs": [],
   "source": [
    "df3 = df.groupby('Year')['Citation'].count()"
   ]
  },
  {
   "cell_type": "code",
   "execution_count": null,
   "metadata": {},
   "outputs": [],
   "source": []
  },
  {
   "cell_type": "code",
   "execution_count": 97,
   "metadata": {},
   "outputs": [
    {
     "data": {
      "text/html": [
       "<div>\n",
       "<style scoped>\n",
       "    .dataframe tbody tr th:only-of-type {\n",
       "        vertical-align: middle;\n",
       "    }\n",
       "\n",
       "    .dataframe tbody tr th {\n",
       "        vertical-align: top;\n",
       "    }\n",
       "\n",
       "    .dataframe thead th {\n",
       "        text-align: right;\n",
       "    }\n",
       "</style>\n",
       "<table border=\"1\" class=\"dataframe\">\n",
       "  <thead>\n",
       "    <tr style=\"text-align: right;\">\n",
       "      <th></th>\n",
       "      <th>Year</th>\n",
       "      <th>citation</th>\n",
       "    </tr>\n",
       "  </thead>\n",
       "  <tbody>\n",
       "    <tr>\n",
       "      <th>0</th>\n",
       "      <td>1999.0</td>\n",
       "      <td>1</td>\n",
       "    </tr>\n",
       "    <tr>\n",
       "      <th>1</th>\n",
       "      <td>2000.0</td>\n",
       "      <td>3</td>\n",
       "    </tr>\n",
       "    <tr>\n",
       "      <th>2</th>\n",
       "      <td>2002.0</td>\n",
       "      <td>58</td>\n",
       "    </tr>\n",
       "    <tr>\n",
       "      <th>3</th>\n",
       "      <td>2003.0</td>\n",
       "      <td>148</td>\n",
       "    </tr>\n",
       "    <tr>\n",
       "      <th>4</th>\n",
       "      <td>2004.0</td>\n",
       "      <td>162</td>\n",
       "    </tr>\n",
       "    <tr>\n",
       "      <th>5</th>\n",
       "      <td>2005.0</td>\n",
       "      <td>1136</td>\n",
       "    </tr>\n",
       "    <tr>\n",
       "      <th>6</th>\n",
       "      <td>2006.0</td>\n",
       "      <td>5550</td>\n",
       "    </tr>\n",
       "    <tr>\n",
       "      <th>7</th>\n",
       "      <td>2007.0</td>\n",
       "      <td>50049</td>\n",
       "    </tr>\n",
       "    <tr>\n",
       "      <th>8</th>\n",
       "      <td>2008.0</td>\n",
       "      <td>41672</td>\n",
       "    </tr>\n",
       "    <tr>\n",
       "      <th>9</th>\n",
       "      <td>2009.0</td>\n",
       "      <td>42719</td>\n",
       "    </tr>\n",
       "    <tr>\n",
       "      <th>10</th>\n",
       "      <td>2010.0</td>\n",
       "      <td>45842</td>\n",
       "    </tr>\n",
       "    <tr>\n",
       "      <th>11</th>\n",
       "      <td>2011.0</td>\n",
       "      <td>129722</td>\n",
       "    </tr>\n",
       "    <tr>\n",
       "      <th>12</th>\n",
       "      <td>2012.0</td>\n",
       "      <td>160453</td>\n",
       "    </tr>\n",
       "    <tr>\n",
       "      <th>13</th>\n",
       "      <td>2013.0</td>\n",
       "      <td>53916</td>\n",
       "    </tr>\n",
       "    <tr>\n",
       "      <th>14</th>\n",
       "      <td>2014.0</td>\n",
       "      <td>79135</td>\n",
       "    </tr>\n",
       "    <tr>\n",
       "      <th>15</th>\n",
       "      <td>2015.0</td>\n",
       "      <td>351858</td>\n",
       "    </tr>\n",
       "    <tr>\n",
       "      <th>16</th>\n",
       "      <td>2016.0</td>\n",
       "      <td>351179</td>\n",
       "    </tr>\n",
       "    <tr>\n",
       "      <th>17</th>\n",
       "      <td>2017.0</td>\n",
       "      <td>553981</td>\n",
       "    </tr>\n",
       "    <tr>\n",
       "      <th>18</th>\n",
       "      <td>2018.0</td>\n",
       "      <td>972931</td>\n",
       "    </tr>\n",
       "    <tr>\n",
       "      <th>19</th>\n",
       "      <td>2019.0</td>\n",
       "      <td>529603</td>\n",
       "    </tr>\n",
       "  </tbody>\n",
       "</table>\n",
       "</div>"
      ],
      "text/plain": [
       "      Year  citation\n",
       "0   1999.0         1\n",
       "1   2000.0         3\n",
       "2   2002.0        58\n",
       "3   2003.0       148\n",
       "4   2004.0       162\n",
       "5   2005.0      1136\n",
       "6   2006.0      5550\n",
       "7   2007.0     50049\n",
       "8   2008.0     41672\n",
       "9   2009.0     42719\n",
       "10  2010.0     45842\n",
       "11  2011.0    129722\n",
       "12  2012.0    160453\n",
       "13  2013.0     53916\n",
       "14  2014.0     79135\n",
       "15  2015.0    351858\n",
       "16  2016.0    351179\n",
       "17  2017.0    553981\n",
       "18  2018.0    972931\n",
       "19  2019.0    529603"
      ]
     },
     "execution_count": 97,
     "metadata": {},
     "output_type": "execute_result"
    }
   ],
   "source": [
    "df3_frame = pd.DataFrame({'Year':df3.index, 'citation':df3.values})\n",
    "df3_frame"
   ]
  },
  {
   "cell_type": "code",
   "execution_count": 98,
   "metadata": {},
   "outputs": [],
   "source": [
    "condi = (df3_frame.Year >= 2004.0) & (df3_frame.Year <= 2014.0)"
   ]
  },
  {
   "cell_type": "code",
   "execution_count": 99,
   "metadata": {},
   "outputs": [],
   "source": [
    "df3_frame_2004_2014 = df3_frame[condi]"
   ]
  },
  {
   "cell_type": "code",
   "execution_count": 100,
   "metadata": {},
   "outputs": [
    {
     "data": {
      "text/html": [
       "<div>\n",
       "<style scoped>\n",
       "    .dataframe tbody tr th:only-of-type {\n",
       "        vertical-align: middle;\n",
       "    }\n",
       "\n",
       "    .dataframe tbody tr th {\n",
       "        vertical-align: top;\n",
       "    }\n",
       "\n",
       "    .dataframe thead th {\n",
       "        text-align: right;\n",
       "    }\n",
       "</style>\n",
       "<table border=\"1\" class=\"dataframe\">\n",
       "  <thead>\n",
       "    <tr style=\"text-align: right;\">\n",
       "      <th></th>\n",
       "      <th>Year</th>\n",
       "      <th>citation</th>\n",
       "    </tr>\n",
       "  </thead>\n",
       "  <tbody>\n",
       "    <tr>\n",
       "      <th>4</th>\n",
       "      <td>2004.0</td>\n",
       "      <td>162</td>\n",
       "    </tr>\n",
       "    <tr>\n",
       "      <th>5</th>\n",
       "      <td>2005.0</td>\n",
       "      <td>1136</td>\n",
       "    </tr>\n",
       "    <tr>\n",
       "      <th>6</th>\n",
       "      <td>2006.0</td>\n",
       "      <td>5550</td>\n",
       "    </tr>\n",
       "    <tr>\n",
       "      <th>7</th>\n",
       "      <td>2007.0</td>\n",
       "      <td>50049</td>\n",
       "    </tr>\n",
       "    <tr>\n",
       "      <th>8</th>\n",
       "      <td>2008.0</td>\n",
       "      <td>41672</td>\n",
       "    </tr>\n",
       "    <tr>\n",
       "      <th>9</th>\n",
       "      <td>2009.0</td>\n",
       "      <td>42719</td>\n",
       "    </tr>\n",
       "    <tr>\n",
       "      <th>10</th>\n",
       "      <td>2010.0</td>\n",
       "      <td>45842</td>\n",
       "    </tr>\n",
       "    <tr>\n",
       "      <th>11</th>\n",
       "      <td>2011.0</td>\n",
       "      <td>129722</td>\n",
       "    </tr>\n",
       "    <tr>\n",
       "      <th>12</th>\n",
       "      <td>2012.0</td>\n",
       "      <td>160453</td>\n",
       "    </tr>\n",
       "    <tr>\n",
       "      <th>13</th>\n",
       "      <td>2013.0</td>\n",
       "      <td>53916</td>\n",
       "    </tr>\n",
       "    <tr>\n",
       "      <th>14</th>\n",
       "      <td>2014.0</td>\n",
       "      <td>79135</td>\n",
       "    </tr>\n",
       "  </tbody>\n",
       "</table>\n",
       "</div>"
      ],
      "text/plain": [
       "      Year  citation\n",
       "4   2004.0       162\n",
       "5   2005.0      1136\n",
       "6   2006.0      5550\n",
       "7   2007.0     50049\n",
       "8   2008.0     41672\n",
       "9   2009.0     42719\n",
       "10  2010.0     45842\n",
       "11  2011.0    129722\n",
       "12  2012.0    160453\n",
       "13  2013.0     53916\n",
       "14  2014.0     79135"
      ]
     },
     "execution_count": 100,
     "metadata": {},
     "output_type": "execute_result"
    }
   ],
   "source": [
    "df3_frame_2004_2014"
   ]
  },
  {
   "cell_type": "code",
   "execution_count": 101,
   "metadata": {},
   "outputs": [],
   "source": [
    "import numpy as np\n",
    "import matplotlib.pyplot as plt"
   ]
  },
  {
   "cell_type": "code",
   "execution_count": 133,
   "metadata": {},
   "outputs": [],
   "source": [
    "def plot_lr(x,y):\n",
    "    import numpy as np\n",
    "    from sklearn.linear_model import LinearRegression\n",
    "    model = LinearRegression()\n",
    "    model.fit(x, y)\n",
    "    model = LinearRegression().fit(x, y)\n",
    "    b_0 =  model.intercept_\n",
    "    b_1 = model.coef_\n",
    "    plt.scatter(x,y, color = \"m\",marker = \"o\", s = 30)\n",
    "    y_pred = b_0 + b_1*x\n",
    "    plt.plot(x,y_pred,color = \"g\")\n",
    "    plt.xlabel('Year')\n",
    "    plt.ylabel('citation')\n",
    "    plt.show()    \n",
    "    return(b_0, b_1)"
   ]
  },
  {
   "cell_type": "code",
   "execution_count": 136,
   "metadata": {},
   "outputs": [
    {
     "name": "stdout",
     "output_type": "stream",
     "text": [
      "int64 int64\n"
     ]
    }
   ],
   "source": [
    "x = df3_frame_2004_2014.Year.values\n",
    "y = df3_frame_2004_2014.citation.values\n",
    "x = x.astype('int')\n",
    "print(x.dtype, y.dtype)"
   ]
  },
  {
   "cell_type": "code",
   "execution_count": 137,
   "metadata": {},
   "outputs": [
    {
     "data": {
      "image/png": "[encoded data removed]",
      "text/plain": [
       "<Figure size 432x288 with 1 Axes>"
      ]
     },
     "metadata": {
      "needs_background": "light"
     },
     "output_type": "display_data"
    },
    {
     "data": {
      "text/plain": [
       "(-22485675.72727273, array([11220.09090909]))"
      ]
     },
     "execution_count": 137,
     "metadata": {},
     "output_type": "execute_result"
    }
   ],
   "source": [
    "xx = x.reshape((-1, 1))\n",
    "yy = y\n",
    "plot_lr(xx,yy)"
   ]
  },
  {
   "cell_type": "code",
   "execution_count": null,
   "metadata": {},
   "outputs": [],
   "source": []
  },
  {
   "cell_type": "code",
   "execution_count": null,
   "metadata": {},
   "outputs": [],
   "source": []
  },
  {
   "cell_type": "code",
   "execution_count": null,
   "metadata": {},
   "outputs": [],
   "source": []
  },
  {
   "cell_type": "code",
   "execution_count": null,
   "metadata": {},
   "outputs": [],
   "source": []
  },
  {
   "cell_type": "code",
   "execution_count": null,
   "metadata": {},
   "outputs": [],
   "source": []
  },
  {
   "cell_type": "code",
   "execution_count": null,
   "metadata": {},
   "outputs": [],
   "source": []
  },
  {
   "cell_type": "code",
   "execution_count": null,
   "metadata": {},
   "outputs": [],
   "source": []
  },
  {
   "cell_type": "code",
   "execution_count": null,
   "metadata": {},
   "outputs": [],
   "source": []
  },
  {
   "cell_type": "code",
   "execution_count": null,
   "metadata": {},
   "outputs": [],
   "source": []
  },
  {
   "cell_type": "code",
   "execution_count": null,
   "metadata": {},
   "outputs": [],
   "source": []
  },
  {
   "cell_type": "code",
   "execution_count": null,
   "metadata": {},
   "outputs": [],
   "source": []
  },
  {
   "cell_type": "code",
   "execution_count": null,
   "metadata": {},
   "outputs": [],
   "source": []
  },
  {
   "cell_type": "code",
   "execution_count": null,
   "metadata": {},
   "outputs": [],
   "source": []
  },
  {
   "cell_type": "code",
   "execution_count": null,
   "metadata": {},
   "outputs": [],
   "source": []
  },
  {
   "cell_type": "code",
   "execution_count": null,
   "metadata": {},
   "outputs": [],
   "source": []
  },
  {
   "cell_type": "code",
   "execution_count": null,
   "metadata": {},
   "outputs": [],
   "source": []
  },
  {
   "cell_type": "code",
   "execution_count": null,
   "metadata": {},
   "outputs": [],
   "source": []
  },
  {
   "cell_type": "code",
   "execution_count": null,
   "metadata": {},
   "outputs": [],
   "source": []
  },
  {
   "cell_type": "code",
   "execution_count": null,
   "metadata": {},
   "outputs": [],
   "source": []
  }
 ],
 "metadata": {
  "kernelspec": {
   "display_name": "Python",
   "language": "python",
   "name": "conda-env-python-py"
  },
  "language_info": {
   "codemirror_mode": {
    "name": "ipython",
    "version": 3
   },
   "file_extension": ".py",
   "mimetype": "text/x-python",
   "name": "python",
   "nbconvert_exporter": "python",
   "pygments_lexer": "ipython3",
   "version": "3.6.7"
  }
 },
 "nbformat": 4,
 "nbformat_minor": 4
}
