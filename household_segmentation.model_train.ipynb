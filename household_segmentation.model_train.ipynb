{
 "cells": [
  {
   "cell_type": "markdown",
   "metadata": {},
   "source": [
    "<h1 id=\"weather_station_clustering\" align=\"center\"> Clustering Ghanaian households based on their expenditure patterns</h1>\n",
    "<hr>\n",
    "\n",
    "#### 1.4 Model Definition\n",
    "\n",
    "In this project, we seek to identify similar households based on their household expenditure patterns. Since the data is unlabeled, we will use a machine learning clustering algorithm for this task. In the deep learning framework, we will use AUTO-ENCODERS together with a clustering layer for grouping the households.  \n",
    "\n",
    "In this notebook, we will present both deep learning and non-deep learning algorithms for clustering our dataset. We will compare results of basic models such as kmeans clustering to more complex models such as HDBSCAN. We will also use both the original data set and a normalized dataset in the clustering analysis and compare the results. Lastly, we will use the SILHOUETTE COEFFICIENT as a performance indicator. \n",
    "\n",
    "We will also apply at least one additional iteration in the process model involving at least the feature creation task, in this case, Normalisation. PCA will only be used for visualizing our clusters and not for feature selection. "
   ]
  },
  {
   "cell_type": "markdown",
   "metadata": {},
   "source": [
    "#### MODEL PERFORMANCE INDICATOR"
   ]
  },
  {
   "cell_type": "markdown",
   "metadata": {},
   "source": [
    "Since we using a machine learning clustering, we adopt the silhouette coefficient as the model performance indicator. This performance measure is widely known in ML clustering analysis among data scientists, and moreover it is easy to interpret. This makes comparing several model relatively easier.  "
   ]
  },
  {
   "cell_type": "markdown",
   "metadata": {},
   "source": [
    "### NON - DEEP LEARNING ALGORITHMS\n"
   ]
  },
  {
   "cell_type": "markdown",
   "metadata": {},
   "source": [
    "MODEL 1: DBSCAN - USING ORIGINAL DATA\n",
    "\n",
    "MODEL 2: DBSCAN - USING NORMALIZED DATA\n",
    "\n",
    "MODEL 3: HDBSCAN - WITH NORMALIZED DATA\n",
    "\n",
    "MODEL 4: KMEANS - USING NORMALIZED DATA"
   ]
  },
  {
   "cell_type": "markdown",
   "metadata": {},
   "source": [
    "### DEEP LEARNING ALGORITHMS\n"
   ]
  },
  {
   "cell_type": "markdown",
   "metadata": {},
   "source": [
    "MODEL 5: AUTO-ENCODER + KMEANS, USING NORMALIZED DATA\n",
    "\n",
    "MODEL 6: DEC (DEEP EMBEDDING CLUSTERING) + KMEANS, USING NORMALIZED DATA\n",
    "\n",
    "MODEL 7: AUTO ENCODING + HDBSCAN, USING NORMALIZED DATA\n",
    "\n",
    "MODEL 8: AUTO ENCODING + DBSCAN"
   ]
  },
  {
   "cell_type": "markdown",
   "metadata": {},
   "source": [
    "Detailed implementation of these algorithms are presented in the next section (model training) of this project"
   ]
  },
  {
   "cell_type": "markdown",
   "metadata": {},
   "source": [
    "### PARALLEL PLOT"
   ]
  },
  {
   "cell_type": "markdown",
   "metadata": {},
   "source": [
    "We will use parallel plot to identify which of our attributes matters most in each cluster"
   ]
  },
  {
   "cell_type": "markdown",
   "metadata": {},
   "source": [
    "### MODEL PERFORMANCE"
   ]
  },
  {
   "cell_type": "markdown",
   "metadata": {},
   "source": [
    "Model performance will be evaluated together with model training in the next section (Model training)"
   ]
  },
  {
   "cell_type": "markdown",
   "metadata": {},
   "source": [
    "### REASON BEHIND THE CHOICE OF THESE MODELS"
   ]
  },
  {
   "cell_type": "markdown",
   "metadata": {},
   "source": [
    "For DBSCAN and HDBSCAN, these models were choosen since they are robust to ouliers. In previous sections of this project, we saw that there is the presnece of outliers in the dataset, and hence the need for adopting these two strategies"
   ]
  },
  {
   "cell_type": "markdown",
   "metadata": {},
   "source": [
    "While DBSCAN and HBSCAN are our preferred clustering models, we also want to see how the classical Kmeans algorithm compares to DBSCAN and HDBSCAN."
   ]
  },
  {
   "cell_type": "markdown",
   "metadata": {},
   "source": [
    "Lastly, we mention that the documentation of these algorithms are easily available on the internet"
   ]
  },
  {
   "cell_type": "code",
   "execution_count": null,
   "metadata": {},
   "outputs": [],
   "source": []
  }
 ],
 "metadata": {
  "kernelspec": {
   "display_name": "Python 3",
   "language": "python",
   "name": "python3"
  },
  "language_info": {
   "codemirror_mode": {
    "name": "ipython",
    "version": 3
   },
   "file_extension": ".py",
   "mimetype": "text/x-python",
   "name": "python",
   "nbconvert_exporter": "python",
   "pygments_lexer": "ipython3",
   "version": "3.6.7"
  }
 },
 "nbformat": 4,
 "nbformat_minor": 4
}
