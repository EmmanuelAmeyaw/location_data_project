{
 "cells": [
  {
   "cell_type": "markdown",
   "metadata": {},
   "source": [
    "# Clustering Ghanaian households based on their expenditure patterns"
   ]
  },
  {
   "cell_type": "markdown",
   "metadata": {},
   "source": [
    "### 1.3 Feature Creation (Data Cleansing and Feature engineering)"
   ]
  },
  {
   "cell_type": "markdown",
   "metadata": {},
   "source": [
    "This task transforms input columns of various relations into formats that are compatible with machine learning algorithms. We will consider some of the following data cleaning techniques including reomiving correlated variables, normalisation, discretisation, PCA, dummy encoding, replacing missing values and removing duplicates "
   ]
  },
  {
   "cell_type": "markdown",
   "metadata": {},
   "source": [
    "Import data"
   ]
  },
  {
   "cell_type": "code",
   "execution_count": 5,
   "metadata": {},
   "outputs": [],
   "source": [
    "import pandas as pd"
   ]
  },
  {
   "cell_type": "code",
   "execution_count": 6,
   "metadata": {},
   "outputs": [],
   "source": [
    "df = pd.read_csv('final_capstone_project_data.csv')"
   ]
  },
  {
   "cell_type": "code",
   "execution_count": 7,
   "metadata": {},
   "outputs": [
    {
     "data": {
      "text/html": [
       "<div>\n",
       "<style scoped>\n",
       "    .dataframe tbody tr th:only-of-type {\n",
       "        vertical-align: middle;\n",
       "    }\n",
       "\n",
       "    .dataframe tbody tr th {\n",
       "        vertical-align: top;\n",
       "    }\n",
       "\n",
       "    .dataframe thead th {\n",
       "        text-align: right;\n",
       "    }\n",
       "</style>\n",
       "<table border=\"1\" class=\"dataframe\">\n",
       "  <thead>\n",
       "    <tr style=\"text-align: right;\">\n",
       "      <th></th>\n",
       "      <th>Unnamed: 0</th>\n",
       "      <th>hid</th>\n",
       "      <th>region</th>\n",
       "      <th>rururb</th>\n",
       "      <th>TOTFOOD</th>\n",
       "      <th>TOTALCH</th>\n",
       "      <th>TOTCLTH</th>\n",
       "      <th>TOTHOUS</th>\n",
       "      <th>TOTFURN</th>\n",
       "      <th>TOTHLTH</th>\n",
       "      <th>TOTTRSP</th>\n",
       "      <th>TOTCMNQ</th>\n",
       "      <th>TOTRCRE</th>\n",
       "      <th>TOTEDUC</th>\n",
       "      <th>TOTMISC</th>\n",
       "      <th>TOTAL_EXP</th>\n",
       "    </tr>\n",
       "  </thead>\n",
       "  <tbody>\n",
       "    <tr>\n",
       "      <th>0</th>\n",
       "      <td>0</td>\n",
       "      <td>70001/02</td>\n",
       "      <td>Western</td>\n",
       "      <td>Urban</td>\n",
       "      <td>9437.439453</td>\n",
       "      <td>0.0</td>\n",
       "      <td>1978.0</td>\n",
       "      <td>2569.800049</td>\n",
       "      <td>1128.790039</td>\n",
       "      <td>182.500000</td>\n",
       "      <td>2248.399902</td>\n",
       "      <td>138.899994</td>\n",
       "      <td>55.250000</td>\n",
       "      <td>1481.5</td>\n",
       "      <td>1081.459961</td>\n",
       "      <td>20302.039398</td>\n",
       "    </tr>\n",
       "    <tr>\n",
       "      <th>1</th>\n",
       "      <td>1</td>\n",
       "      <td>70001/05</td>\n",
       "      <td>Western</td>\n",
       "      <td>Urban</td>\n",
       "      <td>6990.479980</td>\n",
       "      <td>0.0</td>\n",
       "      <td>906.0</td>\n",
       "      <td>10808.799805</td>\n",
       "      <td>1693.709961</td>\n",
       "      <td>21.900000</td>\n",
       "      <td>192.500000</td>\n",
       "      <td>370.399994</td>\n",
       "      <td>50.000000</td>\n",
       "      <td>5079.0</td>\n",
       "      <td>260.200012</td>\n",
       "      <td>26372.989752</td>\n",
       "    </tr>\n",
       "    <tr>\n",
       "      <th>2</th>\n",
       "      <td>2</td>\n",
       "      <td>70001/06</td>\n",
       "      <td>Western</td>\n",
       "      <td>Urban</td>\n",
       "      <td>3079.566895</td>\n",
       "      <td>0.0</td>\n",
       "      <td>442.0</td>\n",
       "      <td>1240.099976</td>\n",
       "      <td>379.599976</td>\n",
       "      <td>29.200001</td>\n",
       "      <td>0.000000</td>\n",
       "      <td>146.000000</td>\n",
       "      <td>21.900002</td>\n",
       "      <td>827.0</td>\n",
       "      <td>932.660034</td>\n",
       "      <td>7098.026882</td>\n",
       "    </tr>\n",
       "    <tr>\n",
       "      <th>3</th>\n",
       "      <td>3</td>\n",
       "      <td>70001/07</td>\n",
       "      <td>Western</td>\n",
       "      <td>Urban</td>\n",
       "      <td>6542.259766</td>\n",
       "      <td>0.0</td>\n",
       "      <td>2435.0</td>\n",
       "      <td>1200.800049</td>\n",
       "      <td>580.959961</td>\n",
       "      <td>29.200001</td>\n",
       "      <td>2579.500000</td>\n",
       "      <td>567.700012</td>\n",
       "      <td>12.500000</td>\n",
       "      <td>1198.0</td>\n",
       "      <td>898.919983</td>\n",
       "      <td>16044.839771</td>\n",
       "    </tr>\n",
       "  </tbody>\n",
       "</table>\n",
       "</div>"
      ],
      "text/plain": [
       "   Unnamed: 0       hid   region rururb      TOTFOOD  TOTALCH  TOTCLTH  \\\n",
       "0           0  70001/02  Western  Urban  9437.439453      0.0   1978.0   \n",
       "1           1  70001/05  Western  Urban  6990.479980      0.0    906.0   \n",
       "2           2  70001/06  Western  Urban  3079.566895      0.0    442.0   \n",
       "3           3  70001/07  Western  Urban  6542.259766      0.0   2435.0   \n",
       "\n",
       "        TOTHOUS      TOTFURN     TOTHLTH      TOTTRSP     TOTCMNQ    TOTRCRE  \\\n",
       "0   2569.800049  1128.790039  182.500000  2248.399902  138.899994  55.250000   \n",
       "1  10808.799805  1693.709961   21.900000   192.500000  370.399994  50.000000   \n",
       "2   1240.099976   379.599976   29.200001     0.000000  146.000000  21.900002   \n",
       "3   1200.800049   580.959961   29.200001  2579.500000  567.700012  12.500000   \n",
       "\n",
       "   TOTEDUC      TOTMISC     TOTAL_EXP  \n",
       "0   1481.5  1081.459961  20302.039398  \n",
       "1   5079.0   260.200012  26372.989752  \n",
       "2    827.0   932.660034   7098.026882  \n",
       "3   1198.0   898.919983  16044.839771  "
      ]
     },
     "execution_count": 7,
     "metadata": {},
     "output_type": "execute_result"
    }
   ],
   "source": [
    "df.head(4)"
   ]
  },
  {
   "cell_type": "markdown",
   "metadata": {},
   "source": [
    "#### PREPROCESSING"
   ]
  },
  {
   "cell_type": "markdown",
   "metadata": {},
   "source": [
    "Since we are clustering our data, we do not set a target column. All attributes are regular attributes. Also we do not discretize any of the numerical columns. No attribute is generated and we do not remove any columns in our data set. Furthermore, all the attributes are numerical and hencewe do not unify value types such as 'nominal to text', 'text to nominal', 'numerical to real', etc. "
   ]
  },
  {
   "cell_type": "markdown",
   "metadata": {},
   "source": [
    "REPLACING MISSING VALUES"
   ]
  },
  {
   "cell_type": "markdown",
   "metadata": {},
   "source": [
    "There are no missing values in the current data set"
   ]
  },
  {
   "cell_type": "markdown",
   "metadata": {},
   "source": [
    "SAMPLING"
   ]
  },
  {
   "cell_type": "markdown",
   "metadata": {},
   "source": [
    "Since there less than 10000 samples in our dataset, we do not sample down. Instead, we use all samples."
   ]
  },
  {
   "cell_type": "markdown",
   "metadata": {},
   "source": [
    "#### NORMALIZATION"
   ]
  },
  {
   "cell_type": "markdown",
   "metadata": {},
   "source": [
    "Given the range of the values in the columns (starting from 0 and reaching thousands), we will normalize the dataset for all columns. "
   ]
  },
  {
   "cell_type": "markdown",
   "metadata": {},
   "source": [
    "first we drop the total expenditure column as we donot need it for the clustering analysis. We also need to drop Unnamed: 0, hid, region, rururb."
   ]
  },
  {
   "cell_type": "code",
   "execution_count": 8,
   "metadata": {},
   "outputs": [],
   "source": [
    "df.drop(['Unnamed: 0','hid','region','rururb','TOTAL_EXP'], axis = 1, inplace = True)"
   ]
  },
  {
   "cell_type": "code",
   "execution_count": 9,
   "metadata": {},
   "outputs": [
    {
     "data": {
      "text/html": [
       "<div>\n",
       "<style scoped>\n",
       "    .dataframe tbody tr th:only-of-type {\n",
       "        vertical-align: middle;\n",
       "    }\n",
       "\n",
       "    .dataframe tbody tr th {\n",
       "        vertical-align: top;\n",
       "    }\n",
       "\n",
       "    .dataframe thead th {\n",
       "        text-align: right;\n",
       "    }\n",
       "</style>\n",
       "<table border=\"1\" class=\"dataframe\">\n",
       "  <thead>\n",
       "    <tr style=\"text-align: right;\">\n",
       "      <th></th>\n",
       "      <th>TOTFOOD</th>\n",
       "      <th>TOTALCH</th>\n",
       "      <th>TOTCLTH</th>\n",
       "      <th>TOTHOUS</th>\n",
       "      <th>TOTFURN</th>\n",
       "      <th>TOTHLTH</th>\n",
       "      <th>TOTTRSP</th>\n",
       "      <th>TOTCMNQ</th>\n",
       "      <th>TOTRCRE</th>\n",
       "      <th>TOTEDUC</th>\n",
       "      <th>TOTMISC</th>\n",
       "    </tr>\n",
       "  </thead>\n",
       "  <tbody>\n",
       "    <tr>\n",
       "      <th>0</th>\n",
       "      <td>9437.439453</td>\n",
       "      <td>0.0</td>\n",
       "      <td>1978.0</td>\n",
       "      <td>2569.800049</td>\n",
       "      <td>1128.790039</td>\n",
       "      <td>182.5</td>\n",
       "      <td>2248.399902</td>\n",
       "      <td>138.899994</td>\n",
       "      <td>55.25</td>\n",
       "      <td>1481.5</td>\n",
       "      <td>1081.459961</td>\n",
       "    </tr>\n",
       "    <tr>\n",
       "      <th>1</th>\n",
       "      <td>6990.479980</td>\n",
       "      <td>0.0</td>\n",
       "      <td>906.0</td>\n",
       "      <td>10808.799805</td>\n",
       "      <td>1693.709961</td>\n",
       "      <td>21.9</td>\n",
       "      <td>192.500000</td>\n",
       "      <td>370.399994</td>\n",
       "      <td>50.00</td>\n",
       "      <td>5079.0</td>\n",
       "      <td>260.200012</td>\n",
       "    </tr>\n",
       "  </tbody>\n",
       "</table>\n",
       "</div>"
      ],
      "text/plain": [
       "       TOTFOOD  TOTALCH  TOTCLTH       TOTHOUS      TOTFURN  TOTHLTH  \\\n",
       "0  9437.439453      0.0   1978.0   2569.800049  1128.790039    182.5   \n",
       "1  6990.479980      0.0    906.0  10808.799805  1693.709961     21.9   \n",
       "\n",
       "       TOTTRSP     TOTCMNQ  TOTRCRE  TOTEDUC      TOTMISC  \n",
       "0  2248.399902  138.899994    55.25   1481.5  1081.459961  \n",
       "1   192.500000  370.399994    50.00   5079.0   260.200012  "
      ]
     },
     "execution_count": 9,
     "metadata": {},
     "output_type": "execute_result"
    }
   ],
   "source": [
    "df.head(2)"
   ]
  },
  {
   "cell_type": "code",
   "execution_count": 11,
   "metadata": {},
   "outputs": [],
   "source": [
    " from sklearn.preprocessing import StandardScaler"
   ]
  },
  {
   "cell_type": "code",
   "execution_count": 12,
   "metadata": {},
   "outputs": [],
   "source": [
    "df_normalized = StandardScaler().fit_transform(df)"
   ]
  },
  {
   "cell_type": "code",
   "execution_count": null,
   "metadata": {},
   "outputs": [],
   "source": [
    "#df.values"
   ]
  },
  {
   "cell_type": "code",
   "execution_count": 14,
   "metadata": {},
   "outputs": [
    {
     "data": {
      "text/plain": [
       "array([[ 0.86976757, -0.28206333,  0.81332647, ..., -0.21668055,\n",
       "        -0.11521547,  0.97090572],\n",
       "       [ 0.33314593, -0.28206333, -0.09551523, ..., -0.22431094,\n",
       "         0.8063206 , -0.07716584],\n",
       "       [-0.5245228 , -0.28206333, -0.48889447, ..., -0.2651517 ,\n",
       "        -0.28287228,  0.78101095],\n",
       "       ...,\n",
       "       [-1.09421672, -0.28206333, -0.7788421 , ..., -0.29698133,\n",
       "        -0.4767855 , -0.40922664],\n",
       "       [-0.88609968, -0.28206333, -0.68982309, ..., -0.29698133,\n",
       "        -0.46397749, -0.40922664],\n",
       "       [-1.08461131, -0.28206333, -0.63047709, ..., -0.29698133,\n",
       "        -0.4819087 , -0.40922664]])"
      ]
     },
     "execution_count": 14,
     "metadata": {},
     "output_type": "execute_result"
    }
   ],
   "source": [
    "df_normalized"
   ]
  },
  {
   "cell_type": "markdown",
   "metadata": {},
   "source": [
    "Lets put the normalized data into a dataframe"
   ]
  },
  {
   "cell_type": "code",
   "execution_count": 16,
   "metadata": {},
   "outputs": [],
   "source": [
    "X = df_normalized"
   ]
  },
  {
   "cell_type": "code",
   "execution_count": 17,
   "metadata": {},
   "outputs": [],
   "source": [
    "df_norm_dataframe = pd.DataFrame({'totfood':X[:,0],'totalch':X[:,1], 'totclth':X[:,2],'tothous':X[:,3],'totfurn':X[:,4], 'tothlth':X[:,5],\n",
    "                       'tottrsp':X[:,6],'totcmnq':X[:,7], 'totrcre':X[:,8],'toteduc':X[:,9],'totmisc':X[:,10]})"
   ]
  },
  {
   "cell_type": "code",
   "execution_count": 18,
   "metadata": {},
   "outputs": [
    {
     "data": {
      "text/html": [
       "<div>\n",
       "<style scoped>\n",
       "    .dataframe tbody tr th:only-of-type {\n",
       "        vertical-align: middle;\n",
       "    }\n",
       "\n",
       "    .dataframe tbody tr th {\n",
       "        vertical-align: top;\n",
       "    }\n",
       "\n",
       "    .dataframe thead th {\n",
       "        text-align: right;\n",
       "    }\n",
       "</style>\n",
       "<table border=\"1\" class=\"dataframe\">\n",
       "  <thead>\n",
       "    <tr style=\"text-align: right;\">\n",
       "      <th></th>\n",
       "      <th>totfood</th>\n",
       "      <th>totalch</th>\n",
       "      <th>totclth</th>\n",
       "      <th>tothous</th>\n",
       "      <th>totfurn</th>\n",
       "      <th>tothlth</th>\n",
       "      <th>tottrsp</th>\n",
       "      <th>totcmnq</th>\n",
       "      <th>totrcre</th>\n",
       "      <th>toteduc</th>\n",
       "      <th>totmisc</th>\n",
       "    </tr>\n",
       "  </thead>\n",
       "  <tbody>\n",
       "    <tr>\n",
       "      <th>0</th>\n",
       "      <td>0.869768</td>\n",
       "      <td>-0.282063</td>\n",
       "      <td>0.813326</td>\n",
       "      <td>0.597423</td>\n",
       "      <td>0.930850</td>\n",
       "      <td>0.270093</td>\n",
       "      <td>0.381865</td>\n",
       "      <td>-0.274590</td>\n",
       "      <td>-0.216681</td>\n",
       "      <td>-0.115215</td>\n",
       "      <td>0.970906</td>\n",
       "    </tr>\n",
       "    <tr>\n",
       "      <th>1</th>\n",
       "      <td>0.333146</td>\n",
       "      <td>-0.282063</td>\n",
       "      <td>-0.095515</td>\n",
       "      <td>3.937930</td>\n",
       "      <td>1.783318</td>\n",
       "      <td>-0.204459</td>\n",
       "      <td>-0.270768</td>\n",
       "      <td>0.137049</td>\n",
       "      <td>-0.224311</td>\n",
       "      <td>0.806321</td>\n",
       "      <td>-0.077166</td>\n",
       "    </tr>\n",
       "    <tr>\n",
       "      <th>2</th>\n",
       "      <td>-0.524523</td>\n",
       "      <td>-0.282063</td>\n",
       "      <td>-0.488894</td>\n",
       "      <td>0.058295</td>\n",
       "      <td>-0.199684</td>\n",
       "      <td>-0.182889</td>\n",
       "      <td>-0.331876</td>\n",
       "      <td>-0.261965</td>\n",
       "      <td>-0.265152</td>\n",
       "      <td>-0.282872</td>\n",
       "      <td>0.781011</td>\n",
       "    </tr>\n",
       "    <tr>\n",
       "      <th>3</th>\n",
       "      <td>0.234851</td>\n",
       "      <td>-0.282063</td>\n",
       "      <td>1.200771</td>\n",
       "      <td>0.042361</td>\n",
       "      <td>0.104170</td>\n",
       "      <td>-0.182889</td>\n",
       "      <td>0.486971</td>\n",
       "      <td>0.487875</td>\n",
       "      <td>-0.278814</td>\n",
       "      <td>-0.187837</td>\n",
       "      <td>0.737953</td>\n",
       "    </tr>\n",
       "    <tr>\n",
       "      <th>4</th>\n",
       "      <td>2.104382</td>\n",
       "      <td>-0.282063</td>\n",
       "      <td>0.356362</td>\n",
       "      <td>0.286199</td>\n",
       "      <td>1.399336</td>\n",
       "      <td>6.288280</td>\n",
       "      <td>-0.007448</td>\n",
       "      <td>0.594741</td>\n",
       "      <td>-0.195824</td>\n",
       "      <td>0.020165</td>\n",
       "      <td>0.877056</td>\n",
       "    </tr>\n",
       "  </tbody>\n",
       "</table>\n",
       "</div>"
      ],
      "text/plain": [
       "    totfood   totalch   totclth   tothous   totfurn   tothlth   tottrsp  \\\n",
       "0  0.869768 -0.282063  0.813326  0.597423  0.930850  0.270093  0.381865   \n",
       "1  0.333146 -0.282063 -0.095515  3.937930  1.783318 -0.204459 -0.270768   \n",
       "2 -0.524523 -0.282063 -0.488894  0.058295 -0.199684 -0.182889 -0.331876   \n",
       "3  0.234851 -0.282063  1.200771  0.042361  0.104170 -0.182889  0.486971   \n",
       "4  2.104382 -0.282063  0.356362  0.286199  1.399336  6.288280 -0.007448   \n",
       "\n",
       "    totcmnq   totrcre   toteduc   totmisc  \n",
       "0 -0.274590 -0.216681 -0.115215  0.970906  \n",
       "1  0.137049 -0.224311  0.806321 -0.077166  \n",
       "2 -0.261965 -0.265152 -0.282872  0.781011  \n",
       "3  0.487875 -0.278814 -0.187837  0.737953  \n",
       "4  0.594741 -0.195824  0.020165  0.877056  "
      ]
     },
     "execution_count": 18,
     "metadata": {},
     "output_type": "execute_result"
    }
   ],
   "source": [
    "df_norm_dataframe.head()"
   ]
  },
  {
   "cell_type": "markdown",
   "metadata": {},
   "source": [
    "MULTIPLY DATA"
   ]
  },
  {
   "cell_type": "markdown",
   "metadata": {},
   "source": [
    "Here, we will copy the normalized data to another dataframe to be used for finding best feature sets for improving the cluster model if applicable"
   ]
  },
  {
   "cell_type": "code",
   "execution_count": 19,
   "metadata": {},
   "outputs": [],
   "source": [
    "df_norm_dataframe_copy = df_norm_dataframe.copy()"
   ]
  },
  {
   "cell_type": "markdown",
   "metadata": {},
   "source": [
    "SAVING THE DATA"
   ]
  },
  {
   "cell_type": "code",
   "execution_count": 21,
   "metadata": {},
   "outputs": [],
   "source": [
    "df_norm_dataframe.to_csv('df_norm_dataframe')"
   ]
  },
  {
   "cell_type": "code",
   "execution_count": 22,
   "metadata": {},
   "outputs": [],
   "source": [
    "df_norm_dataframe_copy.to_csv('df_norm_dataframe_copy')"
   ]
  },
  {
   "cell_type": "code",
   "execution_count": null,
   "metadata": {},
   "outputs": [],
   "source": []
  },
  {
   "cell_type": "code",
   "execution_count": null,
   "metadata": {},
   "outputs": [],
   "source": []
  }
 ],
 "metadata": {
  "kernelspec": {
   "display_name": "Python 3",
   "language": "python",
   "name": "python3"
  },
  "language_info": {
   "codemirror_mode": {
    "name": "ipython",
    "version": 3
   },
   "file_extension": ".py",
   "mimetype": "text/x-python",
   "name": "python",
   "nbconvert_exporter": "python",
   "pygments_lexer": "ipython3",
   "version": "3.6.8"
  }
 },
 "nbformat": 4,
 "nbformat_minor": 2
}
