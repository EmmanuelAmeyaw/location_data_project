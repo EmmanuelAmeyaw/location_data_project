{
 "cells": [
  {
   "cell_type": "markdown",
   "metadata": {},
   "source": [
    "# Traffic Accident Project"
   ]
  },
  {
   "cell_type": "markdown",
   "metadata": {},
   "source": [
    "#### CHAPTER ONE - DATA EXPLORATIONS and VISUALIZATIONS"
   ]
  },
  {
   "cell_type": "code",
   "execution_count": 47,
   "metadata": {},
   "outputs": [],
   "source": [
    "#Import data\n",
    "import pandas as pd\n",
    "df = pd.read_csv('accident data.csv')"
   ]
  },
  {
   "cell_type": "code",
   "execution_count": 48,
   "metadata": {},
   "outputs": [
    {
     "data": {
      "text/html": [
       "<div>\n",
       "<style scoped>\n",
       "    .dataframe tbody tr th:only-of-type {\n",
       "        vertical-align: middle;\n",
       "    }\n",
       "\n",
       "    .dataframe tbody tr th {\n",
       "        vertical-align: top;\n",
       "    }\n",
       "\n",
       "    .dataframe thead th {\n",
       "        text-align: right;\n",
       "    }\n",
       "</style>\n",
       "<table border=\"1\" class=\"dataframe\">\n",
       "  <thead>\n",
       "    <tr style=\"text-align: right;\">\n",
       "      <th></th>\n",
       "      <th>Report Number</th>\n",
       "      <th>Region</th>\n",
       "      <th>x_coordinate</th>\n",
       "      <th>y_coordinate</th>\n",
       "      <th>Number of Vehicles</th>\n",
       "      <th>Accident Date</th>\n",
       "      <th>Time (24hr)</th>\n",
       "      <th>1st Road Class &amp; No</th>\n",
       "      <th>Road Surface</th>\n",
       "      <th>Lighting Conditions</th>\n",
       "      <th>Weather Conditions</th>\n",
       "      <th>Type of Vehicle</th>\n",
       "      <th>Casualty Class</th>\n",
       "      <th>Casualty Severity</th>\n",
       "      <th>Sex of Casualty</th>\n",
       "      <th>Age of Casualty</th>\n",
       "    </tr>\n",
       "  </thead>\n",
       "  <tbody>\n",
       "    <tr>\n",
       "      <th>0</th>\n",
       "      <td>3AP0313</td>\n",
       "      <td>Ashanti</td>\n",
       "      <td>426340</td>\n",
       "      <td>428455</td>\n",
       "      <td>1</td>\n",
       "      <td>3/17/2017</td>\n",
       "      <td>815</td>\n",
       "      <td>A643</td>\n",
       "      <td>Dry</td>\n",
       "      <td>Daylight: Street lights present</td>\n",
       "      <td>Other</td>\n",
       "      <td>Car</td>\n",
       "      <td>Pedestrian</td>\n",
       "      <td>Serious</td>\n",
       "      <td>Female</td>\n",
       "      <td>61</td>\n",
       "    </tr>\n",
       "    <tr>\n",
       "      <th>1</th>\n",
       "      <td>3BE0850</td>\n",
       "      <td>Ashanti</td>\n",
       "      <td>430828</td>\n",
       "      <td>433222</td>\n",
       "      <td>2</td>\n",
       "      <td>1/14/2017</td>\n",
       "      <td>1330</td>\n",
       "      <td>A61</td>\n",
       "      <td>Dry</td>\n",
       "      <td>Daylight: Street lights present</td>\n",
       "      <td>Fine without high winds</td>\n",
       "      <td>Pedal cycle</td>\n",
       "      <td>Driver or rider</td>\n",
       "      <td>Slight</td>\n",
       "      <td>Male</td>\n",
       "      <td>36</td>\n",
       "    </tr>\n",
       "    <tr>\n",
       "      <th>2</th>\n",
       "      <td>4110858</td>\n",
       "      <td>Ashanti</td>\n",
       "      <td>428940</td>\n",
       "      <td>429856</td>\n",
       "      <td>2</td>\n",
       "      <td>1/1/2017</td>\n",
       "      <td>805</td>\n",
       "      <td>A653</td>\n",
       "      <td>Wet/Damp</td>\n",
       "      <td>Daylight: Street lights present</td>\n",
       "      <td>Fine without high winds</td>\n",
       "      <td>Car</td>\n",
       "      <td>Driver or rider</td>\n",
       "      <td>Slight</td>\n",
       "      <td>Male</td>\n",
       "      <td>32</td>\n",
       "    </tr>\n",
       "  </tbody>\n",
       "</table>\n",
       "</div>"
      ],
      "text/plain": [
       "  Report Number   Region  x_coordinate  y_coordinate  Number of Vehicles  \\\n",
       "0       3AP0313  Ashanti        426340        428455                   1   \n",
       "1       3BE0850  Ashanti        430828        433222                   2   \n",
       "2       4110858  Ashanti        428940        429856                   2   \n",
       "\n",
       "  Accident Date  Time (24hr) 1st Road Class & No Road Surface  \\\n",
       "0     3/17/2017          815                A643          Dry   \n",
       "1     1/14/2017         1330                 A61          Dry   \n",
       "2      1/1/2017          805                A653     Wet/Damp   \n",
       "\n",
       "               Lighting Conditions       Weather Conditions Type of Vehicle  \\\n",
       "0  Daylight: Street lights present                    Other             Car   \n",
       "1  Daylight: Street lights present  Fine without high winds     Pedal cycle   \n",
       "2  Daylight: Street lights present  Fine without high winds             Car   \n",
       "\n",
       "    Casualty Class Casualty Severity Sex of Casualty  Age of Casualty  \n",
       "0       Pedestrian           Serious          Female               61  \n",
       "1  Driver or rider            Slight            Male               36  \n",
       "2  Driver or rider            Slight            Male               32  "
      ]
     },
     "execution_count": 48,
     "metadata": {},
     "output_type": "execute_result"
    }
   ],
   "source": [
    "df.head(3)"
   ]
  },
  {
   "cell_type": "markdown",
   "metadata": {},
   "source": [
    "#### A. Find the number of accidents per region"
   ]
  },
  {
   "cell_type": "code",
   "execution_count": 49,
   "metadata": {},
   "outputs": [
    {
     "data": {
      "text/plain": [
       "Upper West       326\n",
       "Upper East       253\n",
       "Greater Accra    223\n",
       "Western          219\n",
       "Ashanti          217\n",
       "Brong Ahafo      210\n",
       "Volta            204\n",
       "Northern         200\n",
       "Central          194\n",
       "Eastern          157\n",
       "Name: Region, dtype: int64"
      ]
     },
     "execution_count": 49,
     "metadata": {},
     "output_type": "execute_result"
    }
   ],
   "source": [
    "df.Region.value_counts()"
   ]
  },
  {
   "cell_type": "code",
   "execution_count": 50,
   "metadata": {},
   "outputs": [
    {
     "data": {
      "text/plain": [
       "<matplotlib.axes._subplots.AxesSubplot at 0x7f325d6f17f0>"
      ]
     },
     "execution_count": 50,
     "metadata": {},
     "output_type": "execute_result"
    },
    {
     "data": {
      "image/png": "[encoded data removed]",
      "text/plain": [
       "<Figure size 432x288 with 1 Axes>"
      ]
     },
     "metadata": {
      "needs_background": "light"
     },
     "output_type": "display_data"
    }
   ],
   "source": [
    "# We can also graph the data above\n",
    "import matplotlib.pyplot as plt\n",
    "%matplotlib inline \n",
    "df.Region.value_counts().plot.bar()"
   ]
  },
  {
   "cell_type": "markdown",
   "metadata": {},
   "source": [
    "B. FIND THE PERCENTAGE CHANGE IN THE IN NUMBER OF ACCIDENTS FOR EACH REGION"
   ]
  },
  {
   "cell_type": "markdown",
   "metadata": {},
   "source": [
    "C. FIND THE NUMBER OF ACCIDENTS PER MONTH"
   ]
  },
  {
   "cell_type": "code",
   "execution_count": 51,
   "metadata": {},
   "outputs": [],
   "source": [
    "# Extract monoth from Date column\n",
    "df['Accident Date2'] = pd.to_datetime(df['Accident Date'])"
   ]
  },
  {
   "cell_type": "code",
   "execution_count": 52,
   "metadata": {},
   "outputs": [
    {
     "data": {
      "text/plain": [
       "dtype('<M8[ns]')"
      ]
     },
     "execution_count": 52,
     "metadata": {},
     "output_type": "execute_result"
    }
   ],
   "source": [
    "df['Accident Date2'].dtype"
   ]
  },
  {
   "cell_type": "code",
   "execution_count": 53,
   "metadata": {},
   "outputs": [],
   "source": [
    "df['Month of Accident'] = pd.DatetimeIndex(df['Accident Date2']).month"
   ]
  },
  {
   "cell_type": "code",
   "execution_count": 54,
   "metadata": {},
   "outputs": [
    {
     "data": {
      "text/plain": [
       "11    234\n",
       "10    223\n",
       "1     199\n",
       "12    191\n",
       "9     182\n",
       "7     177\n",
       "3     174\n",
       "4     173\n",
       "6     167\n",
       "8     164\n",
       "5     162\n",
       "2     157\n",
       "Name: Month of Accident, dtype: int64"
      ]
     },
     "execution_count": 54,
     "metadata": {},
     "output_type": "execute_result"
    }
   ],
   "source": [
    "f = df['Month of Accident'].value_counts()\n",
    "f"
   ]
  },
  {
   "cell_type": "code",
   "execution_count": 55,
   "metadata": {},
   "outputs": [],
   "source": [
    "df_month = pd.DataFrame({'Month':f.index.astype('str'), 'number of accidents':f.values})"
   ]
  },
  {
   "cell_type": "code",
   "execution_count": 56,
   "metadata": {},
   "outputs": [
    {
     "data": {
      "text/html": [
       "<div>\n",
       "<style scoped>\n",
       "    .dataframe tbody tr th:only-of-type {\n",
       "        vertical-align: middle;\n",
       "    }\n",
       "\n",
       "    .dataframe tbody tr th {\n",
       "        vertical-align: top;\n",
       "    }\n",
       "\n",
       "    .dataframe thead th {\n",
       "        text-align: right;\n",
       "    }\n",
       "</style>\n",
       "<table border=\"1\" class=\"dataframe\">\n",
       "  <thead>\n",
       "    <tr style=\"text-align: right;\">\n",
       "      <th></th>\n",
       "      <th>Month</th>\n",
       "      <th>number of accidents</th>\n",
       "    </tr>\n",
       "  </thead>\n",
       "  <tbody>\n",
       "    <tr>\n",
       "      <th>0</th>\n",
       "      <td>11</td>\n",
       "      <td>234</td>\n",
       "    </tr>\n",
       "    <tr>\n",
       "      <th>1</th>\n",
       "      <td>10</td>\n",
       "      <td>223</td>\n",
       "    </tr>\n",
       "    <tr>\n",
       "      <th>2</th>\n",
       "      <td>1</td>\n",
       "      <td>199</td>\n",
       "    </tr>\n",
       "    <tr>\n",
       "      <th>3</th>\n",
       "      <td>12</td>\n",
       "      <td>191</td>\n",
       "    </tr>\n",
       "    <tr>\n",
       "      <th>4</th>\n",
       "      <td>9</td>\n",
       "      <td>182</td>\n",
       "    </tr>\n",
       "    <tr>\n",
       "      <th>5</th>\n",
       "      <td>7</td>\n",
       "      <td>177</td>\n",
       "    </tr>\n",
       "    <tr>\n",
       "      <th>6</th>\n",
       "      <td>3</td>\n",
       "      <td>174</td>\n",
       "    </tr>\n",
       "    <tr>\n",
       "      <th>7</th>\n",
       "      <td>4</td>\n",
       "      <td>173</td>\n",
       "    </tr>\n",
       "    <tr>\n",
       "      <th>8</th>\n",
       "      <td>6</td>\n",
       "      <td>167</td>\n",
       "    </tr>\n",
       "    <tr>\n",
       "      <th>9</th>\n",
       "      <td>8</td>\n",
       "      <td>164</td>\n",
       "    </tr>\n",
       "    <tr>\n",
       "      <th>10</th>\n",
       "      <td>5</td>\n",
       "      <td>162</td>\n",
       "    </tr>\n",
       "    <tr>\n",
       "      <th>11</th>\n",
       "      <td>2</td>\n",
       "      <td>157</td>\n",
       "    </tr>\n",
       "  </tbody>\n",
       "</table>\n",
       "</div>"
      ],
      "text/plain": [
       "   Month  number of accidents\n",
       "0     11                  234\n",
       "1     10                  223\n",
       "2      1                  199\n",
       "3     12                  191\n",
       "4      9                  182\n",
       "5      7                  177\n",
       "6      3                  174\n",
       "7      4                  173\n",
       "8      6                  167\n",
       "9      8                  164\n",
       "10     5                  162\n",
       "11     2                  157"
      ]
     },
     "execution_count": 56,
     "metadata": {},
     "output_type": "execute_result"
    }
   ],
   "source": [
    "df_month"
   ]
  },
  {
   "cell_type": "code",
   "execution_count": 57,
   "metadata": {},
   "outputs": [
    {
     "data": {
      "image/png": "[encoded data removed]",
      "text/plain": [
       "<Figure size 600x600 with 1 Axes>"
      ]
     },
     "metadata": {
      "needs_background": "light"
     },
     "output_type": "display_data"
    }
   ],
   "source": [
    "plt.figure(figsize = (5, 5), dpi = 120) # dpi is the number of pixels the figure comprises\n",
    "plt.bar(df_month.Month, df_month['number of accidents'], width=.9)\n",
    "for i, val in enumerate(df_month['number of accidents'].values):\n",
    "    plt.text(i, val, float(val), horizontalalignment='center', verticalalignment='bottom', fontdict={'fontweight':50, 'size':7})\n",
    "# Decoration\n",
    "plt.gca().set_xticklabels(df_month['Month'], horizontalalignment= 'right')\n",
    "plt.title(\"Number of accidents for each month\", fontsize=10)\n",
    "plt.ylabel('Number of accidents')\n",
    "plt.xlabel('Month')\n",
    "plt.ylim(0, (df_month['number of accidents'].max() + 15))\n",
    "plt.show()"
   ]
  },
  {
   "cell_type": "code",
   "execution_count": 58,
   "metadata": {},
   "outputs": [],
   "source": [
    "df_month.Month = df_month.Month.astype('int')\n",
    "df_month.sort_values(by = ['Month'], inplace = True, ascending = True)"
   ]
  },
  {
   "cell_type": "code",
   "execution_count": 59,
   "metadata": {},
   "outputs": [
    {
     "data": {
      "text/plain": [
       "Text(0.5, 1.0, 'Number of accidents for each month')"
      ]
     },
     "execution_count": 59,
     "metadata": {},
     "output_type": "execute_result"
    },
    {
     "data": {
      "image/png": "[encoded data removed]",
      "text/plain": [
       "<Figure size 480x480 with 1 Axes>"
      ]
     },
     "metadata": {
      "needs_background": "light"
     },
     "output_type": "display_data"
    }
   ],
   "source": [
    "plt.figure(figsize = (4, 4), dpi = 120) # dpi is the number of pixels the figure comprises\n",
    "plt.plot(df_month.Month, df_month['number of accidents'])\n",
    "plt.xlabel('Month')\n",
    "plt.ylabel('number of accidents')\n",
    "plt.title('Number of accidents for each month')\n"
   ]
  },
  {
   "cell_type": "code",
   "execution_count": null,
   "metadata": {},
   "outputs": [],
   "source": []
  },
  {
   "cell_type": "markdown",
   "metadata": {},
   "source": [
    "D. FIND THE percentage change in the NUMBER OF ACCIDENTS PER MONTH"
   ]
  },
  {
   "cell_type": "code",
   "execution_count": 60,
   "metadata": {},
   "outputs": [],
   "source": [
    "df['day of accident'] = pd.DatetimeIndex(df['Accident Date2']).day"
   ]
  },
  {
   "cell_type": "markdown",
   "metadata": {},
   "source": [
    "E. NUMBER OF CRASHES FOR EACH HOUR"
   ]
  },
  {
   "cell_type": "code",
   "execution_count": null,
   "metadata": {},
   "outputs": [],
   "source": []
  },
  {
   "cell_type": "code",
   "execution_count": 61,
   "metadata": {},
   "outputs": [],
   "source": [
    "df['day of accident'] = df['day of accident'].astype('int')"
   ]
  },
  {
   "cell_type": "code",
   "execution_count": null,
   "metadata": {},
   "outputs": [],
   "source": []
  },
  {
   "cell_type": "code",
   "execution_count": 62,
   "metadata": {},
   "outputs": [
    {
     "data": {
      "text/plain": [
       "3     94\n",
       "2     90\n",
       "1     88\n",
       "25    87\n",
       "9     86\n",
       "15    82\n",
       "11    82\n",
       "24    80\n",
       "27    79\n",
       "23    77\n",
       "20    76\n",
       "22    76\n",
       "4     75\n",
       "8     75\n",
       "17    74\n",
       "12    72\n",
       "5     72\n",
       "10    71\n",
       "18    70\n",
       "28    70\n",
       "19    69\n",
       "16    68\n",
       "13    67\n",
       "21    64\n",
       "6     62\n",
       "29    60\n",
       "30    56\n",
       "26    52\n",
       "7     50\n",
       "14    44\n",
       "31    35\n",
       "Name: day of accident, dtype: int64"
      ]
     },
     "execution_count": 62,
     "metadata": {},
     "output_type": "execute_result"
    }
   ],
   "source": [
    "gg = df['day of accident'].value_counts()\n",
    "gg"
   ]
  },
  {
   "cell_type": "code",
   "execution_count": 63,
   "metadata": {},
   "outputs": [],
   "source": [
    "df_day = pd.DataFrame({'Day':gg.index.astype('int'), 'number of accidents':gg.values})"
   ]
  },
  {
   "cell_type": "code",
   "execution_count": 64,
   "metadata": {},
   "outputs": [
    {
     "data": {
      "text/plain": [
       "Text(0, 0.5, 'Number of accidents')"
      ]
     },
     "execution_count": 64,
     "metadata": {},
     "output_type": "execute_result"
    },
    {
     "data": {
      "image/png": "[encoded data removed]",
      "text/plain": [
       "<Figure size 504x504 with 1 Axes>"
      ]
     },
     "metadata": {
      "needs_background": "light"
     },
     "output_type": "display_data"
    }
   ],
   "source": [
    "plt.figure(figsize = (7,7))\n",
    "plt.bar(df_day['Day'], df_day['number of accidents'])\n",
    "#add some decorations\n",
    "plt.xlabel('Day of the month')\n",
    "plt.ylabel('Number of accidents')\n"
   ]
  },
  {
   "cell_type": "markdown",
   "metadata": {},
   "source": [
    "The plot above might be useful for examining the number of accidents at the end of the month and the at the beginning of the month. "
   ]
  },
  {
   "cell_type": "markdown",
   "metadata": {},
   "source": [
    "Now you need to assign days to the dates and examine the number of accidents for each day, for example monday, tuesday, wednesday, etc. "
   ]
  },
  {
   "cell_type": "code",
   "execution_count": 65,
   "metadata": {},
   "outputs": [],
   "source": [
    "df['Day of Week'] = df['Accident Date2'].apply(lambda time: time.dayofweek)"
   ]
  },
  {
   "cell_type": "code",
   "execution_count": 66,
   "metadata": {},
   "outputs": [],
   "source": [
    "yy = df['Day of Week'].value_counts()"
   ]
  },
  {
   "cell_type": "code",
   "execution_count": 67,
   "metadata": {},
   "outputs": [
    {
     "data": {
      "text/plain": [
       "4    367\n",
       "5    335\n",
       "2    332\n",
       "3    323\n",
       "0    297\n",
       "1    293\n",
       "6    256\n",
       "Name: Day of Week, dtype: int64"
      ]
     },
     "execution_count": 67,
     "metadata": {},
     "output_type": "execute_result"
    }
   ],
   "source": [
    "yy"
   ]
  },
  {
   "cell_type": "code",
   "execution_count": 68,
   "metadata": {},
   "outputs": [],
   "source": [
    "df_yy = pd.DataFrame({'Day':yy.index, 'number of accidents':yy.values})"
   ]
  },
  {
   "cell_type": "code",
   "execution_count": 69,
   "metadata": {},
   "outputs": [],
   "source": [
    "df_yy.sort_values(by=['Day'], inplace = True, ascending = True)"
   ]
  },
  {
   "cell_type": "code",
   "execution_count": 70,
   "metadata": {},
   "outputs": [
    {
     "data": {
      "text/plain": [
       "Text(0.5, 1.0, 'number of accidents per day')"
      ]
     },
     "execution_count": 70,
     "metadata": {},
     "output_type": "execute_result"
    },
    {
     "data": {
      "image/png": "[encoded data removed]",
      "text/plain": [
       "<Figure size 400x400 with 1 Axes>"
      ]
     },
     "metadata": {
      "needs_background": "light"
     },
     "output_type": "display_data"
    }
   ],
   "source": [
    "plt.figure(figsize = (4,4), dpi = 100)\n",
    "plt.plot(df_yy['Day'], df_yy['number of accidents'])\n",
    "plt.xlabel('Day of the week')\n",
    "plt.ylabel('Number of accidents')\n",
    "plt.title('number of accidents per day')"
   ]
  },
  {
   "cell_type": "markdown",
   "metadata": {},
   "source": [
    "PLOTTING THE NUMBER OF ACCIDENTTS PER "
   ]
  },
  {
   "cell_type": "code",
   "execution_count": 78,
   "metadata": {},
   "outputs": [],
   "source": [
    "df['Time2'] = df['Time (24hr)']/100"
   ]
  },
  {
   "cell_type": "code",
   "execution_count": 80,
   "metadata": {},
   "outputs": [],
   "source": [
    "uu = df['Time2'].value_counts()"
   ]
  },
  {
   "cell_type": "code",
   "execution_count": 81,
   "metadata": {},
   "outputs": [
    {
     "data": {
      "text/plain": [
       "17.00    34\n",
       "18.00    29\n",
       "16.00    29\n",
       "19.00    22\n",
       "16.30    21\n",
       "         ..\n",
       "23.28     1\n",
       "13.12     1\n",
       "20.05     1\n",
       "6.33      1\n",
       "22.19     1\n",
       "Name: Time2, Length: 633, dtype: int64"
      ]
     },
     "execution_count": 81,
     "metadata": {},
     "output_type": "execute_result"
    }
   ],
   "source": [
    "uu"
   ]
  },
  {
   "cell_type": "code",
   "execution_count": 84,
   "metadata": {},
   "outputs": [],
   "source": [
    "df_uu = pd.DataFrame({'Hours':uu.index, 'number of accidents':uu.values})\n",
    "df_uu.Hours = df_uu.Hours.round()\n",
    "#"
   ]
  },
  {
   "cell_type": "code",
   "execution_count": 85,
   "metadata": {},
   "outputs": [],
   "source": [
    "df_uu.sort_values(by=['Hours'], inplace = True, ascending = True)"
   ]
  },
  {
   "cell_type": "code",
   "execution_count": 87,
   "metadata": {},
   "outputs": [
    {
     "data": {
      "text/plain": [
       "Text(0.5, 1.0, 'number of accidents per Time')"
      ]
     },
     "execution_count": 87,
     "metadata": {},
     "output_type": "execute_result"
    },
    {
     "data": {
      "image/png": "[encoded data removed]",
      "text/plain": [
       "<Figure size 400x1000 with 1 Axes>"
      ]
     },
     "metadata": {
      "needs_background": "light"
     },
     "output_type": "display_data"
    }
   ],
   "source": [
    "plt.figure(figsize = (10,4), dpi = 100)\n",
    "plt.plot(df_uu['Hours'], df_uu['number of accidents'])\n",
    "plt.xlabel('Hour of the Day')\n",
    "plt.ylabel('Number of accidents')\n",
    "plt.title('number of accidents per Time')"
   ]
  },
  {
   "cell_type": "code",
   "execution_count": null,
   "metadata": {},
   "outputs": [],
   "source": []
  },
  {
   "cell_type": "code",
   "execution_count": null,
   "metadata": {},
   "outputs": [],
   "source": []
  },
  {
   "cell_type": "code",
   "execution_count": null,
   "metadata": {},
   "outputs": [],
   "source": []
  }
 ],
 "metadata": {
  "kernelspec": {
   "display_name": "Python",
   "language": "python",
   "name": "conda-env-python-py"
  },
  "language_info": {
   "codemirror_mode": {
    "name": "ipython",
    "version": 3
   },
   "file_extension": ".py",
   "mimetype": "text/x-python",
   "name": "python",
   "nbconvert_exporter": "python",
   "pygments_lexer": "ipython3",
   "version": "3.6.7"
  }
 },
 "nbformat": 4,
 "nbformat_minor": 4
}
