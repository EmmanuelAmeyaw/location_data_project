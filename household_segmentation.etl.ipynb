{
 "cells": [
  {
   "cell_type": "markdown",
   "metadata": {},
   "source": [
    "# Clustering Ghanaian households based on their expenditure patterns"
   ]
  },
  {
   "cell_type": "markdown",
   "metadata": {},
   "source": [
    "### 1.2 Extract, Transform, Load (ETL)"
   ]
  },
  {
   "cell_type": "markdown",
   "metadata": {},
   "source": [
    "In this notebook, we will transform the data from the source into a shape suitable for analytics. First of all, we mention that the dataset is in CSV format and as such we do not perform de-normalization. Some of the task we will perform in this ETL document includes merging, checking data types for each column, correlation analysis, filtering, sorting, splitting, relacements, etc."
   ]
  },
  {
   "cell_type": "markdown",
   "metadata": {},
   "source": [
    "#### MERGING DATA"
   ]
  },
  {
   "cell_type": "code",
   "execution_count": 1,
   "metadata": {},
   "outputs": [],
   "source": [
    "import pandas as pd"
   ]
  },
  {
   "cell_type": "markdown",
   "metadata": {},
   "source": [
    "In the exercise below, we will merge the 12 separate datasets"
   ]
  },
  {
   "cell_type": "markdown",
   "metadata": {},
   "source": [
    "Import demographics data which is already downloaded"
   ]
  },
  {
   "cell_type": "code",
   "execution_count": 5,
   "metadata": {},
   "outputs": [],
   "source": [
    "basic_info = pd.read_csv('BASIC_INFO.csv')"
   ]
  },
  {
   "cell_type": "code",
   "execution_count": 6,
   "metadata": {},
   "outputs": [
    {
     "data": {
      "text/html": [
       "<div>\n",
       "<style scoped>\n",
       "    .dataframe tbody tr th:only-of-type {\n",
       "        vertical-align: middle;\n",
       "    }\n",
       "\n",
       "    .dataframe tbody tr th {\n",
       "        vertical-align: top;\n",
       "    }\n",
       "\n",
       "    .dataframe thead th {\n",
       "        text-align: right;\n",
       "    }\n",
       "</style>\n",
       "<table border=\"1\" class=\"dataframe\">\n",
       "  <thead>\n",
       "    <tr style=\"text-align: right;\">\n",
       "      <th></th>\n",
       "      <th>country</th>\n",
       "      <th>region</th>\n",
       "      <th>hid</th>\n",
       "      <th>clust</th>\n",
       "      <th>nh</th>\n",
       "      <th>loc2</th>\n",
       "      <th>loc5</th>\n",
       "      <th>loc7</th>\n",
       "      <th>survemo</th>\n",
       "      <th>surveyr</th>\n",
       "      <th>eqsc</th>\n",
       "      <th>hhsize</th>\n",
       "      <th>WTA_S</th>\n",
       "      <th>WTA_S_HHSIZE</th>\n",
       "      <th>rururb</th>\n",
       "    </tr>\n",
       "  </thead>\n",
       "  <tbody>\n",
       "    <tr>\n",
       "      <th>0</th>\n",
       "      <td>Ghana</td>\n",
       "      <td>Western</td>\n",
       "      <td>70001/01</td>\n",
       "      <td>70001.0</td>\n",
       "      <td>1.0</td>\n",
       "      <td>Urban</td>\n",
       "      <td>Other Urban</td>\n",
       "      <td>Urban Coastal</td>\n",
       "      <td>10.0</td>\n",
       "      <td>2016.0</td>\n",
       "      <td>0.76</td>\n",
       "      <td>1.0</td>\n",
       "      <td>482.56895</td>\n",
       "      <td>482.5689</td>\n",
       "      <td>Urban</td>\n",
       "    </tr>\n",
       "    <tr>\n",
       "      <th>1</th>\n",
       "      <td>Ghana</td>\n",
       "      <td>Western</td>\n",
       "      <td>70001/02</td>\n",
       "      <td>70001.0</td>\n",
       "      <td>2.0</td>\n",
       "      <td>Urban</td>\n",
       "      <td>Other Urban</td>\n",
       "      <td>Urban Coastal</td>\n",
       "      <td>10.0</td>\n",
       "      <td>2016.0</td>\n",
       "      <td>5.59</td>\n",
       "      <td>7.0</td>\n",
       "      <td>482.56895</td>\n",
       "      <td>3377.9830</td>\n",
       "      <td>Urban</td>\n",
       "    </tr>\n",
       "    <tr>\n",
       "      <th>2</th>\n",
       "      <td>Ghana</td>\n",
       "      <td>Western</td>\n",
       "      <td>70001/03</td>\n",
       "      <td>70001.0</td>\n",
       "      <td>3.0</td>\n",
       "      <td>Urban</td>\n",
       "      <td>Other Urban</td>\n",
       "      <td>Urban Coastal</td>\n",
       "      <td>10.0</td>\n",
       "      <td>2016.0</td>\n",
       "      <td>1.00</td>\n",
       "      <td>1.0</td>\n",
       "      <td>482.56895</td>\n",
       "      <td>482.5689</td>\n",
       "      <td>Urban</td>\n",
       "    </tr>\n",
       "  </tbody>\n",
       "</table>\n",
       "</div>"
      ],
      "text/plain": [
       "  country   region       hid    clust   nh   loc2         loc5           loc7  \\\n",
       "0   Ghana  Western  70001/01  70001.0  1.0  Urban  Other Urban  Urban Coastal   \n",
       "1   Ghana  Western  70001/02  70001.0  2.0  Urban  Other Urban  Urban Coastal   \n",
       "2   Ghana  Western  70001/03  70001.0  3.0  Urban  Other Urban  Urban Coastal   \n",
       "\n",
       "   survemo  surveyr  eqsc  hhsize      WTA_S  WTA_S_HHSIZE rururb  \n",
       "0     10.0   2016.0  0.76     1.0  482.56895      482.5689  Urban  \n",
       "1     10.0   2016.0  5.59     7.0  482.56895     3377.9830  Urban  \n",
       "2     10.0   2016.0  1.00     1.0  482.56895      482.5689  Urban  "
      ]
     },
     "execution_count": 6,
     "metadata": {},
     "output_type": "execute_result"
    }
   ],
   "source": [
    "basic_info.head(3)"
   ]
  },
  {
   "cell_type": "markdown",
   "metadata": {},
   "source": [
    "the data above contains the demographics of the households but we do not need all them, so we will select only some columns - hid:household id, region:region of household, rururb:rural or urban"
   ]
  },
  {
   "cell_type": "code",
   "execution_count": 8,
   "metadata": {},
   "outputs": [],
   "source": [
    "basic_info2 = basic_info[['hid','region','rururb']]"
   ]
  },
  {
   "cell_type": "code",
   "execution_count": 9,
   "metadata": {},
   "outputs": [
    {
     "data": {
      "text/html": [
       "<div>\n",
       "<style scoped>\n",
       "    .dataframe tbody tr th:only-of-type {\n",
       "        vertical-align: middle;\n",
       "    }\n",
       "\n",
       "    .dataframe tbody tr th {\n",
       "        vertical-align: top;\n",
       "    }\n",
       "\n",
       "    .dataframe thead th {\n",
       "        text-align: right;\n",
       "    }\n",
       "</style>\n",
       "<table border=\"1\" class=\"dataframe\">\n",
       "  <thead>\n",
       "    <tr style=\"text-align: right;\">\n",
       "      <th></th>\n",
       "      <th>hid</th>\n",
       "      <th>region</th>\n",
       "      <th>rururb</th>\n",
       "    </tr>\n",
       "  </thead>\n",
       "  <tbody>\n",
       "    <tr>\n",
       "      <th>0</th>\n",
       "      <td>70001/01</td>\n",
       "      <td>Western</td>\n",
       "      <td>Urban</td>\n",
       "    </tr>\n",
       "    <tr>\n",
       "      <th>1</th>\n",
       "      <td>70001/02</td>\n",
       "      <td>Western</td>\n",
       "      <td>Urban</td>\n",
       "    </tr>\n",
       "  </tbody>\n",
       "</table>\n",
       "</div>"
      ],
      "text/plain": [
       "        hid   region rururb\n",
       "0  70001/01  Western  Urban\n",
       "1  70001/02  Western  Urban"
      ]
     },
     "execution_count": 9,
     "metadata": {},
     "output_type": "execute_result"
    }
   ],
   "source": [
    "basic_info2.head(2)"
   ]
  },
  {
   "cell_type": "markdown",
   "metadata": {},
   "source": [
    "Next, we will merge the data above with the various data files containing the 12 expenditure compnents. Some of the files contains just a subset of the households, and so we will use the households that reported values for all 12 components.  "
   ]
  },
  {
   "cell_type": "markdown",
   "metadata": {},
   "source": [
    "import food expenditure data"
   ]
  },
  {
   "cell_type": "code",
   "execution_count": 10,
   "metadata": {},
   "outputs": [],
   "source": [
    "exp_food = pd.read_csv('01_GHA_EXPFOOD.csv')"
   ]
  },
  {
   "cell_type": "code",
   "execution_count": 11,
   "metadata": {},
   "outputs": [],
   "source": [
    "b1 = pd.merge(basic_info2, exp_food, how='inner', on='hid') # we are merging on the household id.\n"
   ]
  },
  {
   "cell_type": "markdown",
   "metadata": {},
   "source": [
    "import alcohol expenditure data"
   ]
  },
  {
   "cell_type": "code",
   "execution_count": 13,
   "metadata": {},
   "outputs": [],
   "source": [
    "exp_alch = pd.read_csv('02_GHA_EXPALCH.csv')"
   ]
  },
  {
   "cell_type": "code",
   "execution_count": 14,
   "metadata": {},
   "outputs": [],
   "source": [
    "b2 = pd.merge(b1, exp_alch, how='inner', on='hid') # we are merging on the household id.\n"
   ]
  },
  {
   "cell_type": "markdown",
   "metadata": {},
   "source": [
    "import clothing expenditure data"
   ]
  },
  {
   "cell_type": "code",
   "execution_count": 15,
   "metadata": {},
   "outputs": [],
   "source": [
    "exp_cl = pd.read_csv('03_GHA_EXPCLTH.csv')\n",
    "b3 = pd.merge(b2, exp_cl, how='inner', on='hid') # we are merging on the household id.\n"
   ]
  },
  {
   "cell_type": "markdown",
   "metadata": {},
   "source": [
    "import housing expenditure data"
   ]
  },
  {
   "cell_type": "code",
   "execution_count": 16,
   "metadata": {},
   "outputs": [],
   "source": [
    "exp_hs = pd.read_csv('04_GHA_EXPHOUS.csv')\n",
    "b4 = pd.merge(b3, exp_hs, how='inner', on='hid') # we are merging on the household id.\n"
   ]
  },
  {
   "cell_type": "markdown",
   "metadata": {},
   "source": [
    "import furniture expenditure data"
   ]
  },
  {
   "cell_type": "code",
   "execution_count": 17,
   "metadata": {},
   "outputs": [],
   "source": [
    "exp_fur = pd.read_csv('05_GHA_EXPFURN.csv')\n",
    "b5 = pd.merge(b4, exp_fur, how='inner', on='hid') # we are merging on the household id.\n"
   ]
  },
  {
   "cell_type": "markdown",
   "metadata": {},
   "source": [
    "import health expenditure data"
   ]
  },
  {
   "cell_type": "code",
   "execution_count": 18,
   "metadata": {},
   "outputs": [],
   "source": [
    "exp_hl = pd.read_csv('06_GHA_EXPHLTH.csv')\n",
    "b6 = pd.merge(b5, exp_hl, how='inner', on='hid') # we are merging on the household id.\n"
   ]
  },
  {
   "cell_type": "markdown",
   "metadata": {},
   "source": [
    "import transport expenditure data"
   ]
  },
  {
   "cell_type": "code",
   "execution_count": 19,
   "metadata": {},
   "outputs": [],
   "source": [
    "exp_tr = pd.read_csv('07_GHA_EXPTRSP.csv')\n",
    "b7 = pd.merge(b6, exp_tr, how='inner', on='hid') # we are merging on the household id.\n"
   ]
  },
  {
   "cell_type": "markdown",
   "metadata": {},
   "source": [
    "import communication expenditure data"
   ]
  },
  {
   "cell_type": "code",
   "execution_count": 20,
   "metadata": {},
   "outputs": [],
   "source": [
    "exp_cm = pd.read_csv('08_GHA_EXPCMNQ.csv')\n",
    "b8 = pd.merge(b7, exp_cm, how='inner', on='hid') # we are merging on the household id.\n"
   ]
  },
  {
   "cell_type": "markdown",
   "metadata": {},
   "source": [
    "import recreation expenditure data"
   ]
  },
  {
   "cell_type": "code",
   "execution_count": 21,
   "metadata": {},
   "outputs": [],
   "source": [
    "exp_re = pd.read_csv('09_GHA_EXPRCRE.csv')\n",
    "b9 = pd.merge(b8, exp_re, how='inner', on='hid') # we are merging on the household id.\n"
   ]
  },
  {
   "cell_type": "markdown",
   "metadata": {},
   "source": [
    "import education expenditure data"
   ]
  },
  {
   "cell_type": "code",
   "execution_count": 22,
   "metadata": {},
   "outputs": [],
   "source": [
    "exp_ed = pd.read_csv('10_GHA_EXPEDUC.csv')\n",
    "b10 = pd.merge(b9, exp_ed, how='inner', on='hid') # we are merging on the household id.\n"
   ]
  },
  {
   "cell_type": "markdown",
   "metadata": {},
   "source": [
    "import hotel and restaurant expenditure data"
   ]
  },
  {
   "cell_type": "code",
   "execution_count": 23,
   "metadata": {},
   "outputs": [],
   "source": [
    "exp_ht = pd.read_csv('11_GHA_EXPHOTL.csv')\n",
    "b11 = pd.merge(b10, exp_ht, how='inner', on='hid') # we are merging on the household id.\n"
   ]
  },
  {
   "cell_type": "markdown",
   "metadata": {},
   "source": [
    "import miscellaneous expenditure data"
   ]
  },
  {
   "cell_type": "code",
   "execution_count": 24,
   "metadata": {},
   "outputs": [],
   "source": [
    "exp_mis = pd.read_csv('12_GHA_EXPMISC.csv')\n",
    "b12 = pd.merge(b11, exp_mis, how='inner', on='hid') # we are merging on the household id.\n"
   ]
  },
  {
   "cell_type": "code",
   "execution_count": 25,
   "metadata": {},
   "outputs": [],
   "source": [
    "df = b12"
   ]
  },
  {
   "cell_type": "markdown",
   "metadata": {},
   "source": [
    "Let's view the data"
   ]
  },
  {
   "cell_type": "code",
   "execution_count": 26,
   "metadata": {},
   "outputs": [
    {
     "data": {
      "text/html": [
       "<div>\n",
       "<style scoped>\n",
       "    .dataframe tbody tr th:only-of-type {\n",
       "        vertical-align: middle;\n",
       "    }\n",
       "\n",
       "    .dataframe tbody tr th {\n",
       "        vertical-align: top;\n",
       "    }\n",
       "\n",
       "    .dataframe thead th {\n",
       "        text-align: right;\n",
       "    }\n",
       "</style>\n",
       "<table border=\"1\" class=\"dataframe\">\n",
       "  <thead>\n",
       "    <tr style=\"text-align: right;\">\n",
       "      <th></th>\n",
       "      <th>hid</th>\n",
       "      <th>region</th>\n",
       "      <th>rururb</th>\n",
       "      <th>TOTFOOD</th>\n",
       "      <th>TOTALCH</th>\n",
       "      <th>TOTCLTH</th>\n",
       "      <th>TOTHOUS</th>\n",
       "      <th>TOTFURN</th>\n",
       "      <th>TOTHLTH</th>\n",
       "      <th>TOTTRSP</th>\n",
       "      <th>TOTCMNQ</th>\n",
       "      <th>TOTRCRE</th>\n",
       "      <th>TOTEDUC</th>\n",
       "      <th>TOTHOTL</th>\n",
       "      <th>TOTMISC</th>\n",
       "    </tr>\n",
       "  </thead>\n",
       "  <tbody>\n",
       "    <tr>\n",
       "      <th>0</th>\n",
       "      <td>70001/02</td>\n",
       "      <td>Western</td>\n",
       "      <td>Urban</td>\n",
       "      <td>9437.439453</td>\n",
       "      <td>0.0</td>\n",
       "      <td>1978.0</td>\n",
       "      <td>2569.800049</td>\n",
       "      <td>1128.790039</td>\n",
       "      <td>182.500000</td>\n",
       "      <td>2248.399902</td>\n",
       "      <td>138.899994</td>\n",
       "      <td>55.250000</td>\n",
       "      <td>1481.5</td>\n",
       "      <td>0.0</td>\n",
       "      <td>1081.459961</td>\n",
       "    </tr>\n",
       "    <tr>\n",
       "      <th>1</th>\n",
       "      <td>70001/05</td>\n",
       "      <td>Western</td>\n",
       "      <td>Urban</td>\n",
       "      <td>6990.479980</td>\n",
       "      <td>0.0</td>\n",
       "      <td>906.0</td>\n",
       "      <td>10808.799805</td>\n",
       "      <td>1693.709961</td>\n",
       "      <td>21.900000</td>\n",
       "      <td>192.500000</td>\n",
       "      <td>370.399994</td>\n",
       "      <td>50.000000</td>\n",
       "      <td>5079.0</td>\n",
       "      <td>0.0</td>\n",
       "      <td>260.200012</td>\n",
       "    </tr>\n",
       "    <tr>\n",
       "      <th>2</th>\n",
       "      <td>70001/06</td>\n",
       "      <td>Western</td>\n",
       "      <td>Urban</td>\n",
       "      <td>3079.566895</td>\n",
       "      <td>0.0</td>\n",
       "      <td>442.0</td>\n",
       "      <td>1240.099976</td>\n",
       "      <td>379.599976</td>\n",
       "      <td>29.200001</td>\n",
       "      <td>0.000000</td>\n",
       "      <td>146.000000</td>\n",
       "      <td>21.900002</td>\n",
       "      <td>827.0</td>\n",
       "      <td>0.0</td>\n",
       "      <td>932.660034</td>\n",
       "    </tr>\n",
       "    <tr>\n",
       "      <th>3</th>\n",
       "      <td>70001/07</td>\n",
       "      <td>Western</td>\n",
       "      <td>Urban</td>\n",
       "      <td>6542.259766</td>\n",
       "      <td>0.0</td>\n",
       "      <td>2435.0</td>\n",
       "      <td>1200.800049</td>\n",
       "      <td>580.959961</td>\n",
       "      <td>29.200001</td>\n",
       "      <td>2579.500000</td>\n",
       "      <td>567.700012</td>\n",
       "      <td>12.500000</td>\n",
       "      <td>1198.0</td>\n",
       "      <td>0.0</td>\n",
       "      <td>898.919983</td>\n",
       "    </tr>\n",
       "    <tr>\n",
       "      <th>4</th>\n",
       "      <td>70001/09</td>\n",
       "      <td>Western</td>\n",
       "      <td>Urban</td>\n",
       "      <td>15067.199219</td>\n",
       "      <td>0.0</td>\n",
       "      <td>1439.0</td>\n",
       "      <td>1802.199951</td>\n",
       "      <td>1439.250000</td>\n",
       "      <td>2219.199951</td>\n",
       "      <td>1022.000000</td>\n",
       "      <td>627.799988</td>\n",
       "      <td>69.599998</td>\n",
       "      <td>2010.0</td>\n",
       "      <td>0.0</td>\n",
       "      <td>1007.919983</td>\n",
       "    </tr>\n",
       "  </tbody>\n",
       "</table>\n",
       "</div>"
      ],
      "text/plain": [
       "        hid   region rururb       TOTFOOD  TOTALCH  TOTCLTH       TOTHOUS  \\\n",
       "0  70001/02  Western  Urban   9437.439453      0.0   1978.0   2569.800049   \n",
       "1  70001/05  Western  Urban   6990.479980      0.0    906.0  10808.799805   \n",
       "2  70001/06  Western  Urban   3079.566895      0.0    442.0   1240.099976   \n",
       "3  70001/07  Western  Urban   6542.259766      0.0   2435.0   1200.800049   \n",
       "4  70001/09  Western  Urban  15067.199219      0.0   1439.0   1802.199951   \n",
       "\n",
       "       TOTFURN      TOTHLTH      TOTTRSP     TOTCMNQ    TOTRCRE  TOTEDUC  \\\n",
       "0  1128.790039   182.500000  2248.399902  138.899994  55.250000   1481.5   \n",
       "1  1693.709961    21.900000   192.500000  370.399994  50.000000   5079.0   \n",
       "2   379.599976    29.200001     0.000000  146.000000  21.900002    827.0   \n",
       "3   580.959961    29.200001  2579.500000  567.700012  12.500000   1198.0   \n",
       "4  1439.250000  2219.199951  1022.000000  627.799988  69.599998   2010.0   \n",
       "\n",
       "   TOTHOTL      TOTMISC  \n",
       "0      0.0  1081.459961  \n",
       "1      0.0   260.200012  \n",
       "2      0.0   932.660034  \n",
       "3      0.0   898.919983  \n",
       "4      0.0  1007.919983  "
      ]
     },
     "execution_count": 26,
     "metadata": {},
     "output_type": "execute_result"
    }
   ],
   "source": [
    "df.head()"
   ]
  },
  {
   "cell_type": "markdown",
   "metadata": {},
   "source": [
    "lets also add a column for total expiture accross all 12 expenditure components. Lets first remove numerical columns"
   ]
  },
  {
   "cell_type": "markdown",
   "metadata": {},
   "source": [
    "#### GENERATING TOTAL EXPENDITURE COLUMN"
   ]
  },
  {
   "cell_type": "code",
   "execution_count": 46,
   "metadata": {},
   "outputs": [],
   "source": [
    "col_list= list(df)\n",
    "col_list.remove('hid')\n",
    "col_list.remove('region')\n",
    "col_list.remove('rururb')"
   ]
  },
  {
   "cell_type": "code",
   "execution_count": 34,
   "metadata": {},
   "outputs": [],
   "source": [
    "df['TOTAL_EXP'] = df[col_list].sum(axis=1)"
   ]
  },
  {
   "cell_type": "code",
   "execution_count": 35,
   "metadata": {},
   "outputs": [
    {
     "data": {
      "text/html": [
       "<div>\n",
       "<style scoped>\n",
       "    .dataframe tbody tr th:only-of-type {\n",
       "        vertical-align: middle;\n",
       "    }\n",
       "\n",
       "    .dataframe tbody tr th {\n",
       "        vertical-align: top;\n",
       "    }\n",
       "\n",
       "    .dataframe thead th {\n",
       "        text-align: right;\n",
       "    }\n",
       "</style>\n",
       "<table border=\"1\" class=\"dataframe\">\n",
       "  <thead>\n",
       "    <tr style=\"text-align: right;\">\n",
       "      <th></th>\n",
       "      <th>hid</th>\n",
       "      <th>region</th>\n",
       "      <th>rururb</th>\n",
       "      <th>TOTFOOD</th>\n",
       "      <th>TOTALCH</th>\n",
       "      <th>TOTCLTH</th>\n",
       "      <th>TOTHOUS</th>\n",
       "      <th>TOTFURN</th>\n",
       "      <th>TOTHLTH</th>\n",
       "      <th>TOTTRSP</th>\n",
       "      <th>TOTCMNQ</th>\n",
       "      <th>TOTRCRE</th>\n",
       "      <th>TOTEDUC</th>\n",
       "      <th>TOTHOTL</th>\n",
       "      <th>TOTMISC</th>\n",
       "      <th>TOTAL_EXP</th>\n",
       "    </tr>\n",
       "  </thead>\n",
       "  <tbody>\n",
       "    <tr>\n",
       "      <th>0</th>\n",
       "      <td>70001/02</td>\n",
       "      <td>Western</td>\n",
       "      <td>Urban</td>\n",
       "      <td>9437.439453</td>\n",
       "      <td>0.0</td>\n",
       "      <td>1978.0</td>\n",
       "      <td>2569.800049</td>\n",
       "      <td>1128.790039</td>\n",
       "      <td>182.5</td>\n",
       "      <td>2248.399902</td>\n",
       "      <td>138.899994</td>\n",
       "      <td>55.25</td>\n",
       "      <td>1481.5</td>\n",
       "      <td>0.0</td>\n",
       "      <td>1081.459961</td>\n",
       "      <td>20302.039398</td>\n",
       "    </tr>\n",
       "    <tr>\n",
       "      <th>1</th>\n",
       "      <td>70001/05</td>\n",
       "      <td>Western</td>\n",
       "      <td>Urban</td>\n",
       "      <td>6990.479980</td>\n",
       "      <td>0.0</td>\n",
       "      <td>906.0</td>\n",
       "      <td>10808.799805</td>\n",
       "      <td>1693.709961</td>\n",
       "      <td>21.9</td>\n",
       "      <td>192.500000</td>\n",
       "      <td>370.399994</td>\n",
       "      <td>50.00</td>\n",
       "      <td>5079.0</td>\n",
       "      <td>0.0</td>\n",
       "      <td>260.200012</td>\n",
       "      <td>26372.989752</td>\n",
       "    </tr>\n",
       "  </tbody>\n",
       "</table>\n",
       "</div>"
      ],
      "text/plain": [
       "        hid   region rururb      TOTFOOD  TOTALCH  TOTCLTH       TOTHOUS  \\\n",
       "0  70001/02  Western  Urban  9437.439453      0.0   1978.0   2569.800049   \n",
       "1  70001/05  Western  Urban  6990.479980      0.0    906.0  10808.799805   \n",
       "\n",
       "       TOTFURN  TOTHLTH      TOTTRSP     TOTCMNQ  TOTRCRE  TOTEDUC  TOTHOTL  \\\n",
       "0  1128.790039    182.5  2248.399902  138.899994    55.25   1481.5      0.0   \n",
       "1  1693.709961     21.9   192.500000  370.399994    50.00   5079.0      0.0   \n",
       "\n",
       "       TOTMISC     TOTAL_EXP  \n",
       "0  1081.459961  20302.039398  \n",
       "1   260.200012  26372.989752  "
      ]
     },
     "execution_count": 35,
     "metadata": {},
     "output_type": "execute_result"
    }
   ],
   "source": [
    "df.head(2)"
   ]
  },
  {
   "cell_type": "markdown",
   "metadata": {},
   "source": [
    "#### CHECKING DATA TYPES"
   ]
  },
  {
   "cell_type": "code",
   "execution_count": 47,
   "metadata": {},
   "outputs": [
    {
     "name": "stdout",
     "output_type": "stream",
     "text": [
      "Using matplotlib backend: agg\n"
     ]
    }
   ],
   "source": [
    "%matplotlib"
   ]
  },
  {
   "cell_type": "markdown",
   "metadata": {},
   "source": [
    "check data type for each column to make sure the data is in the right format"
   ]
  },
  {
   "cell_type": "code",
   "execution_count": 48,
   "metadata": {},
   "outputs": [
    {
     "name": "stdout",
     "output_type": "stream",
     "text": [
      "hid           object\n",
      "region        object\n",
      "rururb        object\n",
      "TOTFOOD      float64\n",
      "TOTALCH      float64\n",
      "TOTCLTH      float64\n",
      "TOTHOUS      float64\n",
      "TOTFURN      float64\n",
      "TOTHLTH      float64\n",
      "TOTTRSP      float64\n",
      "TOTCMNQ      float64\n",
      "TOTRCRE      float64\n",
      "TOTEDUC      float64\n",
      "TOTHOTL      float64\n",
      "TOTMISC      float64\n",
      "TOTAL_EXP    float64\n",
      "dtype: object\n"
     ]
    }
   ],
   "source": [
    "print(df.dtypes)"
   ]
  },
  {
   "cell_type": "markdown",
   "metadata": {},
   "source": [
    "checking for missing values"
   ]
  },
  {
   "cell_type": "code",
   "execution_count": 49,
   "metadata": {},
   "outputs": [
    {
     "data": {
      "text/plain": [
       "hid          0\n",
       "region       0\n",
       "rururb       0\n",
       "TOTFOOD      0\n",
       "TOTALCH      0\n",
       "TOTCLTH      0\n",
       "TOTHOUS      0\n",
       "TOTFURN      0\n",
       "TOTHLTH      0\n",
       "TOTTRSP      0\n",
       "TOTCMNQ      0\n",
       "TOTRCRE      0\n",
       "TOTEDUC      0\n",
       "TOTHOTL      0\n",
       "TOTMISC      0\n",
       "TOTAL_EXP    0\n",
       "dtype: int64"
      ]
     },
     "execution_count": 49,
     "metadata": {},
     "output_type": "execute_result"
    }
   ],
   "source": [
    "df.isna().sum()"
   ]
  },
  {
   "cell_type": "markdown",
   "metadata": {},
   "source": [
    "As we can see above, the data has no missing values"
   ]
  },
  {
   "cell_type": "markdown",
   "metadata": {},
   "source": [
    "let's also check the number of categories in the categorical variables. We see that the data is fairly distributed across the 10 regions of Ghana"
   ]
  },
  {
   "cell_type": "code",
   "execution_count": 50,
   "metadata": {},
   "outputs": [
    {
     "data": {
      "text/plain": [
       "Upper East       1086\n",
       "Northern          998\n",
       "Upper West        977\n",
       "Ashanti           917\n",
       "Volta             905\n",
       "Central           837\n",
       "Brong Ahafo       823\n",
       "Eastern           815\n",
       "Western           792\n",
       "Greater Accra     772\n",
       "Name: region, dtype: int64"
      ]
     },
     "execution_count": 50,
     "metadata": {},
     "output_type": "execute_result"
    }
   ],
   "source": [
    "df.region.value_counts()"
   ]
  },
  {
   "cell_type": "code",
   "execution_count": 51,
   "metadata": {},
   "outputs": [
    {
     "data": {
      "text/plain": [
       "Rural    5371\n",
       "Urban    3551\n",
       "Name: rururb, dtype: int64"
      ]
     },
     "execution_count": 51,
     "metadata": {},
     "output_type": "execute_result"
    }
   ],
   "source": [
    "df.rururb.value_counts()"
   ]
  },
  {
   "cell_type": "markdown",
   "metadata": {},
   "source": [
    "we also see that the sample has more rural respondents than urban respondents"
   ]
  },
  {
   "cell_type": "markdown",
   "metadata": {},
   "source": [
    "Next, we will describe each column. Thus, find the mean, std, min, etc for each column. "
   ]
  },
  {
   "cell_type": "code",
   "execution_count": 52,
   "metadata": {},
   "outputs": [
    {
     "data": {
      "text/html": [
       "<div>\n",
       "<style scoped>\n",
       "    .dataframe tbody tr th:only-of-type {\n",
       "        vertical-align: middle;\n",
       "    }\n",
       "\n",
       "    .dataframe tbody tr th {\n",
       "        vertical-align: top;\n",
       "    }\n",
       "\n",
       "    .dataframe thead th {\n",
       "        text-align: right;\n",
       "    }\n",
       "</style>\n",
       "<table border=\"1\" class=\"dataframe\">\n",
       "  <thead>\n",
       "    <tr style=\"text-align: right;\">\n",
       "      <th></th>\n",
       "      <th>TOTFOOD</th>\n",
       "      <th>TOTALCH</th>\n",
       "      <th>TOTCLTH</th>\n",
       "      <th>TOTHOUS</th>\n",
       "      <th>TOTFURN</th>\n",
       "      <th>TOTHLTH</th>\n",
       "      <th>TOTTRSP</th>\n",
       "      <th>TOTCMNQ</th>\n",
       "      <th>TOTRCRE</th>\n",
       "      <th>TOTEDUC</th>\n",
       "      <th>TOTHOTL</th>\n",
       "      <th>TOTMISC</th>\n",
       "      <th>TOTAL_EXP</th>\n",
       "    </tr>\n",
       "  </thead>\n",
       "  <tbody>\n",
       "    <tr>\n",
       "      <th>count</th>\n",
       "      <td>8922.000000</td>\n",
       "      <td>8922.000000</td>\n",
       "      <td>8922.000000</td>\n",
       "      <td>8922.000000</td>\n",
       "      <td>8922.000000</td>\n",
       "      <td>8922.000000</td>\n",
       "      <td>8922.000000</td>\n",
       "      <td>8922.000000</td>\n",
       "      <td>8922.000000</td>\n",
       "      <td>8922.000000</td>\n",
       "      <td>8922.000000</td>\n",
       "      <td>8922.000000</td>\n",
       "      <td>8922.000000</td>\n",
       "    </tr>\n",
       "    <tr>\n",
       "      <th>mean</th>\n",
       "      <td>5471.356412</td>\n",
       "      <td>75.792805</td>\n",
       "      <td>1018.662441</td>\n",
       "      <td>1096.321677</td>\n",
       "      <td>511.927836</td>\n",
       "      <td>91.094001</td>\n",
       "      <td>1045.463037</td>\n",
       "      <td>293.325670</td>\n",
       "      <td>204.334484</td>\n",
       "      <td>1931.279085</td>\n",
       "      <td>11.519222</td>\n",
       "      <td>320.666507</td>\n",
       "      <td>12071.743176</td>\n",
       "    </tr>\n",
       "    <tr>\n",
       "      <th>std</th>\n",
       "      <td>4560.189923</td>\n",
       "      <td>268.723522</td>\n",
       "      <td>1179.589452</td>\n",
       "      <td>2466.529863</td>\n",
       "      <td>662.724481</td>\n",
       "      <td>338.443163</td>\n",
       "      <td>3150.340309</td>\n",
       "      <td>562.418323</td>\n",
       "      <td>688.076699</td>\n",
       "      <td>3904.026908</td>\n",
       "      <td>513.625488</td>\n",
       "      <td>783.635398</td>\n",
       "      <td>11311.524793</td>\n",
       "    </tr>\n",
       "    <tr>\n",
       "      <th>min</th>\n",
       "      <td>0.000000</td>\n",
       "      <td>0.000000</td>\n",
       "      <td>0.000000</td>\n",
       "      <td>0.000000</td>\n",
       "      <td>0.000000</td>\n",
       "      <td>0.000000</td>\n",
       "      <td>0.000000</td>\n",
       "      <td>0.000000</td>\n",
       "      <td>0.000000</td>\n",
       "      <td>0.000000</td>\n",
       "      <td>0.000000</td>\n",
       "      <td>0.000000</td>\n",
       "      <td>130.500000</td>\n",
       "    </tr>\n",
       "    <tr>\n",
       "      <th>25%</th>\n",
       "      <td>2557.980835</td>\n",
       "      <td>0.000000</td>\n",
       "      <td>340.000000</td>\n",
       "      <td>120.000000</td>\n",
       "      <td>171.869995</td>\n",
       "      <td>0.000000</td>\n",
       "      <td>37.500000</td>\n",
       "      <td>20.000000</td>\n",
       "      <td>3.750000</td>\n",
       "      <td>249.125000</td>\n",
       "      <td>0.000000</td>\n",
       "      <td>7.300000</td>\n",
       "      <td>5377.969887</td>\n",
       "    </tr>\n",
       "    <tr>\n",
       "      <th>50%</th>\n",
       "      <td>4423.799805</td>\n",
       "      <td>0.000000</td>\n",
       "      <td>690.500000</td>\n",
       "      <td>589.392883</td>\n",
       "      <td>340.160004</td>\n",
       "      <td>0.000000</td>\n",
       "      <td>299.399994</td>\n",
       "      <td>125.000000</td>\n",
       "      <td>36.875000</td>\n",
       "      <td>871.500000</td>\n",
       "      <td>0.000000</td>\n",
       "      <td>116.800003</td>\n",
       "      <td>9309.149873</td>\n",
       "    </tr>\n",
       "    <tr>\n",
       "      <th>75%</th>\n",
       "      <td>7022.235107</td>\n",
       "      <td>0.000000</td>\n",
       "      <td>1310.750000</td>\n",
       "      <td>1447.225037</td>\n",
       "      <td>628.024979</td>\n",
       "      <td>58.400002</td>\n",
       "      <td>957.759995</td>\n",
       "      <td>380.312492</td>\n",
       "      <td>127.500000</td>\n",
       "      <td>2290.000000</td>\n",
       "      <td>0.000000</td>\n",
       "      <td>350.000000</td>\n",
       "      <td>15050.508835</td>\n",
       "    </tr>\n",
       "    <tr>\n",
       "      <th>max</th>\n",
       "      <td>86967.820312</td>\n",
       "      <td>6847.399902</td>\n",
       "      <td>32394.000000</td>\n",
       "      <td>142304.281250</td>\n",
       "      <td>15550.000000</td>\n",
       "      <td>10307.599609</td>\n",
       "      <td>70056.000000</td>\n",
       "      <td>27087.000000</td>\n",
       "      <td>27811.849609</td>\n",
       "      <td>141000.000000</td>\n",
       "      <td>46720.000000</td>\n",
       "      <td>37148.800781</td>\n",
       "      <td>232614.699219</td>\n",
       "    </tr>\n",
       "  </tbody>\n",
       "</table>\n",
       "</div>"
      ],
      "text/plain": [
       "            TOTFOOD      TOTALCH       TOTCLTH        TOTHOUS       TOTFURN  \\\n",
       "count   8922.000000  8922.000000   8922.000000    8922.000000   8922.000000   \n",
       "mean    5471.356412    75.792805   1018.662441    1096.321677    511.927836   \n",
       "std     4560.189923   268.723522   1179.589452    2466.529863    662.724481   \n",
       "min        0.000000     0.000000      0.000000       0.000000      0.000000   \n",
       "25%     2557.980835     0.000000    340.000000     120.000000    171.869995   \n",
       "50%     4423.799805     0.000000    690.500000     589.392883    340.160004   \n",
       "75%     7022.235107     0.000000   1310.750000    1447.225037    628.024979   \n",
       "max    86967.820312  6847.399902  32394.000000  142304.281250  15550.000000   \n",
       "\n",
       "            TOTHLTH       TOTTRSP       TOTCMNQ       TOTRCRE        TOTEDUC  \\\n",
       "count   8922.000000   8922.000000   8922.000000   8922.000000    8922.000000   \n",
       "mean      91.094001   1045.463037    293.325670    204.334484    1931.279085   \n",
       "std      338.443163   3150.340309    562.418323    688.076699    3904.026908   \n",
       "min        0.000000      0.000000      0.000000      0.000000       0.000000   \n",
       "25%        0.000000     37.500000     20.000000      3.750000     249.125000   \n",
       "50%        0.000000    299.399994    125.000000     36.875000     871.500000   \n",
       "75%       58.400002    957.759995    380.312492    127.500000    2290.000000   \n",
       "max    10307.599609  70056.000000  27087.000000  27811.849609  141000.000000   \n",
       "\n",
       "            TOTHOTL       TOTMISC      TOTAL_EXP  \n",
       "count   8922.000000   8922.000000    8922.000000  \n",
       "mean      11.519222    320.666507   12071.743176  \n",
       "std      513.625488    783.635398   11311.524793  \n",
       "min        0.000000      0.000000     130.500000  \n",
       "25%        0.000000      7.300000    5377.969887  \n",
       "50%        0.000000    116.800003    9309.149873  \n",
       "75%        0.000000    350.000000   15050.508835  \n",
       "max    46720.000000  37148.800781  232614.699219  "
      ]
     },
     "execution_count": 52,
     "metadata": {},
     "output_type": "execute_result"
    }
   ],
   "source": [
    "df.describe()"
   ]
  },
  {
   "cell_type": "markdown",
   "metadata": {},
   "source": [
    "let's plot the mean for each column"
   ]
  },
  {
   "cell_type": "code",
   "execution_count": 56,
   "metadata": {},
   "outputs": [
    {
     "data": {
      "text/plain": [
       "<matplotlib.axes._subplots.AxesSubplot at 0x7f158e3de198>"
      ]
     },
     "execution_count": 56,
     "metadata": {},
     "output_type": "execute_result"
    },
    {
     "data": {
      "image/png": "[encoded data removed]",
      "text/plain": [
       "<Figure size 432x288 with 1 Axes>"
      ]
     },
     "metadata": {
      "needs_background": "light"
     },
     "output_type": "display_data"
    }
   ],
   "source": [
    "row = df.describe().iloc[1]\n",
    "row.plot(kind='bar')"
   ]
  },
  {
   "cell_type": "markdown",
   "metadata": {},
   "source": [
    "we see that on average, expenditure on food is the highest among the 12 expenditure categories. This is followed by expenditure on education"
   ]
  },
  {
   "cell_type": "markdown",
   "metadata": {},
   "source": [
    "#### CHECKING CORRELATION BETWEEN NUMERICAL VARIABLES"
   ]
  },
  {
   "cell_type": "code",
   "execution_count": 61,
   "metadata": {},
   "outputs": [],
   "source": [
    "import seaborn as sns\n",
    "import numpy as np"
   ]
  },
  {
   "cell_type": "code",
   "execution_count": 62,
   "metadata": {},
   "outputs": [
    {
     "name": "stdout",
     "output_type": "stream",
     "text": [
      "          TOTFOOD   TOTALCH   TOTCLTH   TOTHOUS   TOTFURN   TOTHLTH   TOTTRSP  \\\n",
      "TOTFOOD  1.000000  0.059236  0.414471  0.215608  0.446896  0.111360  0.246756   \n",
      "TOTALCH  0.059236  1.000000  0.017349 -0.026565  0.044424  0.045401  0.076806   \n",
      "TOTCLTH  0.414471  0.017349  1.000000  0.259892  0.490700  0.132225  0.259086   \n",
      "TOTHOUS  0.215608 -0.026565  0.259892  1.000000  0.216682  0.059676  0.159905   \n",
      "TOTFURN  0.446896  0.044424  0.490700  0.216682  1.000000  0.168044  0.368949   \n",
      "TOTHLTH  0.111360  0.045401  0.132225  0.059676  0.168044  1.000000  0.086065   \n",
      "TOTTRSP  0.246756  0.076806  0.259086  0.159905  0.368949  0.086065  1.000000   \n",
      "TOTCMNQ  0.360874  0.049442  0.351978  0.191141  0.373025  0.082302  0.423987   \n",
      "TOTRCRE  0.207255  0.065860  0.215472  0.107751  0.249713  0.109526  0.161919   \n",
      "TOTEDUC  0.265572 -0.019162  0.272300  0.190763  0.349498  0.040523  0.320321   \n",
      "TOTHOTL  0.012442 -0.000849  0.008143  0.008299  0.014170 -0.000011  0.024985   \n",
      "TOTMISC  0.308585  0.018740  0.350530  0.186993  0.367011  0.123217  0.237236   \n",
      "\n",
      "          TOTCMNQ   TOTRCRE   TOTEDUC   TOTHOTL   TOTMISC  \n",
      "TOTFOOD  0.360874  0.207255  0.265572  0.012442  0.308585  \n",
      "TOTALCH  0.049442  0.065860 -0.019162 -0.000849  0.018740  \n",
      "TOTCLTH  0.351978  0.215472  0.272300  0.008143  0.350530  \n",
      "TOTHOUS  0.191141  0.107751  0.190763  0.008299  0.186993  \n",
      "TOTFURN  0.373025  0.249713  0.349498  0.014170  0.367011  \n",
      "TOTHLTH  0.082302  0.109526  0.040523 -0.000011  0.123217  \n",
      "TOTTRSP  0.423987  0.161919  0.320321  0.024985  0.237236  \n",
      "TOTCMNQ  1.000000  0.216366  0.333367  0.033978  0.293245  \n",
      "TOTRCRE  0.216366  1.000000  0.177995  0.004699  0.226860  \n",
      "TOTEDUC  0.333367  0.177995  1.000000  0.027792  0.226119  \n",
      "TOTHOTL  0.033978  0.004699  0.027792  1.000000  0.023220  \n",
      "TOTMISC  0.293245  0.226860  0.226119  0.023220  1.000000  \n"
     ]
    },
    {
     "data": {
      "text/plain": [
       "<matplotlib.axes._subplots.AxesSubplot at 0x7f1584051d68>"
      ]
     },
     "execution_count": 62,
     "metadata": {},
     "output_type": "execute_result"
    },
    {
     "data": {
      "image/png": "[encoded data removed]",
      "text/plain": [
       "<Figure size 576x576 with 2 Axes>"
      ]
     },
     "metadata": {
      "needs_background": "light"
     },
     "output_type": "display_data"
    }
   ],
   "source": [
    "X = df.iloc[:, 3:15]\n",
    "f, ax = plt.subplots(figsize=(8, 8))\n",
    "corr = X.corr()\n",
    "print(corr)\n",
    "sns.heatmap(corr, mask=np.zeros_like(corr, dtype=np.bool), \n",
    "            cmap=sns.diverging_palette(220, 10, as_cmap=True), square=True, ax=ax)\n",
    "\n",
    "\n"
   ]
  },
  {
   "cell_type": "markdown",
   "metadata": {},
   "source": [
    "We see that the correlation between the variables are lower than 0.5. Hence, we will use all the variables in the clustering analysis. Moreover this indicates that there is no need for PCA"
   ]
  },
  {
   "cell_type": "markdown",
   "metadata": {},
   "source": [
    "Plotting histograms for the various columns"
   ]
  },
  {
   "cell_type": "code",
   "execution_count": 76,
   "metadata": {},
   "outputs": [
    {
     "data": {
      "text/plain": [
       "<matplotlib.axes._subplots.AxesSubplot at 0x7f158b545a90>"
      ]
     },
     "execution_count": 76,
     "metadata": {},
     "output_type": "execute_result"
    },
    {
     "data": {
      "text/plain": [
       "<Figure size 432x288 with 0 Axes>"
      ]
     },
     "metadata": {},
     "output_type": "display_data"
    },
    {
     "data": {
      "image/png": "[encoded data removed]",
      "text/plain": [
       "<Figure size 1080x1080 with 1 Axes>"
      ]
     },
     "metadata": {
      "needs_background": "light"
     },
     "output_type": "display_data"
    }
   ],
   "source": [
    "plt.figure();\n",
    "\n",
    "X.plot.hist(alpha=0.5,figsize=(15,15),bins=50)"
   ]
  },
  {
   "cell_type": "markdown",
   "metadata": {},
   "source": [
    "Although it is difficult to see the histogram for some of the variables, the plot above suggests that there are outliers in the data"
   ]
  },
  {
   "cell_type": "markdown",
   "metadata": {},
   "source": [
    "In the figure below, we plot the histogram separately for each column on a subplot"
   ]
  },
  {
   "cell_type": "code",
   "execution_count": 75,
   "metadata": {},
   "outputs": [
    {
     "data": {
      "text/plain": [
       "array([[<matplotlib.axes._subplots.AxesSubplot object at 0x7f158bce26d8>,\n",
       "        <matplotlib.axes._subplots.AxesSubplot object at 0x7f158c1bbb00>,\n",
       "        <matplotlib.axes._subplots.AxesSubplot object at 0x7f158bd679b0>],\n",
       "       [<matplotlib.axes._subplots.AxesSubplot object at 0x7f158c15cb00>,\n",
       "        <matplotlib.axes._subplots.AxesSubplot object at 0x7f158bd17518>,\n",
       "        <matplotlib.axes._subplots.AxesSubplot object at 0x7f158bdd0a90>],\n",
       "       [<matplotlib.axes._subplots.AxesSubplot object at 0x7f158bafe048>,\n",
       "        <matplotlib.axes._subplots.AxesSubplot object at 0x7f158bb265f8>,\n",
       "        <matplotlib.axes._subplots.AxesSubplot object at 0x7f158bb26630>],\n",
       "       [<matplotlib.axes._subplots.AxesSubplot object at 0x7f158bac10f0>,\n",
       "        <matplotlib.axes._subplots.AxesSubplot object at 0x7f158bae9668>,\n",
       "        <matplotlib.axes._subplots.AxesSubplot object at 0x7f158ba8fbe0>]],\n",
       "      dtype=object)"
      ]
     },
     "execution_count": 75,
     "metadata": {},
     "output_type": "execute_result"
    },
    {
     "data": {
      "image/png": "[encoded data removed]",
      "text/plain": [
       "<Figure size 1080x1080 with 12 Axes>"
      ]
     },
     "metadata": {
      "needs_background": "light"
     },
     "output_type": "display_data"
    }
   ],
   "source": [
    "X.hist(figsize=(15,15), bins = 20)"
   ]
  },
  {
   "cell_type": "markdown",
   "metadata": {},
   "source": [
    "Next, lets examine the presence of outliers in the data using box plot"
   ]
  },
  {
   "cell_type": "code",
   "execution_count": 77,
   "metadata": {},
   "outputs": [
    {
     "data": {
      "image/png": "[encoded data removed]",
      "text/plain": [
       "<Figure size 1080x720 with 1 Axes>"
      ]
     },
     "metadata": {
      "needs_background": "light"
     },
     "output_type": "display_data"
    }
   ],
   "source": [
    "boxplot = X.boxplot(figsize=(15,10))"
   ]
  },
  {
   "cell_type": "markdown",
   "metadata": {},
   "source": [
    "The figure above indicates that there are outliers in all the variables. We will then use a clustering algorithm that is more robust to outliers such as K-median or DBSCAN. Specifically we will use DBSCAN for this project. "
   ]
  },
  {
   "cell_type": "markdown",
   "metadata": {},
   "source": [
    "#### REMOVING COLUMNS"
   ]
  },
  {
   "cell_type": "markdown",
   "metadata": {},
   "source": [
    "Also we will drop the the variable TOTHOTL - Expenditure on Hotels and restaurants  because it contains a lot similar values for the data points. Only 60  data points are non-zero, indicating a high level of stability in the data. And hence the need to drop it. "
   ]
  },
  {
   "cell_type": "code",
   "execution_count": 86,
   "metadata": {},
   "outputs": [
    {
     "name": "stdout",
     "output_type": "stream",
     "text": [
      "number of non zeros in the TOTHOTL column is 60\n",
      "stability in the TOTHOTL column is about 0.6724949562878278 percent\n"
     ]
    }
   ],
   "source": [
    "condition = df.TOTHOTL != 0 \n",
    "print('number of non zeros in the TOTHOTL column is', len(df[condition]))\n",
    "stability = len(df[condition])/len(df)\n",
    "print('stability in the TOTHOTL column is about', stability*100, 'percent')"
   ]
  },
  {
   "cell_type": "code",
   "execution_count": 81,
   "metadata": {},
   "outputs": [],
   "source": [
    "df2 = df.drop(columns='TOTHOTL')"
   ]
  },
  {
   "cell_type": "code",
   "execution_count": 82,
   "metadata": {},
   "outputs": [],
   "source": [
    "X2 = X.drop(columns='TOTHOTL')"
   ]
  },
  {
   "cell_type": "markdown",
   "metadata": {},
   "source": [
    "Now, we will save the final data to a file to be used on the next phase of this project"
   ]
  },
  {
   "cell_type": "code",
   "execution_count": 88,
   "metadata": {},
   "outputs": [],
   "source": [
    "df2.to_csv('final_capstone_project_data.csv')"
   ]
  },
  {
   "cell_type": "code",
   "execution_count": 89,
   "metadata": {},
   "outputs": [],
   "source": [
    "X2.to_csv('final_capstone_project_data_X.csv')"
   ]
  },
  {
   "cell_type": "markdown",
   "metadata": {},
   "source": [
    "RANGE:\n",
    "We keep the original ranges for all the variables for now. At the ETL stage, we will transform the columns in the data set.\n",
    "\n",
    "FILTERING:\n",
    "We do not filter subsets of the data at this stages as the data seems fine\n",
    "\n",
    "SORTING:\n",
    "No sorting is done\n",
    "\n",
    "REPLACEMENT AND SPLITTING:\n",
    "No replacement and splitting was done"
   ]
  },
  {
   "cell_type": "code",
   "execution_count": null,
   "metadata": {},
   "outputs": [],
   "source": []
  }
 ],
 "metadata": {
  "kernelspec": {
   "display_name": "Python 3",
   "language": "python",
   "name": "python3"
  },
  "language_info": {
   "codemirror_mode": {
    "name": "ipython",
    "version": 3
   },
   "file_extension": ".py",
   "mimetype": "text/x-python",
   "name": "python",
   "nbconvert_exporter": "python",
   "pygments_lexer": "ipython3",
   "version": "3.6.8"
  }
 },
 "nbformat": 4,
 "nbformat_minor": 2
}
