{
 "cells": [
  {
   "cell_type": "markdown",
   "metadata": {},
   "source": [
    "<h1 id=\"weather_station_clustering\" align=\"center\"> Clustering Ghanaian households based on their expenditure patterns</h1>\n",
    "<hr>\n",
    "\n",
    "#### 1.4 Model Definition - Part 2"
   ]
  },
  {
   "cell_type": "markdown",
   "metadata": {},
   "source": [
    "#### SECOND PART  - DEEP LEARNING ALGORITHMS\n",
    "\n",
    "In this second part (using deep learning frameworks), we will consider the following algorithms and compare their results"
   ]
  },
  {
   "cell_type": "markdown",
   "metadata": {},
   "source": [
    "a. kmeans clustering algorithm\n",
    "\n",
    "b. autoencoder + kmeans\n",
    "\n",
    "c. DEC ( Deep Embedded Clustering) with autoencoder and kmeans"
   ]
  },
  {
   "cell_type": "markdown",
   "metadata": {},
   "source": [
    "Importing necessary libraries"
   ]
  },
  {
   "cell_type": "code",
   "execution_count": 51,
   "metadata": {},
   "outputs": [
    {
     "name": "stdout",
     "output_type": "stream",
     "text": [
      "Populating the interactive namespace from numpy and matplotlib\n"
     ]
    },
    {
     "name": "stderr",
     "output_type": "stream",
     "text": [
      "/home/jupyterlab/conda/lib/python3.6/site-packages/IPython/core/magics/pylab.py:160: UserWarning: pylab import has clobbered these variables: ['imread', 'time', 'seed']\n",
      "`%matplotlib` prevents importing * from pylab and numpy\n",
      "  \"\\n`%matplotlib` prevents importing * from pylab and numpy\"\n"
     ]
    }
   ],
   "source": [
    "%pylab inline\n",
    "import os\n",
    "import keras\n",
    "import numpy as np\n",
    "import pandas as pd\n",
    "import keras.backend as K\n",
    "\n",
    "from time import time\n",
    "\n",
    "from keras import callbacks\n",
    "from keras.models import Model\n",
    "from keras.optimizers import SGD\n",
    "from keras.layers import Dense, Input\n",
    "from keras.initializers import VarianceScaling\n",
    "from keras.engine.topology import Layer, InputSpec\n",
    "\n",
    "from scipy.misc import imread\n",
    "from sklearn.cluster import KMeans\n",
    "from sklearn.metrics import accuracy_score, normalized_mutual_info_score\n",
    "\n"
   ]
  },
  {
   "cell_type": "code",
   "execution_count": 52,
   "metadata": {},
   "outputs": [],
   "source": [
    "#!pip install metrics\n",
    "import metrics"
   ]
  },
  {
   "cell_type": "markdown",
   "metadata": {},
   "source": [
    "Also. lets import the DEC algorithm"
   ]
  },
  {
   "cell_type": "code",
   "execution_count": 54,
   "metadata": {},
   "outputs": [
    {
     "name": "stdout",
     "output_type": "stream",
     "text": [
      "fatal: destination path 'DEC-keras' already exists and is not an empty directory.\n"
     ]
    }
   ],
   "source": [
    "!git clone https://github.com/XifengGuo/DEC-keras\n",
    "!cd DEC-keras"
   ]
  },
  {
   "cell_type": "code",
   "execution_count": 55,
   "metadata": {},
   "outputs": [],
   "source": [
    "# To stop potential randomness\n",
    "seed = 128\n",
    "rng = np.random.RandomState(seed)"
   ]
  },
  {
   "cell_type": "markdown",
   "metadata": {},
   "source": [
    "Import data"
   ]
  },
  {
   "cell_type": "code",
   "execution_count": 56,
   "metadata": {},
   "outputs": [],
   "source": [
    "import pandas as pd\n",
    "df = pd.read_csv('df_norm_dataframe.csv')\n",
    "df.drop(['Unnamed: 0'], axis = 1, inplace = True)\n"
   ]
  },
  {
   "cell_type": "markdown",
   "metadata": {},
   "source": [
    "Renaming the dataset"
   ]
  },
  {
   "cell_type": "code",
   "execution_count": 58,
   "metadata": {},
   "outputs": [
    {
     "data": {
      "text/html": [
       "<div>\n",
       "<style scoped>\n",
       "    .dataframe tbody tr th:only-of-type {\n",
       "        vertical-align: middle;\n",
       "    }\n",
       "\n",
       "    .dataframe tbody tr th {\n",
       "        vertical-align: top;\n",
       "    }\n",
       "\n",
       "    .dataframe thead th {\n",
       "        text-align: right;\n",
       "    }\n",
       "</style>\n",
       "<table border=\"1\" class=\"dataframe\">\n",
       "  <thead>\n",
       "    <tr style=\"text-align: right;\">\n",
       "      <th></th>\n",
       "      <th>totfood</th>\n",
       "      <th>totalch</th>\n",
       "      <th>totclth</th>\n",
       "      <th>tothous</th>\n",
       "      <th>totfurn</th>\n",
       "      <th>tothlth</th>\n",
       "      <th>tottrsp</th>\n",
       "      <th>totcmnq</th>\n",
       "      <th>totrcre</th>\n",
       "      <th>toteduc</th>\n",
       "      <th>totmisc</th>\n",
       "    </tr>\n",
       "  </thead>\n",
       "  <tbody>\n",
       "    <tr>\n",
       "      <th>0</th>\n",
       "      <td>0.869768</td>\n",
       "      <td>-0.282063</td>\n",
       "      <td>0.813326</td>\n",
       "      <td>0.597423</td>\n",
       "      <td>0.930850</td>\n",
       "      <td>0.270093</td>\n",
       "      <td>0.381865</td>\n",
       "      <td>-0.274590</td>\n",
       "      <td>-0.216681</td>\n",
       "      <td>-0.115215</td>\n",
       "      <td>0.970906</td>\n",
       "    </tr>\n",
       "    <tr>\n",
       "      <th>1</th>\n",
       "      <td>0.333146</td>\n",
       "      <td>-0.282063</td>\n",
       "      <td>-0.095515</td>\n",
       "      <td>3.937930</td>\n",
       "      <td>1.783318</td>\n",
       "      <td>-0.204459</td>\n",
       "      <td>-0.270768</td>\n",
       "      <td>0.137049</td>\n",
       "      <td>-0.224311</td>\n",
       "      <td>0.806321</td>\n",
       "      <td>-0.077166</td>\n",
       "    </tr>\n",
       "    <tr>\n",
       "      <th>2</th>\n",
       "      <td>-0.524523</td>\n",
       "      <td>-0.282063</td>\n",
       "      <td>-0.488894</td>\n",
       "      <td>0.058295</td>\n",
       "      <td>-0.199684</td>\n",
       "      <td>-0.182889</td>\n",
       "      <td>-0.331876</td>\n",
       "      <td>-0.261965</td>\n",
       "      <td>-0.265152</td>\n",
       "      <td>-0.282872</td>\n",
       "      <td>0.781011</td>\n",
       "    </tr>\n",
       "    <tr>\n",
       "      <th>3</th>\n",
       "      <td>0.234851</td>\n",
       "      <td>-0.282063</td>\n",
       "      <td>1.200771</td>\n",
       "      <td>0.042361</td>\n",
       "      <td>0.104170</td>\n",
       "      <td>-0.182889</td>\n",
       "      <td>0.486971</td>\n",
       "      <td>0.487875</td>\n",
       "      <td>-0.278814</td>\n",
       "      <td>-0.187837</td>\n",
       "      <td>0.737953</td>\n",
       "    </tr>\n",
       "    <tr>\n",
       "      <th>4</th>\n",
       "      <td>2.104382</td>\n",
       "      <td>-0.282063</td>\n",
       "      <td>0.356362</td>\n",
       "      <td>0.286199</td>\n",
       "      <td>1.399336</td>\n",
       "      <td>6.288280</td>\n",
       "      <td>-0.007448</td>\n",
       "      <td>0.594741</td>\n",
       "      <td>-0.195824</td>\n",
       "      <td>0.020165</td>\n",
       "      <td>0.877056</td>\n",
       "    </tr>\n",
       "  </tbody>\n",
       "</table>\n",
       "</div>"
      ],
      "text/plain": [
       "    totfood   totalch   totclth   tothous   totfurn   tothlth   tottrsp  \\\n",
       "0  0.869768 -0.282063  0.813326  0.597423  0.930850  0.270093  0.381865   \n",
       "1  0.333146 -0.282063 -0.095515  3.937930  1.783318 -0.204459 -0.270768   \n",
       "2 -0.524523 -0.282063 -0.488894  0.058295 -0.199684 -0.182889 -0.331876   \n",
       "3  0.234851 -0.282063  1.200771  0.042361  0.104170 -0.182889  0.486971   \n",
       "4  2.104382 -0.282063  0.356362  0.286199  1.399336  6.288280 -0.007448   \n",
       "\n",
       "    totcmnq   totrcre   toteduc   totmisc  \n",
       "0 -0.274590 -0.216681 -0.115215  0.970906  \n",
       "1  0.137049 -0.224311  0.806321 -0.077166  \n",
       "2 -0.261965 -0.265152 -0.282872  0.781011  \n",
       "3  0.487875 -0.278814 -0.187837  0.737953  \n",
       "4  0.594741 -0.195824  0.020165  0.877056  "
      ]
     },
     "execution_count": 58,
     "metadata": {},
     "output_type": "execute_result"
    }
   ],
   "source": [
    "train = df\n",
    "train.head()"
   ]
  },
  {
   "cell_type": "markdown",
   "metadata": {},
   "source": [
    "a. kmeans clustering algorithm"
   ]
  },
  {
   "cell_type": "markdown",
   "metadata": {},
   "source": [
    "We will first apply K-Means directly to our data and divide it into 3 clusters."
   ]
  },
  {
   "cell_type": "code",
   "execution_count": 59,
   "metadata": {},
   "outputs": [],
   "source": [
    "km = KMeans(n_clusters=3)"
   ]
  },
  {
   "cell_type": "code",
   "execution_count": 60,
   "metadata": {},
   "outputs": [],
   "source": [
    "x_train = train.values"
   ]
  },
  {
   "cell_type": "code",
   "execution_count": 61,
   "metadata": {},
   "outputs": [],
   "source": [
    "kmeans = km.fit(x_train)"
   ]
  },
  {
   "cell_type": "code",
   "execution_count": 62,
   "metadata": {},
   "outputs": [
    {
     "data": {
      "text/plain": [
       "array([0, 0, 2, 0, 0, 2, 2, 2, 2, 0], dtype=int32)"
      ]
     },
     "execution_count": 62,
     "metadata": {},
     "output_type": "execute_result"
    }
   ],
   "source": [
    "kmeans.labels_[0:10] #first 10 cluster labels"
   ]
  },
  {
   "cell_type": "markdown",
   "metadata": {},
   "source": [
    "at best we can find the optimal number of clusters"
   ]
  },
  {
   "cell_type": "code",
   "execution_count": 63,
   "metadata": {},
   "outputs": [
    {
     "name": "stdout",
     "output_type": "stream",
     "text": [
      "Silhouette Coefficient: 0.378\n"
     ]
    }
   ],
   "source": [
    "from sklearn.metrics import silhouette_samples, silhouette_score\n",
    "from sklearn import metrics\n",
    "print(\"Silhouette Coefficient: %0.3f\"\n",
    "      % metrics.silhouette_score(x_train, kmeans.labels_))"
   ]
  },
  {
   "cell_type": "markdown",
   "metadata": {},
   "source": [
    "This silhouette score is worse than the results under HDBSCAN"
   ]
  },
  {
   "cell_type": "code",
   "execution_count": null,
   "metadata": {},
   "outputs": [],
   "source": []
  },
  {
   "cell_type": "markdown",
   "metadata": {},
   "source": [
    "####  b. kmeans + autoencoder"
   ]
  },
  {
   "cell_type": "markdown",
   "metadata": {},
   "source": [
    "\n",
    "Now instead of directly applying K-Means on the problem, we will first use an autoencoder to decrease the dimensionality of the data and extract useful information. This will then pass on the information to the K-Means algorithm.\n",
    "\n"
   ]
  },
  {
   "cell_type": "code",
   "execution_count": 64,
   "metadata": {},
   "outputs": [],
   "source": [
    "# this is our input placeholder\n",
    "input_img = Input(shape=(11,)) # 11 FEATURES\n",
    "\n",
    "# \"encoded\" is the encoded representation of the input  - extracting relevant information\n",
    "encoded = Dense(500, activation='relu')(input_img)\n",
    "encoded = Dense(500, activation='relu')(encoded)\n",
    "encoded = Dense(2000, activation='relu')(encoded)\n",
    "encoded = Dense(11, activation='softmax')(encoded)\n",
    "\n",
    "# \"decoded\" is the lossy reconstruction of the input - decoding relevant information\n",
    "decoded = Dense(2000, activation='relu')(encoded)\n",
    "decoded = Dense(500, activation='relu')(decoded)\n",
    "decoded = Dense(500, activation='softmax')(decoded)\n",
    "decoded = Dense(11)(decoded) # 11 features\n",
    "\n",
    "# this model maps an input to its reconstruction\n",
    "autoencoder = Model(input_img, decoded)"
   ]
  },
  {
   "cell_type": "code",
   "execution_count": 65,
   "metadata": {},
   "outputs": [
    {
     "name": "stdout",
     "output_type": "stream",
     "text": [
      "_________________________________________________________________\n",
      "Layer (type)                 Output Shape              Param #   \n",
      "=================================================================\n",
      "input_2 (InputLayer)         (None, 11)                0         \n",
      "_________________________________________________________________\n",
      "dense_9 (Dense)              (None, 500)               6000      \n",
      "_________________________________________________________________\n",
      "dense_10 (Dense)             (None, 500)               250500    \n",
      "_________________________________________________________________\n",
      "dense_11 (Dense)             (None, 2000)              1002000   \n",
      "_________________________________________________________________\n",
      "dense_12 (Dense)             (None, 11)                22011     \n",
      "_________________________________________________________________\n",
      "dense_13 (Dense)             (None, 2000)              24000     \n",
      "_________________________________________________________________\n",
      "dense_14 (Dense)             (None, 500)               1000500   \n",
      "_________________________________________________________________\n",
      "dense_15 (Dense)             (None, 500)               250500    \n",
      "_________________________________________________________________\n",
      "dense_16 (Dense)             (None, 11)                5511      \n",
      "=================================================================\n",
      "Total params: 2,561,022\n",
      "Trainable params: 2,561,022\n",
      "Non-trainable params: 0\n",
      "_________________________________________________________________\n"
     ]
    }
   ],
   "source": [
    "autoencoder.summary()"
   ]
  },
  {
   "cell_type": "code",
   "execution_count": 66,
   "metadata": {},
   "outputs": [],
   "source": [
    "#  this model maps an input to its encoded representation\n",
    "encoder = Model(input_img, encoded)"
   ]
  },
  {
   "cell_type": "code",
   "execution_count": 67,
   "metadata": {},
   "outputs": [],
   "source": [
    "autoencoder.compile(optimizer='adam', loss='mse')"
   ]
  },
  {
   "cell_type": "markdown",
   "metadata": {},
   "source": [
    "Now let us train our autoencoder model."
   ]
  },
  {
   "cell_type": "code",
   "execution_count": 68,
   "metadata": {},
   "outputs": [
    {
     "name": "stdout",
     "output_type": "stream",
     "text": [
      "Train on 8922 samples, validate on 8922 samples\n",
      "Epoch 1/50\n",
      "8922/8922 [==============================] - 5s 616us/step - loss: 1.0001 - val_loss: 1.0000\n",
      "Epoch 2/50\n",
      "8922/8922 [==============================] - 5s 529us/step - loss: 1.0000 - val_loss: 1.0000\n",
      "Epoch 3/50\n",
      "8922/8922 [==============================] - 5s 525us/step - loss: 1.0000 - val_loss: 0.9999\n",
      "Epoch 4/50\n",
      "8922/8922 [==============================] - 5s 525us/step - loss: 0.9997 - val_loss: 0.9988\n",
      "Epoch 5/50\n",
      "8922/8922 [==============================] - 5s 525us/step - loss: 0.9962 - val_loss: 0.9889\n",
      "Epoch 6/50\n",
      "8922/8922 [==============================] - 5s 525us/step - loss: 0.9788 - val_loss: 0.9640\n",
      "Epoch 7/50\n",
      "8922/8922 [==============================] - 5s 526us/step - loss: 0.9555 - val_loss: 0.9461\n",
      "Epoch 8/50\n",
      "8922/8922 [==============================] - 5s 528us/step - loss: 0.9420 - val_loss: 0.9370\n",
      "Epoch 9/50\n",
      "8922/8922 [==============================] - 5s 526us/step - loss: 0.9338 - val_loss: 0.9296\n",
      "Epoch 10/50\n",
      "8922/8922 [==============================] - 5s 525us/step - loss: 0.9266 - val_loss: 0.9227\n",
      "Epoch 11/50\n",
      "8922/8922 [==============================] - 5s 525us/step - loss: 0.9203 - val_loss: 0.9176\n",
      "Epoch 12/50\n",
      "8922/8922 [==============================] - 5s 524us/step - loss: 0.9135 - val_loss: 0.9090\n",
      "Epoch 13/50\n",
      "8922/8922 [==============================] - 5s 530us/step - loss: 0.9064 - val_loss: 0.9032\n",
      "Epoch 14/50\n",
      "8922/8922 [==============================] - 5s 531us/step - loss: 0.9011 - val_loss: 0.8984\n",
      "Epoch 15/50\n",
      "8922/8922 [==============================] - 5s 525us/step - loss: 0.8967 - val_loss: 0.8952\n",
      "Epoch 16/50\n",
      "8922/8922 [==============================] - 5s 525us/step - loss: 0.8949 - val_loss: 0.8920\n",
      "Epoch 17/50\n",
      "8922/8922 [==============================] - 5s 526us/step - loss: 0.8891 - val_loss: 0.8851\n",
      "Epoch 18/50\n",
      "8922/8922 [==============================] - 5s 530us/step - loss: 0.8842 - val_loss: 0.8830\n",
      "Epoch 19/50\n",
      "8922/8922 [==============================] - 5s 530us/step - loss: 0.8817 - val_loss: 0.8790\n",
      "Epoch 20/50\n",
      "8922/8922 [==============================] - 5s 528us/step - loss: 0.8772 - val_loss: 0.8755\n",
      "Epoch 21/50\n",
      "8922/8922 [==============================] - 5s 523us/step - loss: 0.8744 - val_loss: 0.8728\n",
      "Epoch 22/50\n",
      "8922/8922 [==============================] - 5s 530us/step - loss: 0.8716 - val_loss: 0.8699\n",
      "Epoch 23/50\n",
      "8922/8922 [==============================] - 5s 525us/step - loss: 0.8687 - val_loss: 0.8669\n",
      "Epoch 24/50\n",
      "8922/8922 [==============================] - 5s 534us/step - loss: 0.8657 - val_loss: 0.8644\n",
      "Epoch 25/50\n",
      "8922/8922 [==============================] - 5s 530us/step - loss: 0.8634 - val_loss: 0.8622\n",
      "Epoch 26/50\n",
      "8922/8922 [==============================] - 5s 523us/step - loss: 0.8617 - val_loss: 0.8611\n",
      "Epoch 27/50\n",
      "8922/8922 [==============================] - 5s 530us/step - loss: 0.8599 - val_loss: 0.8584\n",
      "Epoch 28/50\n",
      "8922/8922 [==============================] - 5s 527us/step - loss: 0.8573 - val_loss: 0.8557\n",
      "Epoch 29/50\n",
      "8922/8922 [==============================] - 5s 523us/step - loss: 0.8547 - val_loss: 0.8534\n",
      "Epoch 30/50\n",
      "8922/8922 [==============================] - 5s 529us/step - loss: 0.8528 - val_loss: 0.8519\n",
      "Epoch 31/50\n",
      "8922/8922 [==============================] - 5s 526us/step - loss: 0.8519 - val_loss: 0.8501\n",
      "Epoch 32/50\n",
      "8922/8922 [==============================] - 5s 530us/step - loss: 0.8494 - val_loss: 0.8486\n",
      "Epoch 33/50\n",
      "8922/8922 [==============================] - 5s 525us/step - loss: 0.8479 - val_loss: 0.8467\n",
      "Epoch 34/50\n",
      "8922/8922 [==============================] - 5s 524us/step - loss: 0.8460 - val_loss: 0.8450\n",
      "Epoch 35/50\n",
      "8922/8922 [==============================] - 5s 529us/step - loss: 0.8445 - val_loss: 0.8446\n",
      "Epoch 36/50\n",
      "8922/8922 [==============================] - 5s 525us/step - loss: 0.8444 - val_loss: 0.8419\n",
      "Epoch 37/50\n",
      "8922/8922 [==============================] - 5s 528us/step - loss: 0.8413 - val_loss: 0.8402\n",
      "Epoch 38/50\n",
      "8922/8922 [==============================] - 5s 526us/step - loss: 0.8402 - val_loss: 0.8402\n",
      "Epoch 39/50\n",
      "8922/8922 [==============================] - 5s 526us/step - loss: 0.8398 - val_loss: 0.8392\n",
      "Epoch 40/50\n",
      "8922/8922 [==============================] - 5s 531us/step - loss: 0.8385 - val_loss: 0.8371\n",
      "Epoch 41/50\n",
      "8922/8922 [==============================] - 5s 530us/step - loss: 0.8362 - val_loss: 0.8353\n",
      "Epoch 42/50\n",
      "8922/8922 [==============================] - 5s 527us/step - loss: 0.8347 - val_loss: 0.8340\n",
      "Epoch 43/50\n",
      "8922/8922 [==============================] - 5s 531us/step - loss: 0.8339 - val_loss: 0.8337\n",
      "Epoch 44/50\n",
      "8922/8922 [==============================] - 5s 530us/step - loss: 0.8332 - val_loss: 0.8324\n",
      "Epoch 45/50\n",
      "8922/8922 [==============================] - 5s 531us/step - loss: 0.8316 - val_loss: 0.8307\n",
      "Epoch 46/50\n",
      "8922/8922 [==============================] - 5s 531us/step - loss: 0.8292 - val_loss: 0.8261\n",
      "Epoch 47/50\n",
      "8922/8922 [==============================] - 5s 525us/step - loss: 0.8255 - val_loss: 0.8277\n",
      "Epoch 48/50\n",
      "8922/8922 [==============================] - 5s 530us/step - loss: 0.9024 - val_loss: 0.9046\n",
      "Epoch 49/50\n",
      "8922/8922 [==============================] - 5s 531us/step - loss: 0.8990 - val_loss: 0.8989\n",
      "Epoch 50/50\n",
      "8922/8922 [==============================] - 5s 531us/step - loss: 0.8972 - val_loss: 0.8879\n"
     ]
    }
   ],
   "source": [
    "train_history = autoencoder.fit(x_train, x_train, epochs=50, batch_size=1048, validation_data=(x_train, x_train))"
   ]
  },
  {
   "cell_type": "code",
   "execution_count": 69,
   "metadata": {},
   "outputs": [],
   "source": [
    "pred_auto_train = autoencoder.predict(x_train) # this is x' = output of auto encoder\n",
    "#pred_auto_train = encoder.predict(x_train) # this is x' = output of auto encoder"
   ]
  },
  {
   "cell_type": "code",
   "execution_count": 70,
   "metadata": {},
   "outputs": [
    {
     "data": {
      "text/plain": [
       "(8922, 11)"
      ]
     },
     "execution_count": 70,
     "metadata": {},
     "output_type": "execute_result"
    }
   ],
   "source": [
    "pred_auto_train.shape"
   ]
  },
  {
   "cell_type": "code",
   "execution_count": 71,
   "metadata": {},
   "outputs": [],
   "source": [
    "kmeans_dl = km.fit(pred_auto_train)"
   ]
  },
  {
   "cell_type": "code",
   "execution_count": 81,
   "metadata": {},
   "outputs": [
    {
     "data": {
      "text/plain": [
       "array([2, 2, 0, 2, 2, 0, 0, 0, 0, 2], dtype=int32)"
      ]
     },
     "execution_count": 81,
     "metadata": {},
     "output_type": "execute_result"
    }
   ],
   "source": [
    "kmeans_dl.labels_[0:10] #first 10 cluster labels"
   ]
  },
  {
   "cell_type": "code",
   "execution_count": 72,
   "metadata": {},
   "outputs": [
    {
     "name": "stdout",
     "output_type": "stream",
     "text": [
      "Silhouette Coefficient: 0.986\n"
     ]
    }
   ],
   "source": [
    "print(\"Silhouette Coefficient: %0.3f\"\n",
    "      % metrics.silhouette_score(pred_auto_train, kmeans_dl.labels_))"
   ]
  },
  {
   "cell_type": "code",
   "execution_count": 73,
   "metadata": {},
   "outputs": [],
   "source": [
    "#import numpy as np"
   ]
  },
  {
   "cell_type": "code",
   "execution_count": 78,
   "metadata": {},
   "outputs": [],
   "source": [
    "XX = pred_auto_train"
   ]
  },
  {
   "cell_type": "code",
   "execution_count": 79,
   "metadata": {},
   "outputs": [],
   "source": [
    "XX_df = pd.DataFrame({'totfood':XX[:,0],'totalch':XX[:,1], 'totclth':XX[:,2],'tothous':XX[:,3],'totfurn':XX[:,4], 'tothlth':XX[:,5],\n",
    "                       'tottrsp':XX[:,6],'totcmnq':XX[:,7], 'totrcre':XX[:,8],'toteduc':XX[:,9],'totmisc':XX[:,10]})\n"
   ]
  },
  {
   "cell_type": "code",
   "execution_count": 80,
   "metadata": {},
   "outputs": [],
   "source": [
    "XX_df.to_csv('XX_df.csv')"
   ]
  },
  {
   "cell_type": "markdown",
   "metadata": {},
   "source": [
    "Adding labels to the data"
   ]
  },
  {
   "cell_type": "code",
   "execution_count": 82,
   "metadata": {},
   "outputs": [],
   "source": [
    "XX_dfl = pd.DataFrame({'totfood':XX[:,0],'totalch':XX[:,1], 'totclth':XX[:,2],'tothous':XX[:,3],'totfurn':XX[:,4], 'tothlth':XX[:,5],\n",
    "                       'tottrsp':XX[:,6],'totcmnq':XX[:,7], 'totrcre':XX[:,8],'toteduc':XX[:,9],'totmisc':XX[:,10], 'label':kmeans_dl.labels_})"
   ]
  },
  {
   "cell_type": "markdown",
   "metadata": {},
   "source": [
    "Visualizing the clusters\n",
    "\n",
    "PCA Projection to 2D\n",
    "\n",
    "Now, let's try to visualize the cluster, although we have only one cluster. First, lets use PCA to reduce the dimension of the data to two dimensions\n"
   ]
  },
  {
   "cell_type": "code",
   "execution_count": 83,
   "metadata": {},
   "outputs": [],
   "source": [
    "from sklearn.decomposition import PCA\n",
    "\n",
    "pca = PCA(n_components=2)\n",
    "\n",
    "principalComponents = pca.fit_transform(XX_dfl)\n",
    "\n",
    "principalDf_dbscan = pd.DataFrame(data = principalComponents\n",
    "             , columns = ['C1', 'C2'])"
   ]
  },
  {
   "cell_type": "code",
   "execution_count": 84,
   "metadata": {},
   "outputs": [],
   "source": [
    "principalDf_dbscan['label'] = XX_dfl.label"
   ]
  },
  {
   "cell_type": "code",
   "execution_count": 85,
   "metadata": {},
   "outputs": [
    {
     "data": {
      "text/html": [
       "<div>\n",
       "<style scoped>\n",
       "    .dataframe tbody tr th:only-of-type {\n",
       "        vertical-align: middle;\n",
       "    }\n",
       "\n",
       "    .dataframe tbody tr th {\n",
       "        vertical-align: top;\n",
       "    }\n",
       "\n",
       "    .dataframe thead th {\n",
       "        text-align: right;\n",
       "    }\n",
       "</style>\n",
       "<table border=\"1\" class=\"dataframe\">\n",
       "  <thead>\n",
       "    <tr style=\"text-align: right;\">\n",
       "      <th></th>\n",
       "      <th>C1</th>\n",
       "      <th>C2</th>\n",
       "      <th>label</th>\n",
       "    </tr>\n",
       "  </thead>\n",
       "  <tbody>\n",
       "    <tr>\n",
       "      <th>0</th>\n",
       "      <td>1.698424</td>\n",
       "      <td>-0.292963</td>\n",
       "      <td>2</td>\n",
       "    </tr>\n",
       "    <tr>\n",
       "      <th>1</th>\n",
       "      <td>1.698424</td>\n",
       "      <td>-0.292963</td>\n",
       "      <td>2</td>\n",
       "    </tr>\n",
       "  </tbody>\n",
       "</table>\n",
       "</div>"
      ],
      "text/plain": [
       "         C1        C2  label\n",
       "0  1.698424 -0.292963      2\n",
       "1  1.698424 -0.292963      2"
      ]
     },
     "execution_count": 85,
     "metadata": {},
     "output_type": "execute_result"
    }
   ],
   "source": [
    "principalDf_dbscan.head(2)"
   ]
  },
  {
   "cell_type": "code",
   "execution_count": 86,
   "metadata": {},
   "outputs": [
    {
     "name": "stderr",
     "output_type": "stream",
     "text": [
      "'c' argument looks like a single numeric RGB or RGBA sequence, which should be avoided as value-mapping will have precedence in case its length matches with 'x' & 'y'.  Please use a 2-D array with a single row if you really want to specify the same RGB or RGBA value for all points.\n",
      "'c' argument looks like a single numeric RGB or RGBA sequence, which should be avoided as value-mapping will have precedence in case its length matches with 'x' & 'y'.  Please use a 2-D array with a single row if you really want to specify the same RGB or RGBA value for all points.\n",
      "'c' argument looks like a single numeric RGB or RGBA sequence, which should be avoided as value-mapping will have precedence in case its length matches with 'x' & 'y'.  Please use a 2-D array with a single row if you really want to specify the same RGB or RGBA value for all points.\n"
     ]
    },
    {
     "data": {
      "text/plain": [
       "Text(0, 0.5, 'C2')"
      ]
     },
     "execution_count": 86,
     "metadata": {},
     "output_type": "execute_result"
    },
    {
     "data": {
      "image/png": "[encoded data removed]",
      "text/plain": [
       "<Figure size 720x720 with 1 Axes>"
      ]
     },
     "metadata": {
      "needs_background": "light"
     },
     "output_type": "display_data"
    }
   ],
   "source": [
    "import matplotlib.cm as cm\n",
    "from matplotlib import pyplot as plt \n",
    "n_clusters = 3\n",
    "colors = cm.rainbow(np.linspace(0, 1, n_clusters))\n",
    "cluster_labels = list(range(0, n_clusters))\n",
    "\n",
    "# Create a figure of size 6 inches by 4 inches.\n",
    "plt.figure(figsize=(10,10))\n",
    "pdf = principalDf_dbscan.copy()\n",
    "# plt.scatter(subset.C1, subset.C2)\n",
    "for color, label in zip(colors, cluster_labels):\n",
    "    subset = pdf[pdf.label == label] #subset is a dataframe including all the columns\n",
    "    plt.scatter(subset.C1, subset.C2, c=color, label='cluster'+str(label),alpha=0.5) # plt.scatter(subset.horsepow, subset.mpg)\n",
    "plt.legend()\n",
    "plt.title('Clusters')\n",
    "plt.xlabel('C1')\n",
    "plt.ylabel('C2')"
   ]
  },
  {
   "cell_type": "markdown",
   "metadata": {},
   "source": [
    "PARALLEL PLOT"
   ]
  },
  {
   "cell_type": "code",
   "execution_count": 87,
   "metadata": {},
   "outputs": [
    {
     "data": {
      "text/html": [
       "<div>\n",
       "<style scoped>\n",
       "    .dataframe tbody tr th:only-of-type {\n",
       "        vertical-align: middle;\n",
       "    }\n",
       "\n",
       "    .dataframe tbody tr th {\n",
       "        vertical-align: top;\n",
       "    }\n",
       "\n",
       "    .dataframe thead th {\n",
       "        text-align: right;\n",
       "    }\n",
       "</style>\n",
       "<table border=\"1\" class=\"dataframe\">\n",
       "  <thead>\n",
       "    <tr style=\"text-align: right;\">\n",
       "      <th></th>\n",
       "      <th>totfood</th>\n",
       "      <th>totalch</th>\n",
       "      <th>totclth</th>\n",
       "      <th>tothous</th>\n",
       "      <th>totfurn</th>\n",
       "      <th>tothlth</th>\n",
       "      <th>tottrsp</th>\n",
       "      <th>totcmnq</th>\n",
       "      <th>totrcre</th>\n",
       "      <th>toteduc</th>\n",
       "      <th>totmisc</th>\n",
       "      <th>label</th>\n",
       "    </tr>\n",
       "  </thead>\n",
       "  <tbody>\n",
       "    <tr>\n",
       "      <th>0</th>\n",
       "      <td>0.187262</td>\n",
       "      <td>0.154462</td>\n",
       "      <td>0.381787</td>\n",
       "      <td>0.160858</td>\n",
       "      <td>0.205355</td>\n",
       "      <td>0.123294</td>\n",
       "      <td>0.125713</td>\n",
       "      <td>0.208678</td>\n",
       "      <td>0.144971</td>\n",
       "      <td>0.284140</td>\n",
       "      <td>0.199687</td>\n",
       "      <td>2</td>\n",
       "    </tr>\n",
       "    <tr>\n",
       "      <th>1</th>\n",
       "      <td>0.187262</td>\n",
       "      <td>0.154462</td>\n",
       "      <td>0.381787</td>\n",
       "      <td>0.160858</td>\n",
       "      <td>0.205355</td>\n",
       "      <td>0.123294</td>\n",
       "      <td>0.125713</td>\n",
       "      <td>0.208678</td>\n",
       "      <td>0.144971</td>\n",
       "      <td>0.284140</td>\n",
       "      <td>0.199687</td>\n",
       "      <td>2</td>\n",
       "    </tr>\n",
       "    <tr>\n",
       "      <th>2</th>\n",
       "      <td>-0.309691</td>\n",
       "      <td>-0.236916</td>\n",
       "      <td>-0.255200</td>\n",
       "      <td>-0.164006</td>\n",
       "      <td>-0.234674</td>\n",
       "      <td>-0.160486</td>\n",
       "      <td>-0.182042</td>\n",
       "      <td>-0.249690</td>\n",
       "      <td>-0.178124</td>\n",
       "      <td>-0.198115</td>\n",
       "      <td>-0.215703</td>\n",
       "      <td>0</td>\n",
       "    </tr>\n",
       "  </tbody>\n",
       "</table>\n",
       "</div>"
      ],
      "text/plain": [
       "    totfood   totalch   totclth   tothous   totfurn   tothlth   tottrsp  \\\n",
       "0  0.187262  0.154462  0.381787  0.160858  0.205355  0.123294  0.125713   \n",
       "1  0.187262  0.154462  0.381787  0.160858  0.205355  0.123294  0.125713   \n",
       "2 -0.309691 -0.236916 -0.255200 -0.164006 -0.234674 -0.160486 -0.182042   \n",
       "\n",
       "    totcmnq   totrcre   toteduc   totmisc  label  \n",
       "0  0.208678  0.144971  0.284140  0.199687      2  \n",
       "1  0.208678  0.144971  0.284140  0.199687      2  \n",
       "2 -0.249690 -0.178124 -0.198115 -0.215703      0  "
      ]
     },
     "execution_count": 87,
     "metadata": {},
     "output_type": "execute_result"
    }
   ],
   "source": [
    "XX_dfl.head(3)"
   ]
  },
  {
   "cell_type": "code",
   "execution_count": 88,
   "metadata": {},
   "outputs": [],
   "source": [
    "ddd = XX_dfl.label"
   ]
  },
  {
   "cell_type": "code",
   "execution_count": 89,
   "metadata": {},
   "outputs": [
    {
     "data": {
      "text/html": [
       "<div>\n",
       "<style scoped>\n",
       "    .dataframe tbody tr th:only-of-type {\n",
       "        vertical-align: middle;\n",
       "    }\n",
       "\n",
       "    .dataframe tbody tr th {\n",
       "        vertical-align: top;\n",
       "    }\n",
       "\n",
       "    .dataframe thead th {\n",
       "        text-align: right;\n",
       "    }\n",
       "</style>\n",
       "<table border=\"1\" class=\"dataframe\">\n",
       "  <thead>\n",
       "    <tr style=\"text-align: right;\">\n",
       "      <th></th>\n",
       "      <th>TOTFOOD</th>\n",
       "      <th>TOTALCH</th>\n",
       "      <th>TOTCLTH</th>\n",
       "      <th>TOTHOUS</th>\n",
       "      <th>TOTFURN</th>\n",
       "      <th>TOTHLTH</th>\n",
       "      <th>TOTTRSP</th>\n",
       "      <th>TOTCMNQ</th>\n",
       "      <th>TOTRCRE</th>\n",
       "      <th>TOTEDUC</th>\n",
       "      <th>TOTMISC</th>\n",
       "    </tr>\n",
       "  </thead>\n",
       "  <tbody>\n",
       "    <tr>\n",
       "      <th>0</th>\n",
       "      <td>9437.439453</td>\n",
       "      <td>0.0</td>\n",
       "      <td>1978.0</td>\n",
       "      <td>2569.800049</td>\n",
       "      <td>1128.790039</td>\n",
       "      <td>182.5</td>\n",
       "      <td>2248.399902</td>\n",
       "      <td>138.899994</td>\n",
       "      <td>55.25</td>\n",
       "      <td>1481.5</td>\n",
       "      <td>1081.459961</td>\n",
       "    </tr>\n",
       "    <tr>\n",
       "      <th>1</th>\n",
       "      <td>6990.479980</td>\n",
       "      <td>0.0</td>\n",
       "      <td>906.0</td>\n",
       "      <td>10808.799805</td>\n",
       "      <td>1693.709961</td>\n",
       "      <td>21.9</td>\n",
       "      <td>192.500000</td>\n",
       "      <td>370.399994</td>\n",
       "      <td>50.00</td>\n",
       "      <td>5079.0</td>\n",
       "      <td>260.200012</td>\n",
       "    </tr>\n",
       "  </tbody>\n",
       "</table>\n",
       "</div>"
      ],
      "text/plain": [
       "       TOTFOOD  TOTALCH  TOTCLTH       TOTHOUS      TOTFURN  TOTHLTH  \\\n",
       "0  9437.439453      0.0   1978.0   2569.800049  1128.790039    182.5   \n",
       "1  6990.479980      0.0    906.0  10808.799805  1693.709961     21.9   \n",
       "\n",
       "       TOTTRSP     TOTCMNQ  TOTRCRE  TOTEDUC      TOTMISC  \n",
       "0  2248.399902  138.899994    55.25   1481.5  1081.459961  \n",
       "1   192.500000  370.399994    50.00   5079.0   260.200012  "
      ]
     },
     "execution_count": 89,
     "metadata": {},
     "output_type": "execute_result"
    }
   ],
   "source": [
    "df = pd.read_csv('final_capstone_project_data.csv') # original data\n",
    "df.drop(['Unnamed: 0','hid','region','rururb','TOTAL_EXP'], axis = 1, inplace = True)\n",
    "df.head(2)"
   ]
  },
  {
   "cell_type": "code",
   "execution_count": 90,
   "metadata": {},
   "outputs": [],
   "source": [
    "b1 = pd.merge(ddd, df, how='inner', left_index = True, right_index=True) # we are merging on the household id.\n"
   ]
  },
  {
   "cell_type": "code",
   "execution_count": 91,
   "metadata": {},
   "outputs": [
    {
     "data": {
      "text/html": [
       "<div>\n",
       "<style scoped>\n",
       "    .dataframe tbody tr th:only-of-type {\n",
       "        vertical-align: middle;\n",
       "    }\n",
       "\n",
       "    .dataframe tbody tr th {\n",
       "        vertical-align: top;\n",
       "    }\n",
       "\n",
       "    .dataframe thead th {\n",
       "        text-align: right;\n",
       "    }\n",
       "</style>\n",
       "<table border=\"1\" class=\"dataframe\">\n",
       "  <thead>\n",
       "    <tr style=\"text-align: right;\">\n",
       "      <th></th>\n",
       "      <th>label</th>\n",
       "      <th>TOTFOOD</th>\n",
       "      <th>TOTALCH</th>\n",
       "      <th>TOTCLTH</th>\n",
       "      <th>TOTHOUS</th>\n",
       "      <th>TOTFURN</th>\n",
       "      <th>TOTHLTH</th>\n",
       "      <th>TOTTRSP</th>\n",
       "      <th>TOTCMNQ</th>\n",
       "      <th>TOTRCRE</th>\n",
       "      <th>TOTEDUC</th>\n",
       "      <th>TOTMISC</th>\n",
       "    </tr>\n",
       "  </thead>\n",
       "  <tbody>\n",
       "    <tr>\n",
       "      <th>0</th>\n",
       "      <td>2</td>\n",
       "      <td>9437.439453</td>\n",
       "      <td>0.0</td>\n",
       "      <td>1978.0</td>\n",
       "      <td>2569.800049</td>\n",
       "      <td>1128.790039</td>\n",
       "      <td>182.500000</td>\n",
       "      <td>2248.399902</td>\n",
       "      <td>138.899994</td>\n",
       "      <td>55.250000</td>\n",
       "      <td>1481.5</td>\n",
       "      <td>1081.459961</td>\n",
       "    </tr>\n",
       "    <tr>\n",
       "      <th>1</th>\n",
       "      <td>2</td>\n",
       "      <td>6990.479980</td>\n",
       "      <td>0.0</td>\n",
       "      <td>906.0</td>\n",
       "      <td>10808.799805</td>\n",
       "      <td>1693.709961</td>\n",
       "      <td>21.900000</td>\n",
       "      <td>192.500000</td>\n",
       "      <td>370.399994</td>\n",
       "      <td>50.000000</td>\n",
       "      <td>5079.0</td>\n",
       "      <td>260.200012</td>\n",
       "    </tr>\n",
       "    <tr>\n",
       "      <th>2</th>\n",
       "      <td>0</td>\n",
       "      <td>3079.566895</td>\n",
       "      <td>0.0</td>\n",
       "      <td>442.0</td>\n",
       "      <td>1240.099976</td>\n",
       "      <td>379.599976</td>\n",
       "      <td>29.200001</td>\n",
       "      <td>0.000000</td>\n",
       "      <td>146.000000</td>\n",
       "      <td>21.900002</td>\n",
       "      <td>827.0</td>\n",
       "      <td>932.660034</td>\n",
       "    </tr>\n",
       "    <tr>\n",
       "      <th>3</th>\n",
       "      <td>2</td>\n",
       "      <td>6542.259766</td>\n",
       "      <td>0.0</td>\n",
       "      <td>2435.0</td>\n",
       "      <td>1200.800049</td>\n",
       "      <td>580.959961</td>\n",
       "      <td>29.200001</td>\n",
       "      <td>2579.500000</td>\n",
       "      <td>567.700012</td>\n",
       "      <td>12.500000</td>\n",
       "      <td>1198.0</td>\n",
       "      <td>898.919983</td>\n",
       "    </tr>\n",
       "  </tbody>\n",
       "</table>\n",
       "</div>"
      ],
      "text/plain": [
       "   label      TOTFOOD  TOTALCH  TOTCLTH       TOTHOUS      TOTFURN  \\\n",
       "0      2  9437.439453      0.0   1978.0   2569.800049  1128.790039   \n",
       "1      2  6990.479980      0.0    906.0  10808.799805  1693.709961   \n",
       "2      0  3079.566895      0.0    442.0   1240.099976   379.599976   \n",
       "3      2  6542.259766      0.0   2435.0   1200.800049   580.959961   \n",
       "\n",
       "      TOTHLTH      TOTTRSP     TOTCMNQ    TOTRCRE  TOTEDUC      TOTMISC  \n",
       "0  182.500000  2248.399902  138.899994  55.250000   1481.5  1081.459961  \n",
       "1   21.900000   192.500000  370.399994  50.000000   5079.0   260.200012  \n",
       "2   29.200001     0.000000  146.000000  21.900002    827.0   932.660034  \n",
       "3   29.200001  2579.500000  567.700012  12.500000   1198.0   898.919983  "
      ]
     },
     "execution_count": 91,
     "metadata": {},
     "output_type": "execute_result"
    }
   ],
   "source": [
    "b1.head(4)"
   ]
  },
  {
   "cell_type": "code",
   "execution_count": 92,
   "metadata": {},
   "outputs": [
    {
     "data": {
      "text/html": [
       "<div>\n",
       "<style scoped>\n",
       "    .dataframe tbody tr th:only-of-type {\n",
       "        vertical-align: middle;\n",
       "    }\n",
       "\n",
       "    .dataframe tbody tr th {\n",
       "        vertical-align: top;\n",
       "    }\n",
       "\n",
       "    .dataframe thead th {\n",
       "        text-align: right;\n",
       "    }\n",
       "</style>\n",
       "<table border=\"1\" class=\"dataframe\">\n",
       "  <thead>\n",
       "    <tr style=\"text-align: right;\">\n",
       "      <th></th>\n",
       "      <th>TOTFOOD</th>\n",
       "      <th>TOTALCH</th>\n",
       "      <th>TOTCLTH</th>\n",
       "      <th>TOTHOUS</th>\n",
       "      <th>TOTFURN</th>\n",
       "      <th>TOTHLTH</th>\n",
       "      <th>TOTTRSP</th>\n",
       "      <th>TOTCMNQ</th>\n",
       "      <th>TOTRCRE</th>\n",
       "      <th>TOTEDUC</th>\n",
       "      <th>TOTMISC</th>\n",
       "    </tr>\n",
       "    <tr>\n",
       "      <th>label</th>\n",
       "      <th></th>\n",
       "      <th></th>\n",
       "      <th></th>\n",
       "      <th></th>\n",
       "      <th></th>\n",
       "      <th></th>\n",
       "      <th></th>\n",
       "      <th></th>\n",
       "      <th></th>\n",
       "      <th></th>\n",
       "      <th></th>\n",
       "    </tr>\n",
       "  </thead>\n",
       "  <tbody>\n",
       "    <tr>\n",
       "      <th>0</th>\n",
       "      <td>3667.370932</td>\n",
       "      <td>14.542541</td>\n",
       "      <td>655.454817</td>\n",
       "      <td>742.977288</td>\n",
       "      <td>309.075706</td>\n",
       "      <td>31.879222</td>\n",
       "      <td>420.006719</td>\n",
       "      <td>149.034261</td>\n",
       "      <td>83.936939</td>\n",
       "      <td>1171.337822</td>\n",
       "      <td>141.019321</td>\n",
       "    </tr>\n",
       "    <tr>\n",
       "      <th>1</th>\n",
       "      <td>7086.889629</td>\n",
       "      <td>373.569053</td>\n",
       "      <td>742.789712</td>\n",
       "      <td>658.137652</td>\n",
       "      <td>423.271500</td>\n",
       "      <td>205.307868</td>\n",
       "      <td>647.811045</td>\n",
       "      <td>180.181819</td>\n",
       "      <td>105.770703</td>\n",
       "      <td>1051.703190</td>\n",
       "      <td>202.121383</td>\n",
       "    </tr>\n",
       "    <tr>\n",
       "      <th>2</th>\n",
       "      <td>9597.291821</td>\n",
       "      <td>54.960748</td>\n",
       "      <td>2247.570768</td>\n",
       "      <td>2404.339304</td>\n",
       "      <td>1154.940254</td>\n",
       "      <td>185.995101</td>\n",
       "      <td>3110.407862</td>\n",
       "      <td>783.884044</td>\n",
       "      <td>616.412075</td>\n",
       "      <td>4702.824890</td>\n",
       "      <td>916.639694</td>\n",
       "    </tr>\n",
       "  </tbody>\n",
       "</table>\n",
       "</div>"
      ],
      "text/plain": [
       "           TOTFOOD     TOTALCH      TOTCLTH      TOTHOUS      TOTFURN  \\\n",
       "label                                                                   \n",
       "0      3667.370932   14.542541   655.454817   742.977288   309.075706   \n",
       "1      7086.889629  373.569053   742.789712   658.137652   423.271500   \n",
       "2      9597.291821   54.960748  2247.570768  2404.339304  1154.940254   \n",
       "\n",
       "          TOTHLTH      TOTTRSP     TOTCMNQ     TOTRCRE      TOTEDUC  \\\n",
       "label                                                                 \n",
       "0       31.879222   420.006719  149.034261   83.936939  1171.337822   \n",
       "1      205.307868   647.811045  180.181819  105.770703  1051.703190   \n",
       "2      185.995101  3110.407862  783.884044  616.412075  4702.824890   \n",
       "\n",
       "          TOTMISC  \n",
       "label              \n",
       "0      141.019321  \n",
       "1      202.121383  \n",
       "2      916.639694  "
      ]
     },
     "execution_count": 92,
     "metadata": {},
     "output_type": "execute_result"
    }
   ],
   "source": [
    "b1.groupby('label').mean()"
   ]
  },
  {
   "cell_type": "code",
   "execution_count": 93,
   "metadata": {},
   "outputs": [
    {
     "data": {
      "text/plain": [
       "<matplotlib.axes._subplots.AxesSubplot at 0x7fd3219bdb70>"
      ]
     },
     "execution_count": 93,
     "metadata": {},
     "output_type": "execute_result"
    },
    {
     "data": {
      "image/png": "[encoded data removed]",
      "text/plain": [
       "<Figure size 720x720 with 1 Axes>"
      ]
     },
     "metadata": {
      "needs_background": "light"
     },
     "output_type": "display_data"
    }
   ],
   "source": [
    "b1.groupby('label').mean().plot(kind='bar', figsize=(10,10))"
   ]
  },
  {
   "cell_type": "code",
   "execution_count": 94,
   "metadata": {},
   "outputs": [
    {
     "name": "stderr",
     "output_type": "stream",
     "text": [
      "No handles with labels found to put in legend.\n"
     ]
    },
    {
     "data": {
      "image/png": "[encoded data removed]",
      "text/plain": [
       "<Figure size 720x720 with 1 Axes>"
      ]
     },
     "metadata": {
      "needs_background": "light"
     },
     "output_type": "display_data"
    }
   ],
   "source": [
    "#parallelchord plot\n",
    "import pandas\n",
    "import matplotlib.pyplot as plt\n",
    "from pandas.plotting import parallel_coordinates\n",
    "plt.figure(figsize=(10,10))\n",
    "plt.xticks(rotation='vertical')\n",
    "plt.legend(loc='lower left')\n",
    "parallel_coordinates(XX_dfl, 'label')\n",
    "plt.show()"
   ]
  },
  {
   "cell_type": "markdown",
   "metadata": {},
   "source": [
    "This resembles upper, middle  - purple and lower class"
   ]
  },
  {
   "cell_type": "code",
   "execution_count": 95,
   "metadata": {},
   "outputs": [],
   "source": [
    "col_list= list(df)\n",
    "b1['TOTAL_EXP'] = df[col_list].sum(axis=1)"
   ]
  },
  {
   "cell_type": "code",
   "execution_count": 96,
   "metadata": {},
   "outputs": [],
   "source": [
    "b2 = b1[['label','TOTAL_EXP']]"
   ]
  },
  {
   "cell_type": "code",
   "execution_count": 97,
   "metadata": {},
   "outputs": [
    {
     "data": {
      "text/plain": [
       "<matplotlib.axes._subplots.AxesSubplot at 0x7fd30bede0b8>"
      ]
     },
     "execution_count": 97,
     "metadata": {},
     "output_type": "execute_result"
    },
    {
     "data": {
      "image/png": "[encoded data removed]",
      "text/plain": [
       "<Figure size 720x720 with 1 Axes>"
      ]
     },
     "metadata": {
      "needs_background": "light"
     },
     "output_type": "display_data"
    }
   ],
   "source": [
    "b2.groupby('label').mean().plot(kind='bar', figsize=(10,10))"
   ]
  },
  {
   "cell_type": "markdown",
   "metadata": {},
   "source": [
    "We have it here, upper, lower and middle class"
   ]
  },
  {
   "cell_type": "markdown",
   "metadata": {},
   "source": [
    "Counting the number of data points in each cluster"
   ]
  },
  {
   "cell_type": "code",
   "execution_count": 98,
   "metadata": {},
   "outputs": [
    {
     "data": {
      "text/plain": [
       "0    5657\n",
       "2    1964\n",
       "1    1301\n",
       "Name: label, dtype: int64"
      ]
     },
     "execution_count": 98,
     "metadata": {},
     "output_type": "execute_result"
    }
   ],
   "source": [
    "XX_dfl.label.value_counts()"
   ]
  },
  {
   "cell_type": "code",
   "execution_count": 100,
   "metadata": {},
   "outputs": [],
   "source": [
    "b1.to_csv('b11.csv')"
   ]
  },
  {
   "cell_type": "code",
   "execution_count": null,
   "metadata": {},
   "outputs": [],
   "source": []
  },
  {
   "cell_type": "code",
   "execution_count": null,
   "metadata": {},
   "outputs": [],
   "source": []
  },
  {
   "cell_type": "code",
   "execution_count": null,
   "metadata": {},
   "outputs": [],
   "source": []
  },
  {
   "cell_type": "code",
   "execution_count": null,
   "metadata": {},
   "outputs": [],
   "source": []
  },
  {
   "cell_type": "code",
   "execution_count": null,
   "metadata": {},
   "outputs": [],
   "source": []
  },
  {
   "cell_type": "code",
   "execution_count": null,
   "metadata": {},
   "outputs": [],
   "source": []
  },
  {
   "cell_type": "code",
   "execution_count": null,
   "metadata": {},
   "outputs": [],
   "source": []
  },
  {
   "cell_type": "code",
   "execution_count": null,
   "metadata": {},
   "outputs": [],
   "source": []
  },
  {
   "cell_type": "code",
   "execution_count": null,
   "metadata": {},
   "outputs": [],
   "source": []
  },
  {
   "cell_type": "markdown",
   "metadata": {},
   "source": [
    "DEC - deep learning + k means"
   ]
  },
  {
   "cell_type": "code",
   "execution_count": 101,
   "metadata": {},
   "outputs": [],
   "source": [
    "#from keras_dec import DeepEmbeddingClustering\n",
    "import numpy as np\n"
   ]
  },
  {
   "cell_type": "markdown",
   "metadata": {},
   "source": [
    "USE DEC AS A FINCTION"
   ]
  },
  {
   "cell_type": "code",
   "execution_count": 102,
   "metadata": {},
   "outputs": [],
   "source": [
    "'''\n",
    "Keras implementation of deep embedder to improve clustering, inspired by:\n",
    "\"Unsupervised Deep Embedding for Clustering Analysis\" (Xie et al, ICML 2016)\n",
    "\n",
    "Definition can accept somewhat custom neural networks. Defaults are from paper.\n",
    "'''\n",
    "import sys\n",
    "import numpy as np\n",
    "import keras.backend as K\n",
    "from keras.initializers import RandomNormal\n",
    "from keras.engine.topology import Layer, InputSpec\n",
    "from keras.models import Model, Sequential\n",
    "from keras.layers import Dense, Dropout, Input\n",
    "from keras.optimizers import SGD\n",
    "from sklearn.preprocessing import normalize\n",
    "from keras.callbacks import LearningRateScheduler\n",
    "from sklearn.utils.linear_assignment_ import linear_assignment\n",
    "from sklearn.cluster import KMeans\n",
    "from sklearn.decomposition import PCA\n",
    "if (sys.version[0] == 2):\n",
    "    import cPickle as pickle\n",
    "else:\n",
    "    import pickle\n",
    "import numpy as np\n",
    "\n",
    "class ClusteringLayer(Layer):\n",
    "    '''\n",
    "    Clustering layer which converts latent space Z of input layer\n",
    "    into a probability vector for each cluster defined by its centre in\n",
    "    Z-space. Use Kullback-Leibler divergence as loss, with a probability\n",
    "    target distribution.\n",
    "    # Arguments\n",
    "        output_dim: int > 0. Should be same as number of clusters.\n",
    "        input_dim: dimensionality of the input (integer).\n",
    "            This argument (or alternatively, the keyword argument `input_shape`)\n",
    "            is required when using this layer as the first layer in a model.\n",
    "        weights: list of Numpy arrays to set as initial weights.\n",
    "            The list should have 2 elements, of shape `(input_dim, output_dim)`\n",
    "            and (output_dim,) for weights and biases respectively.\n",
    "        alpha: parameter in Student's t-distribution. Default is 1.0.\n",
    "    # Input shape\n",
    "        2D tensor with shape: `(nb_samples, input_dim)`.\n",
    "    # Output shape\n",
    "        2D tensor with shape: `(nb_samples, output_dim)`.\n",
    "    '''\n",
    "    def __init__(self, output_dim, input_dim=None, weights=None, alpha=1.0, **kwargs):\n",
    "        self.output_dim = output_dim\n",
    "        self.input_dim = input_dim\n",
    "        self.alpha = alpha\n",
    "        # kmeans cluster centre locations\n",
    "        self.initial_weights = weights\n",
    "        self.input_spec = [InputSpec(ndim=2)]\n",
    "\n",
    "        if self.input_dim:\n",
    "            kwargs['input_shape'] = (self.input_dim,)\n",
    "        super(ClusteringLayer, self).__init__(**kwargs)\n",
    "\n",
    "    def build(self, input_shape):\n",
    "        assert len(input_shape) == 2\n",
    "        input_dim = input_shape[1]\n",
    "        self.input_spec = [InputSpec(dtype=K.floatx(),\n",
    "                                     shape=(None, input_dim))]\n",
    "\n",
    "        self.W = K.variable(self.initial_weights)\n",
    "        self.trainable_weights = [self.W]\n",
    "\n",
    "    def call(self, x, mask=None):\n",
    "        q = 1.0/(1.0 + K.sqrt(K.sum(K.square(K.expand_dims(x, 1) - self.W), axis=2))**2 /self.alpha)\n",
    "        q = q**((self.alpha+1.0)/2.0)\n",
    "        q = K.transpose(K.transpose(q)/K.sum(q, axis=1))\n",
    "        return q\n",
    "\n",
    "    def get_output_shape_for(self, input_shape):\n",
    "        assert input_shape and len(input_shape) == 2\n",
    "        return (input_shape[0], self.output_dim)\n",
    "\n",
    "    def compute_output_shape(self, input_shape):\n",
    "        assert input_shape and len(input_shape) == 2\n",
    "        return (input_shape[0], self.output_dim)\n",
    "\n",
    "    def get_config(self):\n",
    "        config = {'output_dim': self.output_dim,\n",
    "                  'input_dim': self.input_dim}\n",
    "        base_config = super(ClusteringLayer, self).get_config()\n",
    "        return dict(list(base_config.items()) + list(config.items()))\n",
    "\n",
    "\n",
    "class DeepEmbeddingClustering(object):\n",
    "    def __init__(self,\n",
    "                 n_clusters,\n",
    "                 input_dim,\n",
    "                 encoded=None,\n",
    "                 decoded=None,\n",
    "                 alpha=1.0,\n",
    "                 pretrained_weights=None,\n",
    "                 cluster_centres=None,\n",
    "                 batch_size=256,\n",
    "                 **kwargs):\n",
    "\n",
    "        super(DeepEmbeddingClustering, self).__init__()\n",
    "\n",
    "        self.n_clusters = n_clusters\n",
    "        self.input_dim = input_dim\n",
    "        self.encoded = encoded\n",
    "        self.decoded = decoded\n",
    "        self.alpha = alpha\n",
    "        self.pretrained_weights = pretrained_weights\n",
    "        self.cluster_centres = cluster_centres\n",
    "        self.batch_size = batch_size\n",
    "\n",
    "        self.learning_rate = 0.1\n",
    "        self.iters_lr_update = 20000\n",
    "        self.lr_change_rate = 0.1\n",
    "\n",
    "        # greedy layer-wise training before end-to-end training:\n",
    "\n",
    "        self.encoders_dims = [self.input_dim, 500, 500, 2000, 10]\n",
    "\n",
    "        self.input_layer = Input(shape=(self.input_dim,), name='input')\n",
    "        dropout_fraction = 0.2\n",
    "        init_stddev = 0.01\n",
    "\n",
    "        self.layer_wise_autoencoders = []\n",
    "        self.encoders = []\n",
    "        self.decoders = []\n",
    "        for i  in range(1, len(self.encoders_dims)):\n",
    "            \n",
    "            encoder_activation = 'linear' if i == (len(self.encoders_dims) - 1) else 'relu'\n",
    "            encoder = Dense(self.encoders_dims[i], activation=encoder_activation,\n",
    "                            input_shape=(self.encoders_dims[i-1],),\n",
    "                            kernel_initializer=RandomNormal(mean=0.0, stddev=init_stddev, seed=None),\n",
    "                            bias_initializer='zeros', name='encoder_dense_%d'%i)\n",
    "            self.encoders.append(encoder)\n",
    "\n",
    "            decoder_index = len(self.encoders_dims) - i\n",
    "            decoder_activation = 'linear' if i == 1 else 'relu'\n",
    "            decoder = Dense(self.encoders_dims[i-1], activation=decoder_activation,\n",
    "                            kernel_initializer=RandomNormal(mean=0.0, stddev=init_stddev, seed=None),\n",
    "                            bias_initializer='zeros',\n",
    "                            name='decoder_dense_%d'%decoder_index)\n",
    "            self.decoders.append(decoder)\n",
    "\n",
    "            autoencoder = Sequential([\n",
    "                Dropout(dropout_fraction, input_shape=(self.encoders_dims[i-1],), \n",
    "                        name='encoder_dropout_%d'%i),\n",
    "                encoder,\n",
    "                Dropout(dropout_fraction, name='decoder_dropout_%d'%decoder_index),\n",
    "                decoder\n",
    "            ])\n",
    "            autoencoder.compile(loss='mse', optimizer=SGD(lr=self.learning_rate, decay=0, momentum=0.9))\n",
    "            self.layer_wise_autoencoders.append(autoencoder)\n",
    "\n",
    "        # build the end-to-end autoencoder for finetuning\n",
    "        # Note that at this point dropout is discarded\n",
    "        self.encoder = Sequential(self.encoders)\n",
    "        self.encoder.compile(loss='mse', optimizer=SGD(lr=self.learning_rate, decay=0, momentum=0.9))\n",
    "        self.decoders.reverse()\n",
    "        self.autoencoder = Sequential(self.encoders + self.decoders)\n",
    "        self.autoencoder.compile(loss='mse', optimizer=SGD(lr=self.learning_rate, decay=0, momentum=0.9))\n",
    "\n",
    "        if cluster_centres is not None:\n",
    "            assert cluster_centres.shape[0] == self.n_clusters\n",
    "            assert cluster_centres.shape[1] == self.encoder.layers[-1].output_dim\n",
    "\n",
    "        if self.pretrained_weights is not None:\n",
    "            self.autoencoder.load_weights(self.pretrained_weights)\n",
    "\n",
    "    def p_mat(self, q):\n",
    "        weight = q**2 / q.sum(0)\n",
    "        return (weight.T / weight.sum(1)).T\n",
    "\n",
    "    def initialize(self, X, save_autoencoder=False, layerwise_pretrain_iters=50000, finetune_iters=100000):\n",
    "        if self.pretrained_weights is None:\n",
    "\n",
    "            iters_per_epoch = int(len(X) / self.batch_size)\n",
    "            layerwise_epochs = max(int(layerwise_pretrain_iters / iters_per_epoch), 1)\n",
    "            finetune_epochs = max(int(finetune_iters / iters_per_epoch), 1)\n",
    "\n",
    "            print('layerwise pretrain')\n",
    "            current_input = X\n",
    "            lr_epoch_update = max(1, self.iters_lr_update / float(iters_per_epoch))\n",
    "            \n",
    "            def step_decay(epoch):\n",
    "                initial_rate = self.learning_rate\n",
    "                factor = int(epoch / lr_epoch_update)\n",
    "                lr = initial_rate / (10 ** factor)\n",
    "                return lr\n",
    "            lr_schedule = LearningRateScheduler(step_decay)\n",
    "\n",
    "            for i, autoencoder in enumerate(self.layer_wise_autoencoders):\n",
    "                if i > 0:\n",
    "                    weights = self.encoders[i-1].get_weights()\n",
    "                    dense_layer = Dense(self.encoders_dims[i], input_shape=(current_input.shape[1],),\n",
    "                                        activation='relu', weights=weights,\n",
    "                                        name='encoder_dense_copy_%d'%i)\n",
    "                    encoder_model = Sequential([dense_layer])\n",
    "                    encoder_model.compile(loss='mse', optimizer=SGD(lr=self.learning_rate, decay=0, momentum=0.9))\n",
    "                    current_input = encoder_model.predict(current_input)\n",
    "\n",
    "                autoencoder.fit(current_input, current_input, \n",
    "                                batch_size=self.batch_size, epochs=layerwise_epochs, callbacks=[lr_schedule])\n",
    "                self.autoencoder.layers[i].set_weights(autoencoder.layers[1].get_weights())\n",
    "                self.autoencoder.layers[len(self.autoencoder.layers) - i - 1].set_weights(autoencoder.layers[-1].get_weights())\n",
    "            \n",
    "            print('Finetuning autoencoder')\n",
    "            \n",
    "            #update encoder and decoder weights:\n",
    "            self.autoencoder.fit(X, X, batch_size=self.batch_size, epochs=finetune_epochs, callbacks=[lr_schedule])\n",
    "\n",
    "            if save_autoencoder:\n",
    "                self.autoencoder.save_weights('autoencoder.h5')\n",
    "        else:\n",
    "            print('Loading pretrained weights for autoencoder.')\n",
    "            self.autoencoder.load_weights(self.pretrained_weights)\n",
    "\n",
    "        # update encoder, decoder\n",
    "        # TODO: is this needed? Might be redundant...\n",
    "        for i in range(len(self.encoder.layers)):\n",
    "            self.encoder.layers[i].set_weights(self.autoencoder.layers[i].get_weights())\n",
    "\n",
    "        # initialize cluster centres using k-means\n",
    "        print('Initializing cluster centres with k-means.')\n",
    "        if self.cluster_centres is None:\n",
    "            kmeans = KMeans(n_clusters=self.n_clusters, n_init=20)\n",
    "            self.y_pred = kmeans.fit_predict(self.encoder.predict(X))\n",
    "            self.cluster_centres = kmeans.cluster_centers_\n",
    "\n",
    "        # prepare DEC model\n",
    "        #self.DEC = Model(inputs=self.input_layer,\n",
    "        #                 outputs=ClusteringLayer(self.n_clusters,\n",
    "        #                                        weights=self.cluster_centres,\n",
    "        #                                        name='clustering')(self.encoder))\n",
    "        self.DEC = Sequential([self.encoder,\n",
    "                             ClusteringLayer(self.n_clusters,\n",
    "                                                weights=self.cluster_centres,\n",
    "                                                name='clustering')])\n",
    "        self.DEC.compile(loss='kullback_leibler_divergence', optimizer='adadelta')\n",
    "        return\n",
    "\n",
    "    def cluster_acc(self, y_true, y_pred):\n",
    "        assert y_pred.size == y_true.size\n",
    "        D = max(y_pred.max(), y_true.max())+1\n",
    "        w = np.zeros((D, D), dtype=np.int64)\n",
    "        for i in range(y_pred.size):\n",
    "            w[y_pred[i], y_true[i]] += 1\n",
    "        ind = linear_assignment(w.max() - w)\n",
    "        return sum([w[i, j] for i, j in ind])*1.0/y_pred.size, w\n",
    "\n",
    "    def cluster(self, X, y=None,\n",
    "                tol=0.01, update_interval=None,\n",
    "                iter_max=10000,\n",
    "                save_interval=None,\n",
    "                **kwargs):\n",
    "\n",
    "        if update_interval is None:\n",
    "            # 1 epochs\n",
    "            update_interval = X.shape[0]/self.batch_size\n",
    "        print('Update interval', update_interval)\n",
    "\n",
    "        if save_interval is None:\n",
    "            # 50 epochs\n",
    "            save_interval = X.shape[0]/self.batch_size*50\n",
    "        print('Save interval', save_interval)\n",
    "\n",
    "        assert save_interval >= update_interval\n",
    "\n",
    "        train = True\n",
    "        iteration, index = 0, 0\n",
    "        self.accuracy = []\n",
    "\n",
    "        while train:\n",
    "            sys.stdout.write('\\r')\n",
    "            # cutoff iteration\n",
    "            if iter_max < iteration:\n",
    "                print('Reached maximum iteration limit. Stopping training.')\n",
    "                return self.y_pred\n",
    "\n",
    "            # update (or initialize) probability distributions and propagate weight changes\n",
    "            # from DEC model to encoder.\n",
    "            if iteration % update_interval == 0:\n",
    "                self.q = self.DEC.predict(X, verbose=0)\n",
    "                self.p = self.p_mat(self.q)\n",
    "\n",
    "                y_pred = self.q.argmax(1)\n",
    "                delta_label = ((y_pred == self.y_pred).sum().astype(np.float32) / y_pred.shape[0])\n",
    "                if y is not None:\n",
    "                    acc = self.cluster_acc(y, y_pred)[0]\n",
    "                    self.accuracy.append(acc)\n",
    "                    print('Iteration '+str(iteration)+', Accuracy '+str(np.round(acc, 5)))\n",
    "                else:\n",
    "                    print(str(np.round(delta_label*100, 5))+'% change in label assignment')\n",
    "\n",
    "                if delta_label < tol:\n",
    "                    print('Reached tolerance threshold. Stopping training.')\n",
    "                    train = False\n",
    "                    continue\n",
    "                else:\n",
    "                    self.y_pred = y_pred\n",
    "\n",
    "                for i in range(len(self.encoder.layers)):\n",
    "                    self.encoder.layers[i].set_weights(self.DEC.layers[0].layers[i].get_weights())\n",
    "                self.cluster_centres = self.DEC.layers[-1].get_weights()[0]\n",
    "\n",
    "            # train on batch\n",
    "            sys.stdout.write('Iteration %d, ' % iteration)\n",
    "            if (index+1)*self.batch_size > X.shape[0]:\n",
    "                loss = self.DEC.train_on_batch(X[index*self.batch_size::], self.p[index*self.batch_size::])\n",
    "                index = 0\n",
    "                sys.stdout.write('Loss %f' % loss)\n",
    "            else:\n",
    "                loss = self.DEC.train_on_batch(X[index*self.batch_size:(index+1) * self.batch_size],\n",
    "                                               self.p[index*self.batch_size:(index+1) * self.batch_size])\n",
    "                sys.stdout.write('Loss %f' % loss)\n",
    "                index += 1\n",
    "\n",
    "            # save intermediate\n",
    "            if iteration % save_interval == 0:\n",
    "                z = self.encoder.predict(X)\n",
    "                pca = PCA(n_components=2).fit(z)\n",
    "                z_2d = pca.transform(z)\n",
    "                clust_2d = pca.transform(self.cluster_centres)\n",
    "                # save states for visualization\n",
    "                pickle.dump({'z_2d': z_2d, 'clust_2d': clust_2d, 'q': self.q, 'p': self.p},\n",
    "                            open('c'+str(iteration)+'.pkl', 'wb'))\n",
    "                # save DEC model checkpoints\n",
    "                self.DEC.save('DEC_model_'+str(iteration)+'.h5')\n",
    "\n",
    "            iteration += 1\n",
    "            sys.stdout.flush()\n",
    "        return"
   ]
  },
  {
   "cell_type": "code",
   "execution_count": 103,
   "metadata": {},
   "outputs": [],
   "source": [
    "c = DeepEmbeddingClustering(n_clusters=3, input_dim=11)"
   ]
  },
  {
   "cell_type": "code",
   "execution_count": 104,
   "metadata": {},
   "outputs": [],
   "source": [
    "xx = XX_df.values"
   ]
  },
  {
   "cell_type": "code",
   "execution_count": 105,
   "metadata": {},
   "outputs": [
    {
     "name": "stdout",
     "output_type": "stream",
     "text": [
      "layerwise pretrain\n",
      "Epoch 1/29\n",
      "8922/8922 [==============================] - 1s 138us/step - loss: 0.0418\n",
      "Epoch 2/29\n",
      "8922/8922 [==============================] - 0s 19us/step - loss: 0.0230\n",
      "Epoch 3/29\n",
      "8922/8922 [==============================] - 0s 33us/step - loss: 0.0084\n",
      "Epoch 4/29\n",
      "8922/8922 [==============================] - 0s 20us/step - loss: 0.0054\n",
      "Epoch 5/29\n",
      "8922/8922 [==============================] - 0s 23us/step - loss: 0.0032\n",
      "Epoch 6/29\n",
      "8922/8922 [==============================] - 0s 18us/step - loss: 0.0022\n",
      "Epoch 7/29\n",
      "8922/8922 [==============================] - 0s 30us/step - loss: 0.0020\n",
      "Epoch 8/29\n",
      "8922/8922 [==============================] - 0s 21us/step - loss: 0.0019\n",
      "Epoch 9/29\n",
      "8922/8922 [==============================] - 0s 25us/step - loss: 0.0018\n",
      "Epoch 10/29\n",
      "8922/8922 [==============================] - 0s 19us/step - loss: 0.0018\n",
      "Epoch 11/29\n",
      "8922/8922 [==============================] - 0s 20us/step - loss: 0.0017\n",
      "Epoch 12/29\n",
      "8922/8922 [==============================] - 0s 18us/step - loss: 0.0017\n",
      "Epoch 13/29\n",
      "8922/8922 [==============================] - 0s 30us/step - loss: 0.0016\n",
      "Epoch 14/29\n",
      "8922/8922 [==============================] - 0s 18us/step - loss: 0.0016\n",
      "Epoch 15/29\n",
      "8922/8922 [==============================] - 0s 22us/step - loss: 0.0016\n",
      "Epoch 16/29\n",
      "8922/8922 [==============================] - 0s 17us/step - loss: 0.0015\n",
      "Epoch 17/29\n",
      "8922/8922 [==============================] - 0s 30us/step - loss: 0.0016\n",
      "Epoch 18/29\n",
      "8922/8922 [==============================] - 0s 18us/step - loss: 0.0016\n",
      "Epoch 19/29\n",
      "8922/8922 [==============================] - 0s 24us/step - loss: 0.0016\n",
      "Epoch 20/29\n",
      "8922/8922 [==============================] - 0s 18us/step - loss: 0.0015\n",
      "Epoch 21/29\n",
      "8922/8922 [==============================] - 0s 34us/step - loss: 0.0014\n",
      "Epoch 22/29\n",
      "8922/8922 [==============================] - 0s 29us/step - loss: 0.0015\n",
      "Epoch 23/29\n",
      "8922/8922 [==============================] - 0s 20us/step - loss: 0.0015\n",
      "Epoch 24/29\n",
      "8922/8922 [==============================] - 0s 21us/step - loss: 0.0015\n",
      "Epoch 25/29\n",
      "8922/8922 [==============================] - 0s 20us/step - loss: 0.0015\n",
      "Epoch 26/29\n",
      "8922/8922 [==============================] - 0s 18us/step - loss: 0.0014\n",
      "Epoch 27/29\n",
      "8922/8922 [==============================] - 0s 23us/step - loss: 0.0015\n",
      "Epoch 28/29\n",
      "8922/8922 [==============================] - 0s 18us/step - loss: 0.0014\n",
      "Epoch 29/29\n",
      "8922/8922 [==============================] - 0s 31us/step - loss: 0.0014\n",
      "Epoch 1/29\n",
      "8922/8922 [==============================] - 2s 204us/step - loss: 0.0014\n",
      "Epoch 2/29\n",
      "8922/8922 [==============================] - 1s 91us/step - loss: 0.0013\n",
      "Epoch 3/29\n",
      "8922/8922 [==============================] - 1s 93us/step - loss: 0.0011\n",
      "Epoch 4/29\n",
      "8922/8922 [==============================] - 1s 92us/step - loss: 0.0010\n",
      "Epoch 5/29\n",
      "8922/8922 [==============================] - 1s 95us/step - loss: 9.6020e-04\n",
      "Epoch 6/29\n",
      "8922/8922 [==============================] - 1s 93us/step - loss: 8.9909e-04\n",
      "Epoch 7/29\n",
      "8922/8922 [==============================] - 1s 91us/step - loss: 8.5143e-04\n",
      "Epoch 8/29\n",
      "8922/8922 [==============================] - 1s 92us/step - loss: 8.1318e-04\n",
      "Epoch 9/29\n",
      "8922/8922 [==============================] - 1s 95us/step - loss: 7.8259e-04\n",
      "Epoch 10/29\n",
      "8922/8922 [==============================] - 1s 94us/step - loss: 7.5844e-04\n",
      "Epoch 11/29\n",
      "8922/8922 [==============================] - 1s 93us/step - loss: 7.3951e-04\n",
      "Epoch 12/29\n",
      "8922/8922 [==============================] - 1s 99us/step - loss: 7.2457e-04\n",
      "Epoch 13/29\n",
      "8922/8922 [==============================] - 1s 92us/step - loss: 7.1276e-04\n",
      "Epoch 14/29\n",
      "8922/8922 [==============================] - 1s 90us/step - loss: 7.0315e-04\n",
      "Epoch 15/29\n",
      "8922/8922 [==============================] - 1s 91us/step - loss: 6.9512e-04\n",
      "Epoch 16/29\n",
      "8922/8922 [==============================] - 1s 93us/step - loss: 6.8722e-04\n",
      "Epoch 17/29\n",
      "8922/8922 [==============================] - 1s 92us/step - loss: 6.7971e-04\n",
      "Epoch 18/29\n",
      "8922/8922 [==============================] - 1s 94us/step - loss: 6.7316e-04\n",
      "Epoch 19/29\n",
      "8922/8922 [==============================] - 1s 93us/step - loss: 6.6742e-04\n",
      "Epoch 20/29\n",
      "8922/8922 [==============================] - 1s 93us/step - loss: 6.6213e-04\n",
      "Epoch 21/29\n",
      "8922/8922 [==============================] - 1s 89us/step - loss: 6.5725e-04\n",
      "Epoch 22/29\n",
      "8922/8922 [==============================] - 1s 95us/step - loss: 6.5257e-04\n",
      "Epoch 23/29\n",
      "8922/8922 [==============================] - 1s 99us/step - loss: 6.4811e-04\n",
      "Epoch 24/29\n",
      "8922/8922 [==============================] - 1s 95us/step - loss: 6.4336e-04\n",
      "Epoch 25/29\n",
      "8922/8922 [==============================] - 1s 89us/step - loss: 6.3870e-04\n",
      "Epoch 26/29\n",
      "8922/8922 [==============================] - 1s 93us/step - loss: 6.3392e-04\n",
      "Epoch 27/29\n",
      "8922/8922 [==============================] - 1s 91us/step - loss: 6.2917e-04\n",
      "Epoch 28/29\n",
      "8922/8922 [==============================] - 1s 97us/step - loss: 6.2413e-04\n",
      "Epoch 29/29\n",
      "8922/8922 [==============================] - 1s 100us/step - loss: 6.1890e-04\n",
      "Epoch 1/29\n",
      "8922/8922 [==============================] - 4s 409us/step - loss: 1.4695e-04\n",
      "Epoch 2/29\n",
      "8922/8922 [==============================] - 3s 289us/step - loss: 1.3259e-04\n",
      "Epoch 3/29\n",
      "8922/8922 [==============================] - 3s 293us/step - loss: 1.1672e-04\n",
      "Epoch 4/29\n",
      "8922/8922 [==============================] - 3s 289us/step - loss: 1.0307e-04\n",
      "Epoch 5/29\n",
      "8922/8922 [==============================] - 3s 302us/step - loss: 9.2245e-05\n",
      "Epoch 6/29\n",
      "8922/8922 [==============================] - 3s 290us/step - loss: 8.3620e-05\n",
      "Epoch 7/29\n",
      "8922/8922 [==============================] - 3s 296us/step - loss: 7.6580e-05\n",
      "Epoch 8/29\n",
      "8922/8922 [==============================] - 3s 294us/step - loss: 7.1086e-05\n",
      "Epoch 9/29\n",
      "8922/8922 [==============================] - 3s 289us/step - loss: 6.6863e-05\n",
      "Epoch 10/29\n",
      "8922/8922 [==============================] - 3s 290us/step - loss: 6.3503e-05\n",
      "Epoch 11/29\n",
      "8922/8922 [==============================] - 3s 290us/step - loss: 6.0883e-05\n",
      "Epoch 12/29\n",
      "8922/8922 [==============================] - 3s 296us/step - loss: 5.8906e-05\n",
      "Epoch 13/29\n",
      "8922/8922 [==============================] - 3s 294us/step - loss: 5.7399e-05\n",
      "Epoch 14/29\n",
      "8922/8922 [==============================] - 3s 302us/step - loss: 5.6228e-05\n",
      "Epoch 15/29\n",
      "8922/8922 [==============================] - 3s 290us/step - loss: 5.5237e-05\n",
      "Epoch 16/29\n",
      "8922/8922 [==============================] - 3s 288us/step - loss: 5.4433e-05\n",
      "Epoch 17/29\n",
      "8922/8922 [==============================] - 3s 289us/step - loss: 5.3805e-05\n",
      "Epoch 18/29\n",
      "8922/8922 [==============================] - 3s 291us/step - loss: 5.3301e-05\n",
      "Epoch 19/29\n",
      "8922/8922 [==============================] - 3s 293us/step - loss: 5.2876e-05\n",
      "Epoch 20/29\n",
      "8922/8922 [==============================] - 3s 289us/step - loss: 5.2477e-05\n",
      "Epoch 21/29\n",
      "8922/8922 [==============================] - 3s 293us/step - loss: 5.1912e-05\n",
      "Epoch 22/29\n",
      "8922/8922 [==============================] - 3s 292us/step - loss: 5.1255e-05\n",
      "Epoch 23/29\n",
      "8922/8922 [==============================] - 3s 290us/step - loss: 5.0664e-05\n",
      "Epoch 24/29\n",
      "8922/8922 [==============================] - 3s 288us/step - loss: 5.0196e-05\n",
      "Epoch 25/29\n",
      "8922/8922 [==============================] - 3s 296us/step - loss: 4.9781e-05\n",
      "Epoch 26/29\n",
      "8922/8922 [==============================] - 3s 289us/step - loss: 4.9413e-05\n",
      "Epoch 27/29\n",
      "8922/8922 [==============================] - 3s 296us/step - loss: 4.9115e-05\n",
      "Epoch 28/29\n",
      "8922/8922 [==============================] - 3s 289us/step - loss: 4.8887e-05\n",
      "Epoch 29/29\n",
      "8922/8922 [==============================] - 3s 296us/step - loss: 4.8678e-05\n",
      "Epoch 1/29\n",
      "8922/8922 [==============================] - 2s 179us/step - loss: 5.6490e-06\n",
      "Epoch 2/29\n",
      "8922/8922 [==============================] - 1s 65us/step - loss: 5.4500e-06\n",
      "Epoch 3/29\n",
      "8922/8922 [==============================] - 1s 59us/step - loss: 5.1997e-06\n",
      "Epoch 4/29\n",
      "8922/8922 [==============================] - 1s 73us/step - loss: 4.9436e-06\n",
      "Epoch 5/29\n",
      "8922/8922 [==============================] - 1s 62us/step - loss: 4.6971e-06\n",
      "Epoch 6/29\n",
      "8922/8922 [==============================] - 1s 64us/step - loss: 4.4634e-06\n",
      "Epoch 7/29\n",
      "8922/8922 [==============================] - 1s 71us/step - loss: 4.2439e-06\n",
      "Epoch 8/29\n",
      "8922/8922 [==============================] - 1s 62us/step - loss: 4.0378e-06\n",
      "Epoch 9/29\n",
      "8922/8922 [==============================] - 1s 68us/step - loss: 3.8445e-06\n",
      "Epoch 10/29\n",
      "8922/8922 [==============================] - 1s 61us/step - loss: 3.6637e-06\n",
      "Epoch 11/29\n",
      "8922/8922 [==============================] - 1s 62us/step - loss: 3.4945e-06\n",
      "Epoch 12/29\n",
      "8922/8922 [==============================] - 1s 67us/step - loss: 3.3357e-06\n",
      "Epoch 13/29\n",
      "8922/8922 [==============================] - 1s 69us/step - loss: 3.1877e-06\n",
      "Epoch 14/29\n",
      "8922/8922 [==============================] - 1s 60us/step - loss: 3.0495e-06\n",
      "Epoch 15/29\n",
      "8922/8922 [==============================] - 1s 63us/step - loss: 2.9209e-06\n",
      "Epoch 16/29\n",
      "8922/8922 [==============================] - 1s 72us/step - loss: 2.8005e-06\n",
      "Epoch 17/29\n",
      "8922/8922 [==============================] - 1s 61us/step - loss: 2.6885e-06\n",
      "Epoch 18/29\n",
      "8922/8922 [==============================] - 1s 69us/step - loss: 2.5837e-06\n",
      "Epoch 19/29\n",
      "8922/8922 [==============================] - 1s 83us/step - loss: 2.4859e-06\n",
      "Epoch 20/29\n",
      "8922/8922 [==============================] - 1s 62us/step - loss: 2.3946e-06\n",
      "Epoch 21/29\n",
      "8922/8922 [==============================] - 1s 61us/step - loss: 2.3096e-06\n",
      "Epoch 22/29\n",
      "8922/8922 [==============================] - 1s 62us/step - loss: 2.2300e-06\n",
      "Epoch 23/29\n",
      "8922/8922 [==============================] - 1s 60us/step - loss: 2.1556e-06\n",
      "Epoch 24/29\n",
      "8922/8922 [==============================] - 1s 74us/step - loss: 2.0864e-06\n",
      "Epoch 25/29\n",
      "8922/8922 [==============================] - 1s 61us/step - loss: 2.0219e-06\n",
      "Epoch 26/29\n",
      "8922/8922 [==============================] - 1s 63us/step - loss: 1.9616e-06\n",
      "Epoch 27/29\n",
      "8922/8922 [==============================] - 1s 60us/step - loss: 1.9056e-06\n",
      "Epoch 28/29\n",
      "8922/8922 [==============================] - 1s 69us/step - loss: 1.8531e-06\n",
      "Epoch 29/29\n",
      "8922/8922 [==============================] - 1s 66us/step - loss: 1.8043e-06\n",
      "Finetuning autoencoder\n",
      "Epoch 1/29\n",
      "8922/8922 [==============================] - 5s 559us/step - loss: 0.0426\n",
      "Epoch 2/29\n",
      "8922/8922 [==============================] - 4s 430us/step - loss: 0.0426\n",
      "Epoch 3/29\n",
      "8922/8922 [==============================] - 4s 427us/step - loss: 0.0426\n",
      "Epoch 4/29\n",
      "8922/8922 [==============================] - 4s 426us/step - loss: 0.0426\n",
      "Epoch 5/29\n",
      "8922/8922 [==============================] - 4s 428us/step - loss: 0.0426\n",
      "Epoch 6/29\n",
      "8922/8922 [==============================] - 4s 437us/step - loss: 0.0426\n",
      "Epoch 7/29\n",
      "8922/8922 [==============================] - 4s 426us/step - loss: 0.0426\n",
      "Epoch 8/29\n",
      "8922/8922 [==============================] - 4s 434us/step - loss: 0.0426\n",
      "Epoch 9/29\n",
      "8922/8922 [==============================] - 4s 432us/step - loss: 0.0426\n",
      "Epoch 10/29\n",
      "8922/8922 [==============================] - 4s 423us/step - loss: 0.0426\n",
      "Epoch 11/29\n",
      "8922/8922 [==============================] - 4s 431us/step - loss: 0.0426\n",
      "Epoch 12/29\n",
      "8922/8922 [==============================] - 4s 430us/step - loss: 0.0426\n",
      "Epoch 13/29\n",
      "8922/8922 [==============================] - 4s 431us/step - loss: 0.0426\n",
      "Epoch 14/29\n",
      "8922/8922 [==============================] - 4s 430us/step - loss: 0.0426\n",
      "Epoch 15/29\n",
      "8922/8922 [==============================] - 4s 430us/step - loss: 0.0426\n",
      "Epoch 16/29\n",
      "8922/8922 [==============================] - 4s 430us/step - loss: 0.0425\n",
      "Epoch 17/29\n",
      "8922/8922 [==============================] - 4s 430us/step - loss: 0.0425\n",
      "Epoch 18/29\n",
      "8922/8922 [==============================] - 4s 424us/step - loss: 0.0427\n",
      "Epoch 19/29\n",
      "8922/8922 [==============================] - 4s 430us/step - loss: 0.0425\n",
      "Epoch 20/29\n",
      "8922/8922 [==============================] - 4s 456us/step - loss: 0.0426\n",
      "Epoch 21/29\n",
      "8922/8922 [==============================] - 4s 437us/step - loss: 0.0425\n",
      "Epoch 22/29\n",
      "8922/8922 [==============================] - 4s 432us/step - loss: 0.0424\n",
      "Epoch 23/29\n",
      "8922/8922 [==============================] - 4s 430us/step - loss: 0.0423\n",
      "Epoch 24/29\n",
      "8922/8922 [==============================] - 4s 437us/step - loss: 0.0421\n",
      "Epoch 25/29\n",
      "8922/8922 [==============================] - 4s 430us/step - loss: 0.0418\n",
      "Epoch 26/29\n",
      "8922/8922 [==============================] - 4s 429us/step - loss: 0.0404\n",
      "Epoch 27/29\n",
      "8922/8922 [==============================] - 4s 431us/step - loss: 0.0300\n",
      "Epoch 28/29\n",
      "8922/8922 [==============================] - 4s 430us/step - loss: 0.0099\n",
      "Epoch 29/29\n",
      "8922/8922 [==============================] - 4s 437us/step - loss: 0.0090\n",
      "Initializing cluster centres with k-means.\n"
     ]
    }
   ],
   "source": [
    "c.initialize(xx, finetune_iters=1000, layerwise_pretrain_iters=1000)\n",
    "#cl = c.cluster(xx, y=None)"
   ]
  },
  {
   "cell_type": "code",
   "execution_count": 42,
   "metadata": {},
   "outputs": [
    {
     "name": "stdout",
     "output_type": "stream",
     "text": [
      "Update interval 34.8515625\n",
      "Save interval 1742.578125\n",
      "100.0% change in label assignment\n",
      "Reached maximum iteration limit. Stopping training.\n"
     ]
    }
   ],
   "source": [
    "cl = c.cluster(xx, y=None)"
   ]
  },
  {
   "cell_type": "code",
   "execution_count": 43,
   "metadata": {},
   "outputs": [
    {
     "data": {
      "text/plain": [
       "array([2, 2, 1, ..., 1, 1, 1])"
      ]
     },
     "execution_count": 43,
     "metadata": {},
     "output_type": "execute_result"
    }
   ],
   "source": [
    "cl"
   ]
  },
  {
   "cell_type": "code",
   "execution_count": 106,
   "metadata": {},
   "outputs": [
    {
     "data": {
      "text/plain": [
       "(8922, 11)"
      ]
     },
     "execution_count": 106,
     "metadata": {},
     "output_type": "execute_result"
    }
   ],
   "source": [
    "xx.shape"
   ]
  },
  {
   "cell_type": "code",
   "execution_count": 107,
   "metadata": {},
   "outputs": [
    {
     "data": {
      "text/plain": [
       "(8922,)"
      ]
     },
     "execution_count": 107,
     "metadata": {},
     "output_type": "execute_result"
    }
   ],
   "source": [
    "cl.shape"
   ]
  },
  {
   "cell_type": "code",
   "execution_count": 108,
   "metadata": {},
   "outputs": [
    {
     "data": {
      "text/plain": [
       "2"
      ]
     },
     "execution_count": 108,
     "metadata": {},
     "output_type": "execute_result"
    }
   ],
   "source": [
    "cl.max()"
   ]
  },
  {
   "cell_type": "code",
   "execution_count": 109,
   "metadata": {},
   "outputs": [
    {
     "data": {
      "text/plain": [
       "0"
      ]
     },
     "execution_count": 109,
     "metadata": {},
     "output_type": "execute_result"
    }
   ],
   "source": [
    "cl.min()"
   ]
  },
  {
   "cell_type": "code",
   "execution_count": 111,
   "metadata": {},
   "outputs": [
    {
     "name": "stdout",
     "output_type": "stream",
     "text": [
      "Silhouette Coefficient: 0.417\n"
     ]
    }
   ],
   "source": [
    "#from sklearn.metrics import silhouette_samples, silhouette_score\n",
    "#from sklearn import metrics\n",
    "print(\"Silhouette Coefficient: %0.3f\"\n",
    "      % metrics.silhouette_score(xx, cl))"
   ]
  },
  {
   "cell_type": "markdown",
   "metadata": {},
   "source": [
    "DEC DOES NOT IMPROVE THE CLUSTERING"
   ]
  },
  {
   "cell_type": "markdown",
   "metadata": {},
   "source": [
    "We stick autoencoder + kmeans"
   ]
  },
  {
   "cell_type": "code",
   "execution_count": null,
   "metadata": {},
   "outputs": [],
   "source": []
  },
  {
   "cell_type": "code",
   "execution_count": null,
   "metadata": {},
   "outputs": [],
   "source": []
  },
  {
   "cell_type": "code",
   "execution_count": null,
   "metadata": {},
   "outputs": [],
   "source": []
  },
  {
   "cell_type": "markdown",
   "metadata": {},
   "source": [
    "DBSCAN"
   ]
  },
  {
   "cell_type": "code",
   "execution_count": 29,
   "metadata": {},
   "outputs": [],
   "source": [
    "#df = pd.read_csv('XX_df.csv')\n",
    "#df.drop(['Unnamed: 0'], axis = 1, inplace = True)\n",
    "#df.head(2)"
   ]
  },
  {
   "cell_type": "code",
   "execution_count": 30,
   "metadata": {},
   "outputs": [],
   "source": [
    "#XX = df.values # Define input variable"
   ]
  },
  {
   "cell_type": "code",
   "execution_count": 31,
   "metadata": {},
   "outputs": [],
   "source": [
    "#import numpy as np\n",
    "#from sklearn.cluster import DBSCAN\n",
    "#from sklearn import metrics"
   ]
  },
  {
   "cell_type": "code",
   "execution_count": 32,
   "metadata": {},
   "outputs": [],
   "source": [
    "# Compute DBSCAN - best model\n",
    "#db = DBSCAN(eps=0.08, min_samples=10, metric='cosine').fit(XX) # we set minimum sample in each cluster to be 100\n",
    "#core_samples_mask = np.zeros_like(db.labels_, dtype=bool)\n",
    "#core_samples_mask[db.core_sample_indices_] = True\n",
    "#labels = db.labels_"
   ]
  },
  {
   "cell_type": "code",
   "execution_count": null,
   "metadata": {},
   "outputs": [],
   "source": []
  },
  {
   "cell_type": "code",
   "execution_count": null,
   "metadata": {},
   "outputs": [],
   "source": []
  },
  {
   "cell_type": "code",
   "execution_count": null,
   "metadata": {},
   "outputs": [],
   "source": []
  },
  {
   "cell_type": "code",
   "execution_count": null,
   "metadata": {},
   "outputs": [],
   "source": []
  },
  {
   "cell_type": "markdown",
   "metadata": {},
   "source": [
    "HDBSCAN"
   ]
  },
  {
   "cell_type": "markdown",
   "metadata": {},
   "source": [
    "We will use HDBSCAN to perform the clustering and compare the results to the results above"
   ]
  },
  {
   "cell_type": "code",
   "execution_count": 33,
   "metadata": {},
   "outputs": [],
   "source": [
    "#!pip install hdbscan\n",
    "#!pip install --upgrade --user numpy"
   ]
  },
  {
   "cell_type": "code",
   "execution_count": 34,
   "metadata": {},
   "outputs": [],
   "source": [
    "#import hdbscan"
   ]
  },
  {
   "cell_type": "code",
   "execution_count": 35,
   "metadata": {},
   "outputs": [],
   "source": [
    "#XX = pd.read_csv('XX_df.csv')\n",
    "#XX.drop(['Unnamed: 0'], axis = 1, inplace = True)\n",
    "#XX.head(2)"
   ]
  },
  {
   "cell_type": "code",
   "execution_count": 36,
   "metadata": {},
   "outputs": [],
   "source": [
    "#xx = XX.values"
   ]
  },
  {
   "cell_type": "code",
   "execution_count": 37,
   "metadata": {},
   "outputs": [],
   "source": [
    "# Compute HDBSCAN - best model\n",
    "#hdb = hdbscan.HDBSCAN().fit(xx) # we do not manually specify eps or min_sample or a metric"
   ]
  },
  {
   "cell_type": "code",
   "execution_count": 38,
   "metadata": {},
   "outputs": [],
   "source": [
    "#hdb.labels_"
   ]
  },
  {
   "cell_type": "code",
   "execution_count": 39,
   "metadata": {},
   "outputs": [],
   "source": [
    "#n_clusters_ = hdb.labels_.max() + 1"
   ]
  },
  {
   "cell_type": "code",
   "execution_count": 40,
   "metadata": {},
   "outputs": [],
   "source": [
    "#print('number of clusters is ', n_clusters_)"
   ]
  },
  {
   "cell_type": "markdown",
   "metadata": {},
   "source": [
    "Number of clusters donot change after apply a deep learning model"
   ]
  },
  {
   "cell_type": "markdown",
   "metadata": {},
   "source": [
    "Add a label column to the data"
   ]
  },
  {
   "cell_type": "code",
   "execution_count": 41,
   "metadata": {},
   "outputs": [],
   "source": [
    "#XX['label'] = hdb.labels_\n",
    "#XX.head()"
   ]
  },
  {
   "cell_type": "markdown",
   "metadata": {},
   "source": [
    "PCA"
   ]
  },
  {
   "cell_type": "markdown",
   "metadata": {},
   "source": [
    "PCA Projection normalised data to 2D"
   ]
  },
  {
   "cell_type": "code",
   "execution_count": 42,
   "metadata": {},
   "outputs": [],
   "source": [
    "#from sklearn.decomposition import PCA\n",
    "#pca = PCA(n_components=2)\n",
    "\n",
    "#principalComponents = pca.fit_transform(xx)\n",
    "\n",
    "#principalDf_hdbscan_norm = pd.DataFrame(data = principalComponents\n",
    " #            , columns = ['C1', 'C2'])"
   ]
  },
  {
   "cell_type": "code",
   "execution_count": 43,
   "metadata": {},
   "outputs": [],
   "source": [
    "#principalDf_hdbscan_norm['label'] = XX.label\n",
    "\n",
    "#principalDf_hdbscan_norm.head()"
   ]
  },
  {
   "cell_type": "code",
   "execution_count": 44,
   "metadata": {},
   "outputs": [],
   "source": [
    "#condition = principalDf_hdbscan_norm.label != -1\n",
    "\n",
    "#principalDf_hdbscan_norm = principalDf_hdbscan_norm[condition]"
   ]
  },
  {
   "cell_type": "markdown",
   "metadata": {},
   "source": [
    "Counting the number of clusters in each label"
   ]
  },
  {
   "cell_type": "code",
   "execution_count": 45,
   "metadata": {},
   "outputs": [],
   "source": [
    "#principalDf_hdbscan_norm.label.value_counts()"
   ]
  },
  {
   "cell_type": "markdown",
   "metadata": {},
   "source": [
    "Now, lets visualize the clusters"
   ]
  },
  {
   "cell_type": "code",
   "execution_count": 46,
   "metadata": {},
   "outputs": [],
   "source": [
    "#n_clusters = n_clusters_\n",
    "#colors = cm.rainbow(np.linspace(0, 1, n_clusters))\n",
    "#cluster_labels = list(range(0, n_clusters))\n",
    "\n",
    "# Create a figure of size 6 inches by 4 inches.\n",
    "#plt.figure(figsize=(10,10))\n",
    "#pdf = principalDf_hdbscan_norm.copy()\n",
    "# plt.scatter(subset.C1, subset.C2)\n",
    "#for color, label in zip(colors, cluster_labels):\n",
    " #   subset = pdf[pdf.label == label] #subset is a dataframe including all the columns\n",
    "  #  plt.scatter(subset.C1, subset.C2, c=color, label='cluster'+str(label),alpha=0.5) # plt.scatter(subset.horsepow, subset.mpg)\n",
    "#plt.legend()\n",
    "#plt.title('Clusters')\n",
    "#plt.xlabel('C1')\n",
    "#plt.ylabel('C2')"
   ]
  },
  {
   "cell_type": "code",
   "execution_count": 47,
   "metadata": {},
   "outputs": [],
   "source": [
    "#from sklearn.metrics import silhouette_samples, silhouette_score\n",
    "#print(\"Silhouette Coefficient: %0.3f\"\n",
    " #     % metrics.silhouette_score(xx, hdb.labels_))"
   ]
  },
  {
   "cell_type": "markdown",
   "metadata": {},
   "source": [
    "Not a better silhouetter score...we stick to non deep learning hdbscan"
   ]
  },
  {
   "cell_type": "markdown",
   "metadata": {},
   "source": [
    "DEC"
   ]
  },
  {
   "cell_type": "code",
   "execution_count": 34,
   "metadata": {},
   "outputs": [],
   "source": [
    "XX = pd.read_csv('XX_df.csv')\n",
    "XX.drop(['Unnamed: 0'], axis = 1, inplace = True)\n",
    "XX.head(2)\n",
    "xx = XX.values"
   ]
  },
  {
   "cell_type": "code",
   "execution_count": 70,
   "metadata": {},
   "outputs": [],
   "source": [
    "import numpy as np\n",
    "from sklearn.metrics import normalized_mutual_info_score, adjusted_rand_score\n",
    "\n",
    "nmi = normalized_mutual_info_score\n",
    "ari = adjusted_rand_score\n",
    "\n",
    "\n",
    "def acc(y_true, y_pred):\n",
    "    \"\"\"\n",
    "    Calculate clustering accuracy. Require scikit-learn installed\n",
    "\n",
    "    # Arguments\n",
    "        y: true labels, numpy.array with shape `(n_samples,)`\n",
    "        y_pred: predicted labels, numpy.array with shape `(n_samples,)`\n",
    "\n",
    "    # Return\n",
    "        accuracy, in [0,1]\n",
    "    \"\"\"\n",
    "    y_true = y_true.astype(np.int64)\n",
    "    assert y_pred.size == y_true.size\n",
    "    D = max(y_pred.max(), y_true.max()) + 1\n",
    "    w = np.zeros((D, D), dtype=np.int64)\n",
    "    for i in range(y_pred.size):\n",
    "        w[y_pred[i], y_true[i]] += 1\n",
    "    from sklearn.utils.linear_assignment_ import linear_assignment\n",
    "    ind = linear_assignment(w.max() - w)\n",
    "    return sum([w[i, j] for i, j in ind]) * 1.0 / y_pred.size"
   ]
  },
  {
   "cell_type": "code",
   "execution_count": 71,
   "metadata": {},
   "outputs": [],
   "source": [
    "\n",
    "\n",
    "\"\"\"\n",
    "Keras implementation for Deep Embedded Clustering (DEC) algorithm:\n",
    "\n",
    "Original Author:\n",
    "    Xifeng Guo. 2017.1.30\n",
    "\"\"\"\n",
    "\n",
    "\n",
    "def autoencoder(dims, act='softmax', init='glorot_uniform'):\n",
    "    \"\"\"\n",
    "    Fully connected auto-encoder model, symmetric.\n",
    "    Arguments:\n",
    "        dims: list of number of units in each layer of encoder. dims[0] is input dim, dims[-1] is units in hidden layer.\n",
    "            The decoder is symmetric with encoder. So number of layers of the auto-encoder is 2*len(dims)-1\n",
    "        act: activation, not applied to Input, Hidden and Output layers\n",
    "    return:\n",
    "        (ae_model, encoder_model), Model of autoencoder and model of encoder\n",
    "    \"\"\"\n",
    "    n_stacks = len(dims) - 1\n",
    "    # input\n",
    "    x = Input(shape=(dims[0],), name='input')\n",
    "    h = x\n",
    "\n",
    "    # internal layers in encoder\n",
    "    for i in range(n_stacks-1):\n",
    "        h = Dense(dims[i + 1], activation=act, kernel_initializer=init, name='encoder_%d' % i)(h)\n",
    "\n",
    "    # hidden layer\n",
    "    h = Dense(dims[-1], kernel_initializer=init, name='encoder_%d' % (n_stacks - 1))(h)  # hidden layer, features are extracted from here\n",
    "\n",
    "    y = h\n",
    "    # internal layers in decoder\n",
    "    for i in range(n_stacks-1, 0, -1):\n",
    "        y = Dense(dims[i], activation=act, kernel_initializer=init, name='decoder_%d' % i)(y)\n",
    "\n",
    "    # output\n",
    "    y = Dense(dims[0], kernel_initializer=init, name='decoder_0')(y)\n",
    "\n",
    "    return Model(inputs=x, outputs=y, name='AE'), Model(inputs=x, outputs=h, name='encoder')\n",
    "\n",
    "\n",
    "class ClusteringLayer(Layer):\n",
    "    \"\"\"\n",
    "    Clustering layer converts input sample (feature) to soft label, i.e. a vector that represents the probability of the\n",
    "    sample belonging to each cluster. The probability is calculated with student's t-distribution.\n",
    "\n",
    "    # Example\n",
    "    ```\n",
    "        model.add(ClusteringLayer(n_clusters=3))\n",
    "    ```\n",
    "    # Arguments\n",
    "        n_clusters: number of clusters.\n",
    "        weights: list of Numpy array with shape `(n_clusters, n_features)` witch represents the initial cluster centers.\n",
    "        alpha: parameter in Student's t-distribution. Default to 1.0.\n",
    "    # Input shape\n",
    "        2D tensor with shape: `(n_samples, n_features)`.\n",
    "    # Output shape\n",
    "        2D tensor with shape: `(n_samples, n_clusters)`.\n",
    "    \"\"\"\n",
    "\n",
    "    def __init__(self, n_clusters, weights=None, alpha=1.0, **kwargs):\n",
    "        if 'input_shape' not in kwargs and 'input_dim' in kwargs:\n",
    "            kwargs['input_shape'] = (kwargs.pop('input_dim'),)\n",
    "        super(ClusteringLayer, self).__init__(**kwargs)\n",
    "        self.n_clusters = n_clusters\n",
    "        self.alpha = alpha\n",
    "        self.initial_weights = weights\n",
    "        self.input_spec = InputSpec(ndim=2)\n",
    "\n",
    "    def build(self, input_shape):\n",
    "        assert len(input_shape) == 2\n",
    "        input_dim = input_shape[1]\n",
    "        self.input_spec = InputSpec(dtype=K.floatx(), shape=(None, input_dim))\n",
    "        self.clusters = self.add_weight((self.n_clusters, input_dim), initializer='glorot_uniform', name='clusters')\n",
    "        if self.initial_weights is not None:\n",
    "            self.set_weights(self.initial_weights)\n",
    "            del self.initial_weights\n",
    "        self.built = True\n",
    "\n",
    "    def call(self, inputs, **kwargs):\n",
    "        \"\"\" student t-distribution, as same as used in t-SNE algorithm.\n",
    "                 q_ij = 1/(1+dist(x_i, u_j)^2), then normalize it.\n",
    "        Arguments:\n",
    "            inputs: the variable containing data, shape=(n_samples, n_features)\n",
    "        Return:\n",
    "            q: student's t-distribution, or soft labels for each sample. shape=(n_samples, n_clusters)\n",
    "        \"\"\"\n",
    "        q = 1.0 / (1.0 + (K.sum(K.square(K.expand_dims(inputs, axis=1) - self.clusters), axis=2) / self.alpha))\n",
    "        q **= (self.alpha + 1.0) / 2.0\n",
    "        q = K.transpose(K.transpose(q) / K.sum(q, axis=1))\n",
    "        return q\n",
    "\n",
    "    def compute_output_shape(self, input_shape):\n",
    "        assert input_shape and len(input_shape) == 2\n",
    "        return input_shape[0], self.n_clusters\n",
    "\n",
    "    def get_config(self):\n",
    "        config = {'n_clusters': self.n_clusters}\n",
    "        base_config = super(ClusteringLayer, self).get_config()\n",
    "        return dict(list(base_config.items()) + list(config.items()))\n",
    "\n",
    "\n",
    "class DEC(object):\n",
    "    def __init__(self,\n",
    "                 dims,\n",
    "                 n_clusters=10,\n",
    "                 alpha=1.0,\n",
    "                 init='glorot_uniform'):\n",
    "\n",
    "        super(DEC, self).__init__()\n",
    "\n",
    "        self.dims = dims\n",
    "        self.input_dim = dims[0]\n",
    "        self.n_stacks = len(self.dims) - 1\n",
    "\n",
    "        self.n_clusters = n_clusters\n",
    "        self.alpha = alpha\n",
    "        self.autoencoder, self.encoder = autoencoder(self.dims, init=init)\n",
    "\n",
    "        # prepare DEC model\n",
    "        clustering_layer = ClusteringLayer(self.n_clusters, name='clustering')(self.encoder.output)\n",
    "        self.model = Model(inputs=self.encoder.input, outputs=clustering_layer)\n",
    "\n",
    "    def pretrain(self, x, y=None, optimizer='adam', epochs=200, batch_size=256, save_dir='results/temp'):\n",
    "        print('...Pretraining...')\n",
    "        self.autoencoder.compile(optimizer=optimizer, loss='mse')\n",
    "\n",
    "        csv_logger = callbacks.CSVLogger(save_dir + '/pretrain_log.csv')\n",
    "        cb = [csv_logger]\n",
    "        if y is not None:\n",
    "            class PrintACC(callbacks.Callback):\n",
    "                def __init__(self, x, y):\n",
    "                    self.x = x\n",
    "                    self.y = y\n",
    "                    super(PrintACC, self).__init__()\n",
    "\n",
    "                def on_epoch_end(self, epoch, logs=None):\n",
    "                    if epoch % int(epochs/10) != 0:\n",
    "                        return\n",
    "                    feature_model = Model(self.model.input,\n",
    "                                          self.model.get_layer(\n",
    "                                              'encoder_%d' % (int(len(self.model.layers) / 2) - 1)).output)\n",
    "                    features = feature_model.predict(self.x)\n",
    "                    km = KMeans(n_clusters=len(np.unique(self.y)), n_init=20, n_jobs=4)\n",
    "                    y_pred = km.fit_predict(features)\n",
    "                    # print()\n",
    "                    print(' '*8 + '|==>  acc: %.4f,  nmi: %.4f  <==|'\n",
    "                          % (metrics.acc(self.y, y_pred), metrics.nmi(self.y, y_pred)))\n",
    "\n",
    "            cb.append(PrintACC(x, y))\n",
    "\n",
    "        # begin pretraining\n",
    "        t0 = time()\n",
    "        self.autoencoder.fit(x, x, batch_size=batch_size, epochs=epochs, callbacks=cb)\n",
    "        print('Pretraining time: ', time() - t0)\n",
    "        self.autoencoder.save_weights(save_dir + '/ae_weights.h5')\n",
    "        print('Pretrained weights are saved to %s/ae_weights.h5' % save_dir)\n",
    "        self.pretrained = True\n",
    "\n",
    "    def load_weights(self, weights):  # load weights of DEC model\n",
    "        self.model.load_weights(weights)\n",
    "\n",
    "    def extract_features(self, x):\n",
    "        return self.encoder.predict(x)\n",
    "\n",
    "    def predict(self, x):  # predict cluster labels using the output of clustering layer\n",
    "        q = self.model.predict(x, verbose=0)\n",
    "        return q.argmax(1)\n",
    "\n",
    "    @staticmethod\n",
    "    def target_distribution(q):\n",
    "        weight = q ** 2 / q.sum(0)\n",
    "        return (weight.T / weight.sum(1)).T\n",
    "\n",
    "    def compile(self, optimizer='sgd', loss='kld'):\n",
    "        self.model.compile(optimizer=optimizer, loss=loss)\n",
    "\n",
    "    def fit(self, x, y=None, maxiter=2e4, batch_size=256, tol=1e-3,\n",
    "            update_interval=140, save_dir='/resources/data'):\n",
    "\n",
    "        print('Update interval', update_interval)\n",
    "        save_interval = x.shape[0] / batch_size * 5  # 5 epochs\n",
    "        print('Save interval', save_interval)\n",
    "\n",
    "        # Step 1: initialize cluster centers using k-means\n",
    "        t1 = time()\n",
    "        print('Initializing cluster centers with k-means.')\n",
    "        kmeans = KMeans(n_clusters=self.n_clusters, n_init=20)\n",
    "        y_pred = kmeans.fit_predict(self.encoder.predict(x))\n",
    "        y_pred_last = np.copy(y_pred)\n",
    "        self.model.get_layer(name='clustering').set_weights([kmeans.cluster_centers_])\n",
    "        \n",
    "        #import numpy as np\n",
    "        from sklearn.metrics import normalized_mutual_info_score, adjusted_rand_score\n",
    "\n",
    "        nmi = normalized_mutual_info_score\n",
    "        ari = adjusted_rand_score\n",
    "\n",
    "\n",
    "        def acc(y_true, y_pred):\n",
    "            \"\"\"\n",
    "            Calculate clustering accuracy. Require scikit-learn installed\n",
    "\n",
    "            # Arguments\n",
    "            y: true labels, numpy.array with shape `(n_samples,)`\n",
    "            y_pred: predicted labels, numpy.array with shape `(n_samples,)`\n",
    "\n",
    "            # Return\n",
    "            accuracy, in [0,1]\n",
    "            \"\"\"\n",
    "            y_true = y_true.astype(np.int64)\n",
    "            assert y_pred.size == y_true.size\n",
    "            D = max(y_pred.max(), y_true.max()) + 1\n",
    "            w = np.zeros((D, D), dtype=np.int64)\n",
    "            for i in range(y_pred.size):\n",
    "                w[y_pred[i], y_true[i]] += 1\n",
    "            from sklearn.utils.linear_assignment_ import linear_assignment\n",
    "            ind = linear_assignment(w.max() - w)\n",
    "            return sum([w[i, j] for i, j in ind]) * 1.0 / y_pred.size\n",
    "\n",
    "        # Step 2: deep clustering\n",
    "        # logging file\n",
    "        import csv\n",
    "        logfile = open(save_dir + '/dec_log.csv', 'w')\n",
    "        logwriter = csv.DictWriter(logfile, fieldnames=['iter', 'acc', 'nmi', 'ari', 'loss'])\n",
    "        logwriter.writeheader()\n",
    "\n",
    "        loss = 0\n",
    "        index = 0\n",
    "        index_array = np.arange(x.shape[0])\n",
    "        for ite in range(int(maxiter)):\n",
    "            if ite % update_interval == 0:\n",
    "                q = self.model.predict(x, verbose=0)\n",
    "                p = self.target_distribution(q)  # update the auxiliary target distribution p\n",
    "\n",
    "                # evaluate the clustering performance\n",
    "                y_pred = q.argmax(1)\n",
    "                if y is not None:\n",
    "                    acc = np.round(metrics.acc(y, y_pred), 5)\n",
    "                    nmi = np.round(metrics.nmi(y, y_pred), 5)\n",
    "                    ari = np.round(metrics.ari(y, y_pred), 5)\n",
    "                    loss = np.round(loss, 5)\n",
    "                    logdict = dict(iter=ite, acc=acc, nmi=nmi, ari=ari, loss=loss)\n",
    "                    logwriter.writerow(logdict)\n",
    "                    print('Iter %d: acc = %.5f, nmi = %.5f, ari = %.5f' % (ite, acc, nmi, ari), ' ; loss=', loss)\n",
    "\n",
    "                # check stop criterion\n",
    "                delta_label = np.sum(y_pred != y_pred_last).astype(np.float32) / y_pred.shape[0]\n",
    "                y_pred_last = np.copy(y_pred)\n",
    "                if ite > 0 and delta_label < tol:\n",
    "                    print('delta_label ', delta_label, '< tol ', tol)\n",
    "                    print('Reached tolerance threshold. Stopping training.')\n",
    "                    logfile.close()\n",
    "                    break\n",
    "\n",
    "            # train on batch\n",
    "            # if index == 0:\n",
    "            #     np.random.shuffle(index_array)\n",
    "            idx = index_array[index * batch_size: min((index+1) * batch_size, x.shape[0])]\n",
    "            self.model.train_on_batch(x=x[idx], y=p[idx])\n",
    "            index = index + 1 if (index + 1) * batch_size <= x.shape[0] else 0\n",
    "\n",
    "            # save intermediate model\n",
    "            if ite % save_interval == 0:\n",
    "                print('saving model to:', save_dir + '/DEC_model_' + str(ite) + '.h5')\n",
    "                self.model.save_weights(save_dir + '/DEC_model_' + str(ite) + '.h5')\n",
    "\n",
    "            ite += 1\n",
    "\n",
    "        # save the trained model\n",
    "        logfile.close()\n",
    "        print('saving model to:', save_dir + '/DEC_model_final.h5')\n",
    "        self.model.save_weights(save_dir + '/DEC_model_final.h5')\n",
    "\n",
    "        return y_pred\n",
    "\n",
    "\n",
    "# setting the hyper parameters\n",
    "XX = pd.read_csv('XX_df.csv')\n",
    "XX.drop(['Unnamed: 0'], axis = 1, inplace = True)\n",
    "xx = XX.values\n",
    "init = 'glorot_uniform'\n",
    "pretrain_optimizer = 'adam'\n",
    "dataset = xx\n",
    "batch_size = 600\n",
    "maxiter = 2e4\n",
    "tol = 0.001\n",
    "save_dir = '/resources/data'\n",
    "\n",
    "import os\n",
    "if not os.path.exists(save_dir):\n",
    "    os.makedirs(save_dir)\n",
    "\n",
    "update_interval = 200\n",
    "pretrain_epochs = 5\n",
    "init = VarianceScaling(scale=1. / 3., mode='fan_in',\n",
    "                       distribution='uniform')  # [-limit, limit], limit=sqrt(1./fan_in)\n",
    "#pretrain_optimizer = SGD(lr=1, momentum=0.9)\n",
    "\n"
   ]
  },
  {
   "cell_type": "code",
   "execution_count": 72,
   "metadata": {},
   "outputs": [
    {
     "data": {
      "text/plain": [
       "(8922, 11)"
      ]
     },
     "execution_count": 72,
     "metadata": {},
     "output_type": "execute_result"
    }
   ],
   "source": [
    "xx.shape"
   ]
  },
  {
   "cell_type": "code",
   "execution_count": 73,
   "metadata": {},
   "outputs": [
    {
     "data": {
      "text/plain": [
       "array([[ 0.7147062 , -0.06061968,  0.6926981 , ...,  0.52842265,\n",
       "         0.58180153,  0.6249986 ],\n",
       "       [ 0.7147062 , -0.06061968,  0.6926981 , ...,  0.52842265,\n",
       "         0.58180153,  0.6249986 ],\n",
       "       [-0.27014586, -0.18519646, -0.22646184, ..., -0.18521814,\n",
       "        -0.1672734 , -0.2139568 ],\n",
       "       ...,\n",
       "       [-0.27014711, -0.18519998, -0.22646235, ..., -0.18521892,\n",
       "        -0.1672734 , -0.21395752],\n",
       "       [-0.27014711, -0.18519998, -0.22646235, ..., -0.18521892,\n",
       "        -0.16727337, -0.21395749],\n",
       "       [-0.27014711, -0.18519998, -0.22646235, ..., -0.18521892,\n",
       "        -0.16727337, -0.21395749]])"
      ]
     },
     "execution_count": 73,
     "metadata": {},
     "output_type": "execute_result"
    }
   ],
   "source": [
    "xx"
   ]
  },
  {
   "cell_type": "code",
   "execution_count": 74,
   "metadata": {},
   "outputs": [
    {
     "name": "stdout",
     "output_type": "stream",
     "text": [
      "...Pretraining...\n",
      "Epoch 1/5\n",
      "8922/8922 [==============================] - 5s 554us/step - loss: 0.1036\n",
      "Epoch 2/5\n",
      "8922/8922 [==============================] - 4s 484us/step - loss: 0.1036\n",
      "Epoch 3/5\n",
      "8922/8922 [==============================] - 4s 486us/step - loss: 0.1036\n",
      "Epoch 4/5\n",
      "8922/8922 [==============================] - 4s 491us/step - loss: 0.1036\n",
      "Epoch 5/5\n",
      "8922/8922 [==============================] - 4s 488us/step - loss: 0.1036\n",
      "Pretraining time:  23.15190887451172\n",
      "Pretrained weights are saved to /resources/data/ae_weights.h5\n"
     ]
    }
   ],
   "source": [
    "# prepare the DEC model\n",
    "dec = DEC(dims=[xx.shape[-1], 500, 500, 2000, 11], n_clusters=3, init=init)\n",
    "\n",
    "dec.pretrain(x=xx, y=None, optimizer=pretrain_optimizer,\n",
    "             epochs=pretrain_epochs, batch_size=batch_size,\n",
    "             save_dir=save_dir)\n",
    "\n"
   ]
  },
  {
   "cell_type": "code",
   "execution_count": 75,
   "metadata": {},
   "outputs": [],
   "source": [
    "###"
   ]
  },
  {
   "cell_type": "code",
   "execution_count": 76,
   "metadata": {},
   "outputs": [
    {
     "name": "stdout",
     "output_type": "stream",
     "text": [
      "_________________________________________________________________\n",
      "Layer (type)                 Output Shape              Param #   \n",
      "=================================================================\n",
      "input (InputLayer)           (None, 11)                0         \n",
      "_________________________________________________________________\n",
      "encoder_0 (Dense)            (None, 500)               6000      \n",
      "_________________________________________________________________\n",
      "encoder_1 (Dense)            (None, 500)               250500    \n",
      "_________________________________________________________________\n",
      "encoder_2 (Dense)            (None, 2000)              1002000   \n",
      "_________________________________________________________________\n",
      "encoder_3 (Dense)            (None, 11)                22011     \n",
      "_________________________________________________________________\n",
      "clustering (ClusteringLayer) (None, 3)                 33        \n",
      "=================================================================\n",
      "Total params: 1,280,544\n",
      "Trainable params: 1,280,544\n",
      "Non-trainable params: 0\n",
      "_________________________________________________________________\n"
     ]
    }
   ],
   "source": [
    "dec.model.summary()"
   ]
  },
  {
   "cell_type": "code",
   "execution_count": 77,
   "metadata": {},
   "outputs": [],
   "source": [
    "dec.compile(optimizer=SGD(0.01, 0.9), loss='kld')\n"
   ]
  },
  {
   "cell_type": "code",
   "execution_count": 78,
   "metadata": {},
   "outputs": [],
   "source": [
    "#df.to_csv('/resources/data/dff.csv')"
   ]
  },
  {
   "cell_type": "code",
   "execution_count": 79,
   "metadata": {},
   "outputs": [],
   "source": [
    "#train_history2 = dec.fit(xx, y=None, epochs=50, batch_size=1048, validation_data=(x_train, x_train))"
   ]
  },
  {
   "cell_type": "code",
   "execution_count": 85,
   "metadata": {},
   "outputs": [
    {
     "name": "stdout",
     "output_type": "stream",
     "text": [
      "Update interval 200\n",
      "Save interval 74.35\n",
      "Initializing cluster centers with k-means.\n",
      "saving model to: /resources/data/DEC_model_0.h5\n",
      "delta_label  0.0 < tol  0.001\n",
      "Reached tolerance threshold. Stopping training.\n",
      "saving model to: /resources/data/DEC_model_final.h5\n"
     ]
    }
   ],
   "source": [
    "y_pred = dec.fit(xx, None, tol=tol, maxiter=maxiter, batch_size=batch_size, update_interval=update_interval)\n"
   ]
  },
  {
   "cell_type": "code",
   "execution_count": 86,
   "metadata": {},
   "outputs": [],
   "source": [
    "pred_val = dec.predict(xx) # this is x' = output of auto encoder\n",
    "#pred_auto_train = encoder.predict(x_train) # this is x' = output of auto encoder"
   ]
  },
  {
   "cell_type": "code",
   "execution_count": 87,
   "metadata": {},
   "outputs": [
    {
     "data": {
      "text/plain": [
       "(8922,)"
      ]
     },
     "execution_count": 87,
     "metadata": {},
     "output_type": "execute_result"
    }
   ],
   "source": [
    "pred_val.shape"
   ]
  },
  {
   "cell_type": "code",
   "execution_count": 88,
   "metadata": {},
   "outputs": [
    {
     "data": {
      "text/plain": [
       "array([0, 0, 0, ..., 0, 0, 0])"
      ]
     },
     "execution_count": 88,
     "metadata": {},
     "output_type": "execute_result"
    }
   ],
   "source": [
    "pred_val"
   ]
  },
  {
   "cell_type": "code",
   "execution_count": 89,
   "metadata": {},
   "outputs": [
    {
     "data": {
      "text/plain": [
       "0"
      ]
     },
     "execution_count": 89,
     "metadata": {},
     "output_type": "execute_result"
    }
   ],
   "source": [
    "pred_val.max()"
   ]
  },
  {
   "cell_type": "code",
   "execution_count": 92,
   "metadata": {},
   "outputs": [
    {
     "ename": "ValueError",
     "evalue": "Expected 2D array, got 1D array instead:\narray=[0. 0. 0. ... 0. 0. 0.].\nReshape your data either using array.reshape(-1, 1) if your data has a single feature or array.reshape(1, -1) if it contains a single sample.",
     "output_type": "error",
     "traceback": [
      "\u001b[0;31m---------------------------------------------------------------------------\u001b[0m",
      "\u001b[0;31mValueError\u001b[0m                                Traceback (most recent call last)",
      "\u001b[0;32m<ipython-input-92-51a6c3eba92f>\u001b[0m in \u001b[0;36m<module>\u001b[0;34m\u001b[0m\n\u001b[0;32m----> 1\u001b[0;31m \u001b[0mkmeans_dl_dec\u001b[0m \u001b[0;34m=\u001b[0m \u001b[0mkm\u001b[0m\u001b[0;34m.\u001b[0m\u001b[0mfit\u001b[0m\u001b[0;34m(\u001b[0m\u001b[0mpred_val\u001b[0m\u001b[0;34m)\u001b[0m\u001b[0;34m\u001b[0m\u001b[0;34m\u001b[0m\u001b[0m\n\u001b[0m",
      "\u001b[0;32m~/conda/lib/python3.6/site-packages/sklearn/cluster/k_means_.py\u001b[0m in \u001b[0;36mfit\u001b[0;34m(self, X, y, sample_weight)\u001b[0m\n\u001b[1;32m    969\u001b[0m                 \u001b[0mtol\u001b[0m\u001b[0;34m=\u001b[0m\u001b[0mself\u001b[0m\u001b[0;34m.\u001b[0m\u001b[0mtol\u001b[0m\u001b[0;34m,\u001b[0m \u001b[0mrandom_state\u001b[0m\u001b[0;34m=\u001b[0m\u001b[0mrandom_state\u001b[0m\u001b[0;34m,\u001b[0m \u001b[0mcopy_x\u001b[0m\u001b[0;34m=\u001b[0m\u001b[0mself\u001b[0m\u001b[0;34m.\u001b[0m\u001b[0mcopy_x\u001b[0m\u001b[0;34m,\u001b[0m\u001b[0;34m\u001b[0m\u001b[0;34m\u001b[0m\u001b[0m\n\u001b[1;32m    970\u001b[0m                 \u001b[0mn_jobs\u001b[0m\u001b[0;34m=\u001b[0m\u001b[0mself\u001b[0m\u001b[0;34m.\u001b[0m\u001b[0mn_jobs\u001b[0m\u001b[0;34m,\u001b[0m \u001b[0malgorithm\u001b[0m\u001b[0;34m=\u001b[0m\u001b[0mself\u001b[0m\u001b[0;34m.\u001b[0m\u001b[0malgorithm\u001b[0m\u001b[0;34m,\u001b[0m\u001b[0;34m\u001b[0m\u001b[0;34m\u001b[0m\u001b[0m\n\u001b[0;32m--> 971\u001b[0;31m                 return_n_iter=True)\n\u001b[0m\u001b[1;32m    972\u001b[0m         \u001b[0;32mreturn\u001b[0m \u001b[0mself\u001b[0m\u001b[0;34m\u001b[0m\u001b[0;34m\u001b[0m\u001b[0m\n\u001b[1;32m    973\u001b[0m \u001b[0;34m\u001b[0m\u001b[0m\n",
      "\u001b[0;32m~/conda/lib/python3.6/site-packages/sklearn/cluster/k_means_.py\u001b[0m in \u001b[0;36mk_means\u001b[0;34m(X, n_clusters, sample_weight, init, precompute_distances, n_init, max_iter, verbose, tol, random_state, copy_x, n_jobs, algorithm, return_n_iter)\u001b[0m\n\u001b[1;32m    309\u001b[0m     \u001b[0morder\u001b[0m \u001b[0;34m=\u001b[0m \u001b[0;34m\"C\"\u001b[0m \u001b[0;32mif\u001b[0m \u001b[0mcopy_x\u001b[0m \u001b[0;32melse\u001b[0m \u001b[0;32mNone\u001b[0m\u001b[0;34m\u001b[0m\u001b[0;34m\u001b[0m\u001b[0m\n\u001b[1;32m    310\u001b[0m     X = check_array(X, accept_sparse='csr', dtype=[np.float64, np.float32],\n\u001b[0;32m--> 311\u001b[0;31m                     order=order, copy=copy_x)\n\u001b[0m\u001b[1;32m    312\u001b[0m     \u001b[0;31m# verify that the number of samples given is larger than k\u001b[0m\u001b[0;34m\u001b[0m\u001b[0;34m\u001b[0m\u001b[0;34m\u001b[0m\u001b[0m\n\u001b[1;32m    313\u001b[0m     \u001b[0;32mif\u001b[0m \u001b[0m_num_samples\u001b[0m\u001b[0;34m(\u001b[0m\u001b[0mX\u001b[0m\u001b[0;34m)\u001b[0m \u001b[0;34m<\u001b[0m \u001b[0mn_clusters\u001b[0m\u001b[0;34m:\u001b[0m\u001b[0;34m\u001b[0m\u001b[0;34m\u001b[0m\u001b[0m\n",
      "\u001b[0;32m~/conda/lib/python3.6/site-packages/sklearn/utils/validation.py\u001b[0m in \u001b[0;36mcheck_array\u001b[0;34m(array, accept_sparse, accept_large_sparse, dtype, order, copy, force_all_finite, ensure_2d, allow_nd, ensure_min_samples, ensure_min_features, warn_on_dtype, estimator)\u001b[0m\n\u001b[1;32m    550\u001b[0m                     \u001b[0;34m\"Reshape your data either using array.reshape(-1, 1) if \"\u001b[0m\u001b[0;34m\u001b[0m\u001b[0;34m\u001b[0m\u001b[0m\n\u001b[1;32m    551\u001b[0m                     \u001b[0;34m\"your data has a single feature or array.reshape(1, -1) \"\u001b[0m\u001b[0;34m\u001b[0m\u001b[0;34m\u001b[0m\u001b[0m\n\u001b[0;32m--> 552\u001b[0;31m                     \"if it contains a single sample.\".format(array))\n\u001b[0m\u001b[1;32m    553\u001b[0m \u001b[0;34m\u001b[0m\u001b[0m\n\u001b[1;32m    554\u001b[0m         \u001b[0;31m# in the future np.flexible dtypes will be handled like object dtypes\u001b[0m\u001b[0;34m\u001b[0m\u001b[0;34m\u001b[0m\u001b[0;34m\u001b[0m\u001b[0m\n",
      "\u001b[0;31mValueError\u001b[0m: Expected 2D array, got 1D array instead:\narray=[0. 0. 0. ... 0. 0. 0.].\nReshape your data either using array.reshape(-1, 1) if your data has a single feature or array.reshape(1, -1) if it contains a single sample."
     ]
    }
   ],
   "source": [
    "kmeans_dl_dec = km.fit(pred_val)"
   ]
  },
  {
   "cell_type": "code",
   "execution_count": null,
   "metadata": {},
   "outputs": [],
   "source": []
  },
  {
   "cell_type": "code",
   "execution_count": null,
   "metadata": {},
   "outputs": [],
   "source": []
  }
 ],
 "metadata": {
  "kernelspec": {
   "display_name": "Python 3",
   "language": "python",
   "name": "python3"
  },
  "language_info": {
   "codemirror_mode": {
    "name": "ipython",
    "version": 3
   },
   "file_extension": ".py",
   "mimetype": "text/x-python",
   "name": "python",
   "nbconvert_exporter": "python",
   "pygments_lexer": "ipython3",
   "version": "3.6.8"
  }
 },
 "nbformat": 4,
 "nbformat_minor": 2
}
