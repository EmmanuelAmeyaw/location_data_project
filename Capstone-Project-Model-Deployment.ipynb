{
 "cells": [
  {
   "cell_type": "markdown",
   "metadata": {},
   "source": [
    "<a href=\"https://cognitiveclass.ai/\">\n",
    "    <img src=\"https://s3-api.us-geo.objectstorage.softlayer.net/cf-courses-data/CognitiveClass/CV0101/Logo/SNLogo.png\" width=\"200\" align=\"center\">\n",
    "</a>"
   ]
  },
  {
   "cell_type": "markdown",
   "metadata": {},
   "source": [
    "<h2>Deploying Your Computer Vision Model on IBM Cloud</h2>\n",
    "<p>For the capstone project of this course, you will be training a custom classifier using Watson Visual Recognition to identify furniture, in particular <b>Tables</b>, <b>Beds</b> and <b>Chairs</b>. After training your model you are then going to connect your trained custom classifier to a <b>Flask</b> app. <b>Flask</b> is a python web framework used for making web apps. You are then going to deploy your <b>Flask</b> app to IBM Cloud. Once your app is deployed on IBM Cloud you can access your <b>Flask</b> app via a webpage anywhere using a custom link.</p>\n",
    "\n",
    "<p>This link will be used by your peers to assess your project. In your web app, your peers will be able to upload an image, which will then be classified using your custom classifier you connected in the web app. Your project will be graded by how accurately your app can classify <b>Tables</b>, <b>Beds</b> and <b>Chairs</b>.<p>"
   ]
  },
  {
   "cell_type": "markdown",
   "metadata": {},
   "source": [
    "<div class=\"alert alert-block alert-info\" style=\"margin-top: 20px\">\n",
    "<font size=\"3\"><strong>Click on the links to go to the following sections:</strong></font>\n",
    "<br>\n",
    "<h2>Table of Contents</h2>\n",
    "<ol>\n",
    "    <li><a href=\"#ref1\">Part 1 - Training Your Custom Model</a></li>\n",
    "    <li><a href=\"#ref2\">Part 2 - Downloading and Configuring the Flask Web App</a></li>\n",
    "    <li><a href=\"#ref3\">Part 3 - Create a Cloud Foundry App</a></li>\n",
    "    <li><a href=\"#ref4\">Part 4 - Deploying Your Web App to IBM Cloud</a></li>\n",
    "</ol>    \n",
    "</div>"
   ]
  },
  {
   "cell_type": "markdown",
   "metadata": {},
   "source": [
    "<div style=\"background-color: #fcf2f2\">\n",
    "<h2>Note!</h2> \n",
    "<p>Since the lite plan only allows for  a maximum of 2 custom classifiers, you should not have more than 1 custom classifier running in your Watson Visual Recognition Instance. You might want to delete one of your custom classifier from your Watson Visual Recognition Instance.</p>\n",
    "<p>Log into your IBM Cloud Account with the following link - <a href=\"https://cocl.us/CV0101EN_IBM_Cloud_Login\">https://cloud.ibm.com</a></p>\n",
    "<ol>\n",
    "    <li>Click on Services</li>\n",
    "    <li>Under Services, select your Watson Visual Recognition Instance</li>\n",
    "    <li> Click on Show Credentials, and note the API Key. We will be using this API Key to connect your custom classifier to your web app </li>\n",
    "    <img src=\"https://s3-api.us-geo.objectstorage.softlayer.net/cf-courses-data/CognitiveClass/CV0101/Images/API_Key.png\" width=\"680\">\n",
    "    <li><b>(Optional)</b> Delete one of your custom classifier if you have 2 of them in your Watson Visual Recognition Instance</li>\n",
    "</ol>\n",
    "<img src=\"https://s3-api.us-geo.objectstorage.softlayer.net/cf-courses-data/CognitiveClass/CV0101/Images/Delete-Instance.png\" width=\"680\">\n",
    "</div>"
   ]
  },
  {
   "cell_type": "markdown",
   "metadata": {},
   "source": [
    "<a id=\"ref1\"></a>\n",
    "<h2>Part 1 - Training Your Custom Model</h2>\n",
    "<p>For the first part of your capstone project, you have to obtain a dataset of <b>Tables</b>, <b>Beds</b> and <b>Chairs</b>. Next, you need to create a custom classifier based upon this dataset and train your custom model with this dataset. Creating and training a custom classifier has been covered in previous modules of this course. Make sure your custom visual recognition model classifies <b>Tables</b>, <b>Beds</b> and <b>Chairs</b> correctly, because <b>25%</b> of your grade for this project will be determined by if your trained custom classifier can identify a piece of furniture correctly with a high level of confidence. Also note the classifier id for this custom classifier as you will use this to connect your web app to your custom classifier in the next part.</p>"
   ]
  },
  {
   "cell_type": "markdown",
   "metadata": {},
   "source": [
    "<a id=\"ref2\"></a>\n",
    "<h2>Part 2 - Downloading and Configuring the Flask Web Appp</h2>\n",
    "<p>Once you are done training your custom classifier, you will have to deploy it on the web and provide a graphical user interface for people to interact with it. <b>Flask</b> is a lightweight web framework that allows us to do that. You will connect the web app with your custom classifier and deploy the app to IBM Cloud. By deploying the app to IBM Cloud, you could share your web app with your peers by simply sharing a link with them. Make sure complete this step successfully, since another <b> 10% </b> of your grade for the capstone project depends on completion of this step</p>\n",
    "\n",
    "<p>The code below downloads and unzips the Flask web app</p>"
   ]
  },
  {
   "cell_type": "markdown",
   "metadata": {},
   "source": [
    "<h3>Downloading your Flask Appp</h3>"
   ]
  },
  {
   "cell_type": "code",
   "execution_count": 1,
   "metadata": {},
   "outputs": [
    {
     "name": "stdout",
     "output_type": "stream",
     "text": [
      "Collecting wget\n",
      "  Downloading https://files.pythonhosted.org/packages/47/6a/62e288da7bcda82b935ff0c6cfe542970f04e29c756b0e147251b2fb251f/wget-3.2.zip\n",
      "Building wheels for collected packages: wget\n",
      "  Building wheel for wget (setup.py) ... \u001b[?25ldone\n",
      "\u001b[?25h  Stored in directory: /home/jupyterlab/.cache/pip/wheels/40/15/30/7d8f7cea2902b4db79e3fea550d7d7b85ecb27ef992b618f3f\n",
      "Successfully built wget\n",
      "Installing collected packages: wget\n",
      "Successfully installed wget-3.2\n"
     ]
    }
   ],
   "source": [
    "!pip install wget"
   ]
  },
  {
   "cell_type": "code",
   "execution_count": 2,
   "metadata": {},
   "outputs": [],
   "source": [
    "import wget, zipfile, os\n",
    "\n",
    "filename='CV0101EN-capstone-project'\n",
    "\n",
    "if not os.path.isfile(filename):\n",
    "    filename = wget.download('https://s3-api.us-geo.objectstorage.softlayer.net/cf-courses-data/CognitiveClass/CV0101/Project/CV0101EN-capstone-project.zip')\n",
    "    with zipfile.ZipFile(\"CV0101EN-capstone-project.zip\",\"r\") as zip_ref:\n",
    "        zip_ref.extractall()"
   ]
  },
  {
   "cell_type": "markdown",
   "metadata": {},
   "source": [
    "<h3>Configuring Your Flask App</h3>\n",
    "<p>In order to deploy your custom classifier, you need to give your Flask app permission to access it.</p>\n",
    "\n",
    "<p>At this point, you should see a folder of your web app (CV0101EN-capstone-project) listed in the files directory in the left-sidebar of the JupyterLab environment. If this sidemenu is hidden, you can go to <code>View>View Left-Sidebar</code>. Select the <code>CV0101EN-capstone-project</code>, and click on the <code>app</code> subfolder. You will see a file called <b>config.py</b>. Fill in <code>API_KEY</code> with your Watson Visual Recognition API_KEY, and <code>CLASSIFIER_ID</code> you noted down in part 1 of this notebook</p>\n",
    "\n",
    "<p>Next, you will see a file <code>manifest.yml</code> Open the file, and give your app a name you'd like. Make sure to <b>NOT</b> change anything else</p>"
   ]
  },
  {
   "cell_type": "markdown",
   "metadata": {},
   "source": [
    "<a id=\"ref3\"></a>\n",
    "<h2>Part 3 - Create a Cloud Foundry App</h2>\n",
    "<p>Create a Python Cloud Foundry app here: <a href=\"https://cocl.us/Cloud-Foundry-Python-ML0120EN-Edx\" target=\"_blank\">Create a Python Cloud Foundry app</a></p>\n",
    "<ol>\n",
    "        <li>Give the app a unique name (for the rest of this example, the sample name will be: \"your-name-computer-vision-app\")</li>\n",
    "        <li>Accept the defaults in the other fields of the form</li>\n",
    "        <li>Choose the 128 MB plan</li>\n",
    "        <li>Click <strong>Create</strong></li>\n",
    "</ol>"
   ]
  },
  {
   "cell_type": "markdown",
   "metadata": {},
   "source": [
    "<a id=\"ref4\"></a>\n",
    "<h2>Part 4 - Deploying Your Web App to IBM Cloud</h2>\n",
    "<p> For the last part of your capstone project, you will deploy your web app to IBM Cloud in order for your peers to access it. Your peers will upload pictures of furniture in your app and will test the accuracy of your custom trained model. You will share a custom link of your web app with your peers in order for them to test the accuracy of your model. Deploying your project successfully is worth another<b> 15% </b> of your grade. The peer evaluation is worth <b> 50% </b> of your grade\n",
    "    \n",
    "<p>In order to deploy your project to the cloud, in the code cell below replace <code>email</code> and <code>password</code> with your email and password that you use for logging in to IBM Cloud\n",
    "</p>\n",
    "\n",
    "Replace region with a number from 1 to 6.\n",
    "Your region should be assigned from 1 to 6 according to the following rules.\n",
    "\n",
    "1. au-syd\n",
    "2. jp-tok\n",
    "3. eu-de\n",
    "4. eu-gb\n",
    "5. us-south\n",
    "6. us-east\n",
    "\n",
    "Your location is indicated on your cloud foundry app when you log into IBM cloud as indicated by the screenshot below.\n",
    "\n",
    "\n",
    "<img src=\"https://s3-api.us-geo.objectstorage.softlayer.net/cf-courses-data/CognitiveClass/CV0101/Images/IBMCloud_region.png\" width=\"680\">\n",
    "\n",
    "\n",
    "After replacing the values of email, password and region in the cell below, press \"ctrl + enter\" to push your app onto IBM cloud."
   ]
  },
  {
   "cell_type": "code",
   "execution_count": 4,
   "metadata": {},
   "outputs": [
    {
     "name": "stdout",
     "output_type": "stream",
     "text": [
      "API endpoint: https://cloud.ibm.com\n",
      "\n",
      "Email> ameyawemmanuel11@gmail.com\n",
      "\n",
      "Password> \n",
      "Authenticating...\n",
      "OK\n",
      "\n",
      "Targeted account Emmanuel Ameyaw's Account (502da829fbf6429d95745c283c756780)\n",
      "\n",
      "Targeted resource group Default\n",
      "\n",
      "\n",
      "Select a region (or press enter to skip):\n",
      "1. au-syd\n",
      "2. jp-tok\n",
      "3. eu-de\n",
      "4. eu-gb\n",
      "5. us-south\n",
      "6. us-east\n",
      "Enter a number> 'region'\n",
      "Please enter a number between 1 to 6.\n",
      "Select a region (or press enter to skip):\n",
      "1. au-syd\n",
      "2. jp-tok\n",
      "3. eu-de\n",
      "4. eu-gb\n",
      "5. us-south\n",
      "6. us-east\n",
      "Enter a number> 4\n",
      "Targeted region eu-gb\n",
      "\n",
      "                      \n",
      "API endpoint:      https://cloud.ibm.com   \n",
      "Region:            eu-gb   \n",
      "User:              ameyawemmanuel11@gmail.com   \n",
      "Account:           Emmanuel Ameyaw's Account (502da829fbf6429d95745c283c756780)   \n",
      "Resource group:    Default   \n",
      "CF API endpoint:      \n",
      "Org:                  \n",
      "Space:                \n",
      "\n",
      "Tip: If you are managing Cloud Foundry applications and services\n",
      "- Use 'ibmcloud target --cf' to target Cloud Foundry org/space interactively, or use 'ibmcloud target --cf-api ENDPOINT -o ORG -s SPACE' to target the org/space.\n",
      "- Use 'ibmcloud cf' if you want to run the Cloud Foundry CLI with current IBM Cloud CLI context.\n",
      "\n",
      "\n",
      "New version 0.17.0 is available.\n",
      "Release notes: https://github.com/IBM-Cloud/ibm-cloud-cli-release/releases/tag/v0.17.0\n",
      "TIP: use 'ibmcloud config --check-version=false' to disable update check.\n",
      "\n",
      "Do you want to update? [y/N]> N\n",
      "Targeted Cloud Foundry (https://api.eu-gb.bluemix.net)\n",
      "\n",
      "Targeted org ameyawemmanuel11@gmail.com\n",
      "\n",
      "Targeted space dev\n",
      "\n",
      "\n",
      "                      \n",
      "API endpoint:      https://cloud.ibm.com   \n",
      "Region:            eu-gb   \n",
      "User:              ameyawemmanuel11@gmail.com   \n",
      "Account:           Emmanuel Ameyaw's Account (502da829fbf6429d95745c283c756780)   \n",
      "Resource group:    Default   \n",
      "CF API endpoint:   https://api.eu-gb.bluemix.net (API version: 2.128.0)   \n",
      "Org:               ameyawemmanuel11@gmail.com   \n",
      "Space:             dev   \n",
      "Invoking 'cf push'...\n",
      "\n",
      "Pushing from manifest to org ameyawemmanuel11@gmail.com / space dev as ameyawemmanuel11@gmail.com...\n",
      "Using manifest file /resources/labs/CV0101EN/CV0101EN-capstone-project/app/manifest.yml\n",
      "Getting app info...\n",
      "Creating app with these attributes...\n",
      "+ name:       Furniture classification\n",
      "  path:       /resources/labs/CV0101EN/CV0101EN-capstone-project/app\n",
      "+ memory:     128M\n",
      "  routes:\n",
      "+   furniture-classification.eu-gb.mybluemix.net\n",
      "\n",
      "Creating app Furniture classification...\n",
      "Mapping routes...\n",
      "Comparing local files to remote cache...\n",
      "Packaging files to upload...\n",
      "Uploading files...\n",
      " 15.82 KiB / 15.82 KiB  100.00% 1s\n",
      "\n",
      "Waiting for API to complete processing files...\n",
      "\n",
      "Staging app and tracing logs...\n",
      "   Downloading sdk-for-nodejs_v3_28-20190722-1336...\n",
      "   Downloading python_buildpack...\n",
      "   Downloading php_buildpack...\n",
      "   Downloading dotnet-core_v2_3-20190609-2145...\n",
      "   Downloading binary_buildpack...\n",
      "   Downloaded sdk-for-nodejs_v3_28-20190722-1336\n",
      "   Downloading swift_buildpack_v2_0_18-20190303-1915...\n",
      "   Downloaded python_buildpack\n",
      "   Downloading swift_buildpack_v2_0_20-20190401-2122...\n",
      "   Downloaded dotnet-core_v2_3-20190609-2145\n",
      "   Downloading swift_buildpack_cflinuxfs3_v2_1_0-20190404-1206...\n",
      "   Downloaded php_buildpack\n",
      "   Downloading dotnet-core_v2_2-20190327-1013...\n",
      "   Downloaded binary_buildpack\n",
      "   Downloading sdk-for-nodejs_v3_27-20190530-0937...\n",
      "   Downloaded swift_buildpack_v2_0_20-20190401-2122\n",
      "   Downloading liberty-for-java_v3_33-20190619-1058...\n",
      "   Downloaded swift_buildpack_cflinuxfs3_v2_1_0-20190404-1206\n",
      "   Downloading liberty-for-java_v3_34-20190715-1014...\n",
      "   Downloaded dotnet-core_v2_2-20190327-1013\n",
      "   Downloaded swift_buildpack_v2_0_18-20190303-1915\n",
      "   Downloading liberty-for-java...\n",
      "   Downloading xpages_buildpack_v1_2_1-20160913-103...\n",
      "   Downloaded sdk-for-nodejs_v3_27-20190530-0937\n",
      "   Downloading sdk-for-nodejs...\n",
      "   Downloaded liberty-for-java_v3_33-20190619-1058\n",
      "   Downloading dotnet-core...\n",
      "   Downloaded liberty-for-java_v3_34-20190715-1014\n",
      "   Downloading swift_buildpack...\n",
      "   Downloaded sdk-for-nodejs\n",
      "   Downloading swift_buildpack...\n",
      "   Downloaded xpages_buildpack_v1_2_1-20160913-103\n",
      "   Downloading xpages_buildpack...\n",
      "   Downloaded liberty-for-java\n",
      "   Downloading ruby_buildpack...\n",
      "   Downloaded dotnet-core\n",
      "   Downloading staticfile_buildpack...\n",
      "   Downloaded xpages_buildpack\n",
      "   Downloading java_buildpack...\n",
      "   Downloaded swift_buildpack\n",
      "   Downloading go_buildpack...\n",
      "   Downloaded swift_buildpack\n",
      "   Downloading nodejs_buildpack...\n",
      "   Downloaded ruby_buildpack\n",
      "   Downloaded staticfile_buildpack\n",
      "   Downloaded go_buildpack\n",
      "   Downloaded nodejs_buildpack\n",
      "   Downloaded java_buildpack\n",
      "   Cell 3393819b-a69a-4c2b-a631-e94141702554 creating container for instance bbd0711c-c9e3-4dd7-935b-cd590c7b013e\n",
      "   Cell 3393819b-a69a-4c2b-a631-e94141702554 successfully created container for instance bbd0711c-c9e3-4dd7-935b-cd590c7b013e\n",
      "   Downloading app package...\n",
      "   Downloaded app package (2.9M)\n",
      "   -----> Python Buildpack version 1.6.23\n",
      "   -----> Supplying Python\n",
      "   -----> Installing python 3.6.7\n",
      "          Download [https://buildpacks.cloudfoundry.org/dependencies/python/python-3.6.7-linux-x64-cflinuxfs3-eb6e023e.tgz]\n",
      "   -----> Installing setuptools 40.5.0\n",
      "          Download [https://buildpacks.cloudfoundry.org/dependencies/setuptools/setuptools-40.5.0-any-stack-2a2a200f.zip]\n",
      "   -----> Installing pip 9.0.3\n",
      "          Download [https://buildpacks.cloudfoundry.org/dependencies/pip/pip-9.0.3-7bf48f9a.tar.gz]\n",
      "   -----> Installing pip-pop 0.1.1\n",
      "          Download [https://buildpacks.cloudfoundry.org/dependencies/manual-binaries/pip-pop/pip-pop-0.1.1-d410583a.tar.gz]\n",
      "   -----> Running Pip Install\n",
      "          Collecting Flask==1.0.3 (from -r /tmp/contents854620010/deps/0/requirements.txt (line 1))\n",
      "            Downloading https://files.pythonhosted.org/packages/9a/74/670ae9737d14114753b8c8fdf2e8bd212a05d3b361ab15b44937dfd40985/Flask-1.0.3-py2.py3-none-any.whl (92kB)\n",
      "          Collecting Flask-WTF==0.14.2 (from -r /tmp/contents854620010/deps/0/requirements.txt (line 2))\n",
      "            Downloading https://files.pythonhosted.org/packages/60/3a/58c629472d10539ae5167dc7c1fecfa95dd7d0b7864623931e3776438a24/Flask_WTF-0.14.2-py2.py3-none-any.whl\n",
      "          Collecting ibm-watson==3.0.4 (from -r /tmp/contents854620010/deps/0/requirements.txt (line 3))\n",
      "            Downloading https://files.pythonhosted.org/packages/af/82/a0a8555e37c6822bc63b6170d6f30d3681c3ec987b3ab9b8f83f9b3887a3/ibm-watson-3.0.4.tar.gz (246kB)\n",
      "          Collecting python-dotenv==0.10.3 (from -r /tmp/contents854620010/deps/0/requirements.txt (line 4))\n",
      "            Downloading https://files.pythonhosted.org/packages/57/c8/5b14d5cffe7bb06bedf9d66c4562bf90330d3d35e7f0266928c370d9dd6d/python_dotenv-0.10.3-py2.py3-none-any.whl\n",
      "          Collecting itsdangerous>=0.24 (from Flask==1.0.3->-r /tmp/contents854620010/deps/0/requirements.txt (line 1))\n",
      "            Downloading https://files.pythonhosted.org/packages/76/ae/44b03b253d6fade317f32c24d100b3b35c2239807046a4c953c7b89fa49e/itsdangerous-1.1.0-py2.py3-none-any.whl\n",
      "          Collecting click>=5.1 (from Flask==1.0.3->-r /tmp/contents854620010/deps/0/requirements.txt (line 1))\n",
      "            Downloading https://files.pythonhosted.org/packages/fa/37/45185cb5abbc30d7257104c434fe0b07e5a195a6847506c074527aa599ec/Click-7.0-py2.py3-none-any.whl (81kB)\n",
      "          Collecting Werkzeug>=0.14 (from Flask==1.0.3->-r /tmp/contents854620010/deps/0/requirements.txt (line 1))\n",
      "            Downloading https://files.pythonhosted.org/packages/d1/ab/d3bed6b92042622d24decc7aadc8877badf18aeca1571045840ad4956d3f/Werkzeug-0.15.5-py2.py3-none-any.whl (328kB)\n",
      "          Collecting Jinja2>=2.10 (from Flask==1.0.3->-r /tmp/contents854620010/deps/0/requirements.txt (line 1))\n",
      "            Downloading https://files.pythonhosted.org/packages/1d/e7/fd8b501e7a6dfe492a433deb7b9d833d39ca74916fa8bc63dd1a4947a671/Jinja2-2.10.1-py2.py3-none-any.whl (124kB)\n",
      "          Collecting WTForms (from Flask-WTF==0.14.2->-r /tmp/contents854620010/deps/0/requirements.txt (line 2))\n",
      "            Downloading https://files.pythonhosted.org/packages/9f/c8/dac5dce9908df1d9d48ec0e26e2a250839fa36ea2c602cc4f85ccfeb5c65/WTForms-2.2.1-py2.py3-none-any.whl (166kB)\n",
      "          Collecting requests<3.0,>=2.0 (from ibm-watson==3.0.4->-r /tmp/contents854620010/deps/0/requirements.txt (line 3))\n",
      "            Downloading https://files.pythonhosted.org/packages/51/bd/23c926cd341ea6b7dd0b2a00aba99ae0f828be89d72b2190f27c11d4b7fb/requests-2.22.0-py2.py3-none-any.whl (57kB)\n",
      "          Collecting python_dateutil>=2.5.3 (from ibm-watson==3.0.4->-r /tmp/contents854620010/deps/0/requirements.txt (line 3))\n",
      "            Downloading https://files.pythonhosted.org/packages/41/17/c62faccbfbd163c7f57f3844689e3a78bae1f403648a6afb1d0866d87fbb/python_dateutil-2.8.0-py2.py3-none-any.whl (226kB)\n",
      "          Collecting websocket-client==0.48.0 (from ibm-watson==3.0.4->-r /tmp/contents854620010/deps/0/requirements.txt (line 3))\n",
      "            Downloading https://files.pythonhosted.org/packages/8a/a1/72ef9aa26cfe1a75cee09fc1957e4723add9de098c15719416a1ee89386b/websocket_client-0.48.0-py2.py3-none-any.whl (198kB)\n",
      "          Collecting ibm_cloud_sdk_core>=0.2.0 (from ibm-watson==3.0.4->-r /tmp/contents854620010/deps/0/requirements.txt (line 3))\n",
      "            Downloading https://files.pythonhosted.org/packages/f9/60/5c3e62a0c93dc66e179d79984c4d75d7bc9a866f8b320c087f2e68aec077/ibm-cloud-sdk-core-0.5.1.tar.gz\n",
      "            Downloading https://files.pythonhosted.org/packages/e6/60/247f23a7121ae632d62811ba7f273d0e58972d75e58a94d329d51550a47d/urllib3-1.25.3-py2.py3-none-any.whl (150kB)\n",
      "          Collecting chardet<3.1.0,>=3.0.2 (from requests<3.0,>=2.0->ibm-watson==3.0.4->-r /tmp/contents854620010/deps/0/requirements.txt (line 3))\n",
      "            Downloading https://files.pythonhosted.org/packages/bc/a9/01ffebfb562e4274b6487b4bb1ddec7ca55ec7510b22e4c51f14098443b8/chardet-3.0.4-py2.py3-none-any.whl (133kB)\n",
      "          Collecting idna<2.9,>=2.5 (from requests<3.0,>=2.0->ibm-watson==3.0.4->-r /tmp/contents854620010/deps/0/requirements.txt (line 3))\n",
      "            Downloading https://files.pythonhosted.org/packages/14/2c/cd551d81dbe15200be1cf41cd03869a46fe7226e7450af7a6545bfc474c9/idna-2.8-py2.py3-none-any.whl (58kB)\n",
      "          Collecting certifi>=2017.4.17 (from requests<3.0,>=2.0->ibm-watson==3.0.4->-r /tmp/contents854620010/deps/0/requirements.txt (line 3))\n",
      "            Downloading https://files.pythonhosted.org/packages/69/1b/b853c7a9d4f6a6d00749e94eb6f3a041e342a885b87340b79c1ef73e3a78/certifi-2019.6.16-py2.py3-none-any.whl (157kB)\n",
      "          Collecting six>=1.5 (from python_dateutil>=2.5.3->ibm-watson==3.0.4->-r /tmp/contents854620010/deps/0/requirements.txt (line 3))\n",
      "            Downloading https://files.pythonhosted.org/packages/73/fb/00a976f728d0d1fecfe898238ce23f502a721c0ac0ecfedb80e0d88c64e9/six-1.12.0-py2.py3-none-any.whl\n",
      "          Collecting PyJWT>=1.7.1 (from ibm_cloud_sdk_core>=0.2.0->ibm-watson==3.0.4->-r /tmp/contents854620010/deps/0/requirements.txt (line 3))\n",
      "            Downloading https://files.pythonhosted.org/packages/87/8b/6a9f14b5f781697e51259d81657e6048fd31a113229cf346880bb7545565/PyJWT-1.7.1-py2.py3-none-any.whl\n",
      "          Installing collected packages: itsdangerous, click, Werkzeug, MarkupSafe, Jinja2, Flask, WTForms, Flask-WTF, urllib3, chardet, idna, certifi, requests, six, python-dateutil, websocket-client, PyJWT, ibm-cloud-sdk-core, ibm-watson, python-dotenv\n",
      "            Running setup.py install for ibm-cloud-sdk-core: started\n",
      "              Running setup.py install for ibm-cloud-sdk-core: finished with status 'done'\n",
      "            Running setup.py install for ibm-watson: started\n",
      "              Running setup.py install for ibm-watson: finished with status 'done'\n",
      "          Successfully installed Flask-1.0.3 Flask-WTF-0.14.2 Jinja2-2.10.1 MarkupSafe-1.1.1 PyJWT-1.7.1 WTForms-2.2.1 Werkzeug-0.15.5 certifi-2019.6.16 chardet-3.0.4 click-7.0 ibm-cloud-sdk-core-0.5.1 ibm-watson-3.0.4 idna-2.8 itsdangerous-1.1.0 python-dateutil-2.8.0 python-dotenv-0.10.3 requests-2.22.0 six-1.12.0 urllib3-1.25.3 websocket-client-0.48.0\n",
      "          You are using pip version 9.0.3, however version 19.2.1 is available.\n",
      "          You should consider upgrading via the 'pip install --upgrade pip' command.\n",
      "   Exit status 0\n",
      "   Uploading droplet, build artifacts cache...\n",
      "   Uploading droplet...\n",
      "   Uploading build artifacts cache...\n",
      "   Uploaded build artifacts cache (49.3M)\n",
      "   Uploaded droplet (54.7M)\n",
      "   Uploading complete\n",
      "   Cell 3393819b-a69a-4c2b-a631-e94141702554 stopping instance bbd0711c-c9e3-4dd7-935b-cd590c7b013e\n",
      "   Cell 3393819b-a69a-4c2b-a631-e94141702554 destroying container for instance bbd0711c-c9e3-4dd7-935b-cd590c7b013e\n",
      "\n",
      "Waiting for app to start...\n",
      "\n",
      "name:              Furniture classification\n",
      "requested state:   started\n",
      "routes:            furniture-classification.eu-gb.mybluemix.net\n",
      "last uploaded:     Thu 25 Jul 06:55:05 UTC 2019\n",
      "stack:             cflinuxfs3\n",
      "buildpacks:        python\n",
      "\n",
      "type:            web\n",
      "instances:       1/1\n",
      "memory usage:    128M\n",
      "start command:   python3 server.py\n",
      "     state     since                  cpu    memory        disk           details\n",
      "#0   running   2019-07-25T06:55:23Z   0.0%   36K of 128M   130.8M of 1G   \n",
      "\n"
     ]
    }
   ],
   "source": [
    "%%bash\n",
    "cd CV0101EN-capstone-project/app\n",
    "ibmcloud login\n",
    "ameyawemmanuel11@gmail.com\n",
    "508065065Ab*\n",
    "'region'\n",
    "4\n",
    "N\n",
    "ibmcloud target --cf\n",
    "ibmcloud app push"
   ]
  },
  {
   "cell_type": "markdown",
   "metadata": {},
   "source": [
    "After the above code cell finishes execution, Log into your IBM Cloud Account with the following link - <a href=\"https://cocl.us/CV0101EN_IBM_Cloud_Login\">https://cloud.ibm.com</a>\n",
    "\n",
    "<br>\n",
    "<p> After logging in, Click on Cloud Foundry Apps and you will see your web app deployed to IBM Cloud. Click on it, and click on <b>Visit App URL</b> </p>\n",
    "\n",
    "<br>\n",
    "<img src=\"https://s3-api.us-geo.objectstorage.softlayer.net/cf-courses-data/CognitiveClass/CV0101/Images/cv_project_1.png\" width=\"680\">\n",
    "\n",
    "<img src=\"https://s3-api.us-geo.objectstorage.softlayer.net/cf-courses-data/CognitiveClass/CV0101/Images/cv_project_2.png\" width=\"680\">\n",
    "\n",
    "<img src=\"https://s3-api.us-geo.objectstorage.softlayer.net/cf-courses-data/CognitiveClass/CV0101/Images/cv_project_3.png\" width=\"680\">\n",
    "\n"
   ]
  },
  {
   "cell_type": "markdown",
   "metadata": {},
   "source": [
    "<p>The <b>Visit App URL</b> link in cloud foundry contains the url to your Visual Recognition app</p>\n",
    "\n",
    "<p>The url takes you to a webpage where you can upload a picture of a <b>Table</b>, <b>Bed</b> or <b>Chair</b> and it should classify the picture in their respective category with a confidence score.</p>\n",
    "\n",
    "<img src=\"https://s3-api.us-geo.objectstorage.softlayer.net/cf-courses-data/CognitiveClass/CV0101/Images/cv_project_4.png\" width=\"680\">\n"
   ]
  },
  {
   "cell_type": "markdown",
   "metadata": {},
   "source": [
    "<p>If you forget the url takes the form of \"https://[app-name].mybluemix.net\"</p>\n",
    "\n",
    "<br>\n",
    "<p> <b> You can share this link with your peers for them to evaluate your custom classifier </b> </p>\n",
    "<h3>Note!</h3>\n",
    "<p>You app will be only able to classify image file in .gif, .jpg, .png and .tif format, and will not return any result if the image is in any other format."
   ]
  },
  {
   "cell_type": "markdown",
   "metadata": {},
   "source": [
    "<h2>Thank you for completing this notebook!</h2>"
   ]
  },
  {
   "cell_type": "markdown",
   "metadata": {},
   "source": [
    "<div class=\"alert alert-block alert-info\" style=\"margin-top: 20px\">\n",
    "<h2>Get IBM Watson Studio free of charge!</h2>\n",
    "<p><a href=\"https://cocl.us/NotebooksPython101bottom\"><img src=\"https://s3-api.us-geo.objectstorage.softlayer.net/cf-courses-data/CognitiveClass/CV0101/Logo/BottomAd.png\" width=\"750\" align=\"center\"></a></p>\n",
    "</div>"
   ]
  },
  {
   "cell_type": "markdown",
   "metadata": {},
   "source": [
    "<h3>About the Authors:</h3>\n",
    "<p>This lab was written by <a href=\"https://www.linkedin.com/in/sacchitchadha/\" target=\"_blank\" >Sacchit Chadha</a>, and <a href=\"https://www.linkedin.com/in/yi-leng-yao-84451275/\" target=\"_blank\" >Yi Yao</a>.</p>\n",
    "<p><a href=\"https://www.linkedin.com/in/sacchitchadha/\" target=\"_blank\">Sacchit Chadha</a> is a Software Engineer at IBM, and is currently pursuing a Bachelors Degree in Computer Science from the University of Waterloo. His work at IBM focused on Computer Vision, Cloud Computing and Blockchain.</p>\n",
    "<p><a href=\"https://www.linkedin.com/in/yi-leng-yao-84451275/\" target=\"_blank\">Yi Yao</a> is a Data Scientist and Software Engineer at IBM, and holds a Masters in Statistics. His research focused on Cloud Computing, Machine Learning and Computer Vision.</p>"
   ]
  },
  {
   "cell_type": "markdown",
   "metadata": {},
   "source": [
    "<hr>\n",
    "<p>Copyright &copy; 2019 IBM Developer Skills Network. This notebook and its source code are released under the terms of the <a href=\"https://cognitiveclass.ai/mit-license/\">MIT License</a>.</p>"
   ]
  }
 ],
 "metadata": {
  "kernelspec": {
   "display_name": "Python",
   "language": "python",
   "name": "conda-env-python-py"
  },
  "language_info": {
   "codemirror_mode": {
    "name": "ipython",
    "version": 3
   },
   "file_extension": ".py",
   "mimetype": "text/x-python",
   "name": "python",
   "nbconvert_exporter": "python",
   "pygments_lexer": "ipython3",
   "version": "3.6.7"
  }
 },
 "nbformat": 4,
 "nbformat_minor": 4
}
